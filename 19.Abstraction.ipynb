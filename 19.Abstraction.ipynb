{
 "cells": [
  {
   "cell_type": "code",
   "execution_count": 2,
   "id": "c236afe8-c98b-4663-9540-431237dd2309",
   "metadata": {},
   "outputs": [],
   "source": [
    "# Abstraction is one of the key principles of Object-Oriented Programming (OOP) that allows us to hide the complex implementation details and only expose the necessary and relevant information to the user. \n",
    "# In simpler terms, abstraction is about showing the essential features of an object while hiding the unnecessary details.\n",
    "# In Python, abstraction can be achieved using abstract classes and abstract methods, which allow you to define a blueprint for other classes to implement."
   ]
  },
  {
   "cell_type": "code",
   "execution_count": 4,
   "id": "11bb5a97-d0bd-4932-beeb-1b3079e0f7ba",
   "metadata": {},
   "outputs": [],
   "source": [
    "# Key Points about Abstraction:\n",
    "# Hides Implementation Details: It focuses on what an object does, rather than how it does it.\n",
    "# Simplifies Interface: It simplifies complex systems by exposing only relevant information.\n",
    "    \n",
    "# Abstract Class: A class that contains one or more abstract methods (methods without implementation).\n",
    "# Abstract Method: A method that is declared but contains no implementation.\n",
    "# The implementation is provided by subclasses.\n",
    "\n",
    "# How to Achieve Abstraction in Python:\n",
    "# Using Abstract Base Classes (ABC) from the abc module.\n",
    "# Defining abstract methods that must be implemented by any subclass."
   ]
  },
  {
   "cell_type": "code",
   "execution_count": 6,
   "id": "16ea6dbc-8301-438f-ad9b-f8a0406575f5",
   "metadata": {},
   "outputs": [
    {
     "name": "stdout",
     "output_type": "stream",
     "text": [
      "Circle Area: 78.5 | Circle Perimeter: 31.400000000000002\n",
      "Rectangle Area: 24 | Rectangle Perimeter: 20\n"
     ]
    }
   ],
   "source": [
    "from abc import ABC, abstractmethod\n",
    "\n",
    "# Abstract class\n",
    "class Shape(ABC):\n",
    "    @abstractmethod\n",
    "    def area(self):\n",
    "        pass  # Abstract method, no implementation\n",
    "\n",
    "    @abstractmethod\n",
    "    def perimeter(self):\n",
    "        pass  # Abstract method, no implementation\n",
    "\n",
    "# Subclass for Circle\n",
    "class Circle(Shape):\n",
    "    def __init__(self, radius):\n",
    "        self.radius = radius\n",
    "\n",
    "    def area(self):\n",
    "        return 3.14 * (self.radius ** 2)\n",
    "\n",
    "    def perimeter(self):\n",
    "        return 2 * 3.14 * self.radius\n",
    "\n",
    "# Subclass for Rectangle\n",
    "class Rectangle(Shape):\n",
    "    def __init__(self, width, height):\n",
    "        self.width = width\n",
    "        self.height = height\n",
    "\n",
    "    def area(self):\n",
    "        return self.width * self.height\n",
    "\n",
    "    def perimeter(self):\n",
    "        return 2 * (self.width + self.height)\n",
    "\n",
    "# Instantiate objects\n",
    "circle = Circle(5)\n",
    "rectangle = Rectangle(4, 6)\n",
    "\n",
    "# Calling the methods\n",
    "print(f\"Circle Area: {circle.area()} | Circle Perimeter: {circle.perimeter()}\")\n",
    "print(f\"Rectangle Area: {rectangle.area()} | Rectangle Perimeter: {rectangle.perimeter()}\")\n"
   ]
  },
  {
   "cell_type": "code",
   "execution_count": 2,
   "id": "ef37c770-84ad-4159-aa90-5ae4e5e191bd",
   "metadata": {},
   "outputs": [],
   "source": [
    "# Explanation:\n",
    "# Shape is an abstract class, and it has two abstract methods area() and perimeter(), which do not have any implementation.\n",
    "# The Circle and Rectangle classes inherit from Shape and implement the abstract methods.\n",
    "# If you try to instantiate an object of the abstract class Shape directly or \n",
    "# forget to implement an abstract method in the subclass, Python will raise an error."
   ]
  },
  {
   "cell_type": "code",
   "execution_count": 4,
   "id": "8f9cbf54-92c3-487b-93e2-90534f25e219",
   "metadata": {},
   "outputs": [
    {
     "name": "stdout",
     "output_type": "stream",
     "text": [
      "Car is starting.\n",
      "Car is stopping.\n",
      "Bike is starting.\n",
      "Bike is stopping.\n"
     ]
    }
   ],
   "source": [
    "from abc import ABC, abstractmethod\n",
    "\n",
    "# Abstract class\n",
    "class Vehicle(ABC):\n",
    "    @abstractmethod\n",
    "    def start(self):\n",
    "        pass  # Abstract method for starting the vehicle\n",
    "\n",
    "    @abstractmethod\n",
    "    def stop(self):\n",
    "        pass  # Abstract method for stopping the vehicle\n",
    "\n",
    "# Subclass for Car\n",
    "class Car(Vehicle):\n",
    "    def start(self):\n",
    "        print(\"Car is starting.\")\n",
    "\n",
    "    def stop(self):\n",
    "        print(\"Car is stopping.\")\n",
    "\n",
    "# Subclass for Bike\n",
    "class Bike(Vehicle):\n",
    "    def start(self):\n",
    "        print(\"Bike is starting.\")\n",
    "\n",
    "    def stop(self):\n",
    "        print(\"Bike is stopping.\")\n",
    "\n",
    "# Instantiate objects\n",
    "car = Car()\n",
    "bike = Bike()\n",
    "\n",
    "# Call the methods\n",
    "car.start()  # Output: Car is starting.\n",
    "car.stop()   # Output: Car is stopping.\n",
    "bike.start() # Output: Bike is starting.\n",
    "bike.stop()  # Output: Bike is stopping.\n"
   ]
  },
  {
   "cell_type": "code",
   "execution_count": 12,
   "id": "05ac6fc8-3ed8-4ac7-987b-e9e9b386f57a",
   "metadata": {},
   "outputs": [],
   "source": [
    "# Vehicle is an abstract class with two abstract methods start() and stop().\n",
    "# The subclasses Car and Bike inherit from Vehicle and implement the start() and stop() methods.\n",
    "# Abstraction allows us to focus on the behavior (start/stop) without worrying about the details of how it’s implemented in each vehicle."
   ]
  },
  {
   "cell_type": "code",
   "execution_count": 6,
   "id": "f91d6a34-bd86-4783-ba1b-0d4f531b2055",
   "metadata": {},
   "outputs": [],
   "source": [
    "# Let’s create an example where we want to abstract the process of validating user data. \n",
    "# This will involve a base class that defines a structure for validation,\n",
    "# and subclasses that implement specific validation methods."
   ]
  },
  {
   "cell_type": "code",
   "execution_count": 8,
   "id": "530fc254-cfc5-4482-8d4c-16810ac6daba",
   "metadata": {},
   "outputs": [
    {
     "name": "stdout",
     "output_type": "stream",
     "text": [
      "Email Valid: True\n",
      "Phone Valid: True\n"
     ]
    }
   ],
   "source": [
    "from abc import ABC, abstractmethod\n",
    "\n",
    "# Abstract class for validation\n",
    "class DataValidator(ABC):\n",
    "    @abstractmethod\n",
    "    def validate(self, data):\n",
    "        pass  # Abstract method for validating data\n",
    "\n",
    "# Subclass for Email validation\n",
    "class EmailValidator(DataValidator):\n",
    "    def validate(self, data):\n",
    "        if \"@\" in data and \".\" in data:\n",
    "            return True\n",
    "        return False\n",
    "\n",
    "# Subclass for Phone validation\n",
    "class PhoneValidator(DataValidator):\n",
    "    def validate(self, data):\n",
    "        if len(data) == 10 and data.isdigit():\n",
    "            return True\n",
    "        return False\n",
    "\n",
    "# Instantiate and use the validators\n",
    "email_validator = EmailValidator()\n",
    "phone_validator = PhoneValidator()\n",
    "\n",
    "email = \"user@example.com\"\n",
    "phone = \"1234567890\"\n",
    "\n",
    "print(f\"Email Valid: {email_validator.validate(email)}\")  # Output: True\n",
    "print(f\"Phone Valid: {phone_validator.validate(phone)}\")  # Output: True\n"
   ]
  },
  {
   "cell_type": "code",
   "execution_count": 20,
   "id": "027fe325-fe4f-42c3-a367-de0711eb42a1",
   "metadata": {},
   "outputs": [],
   "source": [
    "# DataValidator is an abstract class that defines the structure of a validate() method, which every subclass must implement.\n",
    "# EmailValidator and PhoneValidator implement the validate() method for email and phone number validation, respectively.\n",
    "# This provides a common interface for validation, but each subclass implements the details."
   ]
  },
  {
   "cell_type": "code",
   "execution_count": 22,
   "id": "945b2535-9324-4af0-ae72-70124ff863d3",
   "metadata": {},
   "outputs": [],
   "source": [
    "# Simplification: Users don’t need to worry about the internal workings of an object. They just need to know what it can do.\n",
    "# Flexibility: You can change the internal implementation without affecting the external interface.\n",
    "# Maintainability: Makes your code easier to maintain by separating the abstraction (interface) from the implementation (details)."
   ]
  },
  {
   "cell_type": "code",
   "execution_count": null,
   "id": "c15523f7-0a80-4f5a-8e3b-8a14a0fb1f6d",
   "metadata": {},
   "outputs": [],
   "source": []
  }
 ],
 "metadata": {
  "kernelspec": {
   "display_name": "Python 3 (ipykernel)",
   "language": "python",
   "name": "python3"
  },
  "language_info": {
   "codemirror_mode": {
    "name": "ipython",
    "version": 3
   },
   "file_extension": ".py",
   "mimetype": "text/x-python",
   "name": "python",
   "nbconvert_exporter": "python",
   "pygments_lexer": "ipython3",
   "version": "3.12.7"
  }
 },
 "nbformat": 4,
 "nbformat_minor": 5
}
