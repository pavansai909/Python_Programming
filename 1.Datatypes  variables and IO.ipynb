{
 "cells": [
  {
   "cell_type": "markdown",
   "id": "aaf2aacf-5d32-418f-bb8c-9e5a1f57dd09",
   "metadata": {},
   "source": [
    "# Python class1"
   ]
  },
  {
   "cell_type": "code",
   "execution_count": 1,
   "id": "ed860eb9-acb9-4335-a108-d547dc5d5c09",
   "metadata": {},
   "outputs": [
    {
     "name": "stdout",
     "output_type": "stream",
     "text": [
      "3000\n"
     ]
    }
   ],
   "source": [
    "# Integrated development environment - like vscode, pycharm, spider, anaconda, google colab\n",
    "print(3000)"
   ]
  },
  {
   "cell_type": "code",
   "execution_count": 2,
   "id": "ad46891c-7a54-47c3-880f-6984d01f55d7",
   "metadata": {},
   "outputs": [
    {
     "data": {
      "text/plain": [
       "50"
      ]
     },
     "execution_count": 2,
     "metadata": {},
     "output_type": "execute_result"
    }
   ],
   "source": [
    "20 + 30"
   ]
  },
  {
   "cell_type": "code",
   "execution_count": 4,
   "id": "fc9eca09-6b27-4580-a493-d57a71d66c73",
   "metadata": {},
   "outputs": [
    {
     "data": {
      "text/plain": [
       "17"
      ]
     },
     "execution_count": 4,
     "metadata": {},
     "output_type": "execute_result"
    }
   ],
   "source": [
    "20 - 3"
   ]
  },
  {
   "cell_type": "code",
   "execution_count": 6,
   "id": "dfb3b22f-f095-41b1-b18c-7ed09eb41f6a",
   "metadata": {},
   "outputs": [
    {
     "data": {
      "text/plain": [
       "24"
      ]
     },
     "execution_count": 6,
     "metadata": {},
     "output_type": "execute_result"
    }
   ],
   "source": [
    "20 + 4"
   ]
  },
  {
   "cell_type": "code",
   "execution_count": 8,
   "id": "5d3a3650-9dfc-4ad4-bdea-d5ca21ac7269",
   "metadata": {},
   "outputs": [
    {
     "data": {
      "text/plain": [
       "4.0"
      ]
     },
     "execution_count": 8,
     "metadata": {},
     "output_type": "execute_result"
    }
   ],
   "source": [
    "20/5"
   ]
  },
  {
   "cell_type": "code",
   "execution_count": 11,
   "id": "849c2f73-da07-47bb-9e75-537902db3539",
   "metadata": {},
   "outputs": [
    {
     "name": "stdout",
     "output_type": "stream",
     "text": [
      "25\n"
     ]
    }
   ],
   "source": [
    "print(20+5)"
   ]
  },
  {
   "cell_type": "code",
   "execution_count": 15,
   "id": "7dcf6e31-60f5-4ce5-8572-fae5c8ad9fd8",
   "metadata": {},
   "outputs": [
    {
     "name": "stdout",
     "output_type": "stream",
     "text": [
      "16\n"
     ]
    }
   ],
   "source": [
    "print(33//2)"
   ]
  },
  {
   "cell_type": "code",
   "execution_count": 19,
   "id": "fe3c637b-652c-42c2-a5e8-fd01a50c5bfb",
   "metadata": {},
   "outputs": [
    {
     "name": "stdout",
     "output_type": "stream",
     "text": [
      "2\n"
     ]
    }
   ],
   "source": [
    "# modulo\n",
    "print(20%3)"
   ]
  },
  {
   "cell_type": "code",
   "execution_count": 13,
   "id": "694a1af8-b050-4de6-9785-d07b77039f1f",
   "metadata": {},
   "outputs": [
    {
     "name": "stdout",
     "output_type": "stream",
     "text": [
      "Hello everyone, welcome to class!\n"
     ]
    }
   ],
   "source": [
    "print('Hello everyone, welcome to class!')"
   ]
  },
  {
   "cell_type": "code",
   "execution_count": 15,
   "id": "79c19d29-0933-45ea-bf51-7e5c2e9cfca2",
   "metadata": {},
   "outputs": [
    {
     "name": "stdout",
     "output_type": "stream",
     "text": [
      "Hello\n"
     ]
    }
   ],
   "source": [
    "print(\"Hello\")"
   ]
  },
  {
   "cell_type": "code",
   "execution_count": 20,
   "id": "28b5af70-6810-4cbe-acee-ae965719fd1c",
   "metadata": {},
   "outputs": [],
   "source": [
    "# print(hello) #invalid syntax, because hello is string and require quotes"
   ]
  },
  {
   "cell_type": "code",
   "execution_count": 24,
   "id": "6aaa4cb5-ae5f-47db-9b2a-76707762d99b",
   "metadata": {},
   "outputs": [],
   "source": [
    "# is  9 and 9.0 both same\n",
    "# 9 is int, 9.0 is float -- they are different in python based on data type\n",
    "# 'Hello world' #strings\n",
    "# \"Hello world\" #strings\n",
    "# True / False = Bool\n",
    "# true = 1\n",
    "# false = 0"
   ]
  },
  {
   "cell_type": "code",
   "execution_count": 28,
   "id": "bf1ea4a8-9477-4e33-b573-88db94039ec2",
   "metadata": {},
   "outputs": [],
   "source": [
    "None  # nothing"
   ]
  },
  {
   "cell_type": "code",
   "execution_count": 30,
   "id": "d629a633-1ad9-4954-9eec-aefff9baceba",
   "metadata": {},
   "outputs": [
    {
     "name": "stdout",
     "output_type": "stream",
     "text": [
      "False\n"
     ]
    }
   ],
   "source": [
    "print(2>3)"
   ]
  },
  {
   "cell_type": "code",
   "execution_count": 32,
   "id": "9cad524a-c226-446c-8b7a-4e6342125253",
   "metadata": {},
   "outputs": [
    {
     "data": {
      "text/plain": [
       "int"
      ]
     },
     "execution_count": 32,
     "metadata": {},
     "output_type": "execute_result"
    }
   ],
   "source": [
    "# type\n",
    "type(2)"
   ]
  },
  {
   "cell_type": "code",
   "execution_count": 34,
   "id": "fcc43232-9f20-4b94-82ec-f699d479d5e9",
   "metadata": {},
   "outputs": [
    {
     "data": {
      "text/plain": [
       "str"
      ]
     },
     "execution_count": 34,
     "metadata": {},
     "output_type": "execute_result"
    }
   ],
   "source": [
    "type('hello')"
   ]
  },
  {
   "cell_type": "code",
   "execution_count": 36,
   "id": "656f6b6a-7535-4610-89c2-9cd2e6ef0ca9",
   "metadata": {},
   "outputs": [
    {
     "data": {
      "text/plain": [
       "bool"
      ]
     },
     "execution_count": 36,
     "metadata": {},
     "output_type": "execute_result"
    }
   ],
   "source": [
    "type(True)"
   ]
  },
  {
   "cell_type": "code",
   "execution_count": 38,
   "id": "f85f3420-a6ea-49f1-b2bd-4c07cf832e7b",
   "metadata": {},
   "outputs": [
    {
     "data": {
      "text/plain": [
       "NoneType"
      ]
     },
     "execution_count": 38,
     "metadata": {},
     "output_type": "execute_result"
    }
   ],
   "source": [
    "type(None)"
   ]
  },
  {
   "cell_type": "code",
   "execution_count": 40,
   "id": "f506cc8a-e1e0-4f1a-84ff-1e06b31a6ee9",
   "metadata": {},
   "outputs": [
    {
     "name": "stdout",
     "output_type": "stream",
     "text": [
      "<class 'NoneType'>\n"
     ]
    }
   ],
   "source": [
    "# for few other IDE's\n",
    "print(type(None))"
   ]
  },
  {
   "cell_type": "markdown",
   "id": "721f8d76-b112-46a5-af9c-58079e1dfa74",
   "metadata": {},
   "source": [
    "# Variables"
   ]
  },
  {
   "cell_type": "code",
   "execution_count": 43,
   "id": "64d28890-398a-4d96-8f94-6b170296d3b2",
   "metadata": {},
   "outputs": [],
   "source": [
    "a = 3"
   ]
  },
  {
   "cell_type": "code",
   "execution_count": 45,
   "id": "2c2f5183-38d9-432f-af53-df99ee7dfaa0",
   "metadata": {},
   "outputs": [
    {
     "name": "stdout",
     "output_type": "stream",
     "text": [
      "3\n"
     ]
    }
   ],
   "source": [
    "print(a)"
   ]
  },
  {
   "cell_type": "code",
   "execution_count": 47,
   "id": "f4de9ed2-0611-42cd-b114-cfb92fbc3021",
   "metadata": {},
   "outputs": [],
   "source": [
    "b = 4"
   ]
  },
  {
   "cell_type": "code",
   "execution_count": 49,
   "id": "5d6400ec-4fcd-4842-8f08-b370ee869374",
   "metadata": {},
   "outputs": [
    {
     "name": "stdout",
     "output_type": "stream",
     "text": [
      "4\n"
     ]
    }
   ],
   "source": [
    "print(b)"
   ]
  },
  {
   "cell_type": "code",
   "execution_count": 51,
   "id": "13934f87-fb71-4a4e-bfe4-b506c02b55c5",
   "metadata": {},
   "outputs": [
    {
     "data": {
      "text/plain": [
       "7"
      ]
     },
     "execution_count": 51,
     "metadata": {},
     "output_type": "execute_result"
    }
   ],
   "source": [
    "a + b"
   ]
  },
  {
   "cell_type": "code",
   "execution_count": 55,
   "id": "70cc944e-f02c-4945-b73b-02aabe25b13b",
   "metadata": {},
   "outputs": [
    {
     "name": "stdout",
     "output_type": "stream",
     "text": [
      "5\n"
     ]
    }
   ],
   "source": [
    "x = 3\n",
    "x = 5\n",
    "print(x) # x will take last value"
   ]
  },
  {
   "cell_type": "code",
   "execution_count": 4,
   "id": "5312be17-efc8-4992-931b-55e719bdb1e7",
   "metadata": {},
   "outputs": [
    {
     "data": {
      "text/plain": [
       "'Learning python'"
      ]
     },
     "execution_count": 4,
     "metadata": {},
     "output_type": "execute_result"
    }
   ],
   "source": [
    "x = 'I am'\n",
    "y = 'Learning python'\n",
    "x\n",
    "y"
   ]
  },
  {
   "cell_type": "code",
   "execution_count": 63,
   "id": "b5f6ee98-6281-4074-9083-8c9f6a142588",
   "metadata": {},
   "outputs": [
    {
     "name": "stdout",
     "output_type": "stream",
     "text": [
      "I am\n",
      "Learning python\n"
     ]
    }
   ],
   "source": [
    "print(x)\n",
    "print(y)"
   ]
  },
  {
   "cell_type": "code",
   "execution_count": 8,
   "id": "4827821f-5584-4b9c-8091-ec152e2333c2",
   "metadata": {},
   "outputs": [
    {
     "data": {
      "text/plain": [
       "'I am Learning python'"
      ]
     },
     "execution_count": 8,
     "metadata": {},
     "output_type": "execute_result"
    }
   ],
   "source": [
    "x + ' ' + y"
   ]
  },
  {
   "cell_type": "code",
   "execution_count": 65,
   "id": "56b36e07-ea77-4d69-a30d-43469e3711f5",
   "metadata": {},
   "outputs": [
    {
     "name": "stdout",
     "output_type": "stream",
     "text": [
      "I am Learning python\n"
     ]
    }
   ],
   "source": [
    "print(x,y)"
   ]
  },
  {
   "cell_type": "code",
   "execution_count": 75,
   "id": "9e08526c-f15b-47cc-96c4-265def612c07",
   "metadata": {},
   "outputs": [],
   "source": [
    "# variables can have lowercase, uppercase, digits and underscore\n",
    "# variables cannot begin with digits and symbols\n"
   ]
  },
  {
   "cell_type": "code",
   "execution_count": 16,
   "id": "52d68179-6d74-4e1d-a90a-fc7f8c6dca01",
   "metadata": {},
   "outputs": [
    {
     "data": {
      "text/plain": [
       "3"
      ]
     },
     "execution_count": 16,
     "metadata": {},
     "output_type": "execute_result"
    }
   ],
   "source": [
    "_p = 3\n",
    "_p"
   ]
  },
  {
   "cell_type": "code",
   "execution_count": 2,
   "id": "a8bc634f-1756-484c-9d15-cdeba781b2ce",
   "metadata": {},
   "outputs": [
    {
     "data": {
      "text/plain": [
       "140725942495960"
      ]
     },
     "execution_count": 2,
     "metadata": {},
     "output_type": "execute_result"
    }
   ],
   "source": [
    "x = 10\n",
    "id(x)"
   ]
  },
  {
   "cell_type": "code",
   "execution_count": 4,
   "id": "25bce3e7-9956-4bc3-8806-d345207958d4",
   "metadata": {},
   "outputs": [
    {
     "data": {
      "text/plain": [
       "140725942495960"
      ]
     },
     "execution_count": 4,
     "metadata": {},
     "output_type": "execute_result"
    }
   ],
   "source": [
    "y = x\n",
    "id(y)"
   ]
  },
  {
   "cell_type": "code",
   "execution_count": 6,
   "id": "847a368a-6fc7-4268-8216-77722f1cd275",
   "metadata": {},
   "outputs": [
    {
     "name": "stdout",
     "output_type": "stream",
     "text": [
      "10\n"
     ]
    }
   ],
   "source": [
    "print(y)"
   ]
  },
  {
   "cell_type": "code",
   "execution_count": 39,
   "id": "34b13c11-ddc7-4e02-bd96-3d969aa18af1",
   "metadata": {},
   "outputs": [
    {
     "name": "stdin",
     "output_type": "stream",
     "text": [
      "Enter quantity in numbers:  34\n"
     ]
    },
    {
     "data": {
      "text/plain": [
       "int"
      ]
     },
     "execution_count": 39,
     "metadata": {},
     "output_type": "execute_result"
    }
   ],
   "source": [
    "quantity = int(input(\"Enter quantity in numbers: \"))\n",
    "type(quantity)"
   ]
  },
  {
   "cell_type": "code",
   "execution_count": null,
   "id": "6657f3d5-2fe3-4a27-b6c4-2c2453e0426b",
   "metadata": {},
   "outputs": [],
   "source": []
  },
  {
   "cell_type": "code",
   "execution_count": 24,
   "id": "2758c2e4-34c6-43be-b111-ba1a7eee73c0",
   "metadata": {},
   "outputs": [
    {
     "name": "stdout",
     "output_type": "stream",
     "text": [
      "Hello 25\n"
     ]
    }
   ],
   "source": [
    "print('Hello',quantity)"
   ]
  },
  {
   "cell_type": "code",
   "execution_count": 22,
   "id": "9d658100-8d88-412b-88e8-f60b9953734c",
   "metadata": {},
   "outputs": [
    {
     "name": "stdin",
     "output_type": "stream",
     "text": [
      " 20\n",
      " 10\n"
     ]
    },
    {
     "name": "stdout",
     "output_type": "stream",
     "text": [
      "2010\n"
     ]
    }
   ],
   "source": [
    "x = input()\n",
    "y = input()\n",
    "print(x+y)\n",
    "\n",
    "# input function results in text output, hence numbers are concatenated"
   ]
  },
  {
   "cell_type": "code",
   "execution_count": 26,
   "id": "6389c0e9-b568-4bf2-a317-7eefa4aa4ef6",
   "metadata": {},
   "outputs": [
    {
     "name": "stdin",
     "output_type": "stream",
     "text": [
      " 10\n",
      " 20\n"
     ]
    },
    {
     "name": "stdout",
     "output_type": "stream",
     "text": [
      "30\n"
     ]
    }
   ],
   "source": [
    "x = input()\n",
    "y = input()\n",
    "int_x = int(x)\n",
    "int_y = int(y)\n",
    "print(int_x+int_y) "
   ]
  },
  {
   "cell_type": "code",
   "execution_count": 30,
   "id": "7b1d849e-4695-4645-acd1-90f97bc1821c",
   "metadata": {},
   "outputs": [
    {
     "data": {
      "text/plain": [
       "str"
      ]
     },
     "execution_count": 30,
     "metadata": {},
     "output_type": "execute_result"
    }
   ],
   "source": [
    "type(x)"
   ]
  },
  {
   "cell_type": "code",
   "execution_count": 32,
   "id": "dbe8d745-bc32-4a76-b2c7-331f1fdc60b3",
   "metadata": {},
   "outputs": [
    {
     "data": {
      "text/plain": [
       "int"
      ]
     },
     "execution_count": 32,
     "metadata": {},
     "output_type": "execute_result"
    }
   ],
   "source": [
    "type(int_x)"
   ]
  },
  {
   "cell_type": "code",
   "execution_count": 36,
   "id": "c003e8d0-314b-46c4-8c4e-9a280bcf40e3",
   "metadata": {},
   "outputs": [],
   "source": [
    "# x = 'This is a sentence'\n",
    "# int(x)\n",
    "# this will cause error because string cannot be converted to int\n"
   ]
  },
  {
   "cell_type": "code",
   "execution_count": 42,
   "id": "139e3bf0-5bbf-4704-9996-65af0835c77e",
   "metadata": {},
   "outputs": [
    {
     "data": {
      "text/plain": [
       "str"
      ]
     },
     "execution_count": 42,
     "metadata": {},
     "output_type": "execute_result"
    }
   ],
   "source": [
    "x =  123 \n",
    "newx = str(x) # converted to string\n",
    "type(newx)"
   ]
  },
  {
   "cell_type": "code",
   "execution_count": 44,
   "id": "1a4da918-5cab-4830-a955-38effeec8d24",
   "metadata": {},
   "outputs": [
    {
     "data": {
      "text/plain": [
       "123"
      ]
     },
     "execution_count": 44,
     "metadata": {},
     "output_type": "execute_result"
    }
   ],
   "source": [
    "int(newx)"
   ]
  },
  {
   "cell_type": "code",
   "execution_count": null,
   "id": "e81bb364-1c12-41df-b59a-5b72221e99e3",
   "metadata": {},
   "outputs": [],
   "source": [
    "# give questions on valid variable names\n",
    "# predicting outputs in python\n"
   ]
  }
 ],
 "metadata": {
  "kernelspec": {
   "display_name": "Python 3 (ipykernel)",
   "language": "python",
   "name": "python3"
  },
  "language_info": {
   "codemirror_mode": {
    "name": "ipython",
    "version": 3
   },
   "file_extension": ".py",
   "mimetype": "text/x-python",
   "name": "python",
   "nbconvert_exporter": "python",
   "pygments_lexer": "ipython3",
   "version": "3.12.7"
  }
 },
 "nbformat": 4,
 "nbformat_minor": 5
}
