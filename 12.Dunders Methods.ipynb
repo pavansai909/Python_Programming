{
 "cells": [
  {
   "cell_type": "code",
   "execution_count": 2,
   "id": "0b304723-b68c-4a56-bb21-b64ce464e327",
   "metadata": {},
   "outputs": [],
   "source": [
    "class Dog:\n",
    "    kind  = 'Golden Retriever'\n",
    "\n",
    "    def __init__(self,name):\n",
    "        self.name = name\n"
   ]
  },
  {
   "cell_type": "code",
   "execution_count": 4,
   "id": "ce2abdd1-726a-412a-8a4e-a0d63761306f",
   "metadata": {},
   "outputs": [],
   "source": [
    "d1 = Dog('Scooby')\n",
    "d2 = Dog('Tuffy')"
   ]
  },
  {
   "cell_type": "code",
   "execution_count": 6,
   "id": "8426a0d1-6a2a-449c-a6fb-ed3aff424ada",
   "metadata": {},
   "outputs": [],
   "source": [
    "d2.kind = 'Beagle'\n"
   ]
  },
  {
   "cell_type": "code",
   "execution_count": 10,
   "id": "188d01a5-933d-4cad-810f-a2567450ec8c",
   "metadata": {},
   "outputs": [
    {
     "data": {
      "text/plain": [
       "('Golden Retriever', 'Beagle', 'Golden Retriever')"
      ]
     },
     "execution_count": 10,
     "metadata": {},
     "output_type": "execute_result"
    }
   ],
   "source": [
    "d1.kind, d2.kind, Dog.kind"
   ]
  },
  {
   "cell_type": "code",
   "execution_count": 12,
   "id": "43f96a0d-4f38-44ca-b5e1-1a6a0b6c4c4a",
   "metadata": {},
   "outputs": [],
   "source": [
    "# this only happens for immutable data. Mutable data (lists,sets, dictionaries) will behave differently"
   ]
  },
  {
   "cell_type": "code",
   "execution_count": 4,
   "id": "b3519a56-546d-482b-bbf2-fc01414a6244",
   "metadata": {},
   "outputs": [],
   "source": [
    "class Dog:\n",
    "    skills = []\n",
    "    def __init__(self,name):\n",
    "        self.name = name\n",
    "    def teach_skill(self,skill_name):\n",
    "        self.skills.append(skill_name)"
   ]
  },
  {
   "cell_type": "code",
   "execution_count": 6,
   "id": "3400b63e-b869-412f-b4db-32ff3b9c2c58",
   "metadata": {},
   "outputs": [],
   "source": [
    "d1 = Dog('Scooby')\n",
    "d2 = Dog('Tuffy')\n",
    "d3 = Dog('Charlie')"
   ]
  },
  {
   "cell_type": "code",
   "execution_count": 8,
   "id": "3c9d9f03-d922-4486-83cf-2136834802f2",
   "metadata": {},
   "outputs": [],
   "source": [
    "d1.teach_skill('jump')"
   ]
  },
  {
   "cell_type": "code",
   "execution_count": 10,
   "id": "8077c03e-2408-4392-835b-dc6ca36b471c",
   "metadata": {},
   "outputs": [
    {
     "data": {
      "text/plain": [
       "(['jump'], ['jump'], ['jump'])"
      ]
     },
     "execution_count": 10,
     "metadata": {},
     "output_type": "execute_result"
    }
   ],
   "source": [
    "d1.skills, d2.skills, d3.skills"
   ]
  },
  {
   "cell_type": "code",
   "execution_count": 17,
   "id": "70a3fb79-3d2b-4d07-a632-2442a4786f29",
   "metadata": {},
   "outputs": [
    {
     "data": {
      "text/plain": [
       "['jump']"
      ]
     },
     "execution_count": 17,
     "metadata": {},
     "output_type": "execute_result"
    }
   ],
   "source": [
    "Dog.skills"
   ]
  },
  {
   "cell_type": "code",
   "execution_count": 20,
   "id": "8073a836-6fe4-4a11-9b64-89773d590994",
   "metadata": {},
   "outputs": [],
   "source": [
    "# for mutable data structures, original value will be changed"
   ]
  },
  {
   "cell_type": "code",
   "execution_count": 22,
   "id": "556c04a9-08ed-479e-b2d9-d660f390c685",
   "metadata": {},
   "outputs": [],
   "source": [
    "d2.teach_skill('sit')"
   ]
  },
  {
   "cell_type": "code",
   "execution_count": 24,
   "id": "a6872f57-7b4f-4a1e-aaee-8dc734b0e196",
   "metadata": {},
   "outputs": [
    {
     "data": {
      "text/plain": [
       "(['jump', 'sit'], ['jump', 'sit'], ['jump', 'sit'], ['jump', 'sit'])"
      ]
     },
     "execution_count": 24,
     "metadata": {},
     "output_type": "execute_result"
    }
   ],
   "source": [
    "d1.skills, d2.skills, d3.skills , Dog.skills"
   ]
  },
  {
   "cell_type": "code",
   "execution_count": 12,
   "id": "6ca0c7ba-127f-4948-9106-f6bb161fbb72",
   "metadata": {},
   "outputs": [
    {
     "name": "stdout",
     "output_type": "stream",
     "text": [
      "Am I a class?\n",
      "<__main__.A object at 0x0000021E6404F2C0>\n"
     ]
    }
   ],
   "source": [
    "# example\n",
    "class A:\n",
    "    print('Am I a class?')\n",
    "A()\n",
    "\n",
    "obj1 = A()\n",
    "\n",
    "if A():\n",
    "    print(A())\n",
    "\n",
    "# How many objects would be created by running the following code"
   ]
  },
  {
   "cell_type": "code",
   "execution_count": 165,
   "id": "946a6798-ced1-406a-86ed-d9c32a8b5e31",
   "metadata": {},
   "outputs": [],
   "source": [
    "# whenever a class is called, an object gets created - 1\n",
    "# obj1 also creates an object - 2\n",
    "# in if  A()  - 3\n",
    "# print ( A()) - 4 \n",
    "\n",
    "# 4 times"
   ]
  },
  {
   "cell_type": "code",
   "execution_count": 167,
   "id": "02ec56cb-9f17-4c42-a31f-5b1ad6e30dc0",
   "metadata": {},
   "outputs": [
    {
     "data": {
      "text/plain": [
       "11"
      ]
     },
     "execution_count": 167,
     "metadata": {},
     "output_type": "execute_result"
    }
   ],
   "source": [
    "6 + 5"
   ]
  },
  {
   "cell_type": "code",
   "execution_count": 36,
   "id": "2633eb85-ce19-4411-bbcd-5b0c35fb821a",
   "metadata": {},
   "outputs": [
    {
     "data": {
      "text/plain": [
       "'65'"
      ]
     },
     "execution_count": 36,
     "metadata": {},
     "output_type": "execute_result"
    }
   ],
   "source": [
    "'6' + '5'"
   ]
  },
  {
   "cell_type": "code",
   "execution_count": 38,
   "id": "5db8b3c7-4128-4d4d-a033-8ba6e8284f19",
   "metadata": {},
   "outputs": [],
   "source": [
    "# same operator does different operation based on datatype\n",
    "# Dunders!"
   ]
  },
  {
   "cell_type": "code",
   "execution_count": 55,
   "id": "157a5f7a-df39-46d2-b9f8-e0b630724e0c",
   "metadata": {},
   "outputs": [],
   "source": [
    "class Car:\n",
    "    def __init__(self,name,mileage):\n",
    "        self.name = name\n",
    "        self.mileage = mileage"
   ]
  },
  {
   "cell_type": "code",
   "execution_count": 57,
   "id": "4112fca3-ff7b-4f20-8854-f4ba3446c86a",
   "metadata": {},
   "outputs": [],
   "source": [
    "c1 = Car('Nexon',12)\n",
    "c2 = Car('Altroz',13)"
   ]
  },
  {
   "cell_type": "code",
   "execution_count": 59,
   "id": "91547781-722b-49c0-b510-0168892d6a9a",
   "metadata": {},
   "outputs": [],
   "source": [
    "#c1 + c2 # error"
   ]
  },
  {
   "cell_type": "code",
   "execution_count": 61,
   "id": "f17a8868-2bef-4b8a-aa78-05898cc68498",
   "metadata": {},
   "outputs": [
    {
     "name": "stdout",
     "output_type": "stream",
     "text": [
      "<__main__.Car object at 0x0000021E639CF290>\n"
     ]
    }
   ],
   "source": [
    "print(c1)\n",
    "# name --> mileage"
   ]
  },
  {
   "cell_type": "code",
   "execution_count": 65,
   "id": "e4ac6ef6-e98c-4dc6-966a-3d08641fba5c",
   "metadata": {},
   "outputs": [],
   "source": [
    "#c1< c2 # error"
   ]
  },
  {
   "cell_type": "code",
   "execution_count": 67,
   "id": "925a94cc-b4a9-460f-927a-8040ab8182f7",
   "metadata": {},
   "outputs": [],
   "source": [
    "class Car:\n",
    "    def __init__(self,name,mileage):\n",
    "        self.name = name\n",
    "        self.mileage = mileage\n",
    "        \n",
    "    # __str__ dunder to modify printing behavior\n",
    "    def __str__(self):\n",
    "        return f'{self.name} --> {self.mileage}'\n",
    "    \n",
    "    # __add__ dunder to modify addition behavior\n",
    "    def __add__(self,other):\n",
    "        return self.mileage + other.mileage\n",
    "\n",
    "    # __lt__ dunder to modify less than operator behavior\n",
    "    def __lt__(self, other):\n",
    "        return self.mileage < other.mileage"
   ]
  },
  {
   "cell_type": "code",
   "execution_count": 69,
   "id": "5057fb0d-4944-44cd-9629-aa2b9a7592bf",
   "metadata": {},
   "outputs": [],
   "source": [
    "c1 = Car('Nexon',12)\n",
    "c2 = Car('Altroz',13)"
   ]
  },
  {
   "cell_type": "code",
   "execution_count": 71,
   "id": "43ba8467-82b8-41fd-bf53-4684a2a486cc",
   "metadata": {},
   "outputs": [
    {
     "name": "stdout",
     "output_type": "stream",
     "text": [
      "Nexon --> 12\n"
     ]
    }
   ],
   "source": [
    "print(c1)"
   ]
  },
  {
   "cell_type": "code",
   "execution_count": 73,
   "id": "35e79386-4206-455c-a465-6307a3825111",
   "metadata": {},
   "outputs": [
    {
     "data": {
      "text/plain": [
       "25"
      ]
     },
     "execution_count": 73,
     "metadata": {},
     "output_type": "execute_result"
    }
   ],
   "source": [
    "c1 + c2  # Car.__add__(c1,c2)"
   ]
  },
  {
   "cell_type": "code",
   "execution_count": 75,
   "id": "20d4a2f2-62d1-4aeb-aafd-6234734dd354",
   "metadata": {},
   "outputs": [
    {
     "data": {
      "text/plain": [
       "True"
      ]
     },
     "execution_count": 75,
     "metadata": {},
     "output_type": "execute_result"
    }
   ],
   "source": [
    "c1 < c2  # Car.__lt__(c1,c2)"
   ]
  },
  {
   "cell_type": "code",
   "execution_count": 79,
   "id": "f33b81df-614b-4688-973b-ab38ac9178a4",
   "metadata": {},
   "outputs": [],
   "source": [
    "class BankAccount:\n",
    "    def __init__(self, amount):\n",
    "        self.balance = amount\n",
    "    def withdraw(self, amount):\n",
    "        self.balance -= amount\n",
    "    def deposit(self,amount):\n",
    "        self.balance += amount"
   ]
  },
  {
   "cell_type": "code",
   "execution_count": 81,
   "id": "efe1bd35-8b8f-4435-851c-5a9826f7178a",
   "metadata": {},
   "outputs": [],
   "source": [
    "b1 = BankAccount(10000)"
   ]
  },
  {
   "cell_type": "code",
   "execution_count": 83,
   "id": "5afc042d-2e8e-4428-b59a-12b8c6db7d00",
   "metadata": {},
   "outputs": [
    {
     "data": {
      "text/plain": [
       "10000"
      ]
     },
     "execution_count": 83,
     "metadata": {},
     "output_type": "execute_result"
    }
   ],
   "source": [
    "b1.balance"
   ]
  },
  {
   "cell_type": "code",
   "execution_count": 85,
   "id": "32021eb6-4c96-48ff-9961-edd300906f82",
   "metadata": {},
   "outputs": [],
   "source": [
    "b1.deposit(5000)"
   ]
  },
  {
   "cell_type": "code",
   "execution_count": 87,
   "id": "710d30cc-95f5-48a7-bcfa-36589ca69420",
   "metadata": {},
   "outputs": [
    {
     "data": {
      "text/plain": [
       "15000"
      ]
     },
     "execution_count": 87,
     "metadata": {},
     "output_type": "execute_result"
    }
   ],
   "source": [
    "b1.balance"
   ]
  },
  {
   "cell_type": "code",
   "execution_count": 89,
   "id": "e1585b14-10a4-42e9-8eba-c8d21beb9d64",
   "metadata": {},
   "outputs": [],
   "source": [
    "b1.withdraw(15000)"
   ]
  },
  {
   "cell_type": "code",
   "execution_count": 91,
   "id": "ec2f621b-d231-48f4-925b-a43436d4a3bf",
   "metadata": {
    "jp-MarkdownHeadingCollapsed": true
   },
   "outputs": [
    {
     "data": {
      "text/plain": [
       "0"
      ]
     },
     "execution_count": 91,
     "metadata": {},
     "output_type": "execute_result"
    }
   ],
   "source": [
    "b1.balance "
   ]
  },
  {
   "cell_type": "code",
   "execution_count": null,
   "id": "f9c5c00a-0db3-42e2-9159-a8209961b0e8",
   "metadata": {},
   "outputs": [],
   "source": []
  },
  {
   "cell_type": "code",
   "execution_count": 93,
   "id": "c75f0e23-e243-4d3c-8a10-b6370424cd60",
   "metadata": {},
   "outputs": [],
   "source": [
    "b1.balance = 1234695630475108341507396134687136491734091730471034170417390713"
   ]
  },
  {
   "cell_type": "code",
   "execution_count": 95,
   "id": "7d6f7f2b-edb9-4b17-aa3b-5146d3c65b7a",
   "metadata": {},
   "outputs": [
    {
     "data": {
      "text/plain": [
       "1234695630475108341507396134687136491734091730471034170417390713"
      ]
     },
     "execution_count": 95,
     "metadata": {},
     "output_type": "execute_result"
    }
   ],
   "source": [
    "b1.balance"
   ]
  },
  {
   "cell_type": "code",
   "execution_count": 135,
   "id": "78d3a490-beae-4210-bf62-57b547175f47",
   "metadata": {},
   "outputs": [],
   "source": [
    "class BankAccount:\n",
    "    def __init__(self, amount):\n",
    "        # adding two underscores before the variable make them private\n",
    "        self.__balance = amount\n",
    "        # instead of using balance / __balance as variable name\n",
    "        # it uses a special name -> _BankAccount__balance --> _ClassName__variablename\n",
    "    \n",
    "    def withdraw(self, amount):\n",
    "        self.__balance -= amount\n",
    "        # whenever __balance is accessed internally, __BankAccount is added before the variable name automatically\n",
    "    \n",
    "    def deposit(self,amount):\n",
    "        self.__balance += amount\n",
    "    def show_balance(self):\n",
    "        return self.__balance"
   ]
  },
  {
   "cell_type": "code",
   "execution_count": 137,
   "id": "92c35ce9-5ed6-4b45-aec5-5af92170226e",
   "metadata": {},
   "outputs": [],
   "source": [
    "b1 = BankAccount(10000)"
   ]
  },
  {
   "cell_type": "code",
   "execution_count": 2,
   "id": "e2e92910-bae0-42c1-9469-380dc6fbac93",
   "metadata": {},
   "outputs": [],
   "source": [
    "#b1.__balance # python does not do the same behavior when accessed using objects"
   ]
  },
  {
   "cell_type": "code",
   "execution_count": 141,
   "id": "5cdda57c-c3fa-4850-ab52-51ba57495a62",
   "metadata": {},
   "outputs": [],
   "source": [
    "# b1.balance  # error\n",
    "# a private property can only be accessed by methods inside the class\n",
    "# It cannot be directly accessed by the object"
   ]
  },
  {
   "cell_type": "code",
   "execution_count": 143,
   "id": "f08659d5-877a-486e-8748-d03793887e18",
   "metadata": {},
   "outputs": [
    {
     "data": {
      "text/plain": [
       "10000"
      ]
     },
     "execution_count": 143,
     "metadata": {},
     "output_type": "execute_result"
    }
   ],
   "source": [
    "b1.show_balance()"
   ]
  },
  {
   "cell_type": "code",
   "execution_count": 145,
   "id": "0b0bee0a-d529-4d44-a179-cbbfcb448af3",
   "metadata": {},
   "outputs": [],
   "source": [
    "b1.deposit(20000)\n",
    "b1.withdraw(2000)"
   ]
  },
  {
   "cell_type": "code",
   "execution_count": 147,
   "id": "ab69ae2b-9a97-4adc-bb9b-1b4099e40e89",
   "metadata": {},
   "outputs": [
    {
     "data": {
      "text/plain": [
       "28000"
      ]
     },
     "execution_count": 147,
     "metadata": {},
     "output_type": "execute_result"
    }
   ],
   "source": [
    "b1.show_balance()"
   ]
  },
  {
   "cell_type": "code",
   "execution_count": 149,
   "id": "183e72a8-fb94-42c3-8677-34314b2f4d13",
   "metadata": {},
   "outputs": [],
   "source": [
    "b1.balance= 100000"
   ]
  },
  {
   "cell_type": "code",
   "execution_count": 151,
   "id": "bf6afb25-2fff-40ab-a09b-6eae8ca2d248",
   "metadata": {},
   "outputs": [],
   "source": [
    "# dir(b1)"
   ]
  },
  {
   "cell_type": "code",
   "execution_count": 153,
   "id": "ac830061-0d14-4d31-9802-6bca3250f66b",
   "metadata": {},
   "outputs": [],
   "source": [
    "# b1._BankAccount__balance"
   ]
  },
  {
   "cell_type": "code",
   "execution_count": 155,
   "id": "b1862ef3-43a8-4a85-93a1-b6fbe2f1b150",
   "metadata": {},
   "outputs": [
    {
     "data": {
      "text/plain": [
       "100000"
      ]
     },
     "execution_count": 155,
     "metadata": {},
     "output_type": "execute_result"
    }
   ],
   "source": [
    "b1._BankAccount__balance = 100000\n",
    "b1._BankAccount__balance"
   ]
  },
  {
   "cell_type": "code",
   "execution_count": 157,
   "id": "b0899bfb-83f9-450d-9b23-5e2f9814b0d8",
   "metadata": {},
   "outputs": [
    {
     "data": {
      "text/plain": [
       "100000"
      ]
     },
     "execution_count": 157,
     "metadata": {},
     "output_type": "execute_result"
    }
   ],
   "source": [
    "b1.show_balance()"
   ]
  },
  {
   "cell_type": "code",
   "execution_count": 159,
   "id": "34f933eb-24c9-4e9b-a847-00e2f48023a1",
   "metadata": {},
   "outputs": [],
   "source": [
    "# Example\n",
    "class Bill:\n",
    "    def __init__(self, prev_read,cur_read):\n",
    "        self.prev_read = prev_read\n",
    "        self.cur_read = cur_read\n",
    "        self.unit_consumed = self.cur_read - self.prev_read\n",
    "    def total_bill(self):\n",
    "        total = 0.0\n",
    "        meter_charges = 150\n",
    "\n",
    "        if self.unit_consumed <= 100:\n",
    "            total =  self.unit_consumed * 3.5 + meter_charges\n",
    "        elif self.unit_consumed <= 200:\n",
    "            total = 100 * 3.5 + (self.unit_consumed - 100 ) * 5\n",
    "        else:\n",
    "            total = 100 * 3.5 + (self.unit_consumed - 200) * 8\n",
    "        return total"
   ]
  },
  {
   "cell_type": "code",
   "execution_count": 161,
   "id": "57c34495-5817-48f3-ae05-e8dad38382d8",
   "metadata": {},
   "outputs": [
    {
     "data": {
      "text/plain": [
       "800.0"
      ]
     },
     "execution_count": 161,
     "metadata": {},
     "output_type": "execute_result"
    }
   ],
   "source": [
    "b = Bill(10,200)\n",
    "b.total_bill()"
   ]
  },
  {
   "cell_type": "code",
   "execution_count": 31,
   "id": "d7dd38c1-000d-4fb0-a605-ecc43dfe98c4",
   "metadata": {},
   "outputs": [
    {
     "data": {
      "text/plain": [
       "{1: 1}"
      ]
     },
     "execution_count": 31,
     "metadata": {},
     "output_type": "execute_result"
    }
   ],
   "source": [
    "abc = {}\n",
    "abc[1] = 1\n",
    "abc"
   ]
  },
  {
   "cell_type": "code",
   "execution_count": 33,
   "id": "4af40174-8972-4959-beb0-d5c5c90f27cc",
   "metadata": {},
   "outputs": [
    {
     "data": {
      "text/plain": [
       "{1: 1, '1': 2}"
      ]
     },
     "execution_count": 33,
     "metadata": {},
     "output_type": "execute_result"
    }
   ],
   "source": [
    "abc['1'] = 2\n",
    "abc"
   ]
  },
  {
   "cell_type": "code",
   "execution_count": 35,
   "id": "51e6ef60-e5a8-4af8-b978-a3436a185f6b",
   "metadata": {},
   "outputs": [
    {
     "data": {
      "text/plain": [
       "{1: 2, '1': 2}"
      ]
     },
     "execution_count": 35,
     "metadata": {},
     "output_type": "execute_result"
    }
   ],
   "source": [
    "abc[1]  = abc[1] + 1\n",
    "abc"
   ]
  },
  {
   "cell_type": "code",
   "execution_count": 4,
   "id": "51ed617b-54f0-4bb4-a4c4-1889739ca76f",
   "metadata": {},
   "outputs": [],
   "source": [
    "# Procedural Programming\n",
    "# variables -- a,b,c\n",
    "# functions -- f1() , f2(). f3()\n",
    "# as complexity increases, they will be dependent on each other\n",
    "# it becomes difficult to maintain them later\n",
    "# such code is called spaghetti code\n"
   ]
  },
  {
   "cell_type": "code",
   "execution_count": null,
   "id": "590a2d62-865e-40a3-854c-e465b15d3c10",
   "metadata": {},
   "outputs": [],
   "source": [
    "# to handle it, i will create different classes with those functions and relevant variables\n",
    "# it is called as encapsulation\n",
    "# "
   ]
  },
  {
   "cell_type": "markdown",
   "id": "c0c3afe4-6093-451c-a503-4d6414a99196",
   "metadata": {},
   "source": [
    "# Encapsulation"
   ]
  },
  {
   "cell_type": "code",
   "execution_count": 6,
   "id": "0801a429-8477-4510-8e50-120abce37568",
   "metadata": {},
   "outputs": [],
   "source": [
    "base_salary = 10000\n",
    "overtime = 10\n",
    "rate = 20\n",
    "\n",
    "def calculate_salary(base_salary,overtime,rate):\n",
    "    return base_salary + (overtime * rate)"
   ]
  },
  {
   "cell_type": "code",
   "execution_count": 8,
   "id": "681b40b2-3cad-44d6-bbf9-0f8e2ec707c2",
   "metadata": {},
   "outputs": [
    {
     "data": {
      "text/plain": [
       "10200"
      ]
     },
     "execution_count": 8,
     "metadata": {},
     "output_type": "execute_result"
    }
   ],
   "source": [
    "calculate_salary( base_salary,overtime,rate)"
   ]
  },
  {
   "cell_type": "code",
   "execution_count": 10,
   "id": "bf5d1871-0814-44ca-96e4-97a3c958d823",
   "metadata": {},
   "outputs": [],
   "source": [
    "class Salary:\n",
    "    def __init__(self,base_salary,overtime,rate):\n",
    "        self.base_salary = base_salary\n",
    "        self.overtime =  overtime\n",
    "        self.rate = rate\n",
    "    def calculate_salary(self):\n",
    "        return self.base_salary + (self.overtime * self.rate)"
   ]
  },
  {
   "cell_type": "code",
   "execution_count": 12,
   "id": "d529793b-3689-43ff-a0de-42df258f24d6",
   "metadata": {},
   "outputs": [
    {
     "data": {
      "text/plain": [
       "10200"
      ]
     },
     "execution_count": 12,
     "metadata": {},
     "output_type": "execute_result"
    }
   ],
   "source": [
    "e = Salary(10000,10,20)\n",
    "e.calculate_salary()"
   ]
  },
  {
   "cell_type": "markdown",
   "id": "f84dd448-7e48-4162-bf44-8246181896aa",
   "metadata": {},
   "source": [
    "# abstraction"
   ]
  },
  {
   "cell_type": "code",
   "execution_count": 40,
   "id": "dfe51331-8e12-4a0a-ba03-9cd591c91538",
   "metadata": {},
   "outputs": [],
   "source": [
    "class Salary:\n",
    "    def __init__(self,base_salary,overtime = 0,rate = 100):\n",
    "        self.base_salary = base_salary\n",
    "        self.overtime =  overtime\n",
    "        self.rate = rate\n",
    "    def update_overtime(self,overtime):  # used \n",
    "        self.overtime = overtime\n",
    "        \n",
    "    def calculate_salary(self):  # hidden\n",
    "        self.total_salary = self.base_salary + (self.overtime * self.rate)\n",
    "        return self.total_salary\n",
    "        \n",
    "    def check_total_salary(self):  # used\n",
    "        return self.calculate_salary()"
   ]
  },
  {
   "cell_type": "code",
   "execution_count": 42,
   "id": "2baa6d5b-af6c-4eaa-94ea-f6641872d61d",
   "metadata": {},
   "outputs": [],
   "source": [
    "e1 = Salary(10000)\n",
    "e1.update_overtime(5)"
   ]
  },
  {
   "cell_type": "code",
   "execution_count": 44,
   "id": "bea06f90-3da6-4a65-a166-e452e27357f8",
   "metadata": {},
   "outputs": [
    {
     "data": {
      "text/plain": [
       "10500"
      ]
     },
     "execution_count": 44,
     "metadata": {},
     "output_type": "execute_result"
    }
   ],
   "source": [
    "e1.check_total_salary()"
   ]
  },
  {
   "cell_type": "code",
   "execution_count": 75,
   "id": "cf9c48c5-98ab-4999-85ef-ae5680030534",
   "metadata": {},
   "outputs": [],
   "source": [
    "class Salary:\n",
    "    def __init__(self,base_salary,overtime = 0,rate = 100):\n",
    "        self.__base_salary = base_salary\n",
    "        self.overtime =  overtime\n",
    "        self.__rate = rate\n",
    "    def update_overtime(self,overtime):  # used \n",
    "        self.overtime = overtime\n",
    "        \n",
    "    def __calculate_salary(self):  # hidden # we can functions private\n",
    "        self.total_salary = self.__base_salary + (self.overtime * self.__rate)\n",
    "        return self.total_salary\n",
    "        \n",
    "    def check_total_salary(self):  # used\n",
    "        return self.__calculate_salary()"
   ]
  },
  {
   "cell_type": "code",
   "execution_count": 77,
   "id": "3e7984b1-0054-40bc-b356-b1093c7fee90",
   "metadata": {},
   "outputs": [],
   "source": [
    "e1 = Salary(10000)"
   ]
  },
  {
   "cell_type": "code",
   "execution_count": 83,
   "id": "37cff2ab-c463-42f4-af41-79bc70623749",
   "metadata": {},
   "outputs": [],
   "source": [
    "e1.update_overtime(5)"
   ]
  },
  {
   "cell_type": "code",
   "execution_count": 85,
   "id": "419c9dc2-7937-4210-b600-e3d3a5e69712",
   "metadata": {},
   "outputs": [
    {
     "data": {
      "text/plain": [
       "10500"
      ]
     },
     "execution_count": 85,
     "metadata": {},
     "output_type": "execute_result"
    }
   ],
   "source": [
    "e1.check_total_salary()"
   ]
  },
  {
   "cell_type": "code",
   "execution_count": 92,
   "id": "6adee579-545a-40d6-b310-621350ab47b9",
   "metadata": {},
   "outputs": [],
   "source": [
    "# school managaement system -- name,age is common for all\n",
    "# staff - salary, jobtitle are specific to staffs , students -grade, roll_no\n",
    "# teacher - subject, support staff in staffs"
   ]
  },
  {
   "cell_type": "markdown",
   "id": "1f798202-27bc-42f0-8c9e-10f24d601da6",
   "metadata": {},
   "source": [
    "# Inheritance"
   ]
  },
  {
   "cell_type": "code",
   "execution_count": 51,
   "id": "a3c3e36e-290b-40ae-a4b9-775d0a8b7933",
   "metadata": {},
   "outputs": [],
   "source": [
    "class SchoolMember:\n",
    "    def __init__(self,name,age):\n",
    "        print(f'inside schoolmember --> {id(self)}')\n",
    "        self.name = name\n",
    "        self.age = age\n",
    "        \n",
    "class Student(SchoolMember):\n",
    "    def __init__(self,name, age, grade,hobby):\n",
    "        ''' This is doc string'''\n",
    "        print(f'inside student --> {id(self)}')\n",
    "        self.grade = grade\n",
    "        self.hobby = hobby\n",
    "        \n",
    "        super().__init__(name,age)  # super refers to schoolmember class"
   ]
  },
  {
   "cell_type": "code",
   "execution_count": 53,
   "id": "09deaf1b-16a4-4a70-a92e-2eb8150d4274",
   "metadata": {},
   "outputs": [
    {
     "name": "stdout",
     "output_type": "stream",
     "text": [
      "inside student --> 2149998149952\n",
      "inside schoolmember --> 2149998149952\n"
     ]
    }
   ],
   "source": [
    "s = Student('Pavan',23,'A','Reading')"
   ]
  },
  {
   "cell_type": "code",
   "execution_count": 47,
   "id": "e2dd7777-7f33-4910-8a5a-f57f8c9947e9",
   "metadata": {},
   "outputs": [
    {
     "data": {
      "text/plain": [
       "'A'"
      ]
     },
     "execution_count": 47,
     "metadata": {},
     "output_type": "execute_result"
    }
   ],
   "source": [
    "s.grade"
   ]
  },
  {
   "cell_type": "code",
   "execution_count": 31,
   "id": "3e5e105d-06fb-41cc-9a35-90764f5180cb",
   "metadata": {},
   "outputs": [
    {
     "data": {
      "text/plain": [
       "'Reading'"
      ]
     },
     "execution_count": 31,
     "metadata": {},
     "output_type": "execute_result"
    }
   ],
   "source": [
    "s.hobby"
   ]
  },
  {
   "cell_type": "code",
   "execution_count": 35,
   "id": "f0cff03d-191f-4b22-8c9d-edc6322decda",
   "metadata": {},
   "outputs": [
    {
     "data": {
      "text/plain": [
       "'Pavan'"
      ]
     },
     "execution_count": 35,
     "metadata": {},
     "output_type": "execute_result"
    }
   ],
   "source": [
    "s.name"
   ]
  },
  {
   "cell_type": "code",
   "execution_count": 37,
   "id": "4d09e26e-679e-4b54-a4d3-5ef29f4c77bd",
   "metadata": {},
   "outputs": [
    {
     "data": {
      "text/plain": [
       "23"
      ]
     },
     "execution_count": 37,
     "metadata": {},
     "output_type": "execute_result"
    }
   ],
   "source": [
    "s.age"
   ]
  },
  {
   "cell_type": "code",
   "execution_count": 64,
   "id": "e773e826-cfe4-467e-81ce-6f6ecb3b61e4",
   "metadata": {},
   "outputs": [],
   "source": [
    "# using schoolmember and self instead of super\n",
    "class SchoolMember:\n",
    "    def __init__(self,name,age):\n",
    "        self.name = name\n",
    "        self.age = age\n",
    "        \n",
    "    def hello(self):\n",
    "        print(f'Hello, my name is {self.name}')\n",
    "        \n",
    "class Student(SchoolMember):\n",
    "    def __init__(self,name, age, grade,hobby):\n",
    "        self.grade = grade\n",
    "        self.hobby = hobby\n",
    "        \n",
    "        SchoolMember.__init__(self,name,age)  # super refers to schoolmember class\n",
    "\n",
    "    def hello(self):\n",
    "        print(f'Hello,My name is {self.name} and I am {self.age} years old')\n",
    "        \n",
    "class Staff(SchoolMember):\n",
    "    def __init__(self,name, age, salary,job_title):\n",
    "        self.salary = salary\n",
    "        self.job_title = job_title\n",
    "\n",
    "        super().__init__(name,age)"
   ]
  },
  {
   "cell_type": "code",
   "execution_count": 70,
   "id": "1e4634ba-f587-4bbc-80c4-93d530ed7a47",
   "metadata": {},
   "outputs": [
    {
     "data": {
      "text/plain": [
       "'A'"
      ]
     },
     "execution_count": 70,
     "metadata": {},
     "output_type": "execute_result"
    }
   ],
   "source": [
    "s = Student('Pavan',29,'A','Reading')\n",
    "s.grade"
   ]
  },
  {
   "cell_type": "code",
   "execution_count": 72,
   "id": "d8f87462-53b5-4f5c-928e-6271e796b639",
   "metadata": {},
   "outputs": [
    {
     "name": "stdout",
     "output_type": "stream",
     "text": [
      "Hello,My name is Pavan and I am 29 years old\n"
     ]
    }
   ],
   "source": [
    "s.hello()  # function defined in parent class will also be inherited in child class"
   ]
  },
  {
   "cell_type": "code",
   "execution_count": 74,
   "id": "3dc7d164-ffbd-4ca8-ba1f-bd4b6e10dd26",
   "metadata": {},
   "outputs": [
    {
     "data": {
      "text/plain": [
       "'kiran'"
      ]
     },
     "execution_count": 74,
     "metadata": {},
     "output_type": "execute_result"
    }
   ],
   "source": [
    "staff1 = Staff('kiran',35,40000, 'Admin')\n",
    "staff1.name"
   ]
  },
  {
   "cell_type": "code",
   "execution_count": 163,
   "id": "7566a3aa-f830-4494-88a3-250c6d06f256",
   "metadata": {},
   "outputs": [
    {
     "data": {
      "text/plain": [
       "35"
      ]
     },
     "execution_count": 163,
     "metadata": {},
     "output_type": "execute_result"
    }
   ],
   "source": [
    "staff1.age"
   ]
  },
  {
   "cell_type": "code",
   "execution_count": 76,
   "id": "51e75552-51cc-4227-be96-ae4c92876ff9",
   "metadata": {},
   "outputs": [
    {
     "data": {
      "text/plain": [
       "40000"
      ]
     },
     "execution_count": 76,
     "metadata": {},
     "output_type": "execute_result"
    }
   ],
   "source": [
    "staff1.salary"
   ]
  },
  {
   "cell_type": "code",
   "execution_count": 78,
   "id": "4d01664c-3b93-4520-8805-205fe9820bb1",
   "metadata": {},
   "outputs": [
    {
     "data": {
      "text/plain": [
       "'Admin'"
      ]
     },
     "execution_count": 78,
     "metadata": {},
     "output_type": "execute_result"
    }
   ],
   "source": [
    "staff1.job_title"
   ]
  },
  {
   "cell_type": "code",
   "execution_count": 82,
   "id": "88da9f39-797e-4866-96c3-8a6a3a7d1179",
   "metadata": {},
   "outputs": [
    {
     "name": "stdout",
     "output_type": "stream",
     "text": [
      "Hello, my name is kiran\n"
     ]
    }
   ],
   "source": [
    "staff1.hello()"
   ]
  },
  {
   "cell_type": "code",
   "execution_count": 84,
   "id": "8692099e-a78d-4268-b46a-89e6596e3820",
   "metadata": {},
   "outputs": [],
   "source": [
    "# Multiple inheritance\n",
    "class A:\n",
    "    def __init__(self,x,y):\n",
    "        self.__x = x        # private variables are not inherited\n",
    "        self.y = y\n",
    "class B(A):\n",
    "    def __init__(self,x,y,z):\n",
    "        self.z = z\n",
    "\n",
    "        super().__init__(x,y)\n",
    "    def result(self):\n",
    "        print(f'x --> {self.__x}, y --> {self.y}, z --> {self.z}')"
   ]
  },
  {
   "cell_type": "code",
   "execution_count": 86,
   "id": "a4785620-2a5f-47e1-989c-96d5c2341718",
   "metadata": {},
   "outputs": [],
   "source": [
    "random = B(10,20,30)"
   ]
  },
  {
   "cell_type": "code",
   "execution_count": 90,
   "id": "d07d7cd5-f9b3-45ea-a9b2-7d6d960e55eb",
   "metadata": {},
   "outputs": [],
   "source": [
    "# random.x"
   ]
  },
  {
   "cell_type": "code",
   "execution_count": 92,
   "id": "f69023e8-718a-4aa7-8121-e61c51d124a5",
   "metadata": {},
   "outputs": [
    {
     "data": {
      "text/plain": [
       "(20, 30)"
      ]
     },
     "execution_count": 92,
     "metadata": {},
     "output_type": "execute_result"
    }
   ],
   "source": [
    "random.y, random.z"
   ]
  },
  {
   "cell_type": "code",
   "execution_count": 96,
   "id": "c7b1b8f4-2f78-4451-9189-54bed95decd4",
   "metadata": {},
   "outputs": [],
   "source": [
    "#random.result()"
   ]
  },
  {
   "cell_type": "code",
   "execution_count": 98,
   "id": "ac06b194-d632-4357-85ea-aa42d6b9f585",
   "metadata": {},
   "outputs": [],
   "source": [
    "# Multiple inheritance\n",
    "class A:\n",
    "    def __init__(self,x,y):\n",
    "        self._x = x        # protected variables are inherited\n",
    "        self.y = y\n",
    "class B(A):\n",
    "    def __init__(self,x,y,z):\n",
    "        self.z = z\n",
    "\n",
    "        super().__init__(x,y)\n",
    "    def result(self):\n",
    "        print(f'x --> {self._x}, y --> {self.y}, z --> {self.z}')"
   ]
  },
  {
   "cell_type": "code",
   "execution_count": 100,
   "id": "3fd68c27-6e9e-4864-a7b4-69af1c4656d9",
   "metadata": {},
   "outputs": [
    {
     "data": {
      "text/plain": [
       "(10, 20, 30)"
      ]
     },
     "execution_count": 100,
     "metadata": {},
     "output_type": "execute_result"
    }
   ],
   "source": [
    "random = B(10,20,30)\n",
    "random._x , random.y, random.z"
   ]
  },
  {
   "cell_type": "code",
   "execution_count": 102,
   "id": "ffa9b3b9-c0b1-4b51-98b4-7cbb92185e98",
   "metadata": {},
   "outputs": [
    {
     "name": "stdout",
     "output_type": "stream",
     "text": [
      "x --> 10, y --> 20, z --> 30\n"
     ]
    }
   ],
   "source": [
    "random.result()"
   ]
  },
  {
   "cell_type": "code",
   "execution_count": null,
   "id": "ebd718a6-a03b-43a2-92de-c5f875329e98",
   "metadata": {},
   "outputs": [],
   "source": []
  },
  {
   "cell_type": "code",
   "execution_count": null,
   "id": "09da50e8-37e5-4733-93c8-55853b26350a",
   "metadata": {},
   "outputs": [],
   "source": []
  }
 ],
 "metadata": {
  "kernelspec": {
   "display_name": "Python 3 (ipykernel)",
   "language": "python",
   "name": "python3"
  },
  "language_info": {
   "codemirror_mode": {
    "name": "ipython",
    "version": 3
   },
   "file_extension": ".py",
   "mimetype": "text/x-python",
   "name": "python",
   "nbconvert_exporter": "python",
   "pygments_lexer": "ipython3",
   "version": "3.12.7"
  }
 },
 "nbformat": 4,
 "nbformat_minor": 5
}
