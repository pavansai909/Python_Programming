{
 "cells": [
  {
   "cell_type": "markdown",
   "id": "b96bddc1",
   "metadata": {},
   "source": [
    "### Merge Sorted"
   ]
  },
  {
   "cell_type": "code",
   "execution_count": 1,
   "id": "117e829e",
   "metadata": {},
   "outputs": [
    {
     "name": "stdout",
     "output_type": "stream",
     "text": [
      "[1,3,5,9]\n",
      "[2,4,6,7]\n",
      "[1, 2, 3, 4, 5, 6, 7, 9]\n"
     ]
    }
   ],
   "source": [
    "# a = [1,3,5,9]\n",
    "# b = [2,4,6,7]\n",
    "# output = [1,2,3,4,5,6,7,9]\n",
    "\n",
    "import ast\n",
    "list1 = ast.literal_eval(input())\n",
    "list2 = ast.literal_eval(input())\n",
    "\n",
    "l1 = len(list1)\n",
    "l2 = len(list1)\n",
    "\n",
    "result = []\n",
    "i = 0\n",
    "j = 0\n",
    "\n",
    "while i < l1 and j<l2 :\n",
    "    if list1[i] <= list2[j]:\n",
    "        result.append(list1[i])\n",
    "        i += 1\n",
    "    else:\n",
    "        result.append(list2[j])\n",
    "        j += 1\n",
    "result = result + list1[i:]+list2[j:]\n",
    "\n",
    "print(result)"
   ]
  },
  {
   "cell_type": "markdown",
   "id": "db37797e",
   "metadata": {},
   "source": [
    "### Specific Sum"
   ]
  },
  {
   "cell_type": "code",
   "execution_count": 2,
   "id": "c266214b",
   "metadata": {},
   "outputs": [
    {
     "name": "stdout",
     "output_type": "stream",
     "text": [
      "[2,6,7,10,16,17,19]\n",
      "24\n",
      "7 17\n"
     ]
    }
   ],
   "source": [
    "# a = [2,6,7,10,16,17,19]\n",
    "# k = 24\n",
    "import ast\n",
    "data = ast.literal_eval(input())\n",
    "key = int(input())\n",
    "\n",
    "l = 0\n",
    "r = len(data) - 1\n",
    "while l<r:\n",
    "    if (data[l] + data[r]) == key:\n",
    "        print(data[l],data[r])\n",
    "        break\n",
    "    elif (data[l] + data[r]) < key:\n",
    "        l = l + 1\n",
    "    else:\n",
    "        r = r-1"
   ]
  },
  {
   "cell_type": "markdown",
   "id": "5d393f75",
   "metadata": {},
   "source": [
    "### Recursion - Factorial"
   ]
  },
  {
   "cell_type": "code",
   "execution_count": 3,
   "id": "dbd1f79c",
   "metadata": {},
   "outputs": [
    {
     "name": "stdout",
     "output_type": "stream",
     "text": [
      "5\n",
      "120\n"
     ]
    }
   ],
   "source": [
    "# Recursion - Base,Recursive function, action\n",
    "# n! = n * (n-1)!\n",
    "num = int(input())\n",
    "\n",
    "def factorial(n):\n",
    "    if n == 0:\n",
    "        return 1\n",
    "    else:\n",
    "        prev = factorial(n-1) # recursive call\n",
    "        final = n*prev  # action\n",
    "        return final\n",
    "    \n",
    "print(factorial(num))"
   ]
  },
  {
   "cell_type": "markdown",
   "id": "d398cbbf",
   "metadata": {},
   "source": [
    "### Recursive - Printing"
   ]
  },
  {
   "cell_type": "code",
   "execution_count": 4,
   "id": "b322cc40",
   "metadata": {},
   "outputs": [
    {
     "name": "stdout",
     "output_type": "stream",
     "text": [
      "5\n",
      "-5\n",
      "-4\n",
      "-3\n",
      "-2\n",
      "-1\n",
      "0\n",
      "1\n",
      "2\n",
      "3\n",
      "4\n",
      "5\n"
     ]
    }
   ],
   "source": [
    "# print numbers from -n to +n\n",
    "n = int(input())\n",
    "def rprint(n):\n",
    "    if n == 0:\n",
    "        print(0)\n",
    "    else:\n",
    "        print(-n)\n",
    "        rprint(n-1)\n",
    "        print(n)\n",
    "        \n",
    "rprint(n)"
   ]
  },
  {
   "cell_type": "markdown",
   "id": "5864cb69",
   "metadata": {},
   "source": [
    "### Recursive - Fibonacci"
   ]
  },
  {
   "cell_type": "code",
   "execution_count": null,
   "id": "27cd4680",
   "metadata": {},
   "outputs": [
    {
     "name": "stdout",
     "output_type": "stream",
     "text": [
      "5\n"
     ]
    }
   ],
   "source": [
    "n = int(input())\n",
    "\n",
    "def fib(n):\n",
    "    if n==0 or n==2:\n",
    "        return 1\n",
    "    else:\n",
    "        prev1 = fib(n-1)\n",
    "        prev2 = fib(n-2)\n",
    "        fib_val = prev1 + prev2\n",
    "        return fib_val\n",
    "print(fib(n))"
   ]
  },
  {
   "cell_type": "code",
   "execution_count": null,
   "id": "2f6dadd6",
   "metadata": {},
   "outputs": [],
   "source": []
  },
  {
   "cell_type": "code",
   "execution_count": null,
   "id": "b6723c27",
   "metadata": {},
   "outputs": [],
   "source": []
  },
  {
   "cell_type": "code",
   "execution_count": null,
   "id": "6f3a59c1",
   "metadata": {},
   "outputs": [],
   "source": []
  }
 ],
 "metadata": {
  "kernelspec": {
   "display_name": "Python 3 (ipykernel)",
   "language": "python",
   "name": "python3"
  },
  "language_info": {
   "codemirror_mode": {
    "name": "ipython",
    "version": 3
   },
   "file_extension": ".py",
   "mimetype": "text/x-python",
   "name": "python",
   "nbconvert_exporter": "python",
   "pygments_lexer": "ipython3",
   "version": "3.9.7"
  }
 },
 "nbformat": 4,
 "nbformat_minor": 5
}
