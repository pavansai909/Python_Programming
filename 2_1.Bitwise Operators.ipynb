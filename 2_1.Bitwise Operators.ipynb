{
 "cells": [
  {
   "cell_type": "code",
   "execution_count": 2,
   "id": "707f2079-a423-41b0-99a7-d4e03b282310",
   "metadata": {},
   "outputs": [],
   "source": [
    "# Bitwise operators in Python perform operations on binary numbers at the bit level. \n",
    "# These operators are useful for low-level programming, cryptography, data compression, network programming, and performance optimization.\n",
    "\n",
    "# Python provides six bitwise operators:\n",
    "\n",
    "# Bitwise AND (&)\n",
    "# Bitwise OR (|)\n",
    "# Bitwise XOR (^)\n",
    "# Bitwise NOT (~)\n",
    "# Left Shift (<<)\n",
    "# Right Shift (>>)"
   ]
  },
  {
   "cell_type": "code",
   "execution_count": 4,
   "id": "4acb6fda-e928-49c2-a897-65f3a5f94535",
   "metadata": {},
   "outputs": [],
   "source": [
    "# 1. Bitwise AND (&)\n",
    "# Performs a logical AND operation on corresponding bits of two integers.\n",
    "# The result has 1 only where both bits are 1."
   ]
  },
  {
   "cell_type": "code",
   "execution_count": 10,
   "id": "c53c4c27-1645-4e13-b5d7-a196b91cce32",
   "metadata": {},
   "outputs": [
    {
     "data": {
      "text/plain": [
       "'11001'"
      ]
     },
     "execution_count": 10,
     "metadata": {},
     "output_type": "execute_result"
    }
   ],
   "source": [
    "bin(25)[2:]"
   ]
  },
  {
   "cell_type": "code",
   "execution_count": 6,
   "id": "def375b9-adeb-45a6-a401-670b26702166",
   "metadata": {},
   "outputs": [
    {
     "name": "stdout",
     "output_type": "stream",
     "text": [
      "1\n"
     ]
    }
   ],
   "source": [
    "a = 5  # 0b0101\n",
    "b = 3  # 0b0011\n",
    "\n",
    "result = a & b  # 0b0001 (1 in decimal)\n",
    "print(result)   # Output: 1\n"
   ]
  },
  {
   "cell_type": "code",
   "execution_count": 8,
   "id": "cb64888b-be44-4962-a561-c58a0a3fcb81",
   "metadata": {},
   "outputs": [],
   "source": [
    "#    5  ->  0101\n",
    "#    3  ->  0011\n",
    "# ----------------\n",
    "# AND ->  0001  (1 in decimal)\n"
   ]
  },
  {
   "cell_type": "code",
   "execution_count": 10,
   "id": "1b38bb84-0eaa-4b80-a32a-a44694455635",
   "metadata": {},
   "outputs": [],
   "source": [
    "# 2. Bitwise OR (|)\n",
    "# Performs a logical OR operation on corresponding bits.\n",
    "# The result has 1 where at least one bit is 1."
   ]
  },
  {
   "cell_type": "code",
   "execution_count": 12,
   "id": "a6ed6401-9d7a-46df-b501-bf8a66eb77c4",
   "metadata": {},
   "outputs": [
    {
     "name": "stdout",
     "output_type": "stream",
     "text": [
      "7\n"
     ]
    }
   ],
   "source": [
    "a = 5  # 0b0101\n",
    "b = 3  # 0b0011\n",
    "\n",
    "result = a | b  # 0b0111 (7 in decimal)\n",
    "print(result)   # Output: 7\n"
   ]
  },
  {
   "cell_type": "code",
   "execution_count": 12,
   "id": "f75c3adf-915a-4c5f-a1c3-c1d947315fa7",
   "metadata": {},
   "outputs": [],
   "source": [
    "#    5  ->  0101\n",
    "#    3  ->  0011\n",
    "# ----------------\n",
    "# OR  ->  0111  (7 in decimal)\n",
    "# 1+2+4"
   ]
  },
  {
   "cell_type": "code",
   "execution_count": 18,
   "id": "a2252f48-a0e0-4399-9f74-13a3a853b303",
   "metadata": {},
   "outputs": [],
   "source": [
    "# 3. Bitwise XOR (^)\n",
    "# Performs an exclusive OR operation.\n",
    "# The result has 1 where the bits are different."
   ]
  },
  {
   "cell_type": "code",
   "execution_count": 20,
   "id": "e122f611-c9ad-4ed7-ab8c-bfa7c4b2d0e1",
   "metadata": {},
   "outputs": [
    {
     "name": "stdout",
     "output_type": "stream",
     "text": [
      "6\n"
     ]
    }
   ],
   "source": [
    "a = 5  # 0b0101\n",
    "b = 3  # 0b0011\n",
    "\n",
    "result = a ^ b  # 0b0110 (6 in decimal)\n",
    "print(result)   # Output: 6\n"
   ]
  },
  {
   "cell_type": "code",
   "execution_count": 14,
   "id": "037e0214-8b32-418f-ae2f-3a8283ea5696",
   "metadata": {},
   "outputs": [],
   "source": [
    "#    5  ->  0101\n",
    "#    3  ->  0011\n",
    "# ----------------\n",
    "# XOR ->  0110  (6 in decimal)\n",
    "# 0 + 2 + 4"
   ]
  },
  {
   "cell_type": "code",
   "execution_count": 24,
   "id": "a0a83d21-65ee-4656-bc35-2b9a8d79079f",
   "metadata": {},
   "outputs": [],
   "source": [
    "# 4. Bitwise NOT (~)\n",
    "# Inverts all bits (flips 0s to 1s and 1s to 0s).\n",
    "# In Python, it is equivalent to -(n+1), due to two's complement representation."
   ]
  },
  {
   "cell_type": "code",
   "execution_count": 16,
   "id": "b5de9472-b26d-4810-b5a4-17ab1d800073",
   "metadata": {},
   "outputs": [
    {
     "name": "stdout",
     "output_type": "stream",
     "text": [
      "-6\n"
     ]
    }
   ],
   "source": [
    "a = 5  # 0b0101\n",
    "\n",
    "result = ~a  # -(5+1) = -6\n",
    "print(result)  # Output: -6\n",
    "\n",
    "#1010\n",
    "# 0+2+4"
   ]
  },
  {
   "cell_type": "code",
   "execution_count": 31,
   "id": "05c496e6-53ff-4b76-a617-de3a5b069922",
   "metadata": {},
   "outputs": [],
   "source": [
    "# 5. Left Shift (<<)\n",
    "# Shifts the bits to the left by a specified number of positions.\n",
    "# Each left shift (<< 1) multiplies the number by 2."
   ]
  },
  {
   "cell_type": "code",
   "execution_count": 33,
   "id": "3ed7ab90-8e43-46f8-8531-9b01af86e107",
   "metadata": {},
   "outputs": [
    {
     "name": "stdout",
     "output_type": "stream",
     "text": [
      "10\n"
     ]
    }
   ],
   "source": [
    "a = 5  # 0b0101\n",
    "\n",
    "result = a << 1  # 0b1010 (10 in decimal)\n",
    "print(result)  # Output: 10\n"
   ]
  },
  {
   "cell_type": "code",
   "execution_count": 18,
   "id": "211df60e-4c08-4133-8c3c-b120dea2102c",
   "metadata": {},
   "outputs": [],
   "source": [
    "#    5   ->  0000 0101\n",
    "# Shift  ->  0000 1010  (10 in decimal)\n",
    "# 0+2+8"
   ]
  },
  {
   "cell_type": "code",
   "execution_count": 37,
   "id": "87ca4ca1-5766-4cea-a02b-1d132aa8fe8f",
   "metadata": {},
   "outputs": [],
   "source": [
    "# 6. Right Shift (>>)\n",
    "# Shifts the bits to the right by a specified number of positions.\n",
    "# Each right shift (>> 1) divides the number by 2 (integer division)."
   ]
  },
  {
   "cell_type": "code",
   "execution_count": 39,
   "id": "0f849edf-70fa-4255-9e2d-018f0f68a5ae",
   "metadata": {},
   "outputs": [
    {
     "name": "stdout",
     "output_type": "stream",
     "text": [
      "2\n"
     ]
    }
   ],
   "source": [
    "a = 5  # 0b0101\n",
    "\n",
    "result = a >> 1  # 0b0010 (2 in decimal)\n",
    "print(result)  # Output: 2\n"
   ]
  },
  {
   "cell_type": "code",
   "execution_count": 20,
   "id": "29759ef5-8a3b-42e3-b3d7-9c5b61a434f9",
   "metadata": {},
   "outputs": [],
   "source": [
    "#    5   ->  0000 0101\n",
    "# Shift  ->  0000 0010  (2 in decimal)"
   ]
  },
  {
   "cell_type": "code",
   "execution_count": 43,
   "id": "350bc1a6-4194-4590-a35b-11a059e9579d",
   "metadata": {},
   "outputs": [],
   "source": [
    "# Bitwise Operations with Negative Numbers\n",
    "# Python uses two's complement representation for negative numbers.\n",
    "# When right-shifting a negative number, Python maintains the sign bit (Arithmetic Shift)."
   ]
  },
  {
   "cell_type": "code",
   "execution_count": 26,
   "id": "01a80b70-0431-4391-a12f-c907d353a5d5",
   "metadata": {},
   "outputs": [
    {
     "name": "stdout",
     "output_type": "stream",
     "text": [
      "-3\n"
     ]
    }
   ],
   "source": [
    "a = -5  # 0b...11111011 (two's complement)\n",
    "print(a >> 1)  # Output: -3\n"
   ]
  },
  {
   "cell_type": "code",
   "execution_count": null,
   "id": "df714aaf-a4d7-40fe-abf7-5ce182e8f19a",
   "metadata": {},
   "outputs": [],
   "source": [
    "# Convert 5 to binary:\n",
    "\n",
    "# 5 = 00000101 (in 8-bit)\n",
    "# Get the Two’s Complement of -5:\n",
    "# Flip the bits → 11111010\n",
    "# Add 1 → 11111011\n",
    "# Thus, -5 in Two’s Complement (8-bit) is 11111011.\n",
    "\n",
    "# Step 2: Perform Right Shift (>> 1)\n",
    "# The right shift (>>) moves all bits one place to the right, and:\n",
    "\n",
    "# For positive numbers, it fills with 0s on the left.\n",
    "# For negative numbers, it fills with 1s (Arithmetic Shift).\n",
    "\n",
    "#   11111011   (-5 in Two’s Complement)\n",
    "# >>       1   (Shift right by 1)\n",
    "# --------------\n",
    "#   11111101   (New binary result)\n",
    "# This new binary 11111101 is still in Two’s Complement. Let's convert it back to decimal.\n",
    "\n",
    "# Step 3: Convert 11111101 Back to Decimal\n",
    "# 11111101 is a negative number (MSB is 1).\n",
    "# To convert it back:\n",
    "# Flip bits → 00000010\n",
    "# Add 1 → 00000011 (which is 3 in decimal)\n",
    "# So the final result is -3.\n"
   ]
  },
  {
   "cell_type": "code",
   "execution_count": 24,
   "id": "482a8ce6-25f8-4f81-81d9-94a2abbbcfc1",
   "metadata": {},
   "outputs": [
    {
     "name": "stdout",
     "output_type": "stream",
     "text": [
      "-10\n"
     ]
    }
   ],
   "source": [
    "b = -5\n",
    "print(b << 1)  # Output: -10\n"
   ]
  },
  {
   "cell_type": "code",
   "execution_count": null,
   "id": "795c9ec9-47be-47d4-8a47-07a9d9d84139",
   "metadata": {},
   "outputs": [],
   "source": []
  }
 ],
 "metadata": {
  "kernelspec": {
   "display_name": "Python 3 (ipykernel)",
   "language": "python",
   "name": "python3"
  },
  "language_info": {
   "codemirror_mode": {
    "name": "ipython",
    "version": 3
   },
   "file_extension": ".py",
   "mimetype": "text/x-python",
   "name": "python",
   "nbconvert_exporter": "python",
   "pygments_lexer": "ipython3",
   "version": "3.12.7"
  }
 },
 "nbformat": 4,
 "nbformat_minor": 5
}
