{
 "cells": [
  {
   "cell_type": "code",
   "execution_count": 4,
   "id": "eeca399f-0894-4ba6-b5cf-7c9698dab1dc",
   "metadata": {},
   "outputs": [],
   "source": [
    "runs = [50,35,23,56,87,89,23,45,67,43]"
   ]
  },
  {
   "cell_type": "code",
   "execution_count": 6,
   "id": "258fda7f-960f-4983-820c-a6f08551affc",
   "metadata": {},
   "outputs": [
    {
     "data": {
      "text/plain": [
       "[50, 35, 23, 56, 87, 89, 23, 45, 67, 43]"
      ]
     },
     "execution_count": 6,
     "metadata": {},
     "output_type": "execute_result"
    }
   ],
   "source": [
    "runs"
   ]
  },
  {
   "cell_type": "code",
   "execution_count": 8,
   "id": "16c826a6-82cf-4d3e-b4c9-01f09073aeb0",
   "metadata": {},
   "outputs": [
    {
     "data": {
      "text/plain": [
       "50"
      ]
     },
     "execution_count": 8,
     "metadata": {},
     "output_type": "execute_result"
    }
   ],
   "source": [
    "runs[0]"
   ]
  },
  {
   "cell_type": "code",
   "execution_count": 10,
   "id": "3c7c1f29-b4fc-499d-a550-fa073f0cfebc",
   "metadata": {},
   "outputs": [
    {
     "data": {
      "text/plain": [
       "35"
      ]
     },
     "execution_count": 10,
     "metadata": {},
     "output_type": "execute_result"
    }
   ],
   "source": [
    "runs[1]"
   ]
  },
  {
   "cell_type": "code",
   "execution_count": 12,
   "id": "0f14e5a9-a3c3-4748-8408-41ddf9affba0",
   "metadata": {},
   "outputs": [
    {
     "data": {
      "text/plain": [
       "10"
      ]
     },
     "execution_count": 12,
     "metadata": {},
     "output_type": "execute_result"
    }
   ],
   "source": [
    "len(runs)"
   ]
  },
  {
   "cell_type": "code",
   "execution_count": 14,
   "id": "907d50cc-efbb-4c06-95fb-d6d31beb0077",
   "metadata": {},
   "outputs": [
    {
     "data": {
      "text/plain": [
       "43"
      ]
     },
     "execution_count": 14,
     "metadata": {},
     "output_type": "execute_result"
    }
   ],
   "source": [
    "runs[len(runs)-1]  # last element"
   ]
  },
  {
   "cell_type": "code",
   "execution_count": 16,
   "id": "f0c3e54b-a6e4-4547-b930-0e08300b256d",
   "metadata": {},
   "outputs": [
    {
     "data": {
      "text/plain": [
       "43"
      ]
     },
     "execution_count": 16,
     "metadata": {},
     "output_type": "execute_result"
    }
   ],
   "source": [
    "runs[-1] # other method"
   ]
  },
  {
   "cell_type": "code",
   "execution_count": 18,
   "id": "7808c813-ecd6-4b9e-8773-cb9331219369",
   "metadata": {},
   "outputs": [],
   "source": [
    "# print total runs on odd positions in the list"
   ]
  },
  {
   "cell_type": "code",
   "execution_count": 20,
   "id": "1485fc4c-96ea-4e37-be8a-70d959d04a44",
   "metadata": {},
   "outputs": [],
   "source": [
    "runs.append(70)"
   ]
  },
  {
   "cell_type": "code",
   "execution_count": 22,
   "id": "2064f7f6-f30e-46ea-943b-b6f9e7f35dd1",
   "metadata": {},
   "outputs": [
    {
     "data": {
      "text/plain": [
       "[50, 35, 23, 56, 87, 89, 23, 45, 67, 43, 70]"
      ]
     },
     "execution_count": 22,
     "metadata": {},
     "output_type": "execute_result"
    }
   ],
   "source": [
    "runs"
   ]
  },
  {
   "cell_type": "code",
   "execution_count": 28,
   "id": "fcca02fc-2370-41f5-9d36-8f337af07811",
   "metadata": {},
   "outputs": [],
   "source": [
    "runs.append([34,44])"
   ]
  },
  {
   "cell_type": "code",
   "execution_count": 30,
   "id": "264139d9-a0e6-4dd5-bfae-b12648e00f01",
   "metadata": {},
   "outputs": [
    {
     "data": {
      "text/plain": [
       "[50, 35, 23, 56, 87, 89, 23, 45, 67, 43, 70, [34, 44]]"
      ]
     },
     "execution_count": 30,
     "metadata": {},
     "output_type": "execute_result"
    }
   ],
   "source": [
    "runs"
   ]
  },
  {
   "cell_type": "code",
   "execution_count": 32,
   "id": "4daf4903-c9ed-42ef-8416-6fe8bc3c08ba",
   "metadata": {},
   "outputs": [],
   "source": [
    "runs.insert(0,30)"
   ]
  },
  {
   "cell_type": "code",
   "execution_count": 34,
   "id": "d1bba69f-845e-44a9-ab9d-62e3d8265d35",
   "metadata": {},
   "outputs": [
    {
     "data": {
      "text/plain": [
       "[30, 50, 35, 23, 56, 87, 89, 23, 45, 67, 43, 70, [34, 44]]"
      ]
     },
     "execution_count": 34,
     "metadata": {},
     "output_type": "execute_result"
    }
   ],
   "source": [
    "runs"
   ]
  },
  {
   "cell_type": "code",
   "execution_count": 36,
   "id": "8a3396b8-b9db-4e0f-a5f9-49a574692477",
   "metadata": {},
   "outputs": [],
   "source": [
    "newruns = [80,50]"
   ]
  },
  {
   "cell_type": "code",
   "execution_count": 40,
   "id": "7585c617-7376-49d2-a8ca-273646116aba",
   "metadata": {},
   "outputs": [],
   "source": [
    "runs.extend(newruns)"
   ]
  },
  {
   "cell_type": "code",
   "execution_count": 42,
   "id": "f9c95f0a-4cad-4e5b-a6a9-6cb6a3136601",
   "metadata": {},
   "outputs": [
    {
     "data": {
      "text/plain": [
       "[30, 50, 35, 23, 56, 87, 89, 23, 45, 67, 43, 70, [34, 44], 80, 50]"
      ]
     },
     "execution_count": 42,
     "metadata": {},
     "output_type": "execute_result"
    }
   ],
   "source": [
    "runs"
   ]
  },
  {
   "cell_type": "code",
   "execution_count": 44,
   "id": "1b4fcc91-e314-4552-8032-44f0e647c51e",
   "metadata": {},
   "outputs": [],
   "source": [
    "runs = runs + [25,35]"
   ]
  },
  {
   "cell_type": "code",
   "execution_count": 46,
   "id": "0d262ebd-d446-4870-8b16-d266d8403913",
   "metadata": {},
   "outputs": [
    {
     "data": {
      "text/plain": [
       "[30, 50, 35, 23, 56, 87, 89, 23, 45, 67, 43, 70, [34, 44], 80, 50, 25, 35]"
      ]
     },
     "execution_count": 46,
     "metadata": {},
     "output_type": "execute_result"
    }
   ],
   "source": [
    "runs"
   ]
  },
  {
   "cell_type": "code",
   "execution_count": 48,
   "id": "32ad8146-efc6-41f8-b486-5b099a5e132f",
   "metadata": {},
   "outputs": [
    {
     "data": {
      "text/plain": [
       "30"
      ]
     },
     "execution_count": 48,
     "metadata": {},
     "output_type": "execute_result"
    }
   ],
   "source": [
    "runs.pop(0) # removes element at an index"
   ]
  },
  {
   "cell_type": "code",
   "execution_count": 50,
   "id": "ea73589e-c6dc-493f-92f0-5b1e3bea7bf1",
   "metadata": {},
   "outputs": [
    {
     "data": {
      "text/plain": [
       "[50, 35, 23, 56, 87, 89, 23, 45, 67, 43, 70, [34, 44], 80, 50, 25, 35]"
      ]
     },
     "execution_count": 50,
     "metadata": {},
     "output_type": "execute_result"
    }
   ],
   "source": [
    "runs"
   ]
  },
  {
   "cell_type": "code",
   "execution_count": 60,
   "id": "b8dd1a29-44f7-4c1b-9968-f2fe9feb13cb",
   "metadata": {},
   "outputs": [
    {
     "data": {
      "text/plain": [
       "25"
      ]
     },
     "execution_count": 60,
     "metadata": {},
     "output_type": "execute_result"
    }
   ],
   "source": [
    "runs.pop() # defaultly removes last element"
   ]
  },
  {
   "cell_type": "code",
   "execution_count": 62,
   "id": "3fa2a24a-44a4-4666-9324-29ecf1ca6d19",
   "metadata": {},
   "outputs": [
    {
     "data": {
      "text/plain": [
       "[50, 35, 23, 56, 87, 89, 23, 45, 67, 43, 70, [34, 44], 80, 50]"
      ]
     },
     "execution_count": 62,
     "metadata": {},
     "output_type": "execute_result"
    }
   ],
   "source": [
    "runs"
   ]
  },
  {
   "cell_type": "code",
   "execution_count": 64,
   "id": "b4c19f5a-8681-4f5b-8eff-d2493e2e0006",
   "metadata": {},
   "outputs": [
    {
     "data": {
      "text/plain": [
       "35"
      ]
     },
     "execution_count": 64,
     "metadata": {},
     "output_type": "execute_result"
    }
   ],
   "source": [
    "runs.pop(1)"
   ]
  },
  {
   "cell_type": "code",
   "execution_count": 66,
   "id": "1b5cf79f-dd28-4db3-9689-c9a7bed58685",
   "metadata": {},
   "outputs": [
    {
     "data": {
      "text/plain": [
       "[50, 23, 56, 87, 89, 23, 45, 67, 43, 70, [34, 44], 80, 50]"
      ]
     },
     "execution_count": 66,
     "metadata": {},
     "output_type": "execute_result"
    }
   ],
   "source": [
    "runs"
   ]
  },
  {
   "cell_type": "code",
   "execution_count": 68,
   "id": "1a2bbfa0-9282-4847-893e-da74070fd0d5",
   "metadata": {},
   "outputs": [],
   "source": [
    "runs.remove(50)"
   ]
  },
  {
   "cell_type": "code",
   "execution_count": 70,
   "id": "7f57266f-1f96-4e54-9987-6c056cc6f7bd",
   "metadata": {},
   "outputs": [
    {
     "data": {
      "text/plain": [
       "[23, 56, 87, 89, 23, 45, 67, 43, 70, [34, 44], 80, 50]"
      ]
     },
     "execution_count": 70,
     "metadata": {},
     "output_type": "execute_result"
    }
   ],
   "source": [
    "runs"
   ]
  },
  {
   "cell_type": "code",
   "execution_count": 24,
   "id": "f4c00694-ce50-4961-885a-91280822423f",
   "metadata": {},
   "outputs": [
    {
     "data": {
      "text/plain": [
       "7"
      ]
     },
     "execution_count": 24,
     "metadata": {},
     "output_type": "execute_result"
    }
   ],
   "source": [
    "# index\n",
    "runs.index(45)"
   ]
  },
  {
   "cell_type": "code",
   "execution_count": 74,
   "id": "65cbb2b3-a704-4788-b5ff-31f36e6bffd8",
   "metadata": {},
   "outputs": [
    {
     "data": {
      "text/plain": [
       "3"
      ]
     },
     "execution_count": 74,
     "metadata": {},
     "output_type": "execute_result"
    }
   ],
   "source": [
    "r = [1,1,2,2,2,2,3,3,3,4,4,4]\n",
    "r.count(3)"
   ]
  },
  {
   "cell_type": "code",
   "execution_count": 76,
   "id": "e4df3d81-3ef7-42eb-ac0c-5af43145f1db",
   "metadata": {},
   "outputs": [
    {
     "data": {
      "text/plain": [
       "[1, 1, 2, 2, 2, 2, 3, 3, 3, 4, 4, 4, [10, 20, 30]]"
      ]
     },
     "execution_count": 76,
     "metadata": {},
     "output_type": "execute_result"
    }
   ],
   "source": [
    "r.append([10,20,30])\n",
    "r"
   ]
  },
  {
   "cell_type": "code",
   "execution_count": 78,
   "id": "cfeeaec7-b5a2-486e-8f9f-23617bcc4bec",
   "metadata": {},
   "outputs": [
    {
     "data": {
      "text/plain": [
       "10"
      ]
     },
     "execution_count": 78,
     "metadata": {},
     "output_type": "execute_result"
    }
   ],
   "source": [
    "r[-1][0]"
   ]
  },
  {
   "cell_type": "code",
   "execution_count": 82,
   "id": "6087e3cf-c787-47a7-8b53-58738e6eef95",
   "metadata": {},
   "outputs": [
    {
     "data": {
      "text/plain": [
       "[]"
      ]
     },
     "execution_count": 82,
     "metadata": {},
     "output_type": "execute_result"
    }
   ],
   "source": [
    "# clear the list\n",
    "r.clear()\n",
    "r"
   ]
  },
  {
   "cell_type": "code",
   "execution_count": 84,
   "id": "109ed5af-01f0-4352-aad2-4ffb0b321587",
   "metadata": {},
   "outputs": [],
   "source": [
    "# in , not in \n"
   ]
  },
  {
   "cell_type": "code",
   "execution_count": 86,
   "id": "3d75373b-4f76-46d8-940e-0922540d1f77",
   "metadata": {},
   "outputs": [
    {
     "name": "stdout",
     "output_type": "stream",
     "text": [
      "True\n"
     ]
    }
   ],
   "source": [
    "mylist = [1,2,3,4,5,6,7]\n",
    "print(3 in mylist)"
   ]
  },
  {
   "cell_type": "code",
   "execution_count": 88,
   "id": "209a0954-25cd-4fbf-b8c8-1ca390088ead",
   "metadata": {},
   "outputs": [
    {
     "name": "stdout",
     "output_type": "stream",
     "text": [
      "False\n"
     ]
    }
   ],
   "source": [
    "print(10 in mylist)"
   ]
  },
  {
   "cell_type": "code",
   "execution_count": 90,
   "id": "e12d43ac-73e0-4e01-8719-3c238562d041",
   "metadata": {},
   "outputs": [
    {
     "name": "stdout",
     "output_type": "stream",
     "text": [
      "True\n"
     ]
    }
   ],
   "source": [
    "print(10 not in mylist)"
   ]
  },
  {
   "cell_type": "code",
   "execution_count": 92,
   "id": "2c0f5b55-2eaa-4abd-bd69-73ca48936bc6",
   "metadata": {},
   "outputs": [
    {
     "name": "stdout",
     "output_type": "stream",
     "text": [
      "0\n",
      "1\n",
      "2\n",
      "3\n",
      "4\n"
     ]
    }
   ],
   "source": [
    "for i in range(5):  # i --iterator, range(5) -- iterable\n",
    "    print(i)   # iteration  block"
   ]
  },
  {
   "cell_type": "code",
   "execution_count": 94,
   "id": "d1a510bd-c650-4ed2-9016-7e845da660d2",
   "metadata": {},
   "outputs": [],
   "source": [
    "a = [50, 23, 56, 87, 89, 23, 45, 67, 43, 70]"
   ]
  },
  {
   "cell_type": "code",
   "execution_count": 96,
   "id": "e35c77cd-e6f1-4a57-b76b-6e939a5e0bb8",
   "metadata": {},
   "outputs": [
    {
     "name": "stdout",
     "output_type": "stream",
     "text": [
      "50\n",
      "23\n",
      "56\n",
      "87\n",
      "89\n",
      "23\n",
      "45\n",
      "67\n",
      "43\n",
      "70\n"
     ]
    }
   ],
   "source": [
    "for i in a :\n",
    "    print(i)"
   ]
  },
  {
   "cell_type": "code",
   "execution_count": 98,
   "id": "c7f53690-9b49-4bff-adaf-b54b527184f5",
   "metadata": {},
   "outputs": [
    {
     "name": "stdout",
     "output_type": "stream",
     "text": [
      "50\n",
      "23\n",
      "56\n",
      "87\n",
      "89\n",
      "23\n",
      "45\n",
      "67\n",
      "43\n",
      "70\n"
     ]
    }
   ],
   "source": [
    "for i in range(len(a)):\n",
    "    print(a[i])"
   ]
  },
  {
   "cell_type": "code",
   "execution_count": 105,
   "id": "2f08f28e-720c-4d49-b57c-937979800c73",
   "metadata": {},
   "outputs": [
    {
     "name": "stdout",
     "output_type": "stream",
     "text": [
      "5 4 3 2 1 "
     ]
    }
   ],
   "source": [
    "# reverse numbers in list\n",
    "mylist = [1,2,3,4,5]\n",
    "i = -1\n",
    "while i >= -5:\n",
    "    print(mylist[i], end = ' ')\n",
    "    i-=1"
   ]
  },
  {
   "cell_type": "code",
   "execution_count": 133,
   "id": "02d28e79-5c43-4cc1-a301-7d87c8717229",
   "metadata": {},
   "outputs": [
    {
     "data": {
      "text/plain": [
       "[23, 56, 87, 89, 23, 45, 67, 43, 70, 80, 50]"
      ]
     },
     "execution_count": 133,
     "metadata": {},
     "output_type": "execute_result"
    }
   ],
   "source": [
    "runs"
   ]
  },
  {
   "cell_type": "code",
   "execution_count": 135,
   "id": "a6272ea4-8286-42a5-a7bc-9f0f350cab32",
   "metadata": {},
   "outputs": [
    {
     "data": {
      "text/plain": [
       "70"
      ]
     },
     "execution_count": 135,
     "metadata": {},
     "output_type": "execute_result"
    }
   ],
   "source": [
    "runs.pop(-3)"
   ]
  },
  {
   "cell_type": "raw",
   "id": "1f296932-3805-421b-b426-eaf2021f8e81",
   "metadata": {},
   "source": [
    "runs"
   ]
  },
  {
   "cell_type": "code",
   "execution_count": 137,
   "id": "5987ee0c-fb55-4639-abf8-b56b24cbdb22",
   "metadata": {},
   "outputs": [],
   "source": [
    "length_runs = 0\n",
    "sum_runs = 0\n",
    "average_runs = 0\n",
    "min_runs = 0\n",
    "max_runs = 0"
   ]
  },
  {
   "cell_type": "code",
   "execution_count": 139,
   "id": "397b345c-db51-4685-b341-6641df8df16f",
   "metadata": {},
   "outputs": [],
   "source": [
    "for i in runs:\n",
    "    sum_runs = sum_runs + i\n",
    "    length_runs = length_runs + 1"
   ]
  },
  {
   "cell_type": "code",
   "execution_count": 141,
   "id": "b9629b67-7356-409c-ba32-19e6a05820aa",
   "metadata": {},
   "outputs": [
    {
     "data": {
      "text/plain": [
       "563"
      ]
     },
     "execution_count": 141,
     "metadata": {},
     "output_type": "execute_result"
    }
   ],
   "source": [
    "sum_runs"
   ]
  },
  {
   "cell_type": "code",
   "execution_count": 143,
   "id": "a62db3c3-2739-457c-a079-5fefb61d9436",
   "metadata": {},
   "outputs": [
    {
     "data": {
      "text/plain": [
       "10"
      ]
     },
     "execution_count": 143,
     "metadata": {},
     "output_type": "execute_result"
    }
   ],
   "source": [
    "length_runs"
   ]
  },
  {
   "cell_type": "code",
   "execution_count": 145,
   "id": "10cdfa2b-7454-4187-b3d3-5a7922edf0d5",
   "metadata": {},
   "outputs": [
    {
     "name": "stdout",
     "output_type": "stream",
     "text": [
      "56.3\n"
     ]
    }
   ],
   "source": [
    "average_runs = sum_runs / length_runs\n",
    "print(average_runs)"
   ]
  },
  {
   "cell_type": "code",
   "execution_count": 14,
   "id": "b19692c6-5174-4f2d-a10d-4ec511007103",
   "metadata": {},
   "outputs": [],
   "source": [
    "runs = [23, 56, 87, 89, 23, 4, 67, 1, 70, 80, 50]"
   ]
  },
  {
   "cell_type": "code",
   "execution_count": 16,
   "id": "263be533-07dc-4936-a73e-98c6bbe454c7",
   "metadata": {},
   "outputs": [
    {
     "name": "stdout",
     "output_type": "stream",
     "text": [
      "1\n"
     ]
    }
   ],
   "source": [
    "min_runs = runs[0] #23\n",
    "for i in runs:\n",
    "    if i < min_runs:\n",
    "        min_runs = i\n",
    "print(min_runs)"
   ]
  },
  {
   "cell_type": "code",
   "execution_count": 151,
   "id": "608cba27-749b-41fc-a03a-901ae5c9d7ea",
   "metadata": {},
   "outputs": [
    {
     "name": "stdout",
     "output_type": "stream",
     "text": [
      "89\n"
     ]
    }
   ],
   "source": [
    "max_runs = runs[0]\n",
    "for i in runs:\n",
    "    if i>max_runs:\n",
    "        max_runs = i\n",
    "print(max_runs)"
   ]
  },
  {
   "cell_type": "code",
   "execution_count": 153,
   "id": "c7cb42c1-f207-44f0-8922-a27f976f9747",
   "metadata": {},
   "outputs": [
    {
     "data": {
      "text/plain": [
       "563"
      ]
     },
     "execution_count": 153,
     "metadata": {},
     "output_type": "execute_result"
    }
   ],
   "source": [
    "sum(runs)"
   ]
  },
  {
   "cell_type": "code",
   "execution_count": 157,
   "id": "df802c37-6dc1-4006-acd3-b2440185b6d2",
   "metadata": {},
   "outputs": [
    {
     "data": {
      "text/plain": [
       "56.3"
      ]
     },
     "execution_count": 157,
     "metadata": {},
     "output_type": "execute_result"
    }
   ],
   "source": [
    "average_runs = sum(runs) / len(runs)\n",
    "average_runs"
   ]
  },
  {
   "cell_type": "code",
   "execution_count": 159,
   "id": "6fb377ec-65fe-4e2d-aa61-4802cde76bb5",
   "metadata": {},
   "outputs": [
    {
     "data": {
      "text/plain": [
       "23"
      ]
     },
     "execution_count": 159,
     "metadata": {},
     "output_type": "execute_result"
    }
   ],
   "source": [
    "min(runs)"
   ]
  },
  {
   "cell_type": "code",
   "execution_count": 161,
   "id": "b892778b-4355-460a-943f-35aeff573a99",
   "metadata": {},
   "outputs": [
    {
     "data": {
      "text/plain": [
       "89"
      ]
     },
     "execution_count": 161,
     "metadata": {},
     "output_type": "execute_result"
    }
   ],
   "source": [
    "max(runs)"
   ]
  },
  {
   "cell_type": "code",
   "execution_count": 165,
   "id": "4c700f14-8aec-449f-84ae-ee3d7e038211",
   "metadata": {},
   "outputs": [
    {
     "name": "stdout",
     "output_type": "stream",
     "text": [
      "apple is a fruit.  banana is a fruit.  orange is a fruit.  "
     ]
    }
   ],
   "source": [
    "mylist = ['apple', 'banana','orange']\n",
    "for i in range(len(mylist)):\n",
    "    print(mylist[i] + ' is a fruit. ', end = \" \")"
   ]
  },
  {
   "cell_type": "code",
   "execution_count": 167,
   "id": "16adabd6-0171-4787-90ac-e26bca843333",
   "metadata": {},
   "outputs": [],
   "source": [
    "# calculate sum of runs made in all matches with even index"
   ]
  },
  {
   "cell_type": "code",
   "execution_count": 178,
   "id": "d80e88ef-5d90-459f-8f64-e5057855a34c",
   "metadata": {},
   "outputs": [
    {
     "name": "stdout",
     "output_type": "stream",
     "text": [
      "280\n"
     ]
    }
   ],
   "source": [
    "sum_even = 0\n",
    "for i in range(len(runs)):\n",
    "    if i%2 == 0:\n",
    "        sum_even  = sum_even + runs[i]\n",
    "print(sum_even)"
   ]
  },
  {
   "cell_type": "code",
   "execution_count": 184,
   "id": "db139e2f-ffb9-4468-bdc1-f4d4b8a2d72d",
   "metadata": {},
   "outputs": [
    {
     "name": "stdout",
     "output_type": "stream",
     "text": [
      "[20, 40, 60, 80, 100]\n"
     ]
    }
   ],
   "source": [
    "# list to multiply by 2 \n",
    "mylist = [10,20,30,40,50]\n",
    "i = 0\n",
    "while i < len(mylist):\n",
    "    mylist[i] *= 2\n",
    "    i += 1\n",
    "print(mylist)"
   ]
  },
  {
   "cell_type": "code",
   "execution_count": 192,
   "id": "ee0d3c36-a5d2-4bbb-b66d-b348e49301e4",
   "metadata": {},
   "outputs": [
    {
     "name": "stdin",
     "output_type": "stream",
     "text": [
      "Enter the number of elements in the list:  7\n",
      "Enter the element 1\n",
      "Enter the element 2\n",
      "Enter the element 3\n",
      "Enter the element 4\n",
      "Enter the element 5\n",
      "Enter the element 6\n",
      "Enter the element 8\n"
     ]
    }
   ],
   "source": [
    "num_elements = int(input(\"Enter the number of elements in the list: \"))\n",
    "mylist = []\n",
    "for i in range(num_elements):\n",
    "    element = int(input(\"Enter the element\"))\n",
    "    mylist.append(element)"
   ]
  },
  {
   "cell_type": "code",
   "execution_count": 194,
   "id": "24fd1aaf-9fdd-4f8c-ba0e-65c6101e7768",
   "metadata": {},
   "outputs": [
    {
     "data": {
      "text/plain": [
       "[1, 2, 3, 4, 5, 6, 8]"
      ]
     },
     "execution_count": 194,
     "metadata": {},
     "output_type": "execute_result"
    }
   ],
   "source": [
    "mylist"
   ]
  },
  {
   "cell_type": "code",
   "execution_count": null,
   "id": "32e1b1bb-c0b4-4161-822f-5585f8e3e078",
   "metadata": {},
   "outputs": [],
   "source": []
  }
 ],
 "metadata": {
  "kernelspec": {
   "display_name": "Python 3 (ipykernel)",
   "language": "python",
   "name": "python3"
  },
  "language_info": {
   "codemirror_mode": {
    "name": "ipython",
    "version": 3
   },
   "file_extension": ".py",
   "mimetype": "text/x-python",
   "name": "python",
   "nbconvert_exporter": "python",
   "pygments_lexer": "ipython3",
   "version": "3.12.7"
  }
 },
 "nbformat": 4,
 "nbformat_minor": 5
}
