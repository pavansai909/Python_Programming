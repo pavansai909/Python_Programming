{
 "cells": [
  {
   "cell_type": "code",
   "execution_count": 4,
   "id": "9c1c564d-5b56-40c2-a23f-a1f6609d3195",
   "metadata": {},
   "outputs": [
    {
     "name": "stdout",
     "output_type": "stream",
     "text": [
      "6\n"
     ]
    }
   ],
   "source": [
    "import random\n",
    "# The randint() function generates a random integer between two given numbers (inclusive).\n",
    "num = random.randint(1, 10)  # Generates a number between 1 and 10\n",
    "print(num)\n"
   ]
  },
  {
   "cell_type": "code",
   "execution_count": 16,
   "id": "ec96ff5c-037c-4add-9733-c0efb59b8ce2",
   "metadata": {},
   "outputs": [
    {
     "name": "stdout",
     "output_type": "stream",
     "text": [
      "You rolled a 2!\n"
     ]
    }
   ],
   "source": [
    "#Use Case: Simulating a dice roll (1 to 6).\n",
    "\n",
    "dice_roll = random.randint(1, 6)\n",
    "print(f\"You rolled a {dice_roll}!\")"
   ]
  },
  {
   "cell_type": "code",
   "execution_count": 24,
   "id": "00cde451-9bd3-4b37-a2ed-51ee8d9b4446",
   "metadata": {},
   "outputs": [],
   "source": [
    "# Generating Random Floating-Point Numbers"
   ]
  },
  {
   "cell_type": "code",
   "execution_count": 60,
   "id": "6ab02d68-fdb7-4057-af4e-974bd8081276",
   "metadata": {},
   "outputs": [
    {
     "name": "stdout",
     "output_type": "stream",
     "text": [
      "0.6574725026572553\n"
     ]
    }
   ],
   "source": [
    "# Generates a random float between 0 and 1\n",
    "# random.seed(12)\n",
    "print(random.random())  # Example: 0.72389\n"
   ]
  },
  {
   "cell_type": "code",
   "execution_count": 62,
   "id": "6ebb2659-2b37-4970-9f78-dc00673bf802",
   "metadata": {},
   "outputs": [
    {
     "name": "stdout",
     "output_type": "stream",
     "text": [
      "4.165641884499353\n"
     ]
    }
   ],
   "source": [
    "# random.uniform(a, b) – Generates a random float between a and b\n",
    "print(random.uniform(1.5, 5.5))  # Example: 3.678\n"
   ]
  },
  {
   "cell_type": "code",
   "execution_count": 64,
   "id": "718ad234-2a76-43d1-9c76-cd93a844d029",
   "metadata": {},
   "outputs": [
    {
     "name": "stdout",
     "output_type": "stream",
     "text": [
      "Today's temperature is 31.43°C\n"
     ]
    }
   ],
   "source": [
    "temperature = random.uniform(30, 40)\n",
    "print(f\"Today's temperature is {temperature:.2f}°C\")\n"
   ]
  },
  {
   "cell_type": "code",
   "execution_count": 66,
   "id": "a67f5f9e-8cd7-40fe-81d0-7a455104a15c",
   "metadata": {},
   "outputs": [
    {
     "name": "stdout",
     "output_type": "stream",
     "text": [
      "apple\n"
     ]
    }
   ],
   "source": [
    "# Choosing Random Elements from a List\n",
    "fruits = [\"apple\", \"banana\", \"cherry\", \"date\"]\n",
    "print(random.choice(fruits))  # Example: \"banana\""
   ]
  },
  {
   "cell_type": "code",
   "execution_count": 70,
   "id": "7ad162f6-54e0-4ab2-bf1d-000ced06790a",
   "metadata": {},
   "outputs": [
    {
     "name": "stdout",
     "output_type": "stream",
     "text": [
      "The winner is: David 🎉\n"
     ]
    }
   ],
   "source": [
    "participants = [\"Alice\", \"Bob\", \"Charlie\", \"David\"]\n",
    "winner = random.choice(participants)\n",
    "print(f\"The winner is: {winner} 🎉\")\n"
   ]
  },
  {
   "cell_type": "code",
   "execution_count": 72,
   "id": "0b79cdf0-5001-4625-87d6-ba68b868a061",
   "metadata": {},
   "outputs": [
    {
     "name": "stdout",
     "output_type": "stream",
     "text": [
      "['blue', 'yellow', 'green']\n"
     ]
    }
   ],
   "source": [
    "# Selecting Multiple Random Items\n",
    "# Picks multiple random elements with replacement\n",
    "colors = [\"red\", \"blue\", \"green\", \"yellow\"]\n",
    "random_colors = random.choices(colors, k=3)\n",
    "print(random_colors)  # Example: ['red', 'blue', 'blue']"
   ]
  },
  {
   "cell_type": "code",
   "execution_count": 82,
   "id": "c45e81aa-bdf0-45a5-8ae6-55a57dae4c5b",
   "metadata": {},
   "outputs": [
    {
     "name": "stdout",
     "output_type": "stream",
     "text": [
      "['green', 'red']\n"
     ]
    }
   ],
   "source": [
    "# random.sample() – Picks multiple random elements without replacement\n",
    "random_colors = random.sample(colors, k=2)\n",
    "print(random_colors)  # Example: ['yellow', 'green']\n"
   ]
  },
  {
   "cell_type": "code",
   "execution_count": 88,
   "id": "0be97baf-f63e-4525-89b8-fadd4e7a7b73",
   "metadata": {},
   "outputs": [
    {
     "name": "stdout",
     "output_type": "stream",
     "text": [
      "Congratulations to Charlie and David! 🎊\n"
     ]
    }
   ],
   "source": [
    "# Use Case: Randomly selecting 2 lucky winners from a list of names (without repeats).\n",
    "winners = random.sample(participants, 2)\n",
    "print(f\"Congratulations to {winners[0]} and {winners[1]}! 🎊\")"
   ]
  },
  {
   "cell_type": "code",
   "execution_count": 92,
   "id": "78b241e9-f233-4a6f-b111-4e8d9cb7b32b",
   "metadata": {},
   "outputs": [
    {
     "name": "stdout",
     "output_type": "stream",
     "text": [
      "[3, 4, 1, 2, 5]\n"
     ]
    }
   ],
   "source": [
    "#random.shuffle() – Rearranges items in a list randomly\n",
    "numbers = [1, 2, 3, 4, 5]\n",
    "random.shuffle(numbers)\n",
    "print(numbers)  # Example: [3, 5, 1, 2, 4]\n"
   ]
  },
  {
   "cell_type": "code",
   "execution_count": 96,
   "id": "ab2e81f3-7386-44ea-8f18-b604ab4278b6",
   "metadata": {},
   "outputs": [
    {
     "name": "stdout",
     "output_type": "stream",
     "text": [
      "['J♠', 'A♠', 'Q♠', 'K♠', '9♠', '10♠']\n"
     ]
    }
   ],
   "source": [
    "deck = [\"A♠\", \"K♠\", \"Q♠\", \"J♠\", \"10♠\", \"9♠\"]\n",
    "random.shuffle(deck)\n",
    "print(deck)  # Example: ['Q♠', '9♠', 'A♠', 'J♠', '10♠', 'K♠']\n"
   ]
  },
  {
   "cell_type": "code",
   "execution_count": 102,
   "id": "ee777be1-acc3-4674-b7d9-e6322fdae3eb",
   "metadata": {},
   "outputs": [
    {
     "name": "stdout",
     "output_type": "stream",
     "text": [
      "False\n"
     ]
    }
   ],
   "source": [
    "#Random Boolean Values (True / False)\n",
    "random_bool = random.choice([True, False])\n",
    "print(random_bool)  # Example: True"
   ]
  },
  {
   "cell_type": "code",
   "execution_count": 105,
   "id": "9dc72401-7f67-49ef-ae2f-f6adac4e4b2b",
   "metadata": {},
   "outputs": [
    {
     "name": "stdout",
     "output_type": "stream",
     "text": [
      "The coin landed on: Heads\n"
     ]
    }
   ],
   "source": [
    "coin = random.choice([\"Heads\", \"Tails\"])\n",
    "print(f\"The coin landed on: {coin}\")\n"
   ]
  },
  {
   "cell_type": "code",
   "execution_count": 112,
   "id": "ce114bc4-1cda-43d2-b1a3-f24ac66d3b23",
   "metadata": {},
   "outputs": [
    {
     "name": "stdout",
     "output_type": "stream",
     "text": [
      "Generated Password: vx8GKZW6\n"
     ]
    }
   ],
   "source": [
    "# Generating passwords\n",
    "import string\n",
    "\n",
    "characters = string.ascii_letters + string.digits # + string.punctuation\n",
    "password = \"\".join(random.sample(characters, 8))  # 8-character password\n",
    "print(f\"Generated Password: {password}\")\n"
   ]
  },
  {
   "cell_type": "code",
   "execution_count": 116,
   "id": "64ee5db4-5ea4-4398-a93f-dafbd89cd680",
   "metadata": {},
   "outputs": [
    {
     "name": "stdout",
     "output_type": "stream",
     "text": [
      "Your OTP is: 1461\n"
     ]
    }
   ],
   "source": [
    "#  OTP Generator\n",
    "import random\n",
    "\n",
    "otp = random.randint(1000, 9999)  # 4-digit OTP\n",
    "print(f\"Your OTP is: {otp}\")\n"
   ]
  },
  {
   "cell_type": "code",
   "execution_count": 143,
   "id": "1e1b5e70-b127-4fd6-94de-711808f0dd04",
   "metadata": {},
   "outputs": [
    {
     "name": "stdout",
     "output_type": "stream",
     "text": [
      "Your OTP is: QnnigX\n"
     ]
    }
   ],
   "source": [
    "import random\n",
    "import string\n",
    "\n",
    "characters = string.ascii_letters + string.digits\n",
    "otp = \"\".join(random.choices(characters, k=6))  # 6-character OTP\n",
    "print(f\"Your OTP is: {otp}\")\n"
   ]
  },
  {
   "cell_type": "code",
   "execution_count": 122,
   "id": "0d62ac86-03d7-4626-8fe6-7701afcd799b",
   "metadata": {},
   "outputs": [
    {
     "name": "stdout",
     "output_type": "stream",
     "text": [
      "Player 1 rolled: 1\n",
      "Player 2 rolled: 2\n",
      "Player 2 Wins! 🏆\n"
     ]
    }
   ],
   "source": [
    "# Simulating a Dice Game\n",
    "def roll_dice():\n",
    "    return random.randint(1, 6)\n",
    "\n",
    "player1 = roll_dice()\n",
    "player2 = roll_dice()\n",
    "\n",
    "print(f\"Player 1 rolled: {player1}\")\n",
    "print(f\"Player 2 rolled: {player2}\")\n",
    "\n",
    "if player1 > player2:\n",
    "    print(\"Player 1 Wins! 🏆\")\n",
    "elif player1 < player2:\n",
    "    print(\"Player 2 Wins! 🏆\")\n",
    "else:\n",
    "    print(\"It's a tie! 🎲\")\n"
   ]
  },
  {
   "cell_type": "code",
   "execution_count": 124,
   "id": "90690af1-cd0d-4580-b73b-7cd721f6d49e",
   "metadata": {},
   "outputs": [
    {
     "name": "stdout",
     "output_type": "stream",
     "text": [
      "Your lottery number is: 808474\n"
     ]
    }
   ],
   "source": [
    "# Lottery Number Generator\n",
    "import random\n",
    "\n",
    "lottery_number = random.randint(100000, 999999)  # 6-digit number\n",
    "print(f\"Your lottery number is: {lottery_number}\")\n"
   ]
  },
  {
   "cell_type": "code",
   "execution_count": 128,
   "id": "c25fcf0e-d3e0-494c-8089-b476c904afbd",
   "metadata": {},
   "outputs": [
    {
     "name": "stdin",
     "output_type": "stream",
     "text": [
      "Guess a number between 1 and 10:  5\n"
     ]
    },
    {
     "name": "stdout",
     "output_type": "stream",
     "text": [
      "❌ Sorry, the correct number was 1. Try again!\n"
     ]
    }
   ],
   "source": [
    "# Number Guessing Game\n",
    "import random\n",
    "\n",
    "# Generate a random number\n",
    "secret_number = random.randint(1, 10)\n",
    "\n",
    "# Ask the user to guess\n",
    "guess = int(input(\"Guess a number between 1 and 10: \"))\n",
    "\n",
    "# Check the guess\n",
    "if guess == secret_number:\n",
    "    print(\"🎉 Congratulations! You guessed it right!\")\n",
    "else:\n",
    "    print(f\"❌ Sorry, the correct number was {secret_number}. Try again!\")\n"
   ]
  },
  {
   "cell_type": "code",
   "execution_count": 131,
   "id": "796ff75f-f240-463f-a548-ec5d8aed4a72",
   "metadata": {},
   "outputs": [],
   "source": [
    "# # Rock, Paper, Scissors Game\n",
    "# rock beats scissors,\n",
    "# scissors beats paper,\n",
    "# paper beats rock."
   ]
  },
  {
   "cell_type": "code",
   "execution_count": 130,
   "id": "f7652c6d-8ec1-48b7-a284-a047dbc94855",
   "metadata": {},
   "outputs": [
    {
     "name": "stdin",
     "output_type": "stream",
     "text": [
      "Choose rock, paper, or scissors:  rock\n"
     ]
    },
    {
     "name": "stdout",
     "output_type": "stream",
     "text": [
      "Computer chose: paper\n",
      "❌ You lose! Better luck next time.\n"
     ]
    }
   ],
   "source": [
    "import random\n",
    "\n",
    "choices = [\"rock\", \"paper\", \"scissors\"]\n",
    "\n",
    "# User input\n",
    "user_choice = input(\"Choose rock, paper, or scissors: \").lower()\n",
    "\n",
    "# Computer choice\n",
    "computer_choice = random.choice(choices)\n",
    "\n",
    "# Print choices\n",
    "print(f\"Computer chose: {computer_choice}\")\n",
    "\n",
    "# Game logic\n",
    "if user_choice == computer_choice:\n",
    "    print(\"It's a tie! 🤝\")\n",
    "elif (user_choice == \"rock\" and computer_choice == \"scissors\") or \\\n",
    "     (user_choice == \"scissors\" and computer_choice == \"paper\") or \\\n",
    "     (user_choice == \"paper\" and computer_choice == \"rock\"):\n",
    "    print(\"🎉 You win!\")\n",
    "else:\n",
    "    print(\"❌ You lose! Better luck next time.\")\n"
   ]
  },
  {
   "cell_type": "code",
   "execution_count": null,
   "id": "4b98cc4b-e070-42e8-a600-08c16ea2ba9d",
   "metadata": {},
   "outputs": [],
   "source": []
  }
 ],
 "metadata": {
  "kernelspec": {
   "display_name": "Python 3 (ipykernel)",
   "language": "python",
   "name": "python3"
  },
  "language_info": {
   "codemirror_mode": {
    "name": "ipython",
    "version": 3
   },
   "file_extension": ".py",
   "mimetype": "text/x-python",
   "name": "python",
   "nbconvert_exporter": "python",
   "pygments_lexer": "ipython3",
   "version": "3.12.7"
  }
 },
 "nbformat": 4,
 "nbformat_minor": 5
}
