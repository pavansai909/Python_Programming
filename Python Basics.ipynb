{
 "cells": [
  {
   "cell_type": "code",
   "execution_count": 1,
   "id": "7a4d8e7f",
   "metadata": {},
   "outputs": [
    {
     "name": "stdout",
     "output_type": "stream",
     "text": [
      "Hello World\n"
     ]
    }
   ],
   "source": [
    "print(\"Hello World\")"
   ]
  },
  {
   "cell_type": "code",
   "execution_count": 2,
   "id": "6fcfdd6f",
   "metadata": {},
   "outputs": [
    {
     "name": "stdout",
     "output_type": "stream",
     "text": [
      "What is your name?Pavan\n"
     ]
    }
   ],
   "source": [
    "Name =input(\"What is your name?\")"
   ]
  },
  {
   "cell_type": "code",
   "execution_count": 3,
   "id": "f9a83608",
   "metadata": {},
   "outputs": [
    {
     "name": "stdout",
     "output_type": "stream",
     "text": [
      "Welcome to CU Pavan\n"
     ]
    }
   ],
   "source": [
    "print(\"Welcome to CU\",Name)"
   ]
  },
  {
   "cell_type": "code",
   "execution_count": 4,
   "id": "cf93c940",
   "metadata": {},
   "outputs": [
    {
     "name": "stdout",
     "output_type": "stream",
     "text": [
      "0     \n",
      "|     \n",
      "|_____\n",
      " |||||\n",
      " |||||\n"
     ]
    }
   ],
   "source": [
    "print(\"0     \")\n",
    "print(\"|     \")\n",
    "print(\"|_____\")\n",
    "print(\" |||||\")\n",
    "print(\" |||||\")\n"
   ]
  },
  {
   "cell_type": "code",
   "execution_count": 5,
   "id": "3b6a2975",
   "metadata": {},
   "outputs": [
    {
     "name": "stdout",
     "output_type": "stream",
     "text": [
      "$$$$$$$$$$\n"
     ]
    }
   ],
   "source": [
    "print(\"$\"*10)"
   ]
  },
  {
   "cell_type": "markdown",
   "id": "d3ffb7d5",
   "metadata": {},
   "source": [
    "## Variables"
   ]
  },
  {
   "cell_type": "code",
   "execution_count": 6,
   "id": "81b732d1",
   "metadata": {},
   "outputs": [
    {
     "name": "stdout",
     "output_type": "stream",
     "text": [
      "Mike\n"
     ]
    }
   ],
   "source": [
    "var1 = \"Mike\"\n",
    "print(var1)"
   ]
  },
  {
   "cell_type": "code",
   "execution_count": 7,
   "id": "233a5efb",
   "metadata": {},
   "outputs": [
    {
     "name": "stdout",
     "output_type": "stream",
     "text": [
      "6\n"
     ]
    }
   ],
   "source": [
    "var2 = 6\n",
    "print(var2)"
   ]
  },
  {
   "cell_type": "code",
   "execution_count": 8,
   "id": "4066623e",
   "metadata": {},
   "outputs": [
    {
     "name": "stdout",
     "output_type": "stream",
     "text": [
      "4.5\n"
     ]
    }
   ],
   "source": [
    "var3 = 4.5\n",
    "print(var3)"
   ]
  },
  {
   "cell_type": "code",
   "execution_count": 9,
   "id": "8fbf987f",
   "metadata": {},
   "outputs": [
    {
     "name": "stdout",
     "output_type": "stream",
     "text": [
      "What's your favourite number?5\n"
     ]
    }
   ],
   "source": [
    "number = input(\"What's your favourite number?\")"
   ]
  },
  {
   "cell_type": "code",
   "execution_count": 10,
   "id": "f036f47c",
   "metadata": {},
   "outputs": [
    {
     "name": "stdout",
     "output_type": "stream",
     "text": [
      "5\n"
     ]
    }
   ],
   "source": [
    "print(number)"
   ]
  },
  {
   "cell_type": "code",
   "execution_count": 11,
   "id": "81f039e8",
   "metadata": {},
   "outputs": [
    {
     "name": "stdout",
     "output_type": "stream",
     "text": [
      "What's your name?Pavan\n",
      "Welcome Pavan\n"
     ]
    }
   ],
   "source": [
    "name = input(\"What's your name?\")\n",
    "print(\"Welcome\",name)"
   ]
  },
  {
   "cell_type": "code",
   "execution_count": 12,
   "id": "65a8cd6d",
   "metadata": {},
   "outputs": [
    {
     "name": "stdout",
     "output_type": "stream",
     "text": [
      "Enter your age: 25\n",
      "You are 300 months old\n"
     ]
    }
   ],
   "source": [
    "age = input(\"Enter your age: \")  # we get string output from input\n",
    "age = int(age)                   # typecasting\n",
    "print(\"You are\",age*12,\"months old\")"
   ]
  },
  {
   "cell_type": "code",
   "execution_count": 13,
   "id": "95ee28dd",
   "metadata": {},
   "outputs": [],
   "source": [
    "integer = 1\n",
    "floating = 1.2\n",
    "string = \"Mike\"\n",
    "boolean = True"
   ]
  },
  {
   "cell_type": "code",
   "execution_count": 14,
   "id": "cdcfa4a4",
   "metadata": {},
   "outputs": [
    {
     "data": {
      "text/plain": [
       "int"
      ]
     },
     "execution_count": 14,
     "metadata": {},
     "output_type": "execute_result"
    }
   ],
   "source": [
    "type(integer)"
   ]
  },
  {
   "cell_type": "code",
   "execution_count": 15,
   "id": "c6ef06dc",
   "metadata": {},
   "outputs": [
    {
     "data": {
      "text/plain": [
       "float"
      ]
     },
     "execution_count": 15,
     "metadata": {},
     "output_type": "execute_result"
    }
   ],
   "source": [
    "type(floating)"
   ]
  },
  {
   "cell_type": "code",
   "execution_count": 16,
   "id": "88c346e1",
   "metadata": {},
   "outputs": [
    {
     "data": {
      "text/plain": [
       "str"
      ]
     },
     "execution_count": 16,
     "metadata": {},
     "output_type": "execute_result"
    }
   ],
   "source": [
    "type(string)"
   ]
  },
  {
   "cell_type": "code",
   "execution_count": 17,
   "id": "e9350245",
   "metadata": {},
   "outputs": [
    {
     "data": {
      "text/plain": [
       "bool"
      ]
     },
     "execution_count": 17,
     "metadata": {},
     "output_type": "execute_result"
    }
   ],
   "source": [
    "type(boolean)"
   ]
  },
  {
   "cell_type": "markdown",
   "id": "601bbe1b",
   "metadata": {},
   "source": [
    "### typecasting"
   ]
  },
  {
   "cell_type": "code",
   "execution_count": 18,
   "id": "0a2e95ab",
   "metadata": {},
   "outputs": [
    {
     "name": "stdout",
     "output_type": "stream",
     "text": [
      "True\n",
      "1.0\n",
      "1\n"
     ]
    }
   ],
   "source": [
    "a = 1   #integer\n",
    "print(bool(a))\n",
    "print(float(a))\n",
    "print(str(a))"
   ]
  },
  {
   "cell_type": "markdown",
   "id": "ca80c209",
   "metadata": {},
   "source": [
    "## Arithmetic Operations"
   ]
  },
  {
   "cell_type": "code",
   "execution_count": 19,
   "id": "e655db8f",
   "metadata": {},
   "outputs": [
    {
     "name": "stdout",
     "output_type": "stream",
     "text": [
      "Addition = 23\n",
      "Subtraction = 9\n",
      "Multiplication = 112\n",
      "Division = 2.2857142857142856\n"
     ]
    }
   ],
   "source": [
    "a = 16\n",
    "b = 7\n",
    "print(\"Addition =\",a+b)\n",
    "print(\"Subtraction =\",a-b)\n",
    "print(\"Multiplication =\",a*b)\n",
    "print(\"Division =\",a/b)"
   ]
  },
  {
   "cell_type": "code",
   "execution_count": 20,
   "id": "8d1e396f",
   "metadata": {},
   "outputs": [
    {
     "name": "stdout",
     "output_type": "stream",
     "text": [
      "Floor Division = 2\n"
     ]
    }
   ],
   "source": [
    "print(\"Floor Division =\",a//b)"
   ]
  },
  {
   "cell_type": "code",
   "execution_count": 21,
   "id": "04736e88",
   "metadata": {},
   "outputs": [
    {
     "name": "stdout",
     "output_type": "stream",
     "text": [
      "Modulus or remainder = 2\n"
     ]
    }
   ],
   "source": [
    "print(\"Modulus or remainder =\",a%b)"
   ]
  },
  {
   "cell_type": "code",
   "execution_count": 22,
   "id": "3473cc6f",
   "metadata": {},
   "outputs": [
    {
     "name": "stdout",
     "output_type": "stream",
     "text": [
      "Exponential = 268435456\n"
     ]
    }
   ],
   "source": [
    "print(\"Exponential =\",a**b)"
   ]
  },
  {
   "cell_type": "code",
   "execution_count": 23,
   "id": "ab1ee6ab",
   "metadata": {},
   "outputs": [],
   "source": [
    "# PEDMAS - Parenthesis, Exponential, Division, Multiplication, Addition and Subtraction"
   ]
  },
  {
   "cell_type": "code",
   "execution_count": 24,
   "id": "bf6bee78",
   "metadata": {},
   "outputs": [
    {
     "name": "stdout",
     "output_type": "stream",
     "text": [
      "6.0\n"
     ]
    }
   ],
   "source": [
    "print((4+6)-6+6/3)"
   ]
  },
  {
   "cell_type": "markdown",
   "id": "1a8c9950",
   "metadata": {},
   "source": [
    "## String Operations"
   ]
  },
  {
   "cell_type": "code",
   "execution_count": 25,
   "id": "ba62e9d3",
   "metadata": {},
   "outputs": [
    {
     "name": "stdout",
     "output_type": "stream",
     "text": [
      "Welcome Pavan sai\n"
     ]
    }
   ],
   "source": [
    "a = \"Pavan\"\n",
    "b = 'sai'\n",
    "c = 'Welcome'\n",
    "print(c,a,b)"
   ]
  },
  {
   "cell_type": "code",
   "execution_count": 26,
   "id": "1a447e89",
   "metadata": {},
   "outputs": [
    {
     "name": "stdout",
     "output_type": "stream",
     "text": [
      "I don't know\n",
      "I don't know\n"
     ]
    }
   ],
   "source": [
    "print('I don\\'t know')  # use backslash to ignore\n",
    "print(\"I don't know\")"
   ]
  },
  {
   "cell_type": "code",
   "execution_count": 27,
   "id": "1f1220cd",
   "metadata": {},
   "outputs": [
    {
     "name": "stdout",
     "output_type": "stream",
     "text": [
      "Hi bob,\n",
      "How are you?\n"
     ]
    }
   ],
   "source": [
    "print(\"Hi bob,\\nHow are you?\") # \\n for new line"
   ]
  },
  {
   "cell_type": "markdown",
   "id": "90e3fec6",
   "metadata": {},
   "source": [
    "## String Concatenation"
   ]
  },
  {
   "cell_type": "code",
   "execution_count": 28,
   "id": "0d7becbc",
   "metadata": {},
   "outputs": [
    {
     "name": "stdout",
     "output_type": "stream",
     "text": [
      "What flavour would you like?Vanilla\n"
     ]
    }
   ],
   "source": [
    "flavour = input(\"What flavour would you like?\")"
   ]
  },
  {
   "cell_type": "code",
   "execution_count": 29,
   "id": "a29d130c",
   "metadata": {},
   "outputs": [
    {
     "name": "stdout",
     "output_type": "stream",
     "text": [
      "What type of dessert do you like?ice cream\n"
     ]
    }
   ],
   "source": [
    "dessert_type = input(\"What type of dessert do you like?\")"
   ]
  },
  {
   "cell_type": "code",
   "execution_count": 31,
   "id": "65142153",
   "metadata": {},
   "outputs": [
    {
     "name": "stdout",
     "output_type": "stream",
     "text": [
      "You have entered Vanilla ice cream\n"
     ]
    }
   ],
   "source": [
    "print(\"You have entered\",flavour+\" \"+dessert_type)"
   ]
  },
  {
   "cell_type": "markdown",
   "id": "53a4f5ec",
   "metadata": {},
   "source": [
    "## indexing in strings"
   ]
  },
  {
   "cell_type": "code",
   "execution_count": 4,
   "id": "783ecf4d",
   "metadata": {},
   "outputs": [
    {
     "data": {
      "text/plain": [
       "77"
      ]
     },
     "execution_count": 4,
     "metadata": {},
     "output_type": "execute_result"
    }
   ],
   "source": [
    "string = \"I have not failed. I've found 10,000 ways that won't work. - Thomas A. Edison\"\n",
    "len(string)"
   ]
  },
  {
   "cell_type": "code",
   "execution_count": 5,
   "id": "2cefe5c3",
   "metadata": {},
   "outputs": [],
   "source": [
    "#starts with 0\n",
    "#reverse indexing starts with -1\n",
    "# strings are immutable, they cannot be changed once created\n",
    "# they can be modified by slicing"
   ]
  },
  {
   "cell_type": "code",
   "execution_count": 6,
   "id": "c8db9016",
   "metadata": {},
   "outputs": [
    {
     "data": {
      "text/plain": [
       "'I'"
      ]
     },
     "execution_count": 6,
     "metadata": {},
     "output_type": "execute_result"
    }
   ],
   "source": [
    "string[0]"
   ]
  },
  {
   "cell_type": "code",
   "execution_count": 7,
   "id": "f884650c",
   "metadata": {},
   "outputs": [
    {
     "data": {
      "text/plain": [
       "'e'"
      ]
     },
     "execution_count": 7,
     "metadata": {},
     "output_type": "execute_result"
    }
   ],
   "source": [
    "string[5]"
   ]
  },
  {
   "cell_type": "code",
   "execution_count": 8,
   "id": "ca0195d7",
   "metadata": {},
   "outputs": [
    {
     "data": {
      "text/plain": [
       "'n'"
      ]
     },
     "execution_count": 8,
     "metadata": {},
     "output_type": "execute_result"
    }
   ],
   "source": [
    "string[-1]"
   ]
  },
  {
   "cell_type": "code",
   "execution_count": 9,
   "id": "5a0c28c2",
   "metadata": {},
   "outputs": [
    {
     "data": {
      "text/plain": [
       "'o'"
      ]
     },
     "execution_count": 9,
     "metadata": {},
     "output_type": "execute_result"
    }
   ],
   "source": [
    "string[-2]"
   ]
  },
  {
   "cell_type": "code",
   "execution_count": 10,
   "id": "67e2df2c",
   "metadata": {},
   "outputs": [],
   "source": [
    "#string[2] = 't' ## we cant change value in string"
   ]
  },
  {
   "cell_type": "code",
   "execution_count": 11,
   "id": "701dc18f",
   "metadata": {},
   "outputs": [
    {
     "name": "stdout",
     "output_type": "stream",
     "text": [
      "I have not failed. I've found 10,000 ways that won't work. - Thomas A. Edison\n"
     ]
    }
   ],
   "source": [
    "# slicing\n",
    "# string(start:end:step)\n",
    "print(string[0:77])"
   ]
  },
  {
   "cell_type": "code",
   "execution_count": 12,
   "id": "35296e71",
   "metadata": {},
   "outputs": [
    {
     "data": {
      "text/plain": [
       "\"I have not failed. I've found 10,000 ways that won't work. - Thomas A. Edison\""
      ]
     },
     "execution_count": 12,
     "metadata": {},
     "output_type": "execute_result"
    }
   ],
   "source": [
    "string[:77]"
   ]
  },
  {
   "cell_type": "code",
   "execution_count": 13,
   "id": "7202eb63",
   "metadata": {},
   "outputs": [
    {
     "name": "stdout",
     "output_type": "stream",
     "text": [
      "have not failed. I've found 10,000 ways that won't work. - Thomas A. Edison\n"
     ]
    }
   ],
   "source": [
    "print(string[2:])"
   ]
  },
  {
   "cell_type": "code",
   "execution_count": 14,
   "id": "730da89f",
   "metadata": {},
   "outputs": [
    {
     "name": "stdout",
     "output_type": "stream",
     "text": [
      "True\n"
     ]
    }
   ],
   "source": [
    "print(\"found\" in string) #searching for particular word"
   ]
  },
  {
   "cell_type": "markdown",
   "id": "5a0f95af",
   "metadata": {},
   "source": [
    "## String Methods"
   ]
  },
  {
   "cell_type": "code",
   "execution_count": 16,
   "id": "730aa155",
   "metadata": {},
   "outputs": [
    {
     "data": {
      "text/plain": [
       "\"I HAVE NOT FAILED. I'VE FOUND 10,000 WAYS THAT WON'T WORK. - THOMAS A. EDISON\""
      ]
     },
     "execution_count": 16,
     "metadata": {},
     "output_type": "execute_result"
    }
   ],
   "source": [
    "#upper\n",
    "string\n",
    "string.upper()"
   ]
  },
  {
   "cell_type": "code",
   "execution_count": 17,
   "id": "7c8b4dc9",
   "metadata": {},
   "outputs": [
    {
     "name": "stdout",
     "output_type": "stream",
     "text": [
      "i have not failed. i've found 10,000 ways that won't work. - thomas a. edison\n"
     ]
    }
   ],
   "source": [
    "#lower\n",
    "print(string.lower())"
   ]
  },
  {
   "cell_type": "code",
   "execution_count": 21,
   "id": "573b9baa",
   "metadata": {},
   "outputs": [
    {
     "data": {
      "text/plain": [
       "16"
      ]
     },
     "execution_count": 21,
     "metadata": {},
     "output_type": "execute_result"
    }
   ],
   "source": [
    "#rstrip - strips right spaces\n",
    "sentence = \"my name is rahul   \"\n",
    "len(sentence)\n",
    "# sentence.rstrip()\n",
    "# len(sentence.rstrip())"
   ]
  },
  {
   "cell_type": "code",
   "execution_count": 24,
   "id": "0c7e6313",
   "metadata": {},
   "outputs": [
    {
     "data": {
      "text/plain": [
       "17"
      ]
     },
     "execution_count": 24,
     "metadata": {},
     "output_type": "execute_result"
    }
   ],
   "source": [
    "#rstrip with specific character\n",
    "sentence = \"my name is rahul aaa\"\n",
    "sentence.rstrip('a')\n",
    "len(sentence.rstrip('a'))"
   ]
  },
  {
   "cell_type": "code",
   "execution_count": 25,
   "id": "72d8abb7",
   "metadata": {},
   "outputs": [
    {
     "data": {
      "text/plain": [
       "'trim spaces'"
      ]
     },
     "execution_count": 25,
     "metadata": {},
     "output_type": "execute_result"
    }
   ],
   "source": [
    "# strip()\n",
    "stmt = \"  trim spaces   \"\n",
    "stmt.strip()"
   ]
  },
  {
   "cell_type": "code",
   "execution_count": 27,
   "id": "78ff74bb",
   "metadata": {},
   "outputs": [
    {
     "data": {
      "text/plain": [
       "'444'"
      ]
     },
     "execution_count": 27,
     "metadata": {},
     "output_type": "execute_result"
    }
   ],
   "source": [
    "# with both lstrip and rstrip\n",
    "numwithchars = '*******444$$$$$$$'\n",
    "numwithchars.rstrip('$').lstrip('*')"
   ]
  },
  {
   "cell_type": "code",
   "execution_count": 28,
   "id": "09d2e106",
   "metadata": {},
   "outputs": [
    {
     "data": {
      "text/plain": [
       "2"
      ]
     },
     "execution_count": 28,
     "metadata": {},
     "output_type": "execute_result"
    }
   ],
   "source": [
    "string = 'This is a sample sentence'\n",
    "string.count('i')"
   ]
  },
  {
   "cell_type": "code",
   "execution_count": 29,
   "id": "80aeffa7",
   "metadata": {},
   "outputs": [
    {
     "data": {
      "text/plain": [
       "1"
      ]
     },
     "execution_count": 29,
     "metadata": {},
     "output_type": "execute_result"
    }
   ],
   "source": [
    "#with starting number\n",
    "string.count('i',5)"
   ]
  },
  {
   "cell_type": "code",
   "execution_count": 33,
   "id": "b43cc619",
   "metadata": {},
   "outputs": [
    {
     "name": "stdout",
     "output_type": "stream",
     "text": [
      "Data Analysis Pandas\n"
     ]
    }
   ],
   "source": [
    "A = 'Data'\n",
    "B = 'Analysis'\n",
    "C = 'Pandas'\n",
    "print(A,B,C)"
   ]
  },
  {
   "cell_type": "code",
   "execution_count": 36,
   "id": "822c9e95",
   "metadata": {
    "scrolled": true
   },
   "outputs": [
    {
     "name": "stdout",
     "output_type": "stream",
     "text": [
      "Data Analysis using Pandas\n"
     ]
    }
   ],
   "source": [
    "print(\"{0} {1} using {2}\".format(A,B,C))"
   ]
  },
  {
   "cell_type": "code",
   "execution_count": 39,
   "id": "40fe36c7",
   "metadata": {},
   "outputs": [
    {
     "name": "stdout",
     "output_type": "stream",
     "text": [
      "Help on class str in module builtins:\n",
      "\n",
      "class str(object)\n",
      " |  str(object='') -> str\n",
      " |  str(bytes_or_buffer[, encoding[, errors]]) -> str\n",
      " |  \n",
      " |  Create a new string object from the given object. If encoding or\n",
      " |  errors is specified, then the object must expose a data buffer\n",
      " |  that will be decoded using the given encoding and error handler.\n",
      " |  Otherwise, returns the result of object.__str__() (if defined)\n",
      " |  or repr(object).\n",
      " |  encoding defaults to sys.getdefaultencoding().\n",
      " |  errors defaults to 'strict'.\n",
      " |  \n",
      " |  Methods defined here:\n",
      " |  \n",
      " |  __add__(self, value, /)\n",
      " |      Return self+value.\n",
      " |  \n",
      " |  __contains__(self, key, /)\n",
      " |      Return key in self.\n",
      " |  \n",
      " |  __eq__(self, value, /)\n",
      " |      Return self==value.\n",
      " |  \n",
      " |  __format__(self, format_spec, /)\n",
      " |      Return a formatted version of the string as described by format_spec.\n",
      " |  \n",
      " |  __ge__(self, value, /)\n",
      " |      Return self>=value.\n",
      " |  \n",
      " |  __getattribute__(self, name, /)\n",
      " |      Return getattr(self, name).\n",
      " |  \n",
      " |  __getitem__(self, key, /)\n",
      " |      Return self[key].\n",
      " |  \n",
      " |  __getnewargs__(...)\n",
      " |  \n",
      " |  __gt__(self, value, /)\n",
      " |      Return self>value.\n",
      " |  \n",
      " |  __hash__(self, /)\n",
      " |      Return hash(self).\n",
      " |  \n",
      " |  __iter__(self, /)\n",
      " |      Implement iter(self).\n",
      " |  \n",
      " |  __le__(self, value, /)\n",
      " |      Return self<=value.\n",
      " |  \n",
      " |  __len__(self, /)\n",
      " |      Return len(self).\n",
      " |  \n",
      " |  __lt__(self, value, /)\n",
      " |      Return self<value.\n",
      " |  \n",
      " |  __mod__(self, value, /)\n",
      " |      Return self%value.\n",
      " |  \n",
      " |  __mul__(self, value, /)\n",
      " |      Return self*value.\n",
      " |  \n",
      " |  __ne__(self, value, /)\n",
      " |      Return self!=value.\n",
      " |  \n",
      " |  __repr__(self, /)\n",
      " |      Return repr(self).\n",
      " |  \n",
      " |  __rmod__(self, value, /)\n",
      " |      Return value%self.\n",
      " |  \n",
      " |  __rmul__(self, value, /)\n",
      " |      Return value*self.\n",
      " |  \n",
      " |  __sizeof__(self, /)\n",
      " |      Return the size of the string in memory, in bytes.\n",
      " |  \n",
      " |  __str__(self, /)\n",
      " |      Return str(self).\n",
      " |  \n",
      " |  capitalize(self, /)\n",
      " |      Return a capitalized version of the string.\n",
      " |      \n",
      " |      More specifically, make the first character have upper case and the rest lower\n",
      " |      case.\n",
      " |  \n",
      " |  casefold(self, /)\n",
      " |      Return a version of the string suitable for caseless comparisons.\n",
      " |  \n",
      " |  center(self, width, fillchar=' ', /)\n",
      " |      Return a centered string of length width.\n",
      " |      \n",
      " |      Padding is done using the specified fill character (default is a space).\n",
      " |  \n",
      " |  count(...)\n",
      " |      S.count(sub[, start[, end]]) -> int\n",
      " |      \n",
      " |      Return the number of non-overlapping occurrences of substring sub in\n",
      " |      string S[start:end].  Optional arguments start and end are\n",
      " |      interpreted as in slice notation.\n",
      " |  \n",
      " |  encode(self, /, encoding='utf-8', errors='strict')\n",
      " |      Encode the string using the codec registered for encoding.\n",
      " |      \n",
      " |      encoding\n",
      " |        The encoding in which to encode the string.\n",
      " |      errors\n",
      " |        The error handling scheme to use for encoding errors.\n",
      " |        The default is 'strict' meaning that encoding errors raise a\n",
      " |        UnicodeEncodeError.  Other possible values are 'ignore', 'replace' and\n",
      " |        'xmlcharrefreplace' as well as any other name registered with\n",
      " |        codecs.register_error that can handle UnicodeEncodeErrors.\n",
      " |  \n",
      " |  endswith(...)\n",
      " |      S.endswith(suffix[, start[, end]]) -> bool\n",
      " |      \n",
      " |      Return True if S ends with the specified suffix, False otherwise.\n",
      " |      With optional start, test S beginning at that position.\n",
      " |      With optional end, stop comparing S at that position.\n",
      " |      suffix can also be a tuple of strings to try.\n",
      " |  \n",
      " |  expandtabs(self, /, tabsize=8)\n",
      " |      Return a copy where all tab characters are expanded using spaces.\n",
      " |      \n",
      " |      If tabsize is not given, a tab size of 8 characters is assumed.\n",
      " |  \n",
      " |  find(...)\n",
      " |      S.find(sub[, start[, end]]) -> int\n",
      " |      \n",
      " |      Return the lowest index in S where substring sub is found,\n",
      " |      such that sub is contained within S[start:end].  Optional\n",
      " |      arguments start and end are interpreted as in slice notation.\n",
      " |      \n",
      " |      Return -1 on failure.\n",
      " |  \n",
      " |  format(...)\n",
      " |      S.format(*args, **kwargs) -> str\n",
      " |      \n",
      " |      Return a formatted version of S, using substitutions from args and kwargs.\n",
      " |      The substitutions are identified by braces ('{' and '}').\n",
      " |  \n",
      " |  format_map(...)\n",
      " |      S.format_map(mapping) -> str\n",
      " |      \n",
      " |      Return a formatted version of S, using substitutions from mapping.\n",
      " |      The substitutions are identified by braces ('{' and '}').\n",
      " |  \n",
      " |  index(...)\n",
      " |      S.index(sub[, start[, end]]) -> int\n",
      " |      \n",
      " |      Return the lowest index in S where substring sub is found,\n",
      " |      such that sub is contained within S[start:end].  Optional\n",
      " |      arguments start and end are interpreted as in slice notation.\n",
      " |      \n",
      " |      Raises ValueError when the substring is not found.\n",
      " |  \n",
      " |  isalnum(self, /)\n",
      " |      Return True if the string is an alpha-numeric string, False otherwise.\n",
      " |      \n",
      " |      A string is alpha-numeric if all characters in the string are alpha-numeric and\n",
      " |      there is at least one character in the string.\n",
      " |  \n",
      " |  isalpha(self, /)\n",
      " |      Return True if the string is an alphabetic string, False otherwise.\n",
      " |      \n",
      " |      A string is alphabetic if all characters in the string are alphabetic and there\n",
      " |      is at least one character in the string.\n",
      " |  \n",
      " |  isascii(self, /)\n",
      " |      Return True if all characters in the string are ASCII, False otherwise.\n",
      " |      \n",
      " |      ASCII characters have code points in the range U+0000-U+007F.\n",
      " |      Empty string is ASCII too.\n",
      " |  \n",
      " |  isdecimal(self, /)\n",
      " |      Return True if the string is a decimal string, False otherwise.\n",
      " |      \n",
      " |      A string is a decimal string if all characters in the string are decimal and\n",
      " |      there is at least one character in the string.\n",
      " |  \n",
      " |  isdigit(self, /)\n",
      " |      Return True if the string is a digit string, False otherwise.\n",
      " |      \n",
      " |      A string is a digit string if all characters in the string are digits and there\n",
      " |      is at least one character in the string.\n",
      " |  \n",
      " |  isidentifier(self, /)\n",
      " |      Return True if the string is a valid Python identifier, False otherwise.\n",
      " |      \n",
      " |      Call keyword.iskeyword(s) to test whether string s is a reserved identifier,\n",
      " |      such as \"def\" or \"class\".\n",
      " |  \n",
      " |  islower(self, /)\n",
      " |      Return True if the string is a lowercase string, False otherwise.\n",
      " |      \n",
      " |      A string is lowercase if all cased characters in the string are lowercase and\n",
      " |      there is at least one cased character in the string.\n",
      " |  \n",
      " |  isnumeric(self, /)\n",
      " |      Return True if the string is a numeric string, False otherwise.\n",
      " |      \n",
      " |      A string is numeric if all characters in the string are numeric and there is at\n",
      " |      least one character in the string.\n",
      " |  \n",
      " |  isprintable(self, /)\n",
      " |      Return True if the string is printable, False otherwise.\n",
      " |      \n",
      " |      A string is printable if all of its characters are considered printable in\n",
      " |      repr() or if it is empty.\n",
      " |  \n",
      " |  isspace(self, /)\n",
      " |      Return True if the string is a whitespace string, False otherwise.\n",
      " |      \n",
      " |      A string is whitespace if all characters in the string are whitespace and there\n",
      " |      is at least one character in the string.\n",
      " |  \n",
      " |  istitle(self, /)\n",
      " |      Return True if the string is a title-cased string, False otherwise.\n",
      " |      \n",
      " |      In a title-cased string, upper- and title-case characters may only\n",
      " |      follow uncased characters and lowercase characters only cased ones.\n",
      " |  \n",
      " |  isupper(self, /)\n",
      " |      Return True if the string is an uppercase string, False otherwise.\n",
      " |      \n",
      " |      A string is uppercase if all cased characters in the string are uppercase and\n",
      " |      there is at least one cased character in the string.\n",
      " |  \n",
      " |  join(self, iterable, /)\n",
      " |      Concatenate any number of strings.\n",
      " |      \n",
      " |      The string whose method is called is inserted in between each given string.\n",
      " |      The result is returned as a new string.\n",
      " |      \n",
      " |      Example: '.'.join(['ab', 'pq', 'rs']) -> 'ab.pq.rs'\n",
      " |  \n",
      " |  ljust(self, width, fillchar=' ', /)\n",
      " |      Return a left-justified string of length width.\n",
      " |      \n",
      " |      Padding is done using the specified fill character (default is a space).\n",
      " |  \n",
      " |  lower(self, /)\n",
      " |      Return a copy of the string converted to lowercase.\n",
      " |  \n",
      " |  lstrip(self, chars=None, /)\n",
      " |      Return a copy of the string with leading whitespace removed.\n",
      " |      \n",
      " |      If chars is given and not None, remove characters in chars instead.\n",
      " |  \n",
      " |  partition(self, sep, /)\n",
      " |      Partition the string into three parts using the given separator.\n",
      " |      \n",
      " |      This will search for the separator in the string.  If the separator is found,\n",
      " |      returns a 3-tuple containing the part before the separator, the separator\n",
      " |      itself, and the part after it.\n",
      " |      \n",
      " |      If the separator is not found, returns a 3-tuple containing the original string\n",
      " |      and two empty strings.\n",
      " |  \n",
      " |  removeprefix(self, prefix, /)\n",
      " |      Return a str with the given prefix string removed if present.\n",
      " |      \n",
      " |      If the string starts with the prefix string, return string[len(prefix):].\n",
      " |      Otherwise, return a copy of the original string.\n",
      " |  \n",
      " |  removesuffix(self, suffix, /)\n",
      " |      Return a str with the given suffix string removed if present.\n",
      " |      \n",
      " |      If the string ends with the suffix string and that suffix is not empty,\n",
      " |      return string[:-len(suffix)]. Otherwise, return a copy of the original\n",
      " |      string.\n",
      " |  \n",
      " |  replace(self, old, new, count=-1, /)\n",
      " |      Return a copy with all occurrences of substring old replaced by new.\n",
      " |      \n",
      " |        count\n",
      " |          Maximum number of occurrences to replace.\n",
      " |          -1 (the default value) means replace all occurrences.\n",
      " |      \n",
      " |      If the optional argument count is given, only the first count occurrences are\n",
      " |      replaced.\n",
      " |  \n",
      " |  rfind(...)\n",
      " |      S.rfind(sub[, start[, end]]) -> int\n",
      " |      \n",
      " |      Return the highest index in S where substring sub is found,\n",
      " |      such that sub is contained within S[start:end].  Optional\n",
      " |      arguments start and end are interpreted as in slice notation.\n",
      " |      \n",
      " |      Return -1 on failure.\n",
      " |  \n",
      " |  rindex(...)\n",
      " |      S.rindex(sub[, start[, end]]) -> int\n",
      " |      \n",
      " |      Return the highest index in S where substring sub is found,\n",
      " |      such that sub is contained within S[start:end].  Optional\n",
      " |      arguments start and end are interpreted as in slice notation.\n",
      " |      \n",
      " |      Raises ValueError when the substring is not found.\n",
      " |  \n",
      " |  rjust(self, width, fillchar=' ', /)\n",
      " |      Return a right-justified string of length width.\n",
      " |      \n",
      " |      Padding is done using the specified fill character (default is a space).\n",
      " |  \n",
      " |  rpartition(self, sep, /)\n",
      " |      Partition the string into three parts using the given separator.\n",
      " |      \n",
      " |      This will search for the separator in the string, starting at the end. If\n",
      " |      the separator is found, returns a 3-tuple containing the part before the\n",
      " |      separator, the separator itself, and the part after it.\n",
      " |      \n",
      " |      If the separator is not found, returns a 3-tuple containing two empty strings\n",
      " |      and the original string.\n",
      " |  \n",
      " |  rsplit(self, /, sep=None, maxsplit=-1)\n",
      " |      Return a list of the words in the string, using sep as the delimiter string.\n",
      " |      \n",
      " |        sep\n",
      " |          The delimiter according which to split the string.\n",
      " |          None (the default value) means split according to any whitespace,\n",
      " |          and discard empty strings from the result.\n",
      " |        maxsplit\n",
      " |          Maximum number of splits to do.\n",
      " |          -1 (the default value) means no limit.\n",
      " |      \n",
      " |      Splits are done starting at the end of the string and working to the front.\n",
      " |  \n",
      " |  rstrip(self, chars=None, /)\n",
      " |      Return a copy of the string with trailing whitespace removed.\n",
      " |      \n",
      " |      If chars is given and not None, remove characters in chars instead.\n",
      " |  \n",
      " |  split(self, /, sep=None, maxsplit=-1)\n",
      " |      Return a list of the words in the string, using sep as the delimiter string.\n",
      " |      \n",
      " |      sep\n",
      " |        The delimiter according which to split the string.\n",
      " |        None (the default value) means split according to any whitespace,\n",
      " |        and discard empty strings from the result.\n",
      " |      maxsplit\n",
      " |        Maximum number of splits to do.\n",
      " |        -1 (the default value) means no limit.\n",
      " |  \n",
      " |  splitlines(self, /, keepends=False)\n",
      " |      Return a list of the lines in the string, breaking at line boundaries.\n",
      " |      \n",
      " |      Line breaks are not included in the resulting list unless keepends is given and\n",
      " |      true.\n",
      " |  \n",
      " |  startswith(...)\n",
      " |      S.startswith(prefix[, start[, end]]) -> bool\n",
      " |      \n",
      " |      Return True if S starts with the specified prefix, False otherwise.\n",
      " |      With optional start, test S beginning at that position.\n",
      " |      With optional end, stop comparing S at that position.\n",
      " |      prefix can also be a tuple of strings to try.\n",
      " |  \n",
      " |  strip(self, chars=None, /)\n",
      " |      Return a copy of the string with leading and trailing whitespace removed.\n",
      " |      \n",
      " |      If chars is given and not None, remove characters in chars instead.\n",
      " |  \n",
      " |  swapcase(self, /)\n",
      " |      Convert uppercase characters to lowercase and lowercase characters to uppercase.\n",
      " |  \n",
      " |  title(self, /)\n",
      " |      Return a version of the string where each word is titlecased.\n",
      " |      \n",
      " |      More specifically, words start with uppercased characters and all remaining\n",
      " |      cased characters have lower case.\n",
      " |  \n",
      " |  translate(self, table, /)\n",
      " |      Replace each character in the string using the given translation table.\n",
      " |      \n",
      " |        table\n",
      " |          Translation table, which must be a mapping of Unicode ordinals to\n",
      " |          Unicode ordinals, strings, or None.\n",
      " |      \n",
      " |      The table must implement lookup/indexing via __getitem__, for instance a\n",
      " |      dictionary or list.  If this operation raises LookupError, the character is\n",
      " |      left untouched.  Characters mapped to None are deleted.\n",
      " |  \n",
      " |  upper(self, /)\n",
      " |      Return a copy of the string converted to uppercase.\n",
      " |  \n",
      " |  zfill(self, width, /)\n",
      " |      Pad a numeric string with zeros on the left, to fill a field of the given width.\n",
      " |      \n",
      " |      The string is never truncated.\n",
      " |  \n",
      " |  ----------------------------------------------------------------------\n",
      " |  Static methods defined here:\n",
      " |  \n",
      " |  __new__(*args, **kwargs) from builtins.type\n",
      " |      Create and return a new object.  See help(type) for accurate signature.\n",
      " |  \n",
      " |  maketrans(...)\n",
      " |      Return a translation table usable for str.translate().\n",
      " |      \n",
      " |      If there is only one argument, it must be a dictionary mapping Unicode\n",
      " |      ordinals (integers) or characters to Unicode ordinals, strings or None.\n",
      " |      Character keys will be then converted to ordinals.\n",
      " |      If there are two arguments, they must be strings of equal length, and\n",
      " |      in the resulting dictionary, each character in x will be mapped to the\n",
      " |      character at the same position in y. If there is a third argument, it\n",
      " |      must be a string, whose characters will be mapped to None in the result.\n",
      "\n"
     ]
    }
   ],
   "source": [
    "help(str)"
   ]
  },
  {
   "cell_type": "code",
   "execution_count": 40,
   "id": "b1c8def0",
   "metadata": {},
   "outputs": [
    {
     "name": "stdout",
     "output_type": "stream",
     "text": [
      "What is your name: Pavan\n",
      "what is your number: 5\n",
      "Pavan 5\n"
     ]
    }
   ],
   "source": [
    "name = input(\"What is your name: \")\n",
    "number = input(\"what is your number: \")\n",
    "print(name,number)"
   ]
  },
  {
   "cell_type": "code",
   "execution_count": 41,
   "id": "85ee252e",
   "metadata": {},
   "outputs": [
    {
     "data": {
      "text/plain": [
       "967"
      ]
     },
     "execution_count": 41,
     "metadata": {},
     "output_type": "execute_result"
    }
   ],
   "source": [
    "from random import seed\n",
    "from random import randint\n",
    "value = randint(100,999)\n",
    "value"
   ]
  },
  {
   "cell_type": "code",
   "execution_count": 42,
   "id": "0adbfb68",
   "metadata": {},
   "outputs": [
    {
     "name": "stdout",
     "output_type": "stream",
     "text": [
      "Pavan 5 967\n"
     ]
    }
   ],
   "source": [
    "print(name, number, value)"
   ]
  },
  {
   "cell_type": "markdown",
   "id": "8b389f00",
   "metadata": {},
   "source": [
    "## Data Structures"
   ]
  },
  {
   "cell_type": "code",
   "execution_count": 38,
   "id": "2021e9f6",
   "metadata": {},
   "outputs": [],
   "source": [
    "# Tuples, lists, Dictionaries, Sets"
   ]
  },
  {
   "cell_type": "markdown",
   "id": "ae56e9da",
   "metadata": {},
   "source": [
    "#### Lists\n",
    "- Lists are an ordered sequence of mixed datatypes\n",
    "- Lists are written as comma seperated elements within square brackets"
   ]
  },
  {
   "cell_type": "code",
   "execution_count": 43,
   "id": "4b31f25d",
   "metadata": {},
   "outputs": [
    {
     "data": {
      "text/plain": [
       "['Pavan', '5', 967]"
      ]
     },
     "execution_count": 43,
     "metadata": {},
     "output_type": "execute_result"
    }
   ],
   "source": [
    "list1 = [name,number,value]\n",
    "list1"
   ]
  },
  {
   "cell_type": "code",
   "execution_count": 44,
   "id": "bdfcd1db",
   "metadata": {},
   "outputs": [
    {
     "data": {
      "text/plain": [
       "['India', 23, 6, 'Mumbai']"
      ]
     },
     "execution_count": 44,
     "metadata": {},
     "output_type": "execute_result"
    }
   ],
   "source": [
    "L =['India',23,6,'Mumbai']\n",
    "L"
   ]
  },
  {
   "cell_type": "code",
   "execution_count": 46,
   "id": "edca2506",
   "metadata": {},
   "outputs": [
    {
     "data": {
      "text/plain": [
       "['Chemistry', 'Biology', [1994, 2004], 4]"
      ]
     },
     "execution_count": 46,
     "metadata": {},
     "output_type": "execute_result"
    }
   ],
   "source": [
    "#Nested list\n",
    "L = ['Chemistry','Biology',[1994,2004],4]\n",
    "L"
   ]
  },
  {
   "cell_type": "code",
   "execution_count": 47,
   "id": "9010c634",
   "metadata": {},
   "outputs": [
    {
     "data": {
      "text/plain": [
       "'Chemistry'"
      ]
     },
     "execution_count": 47,
     "metadata": {},
     "output_type": "execute_result"
    }
   ],
   "source": [
    "#indexing\n",
    "L[0]"
   ]
  },
  {
   "cell_type": "code",
   "execution_count": 48,
   "id": "5bf6a1d9",
   "metadata": {},
   "outputs": [
    {
     "data": {
      "text/plain": [
       "'Biology'"
      ]
     },
     "execution_count": 48,
     "metadata": {},
     "output_type": "execute_result"
    }
   ],
   "source": [
    "L[1]"
   ]
  },
  {
   "cell_type": "code",
   "execution_count": 49,
   "id": "fd212124",
   "metadata": {},
   "outputs": [
    {
     "data": {
      "text/plain": [
       "[1994, 2004]"
      ]
     },
     "execution_count": 49,
     "metadata": {},
     "output_type": "execute_result"
    }
   ],
   "source": [
    "L[2]"
   ]
  },
  {
   "cell_type": "code",
   "execution_count": 50,
   "id": "69ad1753",
   "metadata": {},
   "outputs": [
    {
     "data": {
      "text/plain": [
       "1994"
      ]
     },
     "execution_count": 50,
     "metadata": {},
     "output_type": "execute_result"
    }
   ],
   "source": [
    "L[2][0]"
   ]
  },
  {
   "cell_type": "code",
   "execution_count": 51,
   "id": "4a3df0db",
   "metadata": {},
   "outputs": [
    {
     "data": {
      "text/plain": [
       "4"
      ]
     },
     "execution_count": 51,
     "metadata": {},
     "output_type": "execute_result"
    }
   ],
   "source": [
    "L[-1]"
   ]
  },
  {
   "cell_type": "code",
   "execution_count": 52,
   "id": "2a242fcc",
   "metadata": {},
   "outputs": [
    {
     "data": {
      "text/plain": [
       "1994"
      ]
     },
     "execution_count": 52,
     "metadata": {},
     "output_type": "execute_result"
    }
   ],
   "source": [
    "L[-2][0]"
   ]
  },
  {
   "cell_type": "code",
   "execution_count": 53,
   "id": "c827e7df",
   "metadata": {},
   "outputs": [
    {
     "data": {
      "text/plain": [
       "['Biology', [1994, 2004]]"
      ]
     },
     "execution_count": 53,
     "metadata": {},
     "output_type": "execute_result"
    }
   ],
   "source": [
    "L[1:3] #upper bound is not included"
   ]
  },
  {
   "cell_type": "code",
   "execution_count": 56,
   "id": "9fb4a23d",
   "metadata": {},
   "outputs": [
    {
     "name": "stdout",
     "output_type": "stream",
     "text": [
      "True\n",
      "False\n"
     ]
    }
   ],
   "source": [
    "#membership in lists\n",
    "L1 = [1,2,3,4]\n",
    "print(1 in L1)  #whether exists or not\n",
    "print(20 in L1)"
   ]
  },
  {
   "cell_type": "code",
   "execution_count": 58,
   "id": "960b07b0",
   "metadata": {},
   "outputs": [
    {
     "data": {
      "text/plain": [
       "['Chemistry', 'Biology', [1994, 2004], 4]"
      ]
     },
     "execution_count": 58,
     "metadata": {},
     "output_type": "execute_result"
    }
   ],
   "source": [
    "#list concatenation\n",
    "L"
   ]
  },
  {
   "cell_type": "code",
   "execution_count": 59,
   "id": "87838f4a",
   "metadata": {},
   "outputs": [
    {
     "data": {
      "text/plain": [
       "['Chemistry', 'Biology', [1994, 2004], 4, 5, 8]"
      ]
     },
     "execution_count": 59,
     "metadata": {},
     "output_type": "execute_result"
    }
   ],
   "source": [
    "newL = L+[5,8]\n",
    "newL"
   ]
  },
  {
   "cell_type": "code",
   "execution_count": 62,
   "id": "801ff869",
   "metadata": {},
   "outputs": [
    {
     "data": {
      "text/plain": [
       "['Chemistry', 'Physics', [1994, 2004], 4]"
      ]
     },
     "execution_count": 62,
     "metadata": {},
     "output_type": "execute_result"
    }
   ],
   "source": [
    "L[1] = 'Physics'\n",
    "L"
   ]
  },
  {
   "cell_type": "code",
   "execution_count": 65,
   "id": "949aed3d",
   "metadata": {},
   "outputs": [
    {
     "data": {
      "text/plain": [
       "['Chemistry', 'Physics', [1994, 2004], 4, 5, 8, 5, 8]"
      ]
     },
     "execution_count": 65,
     "metadata": {},
     "output_type": "execute_result"
    }
   ],
   "source": [
    "#extend()\n",
    "L.extend([5,8])\n",
    "L"
   ]
  },
  {
   "cell_type": "code",
   "execution_count": 66,
   "id": "9b134783",
   "metadata": {},
   "outputs": [
    {
     "data": {
      "text/plain": [
       "['Chemistry', 'Physics', [1994, 2004], 4, 5, 8, 5, 8, [5, 8]]"
      ]
     },
     "execution_count": 66,
     "metadata": {},
     "output_type": "execute_result"
    }
   ],
   "source": [
    "#append()\n",
    "L.append([5,8])  # it adds the list and add it directly to original list\n",
    "L"
   ]
  },
  {
   "cell_type": "code",
   "execution_count": 67,
   "id": "42dd480e",
   "metadata": {},
   "outputs": [],
   "source": [
    "# del command\n",
    "del L[-1] #delete last item"
   ]
  },
  {
   "cell_type": "code",
   "execution_count": 68,
   "id": "427f0e1c",
   "metadata": {},
   "outputs": [
    {
     "data": {
      "text/plain": [
       "['Chemistry', 'Physics', [1994, 2004], 4, 5, 8, 5, 8]"
      ]
     },
     "execution_count": 68,
     "metadata": {},
     "output_type": "execute_result"
    }
   ],
   "source": [
    "L"
   ]
  },
  {
   "cell_type": "code",
   "execution_count": 72,
   "id": "b3bcdc31",
   "metadata": {},
   "outputs": [
    {
     "data": {
      "text/plain": [
       "[[1994, 2004], 4, 5, 8, 5, 8]"
      ]
     },
     "execution_count": 72,
     "metadata": {},
     "output_type": "execute_result"
    }
   ],
   "source": [
    "del L[0:2]\n",
    "L"
   ]
  },
  {
   "cell_type": "code",
   "execution_count": 73,
   "id": "c10e97e2",
   "metadata": {},
   "outputs": [
    {
     "data": {
      "text/plain": [
       "4"
      ]
     },
     "execution_count": 73,
     "metadata": {},
     "output_type": "execute_result"
    }
   ],
   "source": [
    "L = ['Chemistry','Biology',[1994,2004],4]\n",
    "L.pop()  #pop will use last element"
   ]
  },
  {
   "cell_type": "code",
   "execution_count": 74,
   "id": "69587e7f",
   "metadata": {},
   "outputs": [
    {
     "data": {
      "text/plain": [
       "['Chemistry', 'Biology', [1994, 2004]]"
      ]
     },
     "execution_count": 74,
     "metadata": {},
     "output_type": "execute_result"
    }
   ],
   "source": [
    "L"
   ]
  },
  {
   "cell_type": "code",
   "execution_count": 75,
   "id": "32e56c55",
   "metadata": {},
   "outputs": [
    {
     "data": {
      "text/plain": [
       "['Chemistry', [1994, 2004]]"
      ]
     },
     "execution_count": 75,
     "metadata": {},
     "output_type": "execute_result"
    }
   ],
   "source": [
    "L.remove('Biology')\n",
    "L"
   ]
  },
  {
   "cell_type": "code",
   "execution_count": 76,
   "id": "01b10669",
   "metadata": {},
   "outputs": [
    {
     "data": {
      "text/plain": [
       "[1, 3, 8, 24, 32]"
      ]
     },
     "execution_count": 76,
     "metadata": {},
     "output_type": "execute_result"
    }
   ],
   "source": [
    "#sorting lists\n",
    "L = [32,24,1,3,8]\n",
    "L.sort()\n",
    "L"
   ]
  },
  {
   "cell_type": "code",
   "execution_count": 77,
   "id": "81bab6b5",
   "metadata": {},
   "outputs": [],
   "source": [
    "L.sort(reverse=True)"
   ]
  },
  {
   "cell_type": "code",
   "execution_count": 78,
   "id": "dc5b7504",
   "metadata": {},
   "outputs": [
    {
     "data": {
      "text/plain": [
       "[32, 24, 8, 3, 1]"
      ]
     },
     "execution_count": 78,
     "metadata": {},
     "output_type": "execute_result"
    }
   ],
   "source": [
    "L"
   ]
  },
  {
   "cell_type": "markdown",
   "id": "35191298",
   "metadata": {},
   "source": [
    "#### difference between sort and sorted"
   ]
  },
  {
   "cell_type": "code",
   "execution_count": 79,
   "id": "af975432",
   "metadata": {},
   "outputs": [
    {
     "data": {
      "text/plain": [
       "['Orange', 'Strawberry', 'Mango']"
      ]
     },
     "execution_count": 79,
     "metadata": {},
     "output_type": "execute_result"
    }
   ],
   "source": [
    "A = ['Orange','Strawberry','Mango']\n",
    "A"
   ]
  },
  {
   "cell_type": "code",
   "execution_count": 87,
   "id": "4e1972bf",
   "metadata": {},
   "outputs": [
    {
     "name": "stdout",
     "output_type": "stream",
     "text": [
      "None\n"
     ]
    },
    {
     "data": {
      "text/plain": [
       "['Mango', 'Orange', 'Strawberry']"
      ]
     },
     "execution_count": 87,
     "metadata": {},
     "output_type": "execute_result"
    }
   ],
   "source": [
    "B = A.sort()  #this will change original list\n",
    "print(B) # but A is sort\n",
    "A"
   ]
  },
  {
   "cell_type": "code",
   "execution_count": 88,
   "id": "7f3dab66",
   "metadata": {},
   "outputs": [
    {
     "name": "stdout",
     "output_type": "stream",
     "text": [
      "['Orange', 'Strawberry', 'Mango']\n",
      "['Mango', 'Orange', 'Strawberry']\n"
     ]
    }
   ],
   "source": [
    "A = ['Orange','Strawberry','Mango']\n",
    "C = sorted(A)\n",
    "print(A)\n",
    "print(C)   #sorted will not change original list"
   ]
  },
  {
   "cell_type": "markdown",
   "id": "f683384e",
   "metadata": {},
   "source": [
    "#### Shadow Copying"
   ]
  },
  {
   "cell_type": "code",
   "execution_count": 89,
   "id": "872d4abc",
   "metadata": {},
   "outputs": [
    {
     "name": "stdout",
     "output_type": "stream",
     "text": [
      "['Orange', 'Strawberry', 'Mango'] ['Orange', 'Strawberry', 'Mango']\n"
     ]
    }
   ],
   "source": [
    "A = ['Orange','Strawberry','Mango']\n",
    "B = A\n",
    "print(A,B)"
   ]
  },
  {
   "cell_type": "code",
   "execution_count": 90,
   "id": "6d329230",
   "metadata": {},
   "outputs": [
    {
     "name": "stdout",
     "output_type": "stream",
     "text": [
      "['Apple', 'Strawberry', 'Mango'] ['Apple', 'Strawberry', 'Mango']\n"
     ]
    }
   ],
   "source": [
    "A[0] = 'Apple'\n",
    "print(A,B)"
   ]
  },
  {
   "cell_type": "code",
   "execution_count": 91,
   "id": "b6732ed9",
   "metadata": {},
   "outputs": [
    {
     "name": "stdout",
     "output_type": "stream",
     "text": [
      "['Orange', 'Strawberry', 'Mango'] ['Orange', 'Strawberry', 'Mango']\n"
     ]
    }
   ],
   "source": [
    "A = ['Orange','Strawberry','Mango']\n",
    "B = A[:]\n",
    "print(A,B)"
   ]
  },
  {
   "cell_type": "code",
   "execution_count": 92,
   "id": "e21f3a15",
   "metadata": {},
   "outputs": [
    {
     "name": "stdout",
     "output_type": "stream",
     "text": [
      "['Apple', 'Strawberry', 'Mango'] ['Orange', 'Strawberry', 'Mango']\n"
     ]
    }
   ],
   "source": [
    "A[0] = 'Apple'\n",
    "print(A,B)"
   ]
  },
  {
   "cell_type": "markdown",
   "id": "e21f4984",
   "metadata": {},
   "source": [
    "### Tuples\n",
    "- Tuples are ordered sequence of mixed data types\n",
    "- written in parenthesis\n",
    "- they are immutable"
   ]
  },
  {
   "cell_type": "code",
   "execution_count": 93,
   "id": "b1e5673b",
   "metadata": {},
   "outputs": [
    {
     "data": {
      "text/plain": [
       "('disco', 12, 4.5)"
      ]
     },
     "execution_count": 93,
     "metadata": {},
     "output_type": "execute_result"
    }
   ],
   "source": [
    "t = ('disco',12,4.5)\n",
    "t"
   ]
  },
  {
   "cell_type": "code",
   "execution_count": 94,
   "id": "01b1a58d",
   "metadata": {},
   "outputs": [
    {
     "data": {
      "text/plain": [
       "tuple"
      ]
     },
     "execution_count": 94,
     "metadata": {},
     "output_type": "execute_result"
    }
   ],
   "source": [
    "type(t)"
   ]
  },
  {
   "cell_type": "code",
   "execution_count": 95,
   "id": "71a14f6e",
   "metadata": {},
   "outputs": [
    {
     "name": "stdout",
     "output_type": "stream",
     "text": [
      "(1, 2, 3, 4)\n"
     ]
    }
   ],
   "source": [
    "sample = 1,2,3,4\n",
    "print(sample)"
   ]
  },
  {
   "cell_type": "code",
   "execution_count": 96,
   "id": "79b381dd",
   "metadata": {},
   "outputs": [
    {
     "name": "stdout",
     "output_type": "stream",
     "text": [
      "(1,)\n"
     ]
    }
   ],
   "source": [
    "#single value tuple\n",
    "sample = 1,\n",
    "print(sample)"
   ]
  },
  {
   "cell_type": "code",
   "execution_count": 97,
   "id": "aa070bf4",
   "metadata": {},
   "outputs": [],
   "source": [
    "# sample = 1 # it is not a tuple"
   ]
  },
  {
   "cell_type": "code",
   "execution_count": 99,
   "id": "c0a454e1",
   "metadata": {},
   "outputs": [
    {
     "name": "stdout",
     "output_type": "stream",
     "text": [
      "1\n"
     ]
    },
    {
     "data": {
      "text/plain": [
       "int"
      ]
     },
     "execution_count": 99,
     "metadata": {},
     "output_type": "execute_result"
    }
   ],
   "source": [
    "sample = (1)\n",
    "print(sample) #this is not tuple\n",
    "type(sample)"
   ]
  },
  {
   "cell_type": "markdown",
   "id": "dc8adaf5",
   "metadata": {},
   "source": [
    "#### indexing"
   ]
  },
  {
   "cell_type": "code",
   "execution_count": 100,
   "id": "db493818",
   "metadata": {},
   "outputs": [
    {
     "data": {
      "text/plain": [
       "('Pavan', 58, 'Python')"
      ]
     },
     "execution_count": 100,
     "metadata": {},
     "output_type": "execute_result"
    }
   ],
   "source": [
    "t = ('Pavan',58,'Python')\n",
    "t"
   ]
  },
  {
   "cell_type": "code",
   "execution_count": 101,
   "id": "b448133a",
   "metadata": {},
   "outputs": [
    {
     "data": {
      "text/plain": [
       "58"
      ]
     },
     "execution_count": 101,
     "metadata": {},
     "output_type": "execute_result"
    }
   ],
   "source": [
    "t[1]"
   ]
  },
  {
   "cell_type": "code",
   "execution_count": 102,
   "id": "62e5273c",
   "metadata": {},
   "outputs": [
    {
     "data": {
      "text/plain": [
       "'Python'"
      ]
     },
     "execution_count": 102,
     "metadata": {},
     "output_type": "execute_result"
    }
   ],
   "source": [
    "t[-1]"
   ]
  },
  {
   "cell_type": "markdown",
   "id": "8ce7201e",
   "metadata": {},
   "source": [
    "#### slicing"
   ]
  },
  {
   "cell_type": "code",
   "execution_count": 103,
   "id": "c4e0caa1",
   "metadata": {},
   "outputs": [
    {
     "data": {
      "text/plain": [
       "('Mumbai', 58, 'Python')"
      ]
     },
     "execution_count": 103,
     "metadata": {},
     "output_type": "execute_result"
    }
   ],
   "source": [
    "t = ('Mumbai',58,\"Python\",5,2,1)\n",
    "t[0:3]"
   ]
  },
  {
   "cell_type": "code",
   "execution_count": 104,
   "id": "be01b79b",
   "metadata": {},
   "outputs": [
    {
     "data": {
      "text/plain": [
       "(2, 1)"
      ]
     },
     "execution_count": 104,
     "metadata": {},
     "output_type": "execute_result"
    }
   ],
   "source": [
    "t[-2:]"
   ]
  },
  {
   "cell_type": "code",
   "execution_count": 105,
   "id": "9a5adafb",
   "metadata": {},
   "outputs": [
    {
     "data": {
      "text/plain": [
       "6"
      ]
     },
     "execution_count": 105,
     "metadata": {},
     "output_type": "execute_result"
    }
   ],
   "source": [
    "len(t)"
   ]
  },
  {
   "cell_type": "markdown",
   "id": "9372d50d",
   "metadata": {},
   "source": [
    "#### Concatenation"
   ]
  },
  {
   "cell_type": "code",
   "execution_count": 108,
   "id": "937688c2",
   "metadata": {},
   "outputs": [
    {
     "data": {
      "text/plain": [
       "('This', 'is', 'basics', 'of', 'Python')"
      ]
     },
     "execution_count": 108,
     "metadata": {},
     "output_type": "execute_result"
    }
   ],
   "source": [
    "t1 = (\"This\",'is','basics')\n",
    "t2 = ('of','Python')\n",
    "t3 = t1 + t2\n",
    "t3"
   ]
  },
  {
   "cell_type": "code",
   "execution_count": 109,
   "id": "9baad6ba",
   "metadata": {},
   "outputs": [
    {
     "data": {
      "text/plain": [
       "-1"
      ]
     },
     "execution_count": 109,
     "metadata": {},
     "output_type": "execute_result"
    }
   ],
   "source": [
    "# sum, max, min\n",
    "t = (2,4,10,4,-1)\n",
    "min(t)"
   ]
  },
  {
   "cell_type": "code",
   "execution_count": 110,
   "id": "eabc5266",
   "metadata": {},
   "outputs": [
    {
     "data": {
      "text/plain": [
       "10"
      ]
     },
     "execution_count": 110,
     "metadata": {},
     "output_type": "execute_result"
    }
   ],
   "source": [
    "max(t)"
   ]
  },
  {
   "cell_type": "code",
   "execution_count": 111,
   "id": "e56ed91d",
   "metadata": {},
   "outputs": [
    {
     "data": {
      "text/plain": [
       "19"
      ]
     },
     "execution_count": 111,
     "metadata": {},
     "output_type": "execute_result"
    }
   ],
   "source": [
    "sum(t)"
   ]
  },
  {
   "cell_type": "code",
   "execution_count": 115,
   "id": "b9945449",
   "metadata": {},
   "outputs": [],
   "source": [
    "# t = (2,4,'Python',4,-1)\n",
    "# min()# it gives error because it has different data type"
   ]
  },
  {
   "cell_type": "markdown",
   "id": "b023ef2b",
   "metadata": {},
   "source": [
    "#### Immutability"
   ]
  },
  {
   "cell_type": "code",
   "execution_count": 118,
   "id": "839a5d63",
   "metadata": {},
   "outputs": [
    {
     "data": {
      "text/plain": [
       "(2, 4, 'Python', 4, -1)"
      ]
     },
     "execution_count": 118,
     "metadata": {},
     "output_type": "execute_result"
    }
   ],
   "source": [
    "t"
   ]
  },
  {
   "cell_type": "code",
   "execution_count": 120,
   "id": "32f9b22f",
   "metadata": {},
   "outputs": [],
   "source": [
    "# t[0] = 4 # it throws error because it is immutable"
   ]
  },
  {
   "cell_type": "code",
   "execution_count": 121,
   "id": "72b74baf",
   "metadata": {},
   "outputs": [
    {
     "data": {
      "text/plain": [
       "(2, 4, 'Python', 'Hardrock', -1)"
      ]
     },
     "execution_count": 121,
     "metadata": {},
     "output_type": "execute_result"
    }
   ],
   "source": [
    "newt = t[0:3]+(\"Hardrock\",) +t[4:] # replacing using concatenation\n",
    "newt"
   ]
  },
  {
   "cell_type": "markdown",
   "id": "d29d2dbd",
   "metadata": {},
   "source": [
    "#### sorting"
   ]
  },
  {
   "cell_type": "code",
   "execution_count": 122,
   "id": "724f05e7",
   "metadata": {},
   "outputs": [
    {
     "data": {
      "text/plain": [
       "(2, 3, 5, 10, -1)"
      ]
     },
     "execution_count": 122,
     "metadata": {},
     "output_type": "execute_result"
    }
   ],
   "source": [
    "t = (2,3,5,10,-1)\n",
    "t"
   ]
  },
  {
   "cell_type": "code",
   "execution_count": 125,
   "id": "e8f33ab6",
   "metadata": {},
   "outputs": [
    {
     "data": {
      "text/plain": [
       "(-1, 2, 3, 5, 10)"
      ]
     },
     "execution_count": 125,
     "metadata": {},
     "output_type": "execute_result"
    }
   ],
   "source": [
    "x = sorted(t)\n",
    "x\n",
    "y = tuple(x)\n",
    "y"
   ]
  },
  {
   "cell_type": "markdown",
   "id": "890cc040",
   "metadata": {},
   "source": [
    "#### Nested"
   ]
  },
  {
   "cell_type": "code",
   "execution_count": 126,
   "id": "d265afaa",
   "metadata": {},
   "outputs": [
    {
     "data": {
      "text/plain": [
       "(1, 5, 'Python', ('Python', 'Java'))"
      ]
     },
     "execution_count": 126,
     "metadata": {},
     "output_type": "execute_result"
    }
   ],
   "source": [
    "t = (1,5,'Python',('Python','Java'))\n",
    "t"
   ]
  },
  {
   "cell_type": "code",
   "execution_count": 127,
   "id": "6bc3a122",
   "metadata": {},
   "outputs": [
    {
     "data": {
      "text/plain": [
       "'Java'"
      ]
     },
     "execution_count": 127,
     "metadata": {},
     "output_type": "execute_result"
    }
   ],
   "source": [
    "t[3][1]"
   ]
  },
  {
   "cell_type": "markdown",
   "id": "8d55764e",
   "metadata": {},
   "source": [
    "#### Packing and unpacking"
   ]
  },
  {
   "cell_type": "code",
   "execution_count": 128,
   "id": "b757f711",
   "metadata": {},
   "outputs": [
    {
     "data": {
      "text/plain": [
       "(1, 2, 3, 4)"
      ]
     },
     "execution_count": 128,
     "metadata": {},
     "output_type": "execute_result"
    }
   ],
   "source": [
    "t = (1,2,3,4) #packing\n",
    "t"
   ]
  },
  {
   "cell_type": "code",
   "execution_count": 131,
   "id": "023c5cc1",
   "metadata": {},
   "outputs": [
    {
     "data": {
      "text/plain": [
       "3"
      ]
     },
     "execution_count": 131,
     "metadata": {},
     "output_type": "execute_result"
    }
   ],
   "source": [
    "(a,b,c,d) =t #unpacking\n",
    "c"
   ]
  },
  {
   "cell_type": "code",
   "execution_count": null,
   "id": "d1052519",
   "metadata": {},
   "outputs": [],
   "source": [
    "(a,b,c,d) =t # this will throw error"
   ]
  },
  {
   "cell_type": "code",
   "execution_count": 133,
   "id": "011818a8",
   "metadata": {},
   "outputs": [],
   "source": [
    "t = ()"
   ]
  },
  {
   "cell_type": "code",
   "execution_count": 136,
   "id": "ac0f810e",
   "metadata": {},
   "outputs": [
    {
     "name": "stdout",
     "output_type": "stream",
     "text": [
      "['__add__', '__class__', '__class_getitem__', '__contains__', '__delattr__', '__dir__', '__doc__', '__eq__', '__format__', '__ge__', '__getattribute__', '__getitem__', '__getnewargs__', '__gt__', '__hash__', '__init__', '__init_subclass__', '__iter__', '__le__', '__len__', '__lt__', '__mul__', '__ne__', '__new__', '__reduce__', '__reduce_ex__', '__repr__', '__rmul__', '__setattr__', '__sizeof__', '__str__', '__subclasshook__', 'count', 'index']\n"
     ]
    }
   ],
   "source": [
    "# view the methods or attributes of an object\n",
    "print(dir(t))"
   ]
  },
  {
   "cell_type": "markdown",
   "id": "47f4d652",
   "metadata": {},
   "source": [
    " #### Sets"
   ]
  },
  {
   "cell_type": "code",
   "execution_count": 137,
   "id": "84658a25",
   "metadata": {},
   "outputs": [],
   "source": [
    "# unordered, does not allow duplication, and in curly brackets"
   ]
  },
  {
   "cell_type": "code",
   "execution_count": 142,
   "id": "0b0c8221",
   "metadata": {},
   "outputs": [
    {
     "data": {
      "text/plain": [
       "list"
      ]
     },
     "execution_count": 142,
     "metadata": {},
     "output_type": "execute_result"
    }
   ],
   "source": [
    "#mutable\n",
    "l = [1,3,2,4,5,5]\n",
    "type(l)"
   ]
  },
  {
   "cell_type": "code",
   "execution_count": 143,
   "id": "8b89ab93",
   "metadata": {},
   "outputs": [
    {
     "data": {
      "text/plain": [
       "{1, 2, 3, 4, 5}"
      ]
     },
     "execution_count": 143,
     "metadata": {},
     "output_type": "execute_result"
    }
   ],
   "source": [
    "l = set(l)\n",
    "l"
   ]
  },
  {
   "cell_type": "code",
   "execution_count": 144,
   "id": "ffc011f8",
   "metadata": {},
   "outputs": [
    {
     "data": {
      "text/plain": [
       "set"
      ]
     },
     "execution_count": 144,
     "metadata": {},
     "output_type": "execute_result"
    }
   ],
   "source": [
    "type(l)"
   ]
  },
  {
   "cell_type": "code",
   "execution_count": 145,
   "id": "c93b0694",
   "metadata": {},
   "outputs": [
    {
     "data": {
      "text/plain": [
       "5"
      ]
     },
     "execution_count": 145,
     "metadata": {},
     "output_type": "execute_result"
    }
   ],
   "source": [
    "len(l)"
   ]
  },
  {
   "cell_type": "code",
   "execution_count": 147,
   "id": "5a2fdde8",
   "metadata": {},
   "outputs": [
    {
     "data": {
      "text/plain": [
       "{1, 2, 3, 4, 5, 'Australia'}"
      ]
     },
     "execution_count": 147,
     "metadata": {},
     "output_type": "execute_result"
    }
   ],
   "source": [
    "l.add('Australia')\n",
    "l"
   ]
  },
  {
   "cell_type": "code",
   "execution_count": 148,
   "id": "dd76941a",
   "metadata": {},
   "outputs": [
    {
     "data": {
      "text/plain": [
       "{1, 2, 3, 4, 5}"
      ]
     },
     "execution_count": 148,
     "metadata": {},
     "output_type": "execute_result"
    }
   ],
   "source": [
    "l.remove('Australia')\n",
    "l"
   ]
  },
  {
   "cell_type": "code",
   "execution_count": 149,
   "id": "fb90d369",
   "metadata": {},
   "outputs": [
    {
     "name": "stdout",
     "output_type": "stream",
     "text": [
      "{0, 2, 4, 6, 8} {1, 2, 3, 4, 5}\n"
     ]
    }
   ],
   "source": [
    "a = {0,2,4,6,8}\n",
    "b = {1,2,3,4,5}\n",
    "print(a,b)"
   ]
  },
  {
   "cell_type": "code",
   "execution_count": 150,
   "id": "d4cd4a6c",
   "metadata": {},
   "outputs": [
    {
     "name": "stdout",
     "output_type": "stream",
     "text": [
      "{0, 1, 2, 3, 4, 5, 6, 8}\n"
     ]
    }
   ],
   "source": [
    "print(a|b) #union"
   ]
  },
  {
   "cell_type": "code",
   "execution_count": 151,
   "id": "0369f725",
   "metadata": {},
   "outputs": [
    {
     "name": "stdout",
     "output_type": "stream",
     "text": [
      "{0, 1, 2, 3, 4, 5, 6, 8}\n"
     ]
    }
   ],
   "source": [
    "print(a.union(b))"
   ]
  },
  {
   "cell_type": "code",
   "execution_count": 154,
   "id": "ede9af69",
   "metadata": {},
   "outputs": [
    {
     "name": "stdout",
     "output_type": "stream",
     "text": [
      "{2, 4}\n",
      "{2, 4}\n"
     ]
    }
   ],
   "source": [
    "print(a & b) #intersection\n",
    "print(a.intersection(b))"
   ]
  },
  {
   "cell_type": "code",
   "execution_count": 156,
   "id": "76871bc3",
   "metadata": {},
   "outputs": [
    {
     "name": "stdout",
     "output_type": "stream",
     "text": [
      "{0, 8, 6}\n",
      "{0, 8, 6}\n"
     ]
    }
   ],
   "source": [
    "print(a-b) #difference\n",
    "print(a.difference(b))"
   ]
  },
  {
   "cell_type": "code",
   "execution_count": 157,
   "id": "58e6e32b",
   "metadata": {},
   "outputs": [
    {
     "name": "stdout",
     "output_type": "stream",
     "text": [
      "{0, 1, 3, 5, 6, 8}\n"
     ]
    }
   ],
   "source": [
    "print(a^b) #symmetric difference"
   ]
  },
  {
   "cell_type": "markdown",
   "id": "251c05f6",
   "metadata": {},
   "source": [
    "#### Dictionaries"
   ]
  },
  {
   "cell_type": "code",
   "execution_count": 2,
   "id": "4abcb17a",
   "metadata": {},
   "outputs": [],
   "source": [
    "# key value pairs\n",
    "# unique and immutable\n",
    "# values are accessed using keys\n",
    "# values are immutable . mutable and duplicates\n",
    "# seperated by comma and use curly brackets"
   ]
  },
  {
   "cell_type": "code",
   "execution_count": 3,
   "id": "ec3e3e96",
   "metadata": {},
   "outputs": [],
   "source": [
    "d = {'India':'INR','USA':'USD','France':'Euro'}"
   ]
  },
  {
   "cell_type": "code",
   "execution_count": 4,
   "id": "44ae1c49",
   "metadata": {},
   "outputs": [
    {
     "data": {
      "text/plain": [
       "{'India': 'INR', 'USA': 'USD', 'France': 'Euro'}"
      ]
     },
     "execution_count": 4,
     "metadata": {},
     "output_type": "execute_result"
    }
   ],
   "source": [
    "d"
   ]
  },
  {
   "cell_type": "code",
   "execution_count": 5,
   "id": "a95622c1",
   "metadata": {},
   "outputs": [
    {
     "data": {
      "text/plain": [
       "dict"
      ]
     },
     "execution_count": 5,
     "metadata": {},
     "output_type": "execute_result"
    }
   ],
   "source": [
    "type(d)"
   ]
  },
  {
   "cell_type": "code",
   "execution_count": 6,
   "id": "b1b1ed9b",
   "metadata": {},
   "outputs": [
    {
     "data": {
      "text/plain": [
       "3"
      ]
     },
     "execution_count": 6,
     "metadata": {},
     "output_type": "execute_result"
    }
   ],
   "source": [
    "len(d)"
   ]
  },
  {
   "cell_type": "code",
   "execution_count": 7,
   "id": "b5594858",
   "metadata": {},
   "outputs": [
    {
     "data": {
      "text/plain": [
       "'INR'"
      ]
     },
     "execution_count": 7,
     "metadata": {},
     "output_type": "execute_result"
    }
   ],
   "source": [
    "d['India']"
   ]
  },
  {
   "cell_type": "code",
   "execution_count": 8,
   "id": "1c019e7e",
   "metadata": {},
   "outputs": [
    {
     "data": {
      "text/plain": [
       "{'India': 'INR', 'USA': '$', 'France': 'Euro'}"
      ]
     },
     "execution_count": 8,
     "metadata": {},
     "output_type": "execute_result"
    }
   ],
   "source": [
    "d['USA'] = '$'\n",
    "d"
   ]
  },
  {
   "cell_type": "code",
   "execution_count": 9,
   "id": "dfc465c7",
   "metadata": {},
   "outputs": [],
   "source": [
    "d['Japan'] = 'Yen'"
   ]
  },
  {
   "cell_type": "code",
   "execution_count": 10,
   "id": "82ec5b6e",
   "metadata": {},
   "outputs": [
    {
     "data": {
      "text/plain": [
       "{'India': 'INR', 'USA': '$', 'France': 'Euro', 'Japan': 'Yen'}"
      ]
     },
     "execution_count": 10,
     "metadata": {},
     "output_type": "execute_result"
    }
   ],
   "source": [
    "d"
   ]
  },
  {
   "cell_type": "code",
   "execution_count": 11,
   "id": "23358d47",
   "metadata": {},
   "outputs": [],
   "source": [
    "del d['France']"
   ]
  },
  {
   "cell_type": "code",
   "execution_count": 12,
   "id": "472590ed",
   "metadata": {},
   "outputs": [
    {
     "data": {
      "text/plain": [
       "{'India': 'INR', 'USA': '$', 'Japan': 'Yen'}"
      ]
     },
     "execution_count": 12,
     "metadata": {},
     "output_type": "execute_result"
    }
   ],
   "source": [
    "d"
   ]
  },
  {
   "cell_type": "code",
   "execution_count": 13,
   "id": "ff087658",
   "metadata": {},
   "outputs": [
    {
     "data": {
      "text/plain": [
       "['India', 'Japan', 'USA']"
      ]
     },
     "execution_count": 13,
     "metadata": {},
     "output_type": "execute_result"
    }
   ],
   "source": [
    "sorted(d)"
   ]
  },
  {
   "cell_type": "code",
   "execution_count": 14,
   "id": "09e5c21e",
   "metadata": {},
   "outputs": [
    {
     "data": {
      "text/plain": [
       "dict_values(['INR', 'USD', 'Euro'])"
      ]
     },
     "execution_count": 14,
     "metadata": {},
     "output_type": "execute_result"
    }
   ],
   "source": [
    "d = {'India':'INR','USA':'USD','France':'Euro'}\n",
    "d.values()"
   ]
  },
  {
   "cell_type": "code",
   "execution_count": 15,
   "id": "53c128f9",
   "metadata": {},
   "outputs": [
    {
     "data": {
      "text/plain": [
       "dict_keys(['India', 'USA', 'France'])"
      ]
     },
     "execution_count": 15,
     "metadata": {},
     "output_type": "execute_result"
    }
   ],
   "source": [
    "d.keys()"
   ]
  },
  {
   "cell_type": "code",
   "execution_count": 16,
   "id": "a2a200e3",
   "metadata": {},
   "outputs": [
    {
     "data": {
      "text/plain": [
       "{'India': 'INR', 'USA': '$', 'France': 'Euro'}"
      ]
     },
     "execution_count": 16,
     "metadata": {},
     "output_type": "execute_result"
    }
   ],
   "source": [
    "d.update({'USA':'$'})\n",
    "d"
   ]
  },
  {
   "cell_type": "code",
   "execution_count": 17,
   "id": "9c2e972c",
   "metadata": {},
   "outputs": [
    {
     "data": {
      "text/plain": [
       "True"
      ]
     },
     "execution_count": 17,
     "metadata": {},
     "output_type": "execute_result"
    }
   ],
   "source": [
    "10==10 #= is assignment operator, == is relational operator\n",
    "!=   # not equal to\n",
    ">= #greater than equal to\n",
    "<= #less than equal to"
   ]
  },
  {
   "cell_type": "markdown",
   "id": "0b2c346f",
   "metadata": {},
   "source": [
    "#### Decision Making"
   ]
  },
  {
   "cell_type": "code",
   "execution_count": 18,
   "id": "7310d1f7",
   "metadata": {},
   "outputs": [
    {
     "name": "stdout",
     "output_type": "stream",
     "text": [
      "45 is less than 99\n"
     ]
    }
   ],
   "source": [
    "x = 45\n",
    "if x<99:\n",
    "    print(x,\"is less than 99\")\n",
    "else:\n",
    "    print(x,\"is greater than 99\")"
   ]
  },
  {
   "cell_type": "code",
   "execution_count": 19,
   "id": "8cf07256",
   "metadata": {},
   "outputs": [
    {
     "name": "stdout",
     "output_type": "stream",
     "text": [
      "450 is greater than 99\n"
     ]
    }
   ],
   "source": [
    "x = 450\n",
    "if x<99:\n",
    "    print(x,\"is less than 99\")\n",
    "else:\n",
    "    print(x,\"is greater than 99\")"
   ]
  },
  {
   "cell_type": "code",
   "execution_count": 20,
   "id": "3e3b8123",
   "metadata": {},
   "outputs": [],
   "source": [
    "# logical AND,OR,NOR,XOR"
   ]
  },
  {
   "cell_type": "markdown",
   "id": "3b2227e4",
   "metadata": {},
   "source": [
    "#### write a program to record the age of visitor and allows him to an exclusive childrens day party hosted by Mr Obama only if he or she is above 60 years or below 18 years of age"
   ]
  },
  {
   "cell_type": "code",
   "execution_count": 23,
   "id": "dfc99cf3",
   "metadata": {},
   "outputs": [
    {
     "name": "stdout",
     "output_type": "stream",
     "text": [
      "Enter your age: 17\n",
      "Welcome to party!!\n"
     ]
    }
   ],
   "source": [
    "x = int(input(\"Enter your age: \"))\n",
    "if x<=18 or x>=60:\n",
    "    print(\"Welcome to party!!\")\n",
    "else:\n",
    "    print(\"Sorry!! you do not fit in the age criteria\")"
   ]
  },
  {
   "cell_type": "markdown",
   "id": "c0cd9d92",
   "metadata": {},
   "source": [
    "#### write a program which offers various discounts based on purchase bills"
   ]
  },
  {
   "cell_type": "code",
   "execution_count": 30,
   "id": "518e7795",
   "metadata": {},
   "outputs": [
    {
     "name": "stdout",
     "output_type": "stream",
     "text": [
      "You won a discount voucher of flat 100 on next purchase\n"
     ]
    }
   ],
   "source": [
    "shoptotal = 200\n",
    "if shoptotal >= 500:\n",
    "    print(\"You won a discount voucher of flat 1000 on next purchase\")\n",
    "elif shoptotal >= 250:\n",
    "    print(\"You won a discount voucher of flat 500 on next purchase\")\n",
    "elif shoptotal >= 100:\n",
    "    print(\"You won a discount voucher of flat 100 on next purchase\")\n",
    "else:\n",
    "    print(\"OOPS! no discount for you!!!\")"
   ]
  },
  {
   "cell_type": "markdown",
   "id": "0ee21212",
   "metadata": {},
   "source": [
    "#### Example on nested if else"
   ]
  },
  {
   "cell_type": "code",
   "execution_count": 31,
   "id": "d602248f",
   "metadata": {},
   "outputs": [],
   "source": [
    "world_cups = {2019:['England','New-Zealand'],2015:['Australia','New-Zealand'],2011:['India','Sri Lanka']}"
   ]
  },
  {
   "cell_type": "code",
   "execution_count": 32,
   "id": "b2c2fc19",
   "metadata": {},
   "outputs": [
    {
     "data": {
      "text/plain": [
       "dict_keys([2019, 2015, 2011])"
      ]
     },
     "execution_count": 32,
     "metadata": {},
     "output_type": "execute_result"
    }
   ],
   "source": [
    "world_cups.keys()"
   ]
  },
  {
   "cell_type": "code",
   "execution_count": 33,
   "id": "5d8774e4",
   "metadata": {},
   "outputs": [
    {
     "data": {
      "text/plain": [
       "['England', 'New-Zealand']"
      ]
     },
     "execution_count": 33,
     "metadata": {},
     "output_type": "execute_result"
    }
   ],
   "source": [
    "world_cups[2019]"
   ]
  },
  {
   "cell_type": "code",
   "execution_count": 34,
   "id": "ce458c1b",
   "metadata": {},
   "outputs": [
    {
     "name": "stdout",
     "output_type": "stream",
     "text": [
      "Enter year to check new-zealand made it to finals in 20th century:2015\n"
     ]
    }
   ],
   "source": [
    "year = int(input(\"Enter year to check new-zealand made it to finals in 20th century:\"))"
   ]
  },
  {
   "cell_type": "code",
   "execution_count": 35,
   "id": "335e01fb",
   "metadata": {},
   "outputs": [
    {
     "data": {
      "text/plain": [
       "2015"
      ]
     },
     "execution_count": 35,
     "metadata": {},
     "output_type": "execute_result"
    }
   ],
   "source": [
    "year"
   ]
  },
  {
   "cell_type": "code",
   "execution_count": 38,
   "id": "dd3c0bc3",
   "metadata": {},
   "outputs": [
    {
     "name": "stdout",
     "output_type": "stream",
     "text": [
      "Yes, newzealand made it to final\n"
     ]
    }
   ],
   "source": [
    "if year in world_cups:\n",
    "    if \"New-Zealand\" in world_cups[year]:\n",
    "        print(\"Yes, newzealand made it to final\")\n",
    "    else:\n",
    "        print(\"No, newzealand did not made it to final\")\n",
    "else:\n",
    "    print(\"World cup is not played\")"
   ]
  },
  {
   "cell_type": "markdown",
   "id": "75c5127a",
   "metadata": {},
   "source": [
    "#### Loops and iterations"
   ]
  },
  {
   "cell_type": "code",
   "execution_count": 41,
   "id": "03df2770",
   "metadata": {},
   "outputs": [
    {
     "name": "stdout",
     "output_type": "stream",
     "text": [
      "Enter your four digit pin: 1234\n",
      "Pin validation successful\n"
     ]
    }
   ],
   "source": [
    "# Lets create a pin checker which we generally have in our phones or ATMs\n",
    "pin =input(\"Enter your four digit pin: \")\n",
    "while pin != '1234':\n",
    "    pin = input('Invalid input, please try again: ')\n",
    "print(\"Pin validation successful\")"
   ]
  },
  {
   "cell_type": "code",
   "execution_count": 42,
   "id": "17b9d365",
   "metadata": {},
   "outputs": [
    {
     "name": "stdout",
     "output_type": "stream",
     "text": [
      "Enter your four digit pin: 123\n",
      "Invalid input, please try again: 123\n",
      "Invalid input, please try again: 123\n"
     ]
    },
    {
     "ename": "SystemExit",
     "evalue": "Too many invalid attempts",
     "output_type": "error",
     "traceback": [
      "An exception has occurred, use %tb to see the full traceback.\n",
      "\u001b[1;31mSystemExit\u001b[0m\u001b[1;31m:\u001b[0m Too many invalid attempts\n"
     ]
    },
    {
     "name": "stderr",
     "output_type": "stream",
     "text": [
      "C:\\Users\\MarchettyPavanSai\\anaconda3\\lib\\site-packages\\IPython\\core\\interactiveshell.py:3452: UserWarning: To exit: use 'exit', 'quit', or Ctrl-D.\n",
      "  warn(\"To exit: use 'exit', 'quit', or Ctrl-D.\", stacklevel=1)\n"
     ]
    }
   ],
   "source": [
    "# now if we want to add a maximum number of tries allowed condition we'll use the if loop\n",
    "import sys #required for exiting the code and displaying error\n",
    "pin = input(\"Enter your four digit pin: \")\n",
    "attemptcount = 1\n",
    "while pin != '1234':\n",
    "    if attemptcount >= 3:\n",
    "        sys.exit(\"Too many invalid attempts\")  #error code\n",
    "    pin = input(\"Invalid input, please try again: \")\n",
    "    attemptcount += 1\n",
    "print(\"Pin validation successful.\")\n",
    "\n"
   ]
  },
  {
   "cell_type": "code",
   "execution_count": 1,
   "id": "f61d6beb",
   "metadata": {},
   "outputs": [
    {
     "name": "stdout",
     "output_type": "stream",
     "text": [
      "1\n",
      "2\n",
      "3\n",
      "4\n",
      "5\n"
     ]
    }
   ],
   "source": [
    "l = [1,2,3,4,5]\n",
    "for var in l:\n",
    "    print(var)"
   ]
  },
  {
   "cell_type": "code",
   "execution_count": 2,
   "id": "d19949f3",
   "metadata": {},
   "outputs": [
    {
     "name": "stdout",
     "output_type": "stream",
     "text": [
      "L\n",
      "o\n",
      "n\n",
      "d\n",
      "o\n",
      "n\n"
     ]
    }
   ],
   "source": [
    "string = 'London'\n",
    "for char in string:\n",
    "    print(char)"
   ]
  },
  {
   "cell_type": "code",
   "execution_count": 4,
   "id": "0ecbfb0c",
   "metadata": {},
   "outputs": [
    {
     "name": "stdout",
     "output_type": "stream",
     "text": [
      "L:o:n:d:o:n:"
     ]
    }
   ],
   "source": [
    "string = 'London'\n",
    "for char in string:\n",
    "    print(char,end =\":\") #default is \\n\n",
    "    "
   ]
  },
  {
   "cell_type": "code",
   "execution_count": 5,
   "id": "e3484125",
   "metadata": {},
   "outputs": [],
   "source": [
    "#dictionary\n",
    "data = {1:['sam',24],2:['Rob',25],3:['Jack',26],4:['cornor',24],5:['trump',27]}"
   ]
  },
  {
   "cell_type": "code",
   "execution_count": 8,
   "id": "0908d84d",
   "metadata": {},
   "outputs": [
    {
     "data": {
      "text/plain": [
       "{1: ['sam', 24],\n",
       " 2: ['Rob', 25],\n",
       " 3: ['Jack', 26],\n",
       " 4: ['cornor', 24],\n",
       " 5: ['trump', 27]}"
      ]
     },
     "execution_count": 8,
     "metadata": {},
     "output_type": "execute_result"
    }
   ],
   "source": [
    "data"
   ]
  },
  {
   "cell_type": "code",
   "execution_count": 11,
   "id": "ab81a68f",
   "metadata": {},
   "outputs": [
    {
     "name": "stdout",
     "output_type": "stream",
     "text": [
      "1 ['sam', 24]\n",
      "2 ['Rob', 25]\n",
      "3 ['Jack', 26]\n",
      "4 ['cornor', 24]\n",
      "5 ['trump', 27]\n"
     ]
    }
   ],
   "source": [
    "# iterating over a dictionary\n",
    "for key, val in data.items():\n",
    "    print(key,val)\n",
    "    "
   ]
  },
  {
   "cell_type": "code",
   "execution_count": 16,
   "id": "5f94f875",
   "metadata": {},
   "outputs": [
    {
     "name": "stdout",
     "output_type": "stream",
     "text": [
      "1\n",
      "2\n",
      "3\n",
      "4\n",
      "5\n"
     ]
    }
   ],
   "source": [
    "for key in data.keys():\n",
    "    print(key)"
   ]
  },
  {
   "cell_type": "code",
   "execution_count": 17,
   "id": "4fd9ef05",
   "metadata": {},
   "outputs": [
    {
     "name": "stdout",
     "output_type": "stream",
     "text": [
      "['sam', 24]\n",
      "['Rob', 25]\n",
      "['Jack', 26]\n",
      "['cornor', 24]\n",
      "['trump', 27]\n"
     ]
    }
   ],
   "source": [
    "for val in data.values():\n",
    "    print(val)"
   ]
  },
  {
   "cell_type": "code",
   "execution_count": 19,
   "id": "5ed34711",
   "metadata": {},
   "outputs": [
    {
     "data": {
      "text/plain": [
       "range(1, 5)"
      ]
     },
     "execution_count": 19,
     "metadata": {},
     "output_type": "execute_result"
    }
   ],
   "source": [
    "range(1,5)"
   ]
  },
  {
   "cell_type": "code",
   "execution_count": 20,
   "id": "a3e42cd8",
   "metadata": {},
   "outputs": [
    {
     "data": {
      "text/plain": [
       "[1, 2, 3, 4, 5]"
      ]
     },
     "execution_count": 20,
     "metadata": {},
     "output_type": "execute_result"
    }
   ],
   "source": [
    "l = list(range(1,6)) #cast the range to list to use\n",
    "l"
   ]
  },
  {
   "cell_type": "code",
   "execution_count": 21,
   "id": "313ad1e3",
   "metadata": {},
   "outputs": [
    {
     "name": "stdout",
     "output_type": "stream",
     "text": [
      "1\n",
      "2\n",
      "3\n",
      "4\n",
      "5\n"
     ]
    }
   ],
   "source": [
    "for i in l:\n",
    "    print(i)"
   ]
  },
  {
   "cell_type": "code",
   "execution_count": 22,
   "id": "b7c42341",
   "metadata": {},
   "outputs": [
    {
     "name": "stdout",
     "output_type": "stream",
     "text": [
      "1\n",
      "2\n",
      "3\n",
      "4\n",
      "5\n"
     ]
    }
   ],
   "source": [
    "for i in range(1,6):\n",
    "    print(i)"
   ]
  },
  {
   "cell_type": "code",
   "execution_count": 23,
   "id": "9de6d252",
   "metadata": {},
   "outputs": [
    {
     "name": "stdout",
     "output_type": "stream",
     "text": [
      "[1, 3, 5, 7, 9, 11, 13, 15, 17, 19, 21, 23, 25, 27, 29, 31, 33, 35, 37, 39, 41, 43, 45, 47, 49, 51, 53, 55, 57, 59, 61, 63, 65, 67, 69, 71, 73, 75, 77, 79, 81, 83, 85, 87, 89, 91, 93, 95, 97, 99]\n"
     ]
    }
   ],
   "source": [
    "print(list(range(1,100,2)))"
   ]
  },
  {
   "cell_type": "code",
   "execution_count": 24,
   "id": "36473a97",
   "metadata": {},
   "outputs": [
    {
     "name": "stdout",
     "output_type": "stream",
     "text": [
      "[100, 98, 96, 94, 92, 90, 88, 86, 84, 82, 80, 78, 76, 74, 72, 70, 68, 66, 64, 62, 60, 58, 56, 54, 52, 50, 48, 46, 44, 42, 40, 38, 36, 34, 32, 30, 28, 26, 24, 22, 20, 18, 16, 14, 12, 10, 8, 6, 4, 2]\n"
     ]
    }
   ],
   "source": [
    "print(list(range(100,0,-2)))"
   ]
  },
  {
   "cell_type": "code",
   "execution_count": 31,
   "id": "cc5d3c5d",
   "metadata": {},
   "outputs": [
    {
     "name": "stdout",
     "output_type": "stream",
     "text": [
      "1 is prime\n",
      "2 is prime\n",
      "3 is prime\n",
      "4 is not prime 2\n",
      "5 is prime\n",
      "6 is not prime 2\n",
      "7 is prime\n",
      "8 is not prime 2\n",
      "9 is not prime 3\n",
      "10 is not prime 2\n",
      "11 is prime\n",
      "12 is not prime 2\n",
      "13 is prime\n",
      "14 is not prime 2\n",
      "15 is not prime 3\n",
      "16 is not prime 2\n",
      "17 is prime\n",
      "18 is not prime 2\n",
      "19 is prime\n"
     ]
    }
   ],
   "source": [
    "#write a program to print prime numbers between 1 t0 20\n",
    "\n",
    "for n in range(1,20):\n",
    "    flag = True\n",
    "    for i in range(2,n):\n",
    "        if n%i == 0:\n",
    "            print(n,\"is not prime\",i)\n",
    "            flag = False\n",
    "            break\n",
    "    # whether to print(i)or not\n",
    "    if flag == True: #n  is prime\n",
    "        print(n,\"is prime\")"
   ]
  },
  {
   "cell_type": "markdown",
   "id": "a5a18d43",
   "metadata": {},
   "source": [
    "#### Comprehensions"
   ]
  },
  {
   "cell_type": "code",
   "execution_count": 39,
   "id": "987cce51",
   "metadata": {},
   "outputs": [
    {
     "data": {
      "text/plain": [
       "['automobile', 'Honda', 'Benz', 'Suzuki', 'Morris']"
      ]
     },
     "execution_count": 39,
     "metadata": {},
     "output_type": "execute_result"
    }
   ],
   "source": [
    "l1 = ['automobile','Honda','Benz','Suzuki','Morris']\n",
    "l1"
   ]
  },
  {
   "cell_type": "code",
   "execution_count": 40,
   "id": "23cd70d5",
   "metadata": {},
   "outputs": [
    {
     "data": {
      "text/plain": [
       "[10, 5, 4, 6, 6]"
      ]
     },
     "execution_count": 40,
     "metadata": {},
     "output_type": "execute_result"
    }
   ],
   "source": [
    "l2 = []\n",
    "for word in l1:\n",
    "    l2.append(len(word))\n",
    "l2"
   ]
  },
  {
   "cell_type": "code",
   "execution_count": 41,
   "id": "e1dc7263",
   "metadata": {},
   "outputs": [
    {
     "data": {
      "text/plain": [
       "[10, 5, 4, 6, 6]"
      ]
     },
     "execution_count": 41,
     "metadata": {},
     "output_type": "execute_result"
    }
   ],
   "source": [
    "l2 = [len(word) for word in l1]\n",
    "l2"
   ]
  },
  {
   "cell_type": "code",
   "execution_count": 42,
   "id": "323578f4",
   "metadata": {},
   "outputs": [
    {
     "name": "stdout",
     "output_type": "stream",
     "text": [
      "automobile  -  10\n",
      "Honda  -  5\n",
      "Benz  -  4\n",
      "Suzuki  -  6\n",
      "Morris  -  6\n"
     ]
    }
   ],
   "source": [
    "for i,j in zip(l1,l2):\n",
    "    print(i,\" - \",j)"
   ]
  },
  {
   "cell_type": "markdown",
   "id": "69fcb0fb",
   "metadata": {},
   "source": [
    "#### dictionary comprehension"
   ]
  },
  {
   "cell_type": "code",
   "execution_count": 44,
   "id": "b7bbceff",
   "metadata": {},
   "outputs": [
    {
     "data": {
      "text/plain": [
       "{'automobile': 10, 'Honda': 5, 'Benz': 4, 'Suzuki': 6, 'Morris': 6}"
      ]
     },
     "execution_count": 44,
     "metadata": {},
     "output_type": "execute_result"
    }
   ],
   "source": [
    "l1 = ['automobile','Honda','Benz','Suzuki','Morris']\n",
    "d = {word:len(word) for word in l1}\n",
    "d"
   ]
  },
  {
   "cell_type": "markdown",
   "id": "0876288b",
   "metadata": {},
   "source": [
    "#### set comprehension"
   ]
  },
  {
   "cell_type": "code",
   "execution_count": 48,
   "id": "e308c6b3",
   "metadata": {},
   "outputs": [
    {
     "name": "stdout",
     "output_type": "stream",
     "text": [
      "Enter a word: elegant\n"
     ]
    }
   ],
   "source": [
    "# write a program which takes a word as input from user and returns vowels in it\n",
    "word = input(\"Enter a word: \")"
   ]
  },
  {
   "cell_type": "code",
   "execution_count": 49,
   "id": "b62112dd",
   "metadata": {},
   "outputs": [
    {
     "name": "stdout",
     "output_type": "stream",
     "text": [
      "e\n",
      "e\n",
      "a\n"
     ]
    }
   ],
   "source": [
    "for char in word:\n",
    "    if char in \"aeiou\":\n",
    "        print(char)"
   ]
  },
  {
   "cell_type": "code",
   "execution_count": 50,
   "id": "87fceaa1",
   "metadata": {},
   "outputs": [
    {
     "data": {
      "text/plain": [
       "{'a', 'e'}"
      ]
     },
     "execution_count": 50,
     "metadata": {},
     "output_type": "execute_result"
    }
   ],
   "source": [
    "vowels = {char for char in word if char in \"aeiou\"}\n",
    "vowels"
   ]
  },
  {
   "cell_type": "code",
   "execution_count": 51,
   "id": "d20c7d7b",
   "metadata": {},
   "outputs": [
    {
     "name": "stdout",
     "output_type": "stream",
     "text": [
      "Enter a word: Rehman\n"
     ]
    },
    {
     "data": {
      "text/plain": [
       "{'a', 'e'}"
      ]
     },
     "execution_count": 51,
     "metadata": {},
     "output_type": "execute_result"
    }
   ],
   "source": [
    "word = input(\"Enter a word: \")\n",
    "vowels = set()\n",
    "for char in word:\n",
    "    if char in \"aeiou\":\n",
    "        vowels.add(char)\n",
    "vowels"
   ]
  },
  {
   "cell_type": "markdown",
   "id": "95c9b8ac",
   "metadata": {},
   "source": [
    "#### Functions"
   ]
  },
  {
   "cell_type": "code",
   "execution_count": 52,
   "id": "5e17b4a8",
   "metadata": {},
   "outputs": [],
   "source": [
    "#write a function which takes a value as a parameter and return its factorial\n",
    "# 5! = 5*4*3*2*1\n",
    "# n! = n*(n-1)*(n-2)...*3*2*1"
   ]
  },
  {
   "cell_type": "code",
   "execution_count": 53,
   "id": "8b5d245b",
   "metadata": {},
   "outputs": [
    {
     "data": {
      "text/plain": [
       "4"
      ]
     },
     "execution_count": 53,
     "metadata": {},
     "output_type": "execute_result"
    }
   ],
   "source": [
    "#simple function format\n",
    "def factorial(n):\n",
    "    return 4\n",
    "factorial(10)"
   ]
  },
  {
   "cell_type": "code",
   "execution_count": 56,
   "id": "47078526",
   "metadata": {},
   "outputs": [
    {
     "name": "stdout",
     "output_type": "stream",
     "text": [
      "Enter the factorial number: 3\n"
     ]
    },
    {
     "data": {
      "text/plain": [
       "6"
      ]
     },
     "execution_count": 56,
     "metadata": {},
     "output_type": "execute_result"
    }
   ],
   "source": [
    "n = int(input(\"Enter the factorial number: \"))\n",
    "def factorial(n):   # n is called positional argument\n",
    "    fact = 1\n",
    "    for i in range(1,n+1):\n",
    "       fact = fact * i   # fact *= i\n",
    "    return fact\n",
    "factorial(n)"
   ]
  },
  {
   "cell_type": "markdown",
   "id": "58d34386",
   "metadata": {},
   "source": [
    "#### functional arguments"
   ]
  },
  {
   "cell_type": "code",
   "execution_count": 76,
   "id": "2bd13954",
   "metadata": {},
   "outputs": [],
   "source": [
    "def func(name, age = 35):  # default parameter\n",
    "    print('name:',name)\n",
    "    print('age:',age)"
   ]
  },
  {
   "cell_type": "code",
   "execution_count": 77,
   "id": "0c5c1eb0",
   "metadata": {},
   "outputs": [
    {
     "name": "stdout",
     "output_type": "stream",
     "text": [
      "name: ram\n",
      "age: 25\n"
     ]
    }
   ],
   "source": [
    "func('ram',25)"
   ]
  },
  {
   "cell_type": "code",
   "execution_count": 78,
   "id": "cb46cd58",
   "metadata": {},
   "outputs": [
    {
     "name": "stdout",
     "output_type": "stream",
     "text": [
      "name: rahul\n",
      "age: 35\n"
     ]
    }
   ],
   "source": [
    "func('rahul')"
   ]
  },
  {
   "cell_type": "code",
   "execution_count": 79,
   "id": "ae86add1",
   "metadata": {},
   "outputs": [],
   "source": [
    "def func(name, age = 35, city = 'london'):\n",
    "    print('name:',name)\n",
    "    print('age:',age)\n",
    "    print('city:',city)\n"
   ]
  },
  {
   "cell_type": "code",
   "execution_count": 80,
   "id": "8cc1a5c8",
   "metadata": {},
   "outputs": [
    {
     "name": "stdout",
     "output_type": "stream",
     "text": [
      "name: rahul\n",
      "age: 35\n",
      "city: london\n"
     ]
    }
   ],
   "source": [
    "func('rahul')"
   ]
  },
  {
   "cell_type": "code",
   "execution_count": 81,
   "id": "8630deb8",
   "metadata": {},
   "outputs": [
    {
     "name": "stdout",
     "output_type": "stream",
     "text": [
      "name: ram\n",
      "age: seattle\n",
      "city: london\n"
     ]
    }
   ],
   "source": [
    "func('ram','seattle')"
   ]
  },
  {
   "cell_type": "code",
   "execution_count": 82,
   "id": "b64dacd2",
   "metadata": {},
   "outputs": [
    {
     "name": "stdout",
     "output_type": "stream",
     "text": [
      "(1, 1, 'abc')\n"
     ]
    }
   ],
   "source": [
    "# variable length argument\n",
    "def varfunc(*args):\n",
    "    print(args)\n",
    "varfunc(1,1,'abc')"
   ]
  },
  {
   "cell_type": "code",
   "execution_count": 83,
   "id": "b0d1cbae",
   "metadata": {},
   "outputs": [
    {
     "data": {
      "text/plain": [
       "'even'"
      ]
     },
     "execution_count": 83,
     "metadata": {},
     "output_type": "execute_result"
    }
   ],
   "source": [
    "# lambda  #anonymous functions\n",
    "t = lambda x:\"even\" if x%2 ==0 else \"odd\"\n",
    "t(10)"
   ]
  },
  {
   "cell_type": "markdown",
   "id": "f5c08390",
   "metadata": {},
   "source": [
    "#### Map - filter - reduce"
   ]
  },
  {
   "cell_type": "code",
   "execution_count": 84,
   "id": "202404dd",
   "metadata": {},
   "outputs": [
    {
     "data": {
      "text/plain": [
       "'INDIA'"
      ]
     },
     "execution_count": 84,
     "metadata": {},
     "output_type": "execute_result"
    }
   ],
   "source": [
    "countries = ['India','Japan','Italy','France']\n",
    "t = lambda x: x.upper()\n",
    "t('India')"
   ]
  },
  {
   "cell_type": "code",
   "execution_count": 86,
   "id": "132b7256",
   "metadata": {},
   "outputs": [],
   "source": [
    "capital = []\n",
    "for country in countries:\n",
    "    capital.append(t(country))"
   ]
  },
  {
   "cell_type": "code",
   "execution_count": 87,
   "id": "f3147e63",
   "metadata": {},
   "outputs": [
    {
     "data": {
      "text/plain": [
       "['INDIA', 'JAPAN', 'ITALY', 'FRANCE']"
      ]
     },
     "execution_count": 87,
     "metadata": {},
     "output_type": "execute_result"
    }
   ],
   "source": [
    "capital"
   ]
  },
  {
   "cell_type": "code",
   "execution_count": 89,
   "id": "344d2bd1",
   "metadata": {},
   "outputs": [
    {
     "data": {
      "text/plain": [
       "['INDIA', 'JAPAN', 'ITALY', 'FRANCE']"
      ]
     },
     "execution_count": 89,
     "metadata": {},
     "output_type": "execute_result"
    }
   ],
   "source": [
    "# map takes 2 inputs, function and collection or list over which we want to apply\n",
    "x= list(map(t,countries))\n",
    "x"
   ]
  },
  {
   "cell_type": "code",
   "execution_count": 90,
   "id": "cee547ed",
   "metadata": {},
   "outputs": [
    {
     "data": {
      "text/plain": [
       "[4, 16, 25]"
      ]
     },
     "execution_count": 90,
     "metadata": {},
     "output_type": "execute_result"
    }
   ],
   "source": [
    "l1 = [2,4,5]\n",
    "tsquare = lambda x: x**2\n",
    "list(map(tsquare,l1))"
   ]
  },
  {
   "cell_type": "code",
   "execution_count": 91,
   "id": "338aad02",
   "metadata": {},
   "outputs": [
    {
     "data": {
      "text/plain": [
       "[4, 16, 25]"
      ]
     },
     "execution_count": 91,
     "metadata": {},
     "output_type": "execute_result"
    }
   ],
   "source": [
    "# defining a function and using it in map\n",
    "l1 = [2,4,5]\n",
    "def squareit(n):\n",
    "    return n**2\n",
    "list(map(squareit,l1))"
   ]
  },
  {
   "cell_type": "code",
   "execution_count": 95,
   "id": "c67b6075",
   "metadata": {},
   "outputs": [
    {
     "data": {
      "text/plain": [
       "[3, 6, 9]"
      ]
     },
     "execution_count": 95,
     "metadata": {},
     "output_type": "execute_result"
    }
   ],
   "source": [
    "# filter function to return the multiplies of 3\n",
    "mylist = [3,4,5,6,7,8,9]\n",
    "divby3 = lambda x :x% 3 == 0\n",
    "divby3(5)\n",
    "div = filter(divby3, mylist)\n",
    "list(div)"
   ]
  },
  {
   "cell_type": "markdown",
   "id": "ece755be",
   "metadata": {},
   "source": [
    "#### Write a python program to count the students above age 18"
   ]
  },
  {
   "cell_type": "code",
   "execution_count": 96,
   "id": "cc3016fc",
   "metadata": {},
   "outputs": [
    {
     "data": {
      "text/plain": [
       "{1: ['sam', 24],\n",
       " 2: ['Rob', 25],\n",
       " 3: ['Jack', 26],\n",
       " 4: ['cornor', 24],\n",
       " 5: ['trump', 27]}"
      ]
     },
     "execution_count": 96,
     "metadata": {},
     "output_type": "execute_result"
    }
   ],
   "source": [
    "data = {1:['sam',24],2:['Rob',25],3:['Jack',26],4:['cornor',24],5:['trump',27]}\n",
    "data"
   ]
  },
  {
   "cell_type": "code",
   "execution_count": 97,
   "id": "1b3e9a5b",
   "metadata": {},
   "outputs": [
    {
     "data": {
      "text/plain": [
       "True"
      ]
     },
     "execution_count": 97,
     "metadata": {},
     "output_type": "execute_result"
    }
   ],
   "source": [
    "t = lambda x : x[1] > 18\n",
    "t(['Rob',25])"
   ]
  },
  {
   "cell_type": "code",
   "execution_count": 105,
   "id": "dd6da2f0",
   "metadata": {},
   "outputs": [
    {
     "data": {
      "text/plain": [
       "[['sam', 24], ['Rob', 25], ['Jack', 26], ['cornor', 24], ['trump', 27]]"
      ]
     },
     "execution_count": 105,
     "metadata": {},
     "output_type": "execute_result"
    }
   ],
   "source": [
    "newlist = list(filter(lambda x: x[1] > 18,data.values()))\n",
    "newlist"
   ]
  },
  {
   "cell_type": "code",
   "execution_count": 106,
   "id": "aaaec20b",
   "metadata": {},
   "outputs": [
    {
     "data": {
      "text/plain": [
       "5"
      ]
     },
     "execution_count": 106,
     "metadata": {},
     "output_type": "execute_result"
    }
   ],
   "source": [
    "len(newlist)"
   ]
  },
  {
   "cell_type": "code",
   "execution_count": 107,
   "id": "167d2cac",
   "metadata": {},
   "outputs": [
    {
     "data": {
      "text/plain": [
       "[1, 2, 3, 4, 5, 6]"
      ]
     },
     "execution_count": 107,
     "metadata": {},
     "output_type": "execute_result"
    }
   ],
   "source": [
    "# reduce to return product of elements\n",
    "from functools import reduce\n",
    "l = range(1,7)\n",
    "list(l)"
   ]
  },
  {
   "cell_type": "code",
   "execution_count": 108,
   "id": "79789b4c",
   "metadata": {},
   "outputs": [
    {
     "data": {
      "text/plain": [
       "6"
      ]
     },
     "execution_count": 108,
     "metadata": {},
     "output_type": "execute_result"
    }
   ],
   "source": [
    "t = lambda x,y : x*y\n",
    "t(2,3)"
   ]
  },
  {
   "cell_type": "code",
   "execution_count": 110,
   "id": "946a2873",
   "metadata": {},
   "outputs": [
    {
     "data": {
      "text/plain": [
       "720"
      ]
     },
     "execution_count": 110,
     "metadata": {},
     "output_type": "execute_result"
    }
   ],
   "source": [
    "q = reduce(lambda x,y : x*y,l)\n",
    "q"
   ]
  },
  {
   "cell_type": "code",
   "execution_count": 2,
   "id": "745b74c6",
   "metadata": {},
   "outputs": [],
   "source": [
    "# object oriented programming \n",
    "# use class to create an object\n",
    "#defining a class\n",
    "#length and breadth as attributes\n",
    "#init() - constructor of class\n",
    "#self parameter refers to newly created instance of class\n",
    "#attributes length and breadth are associated with self-keyword to identify them as instance variable\n",
    "\n"
   ]
  },
  {
   "cell_type": "code",
   "execution_count": 3,
   "id": "6a44a2f8",
   "metadata": {},
   "outputs": [],
   "source": [
    "## create the object by calling name of the class followed by parenthesis\n",
    "## print the values using dot operator"
   ]
  },
  {
   "cell_type": "code",
   "execution_count": 4,
   "id": "d7592aa3",
   "metadata": {},
   "outputs": [],
   "source": [
    "class rectangle:\n",
    "    def __init__(self):\n",
    "        self.length = 10\n",
    "        self.breadth = 5"
   ]
  },
  {
   "cell_type": "code",
   "execution_count": 5,
   "id": "00ca542b",
   "metadata": {},
   "outputs": [
    {
     "name": "stdout",
     "output_type": "stream",
     "text": [
      "length is 10 and breadth is 5\n"
     ]
    }
   ],
   "source": [
    "rect = rectangle()\n",
    "print('length is',rect.length,'and breadth is',rect.breadth)"
   ]
  },
  {
   "cell_type": "code",
   "execution_count": 6,
   "id": "33c406b3",
   "metadata": {},
   "outputs": [],
   "source": [
    "## parameterised constructor, dynamically assign the attribute values during object creation\n",
    "class rectangle:\n",
    "    def __init__(self,length,breadth):\n",
    "        self.length = length\n",
    "        self.breadth = breadth\n"
   ]
  },
  {
   "cell_type": "code",
   "execution_count": 7,
   "id": "9ff10415",
   "metadata": {},
   "outputs": [
    {
     "name": "stdout",
     "output_type": "stream",
     "text": [
      "length is 12 and breadth is 8\n"
     ]
    }
   ],
   "source": [
    "rect = rectangle(12,8)\n",
    "print('length is',rect.length,'and breadth is',rect.breadth)"
   ]
  },
  {
   "cell_type": "code",
   "execution_count": 16,
   "id": "25dbdcd7",
   "metadata": {},
   "outputs": [],
   "source": [
    "# class variables and instance variables\n",
    "class student:\n",
    "    teacher = 'Jones' #class variable\n",
    "    room = '102A'  #class variable \n",
    "    def __init__(self, name, age, sub):\n",
    "        self.name = name  #instance variable\n",
    "        self.age = age    #instance variable\n",
    "        self.sub = sub    #instance variable  "
   ]
  },
  {
   "cell_type": "code",
   "execution_count": 17,
   "id": "95b40ecb",
   "metadata": {},
   "outputs": [
    {
     "name": "stdout",
     "output_type": "stream",
     "text": [
      "Jones Math\n"
     ]
    }
   ],
   "source": [
    "tom = student('tom',15,'Math')\n",
    "print(tom.teacher,tom.sub)"
   ]
  },
  {
   "cell_type": "code",
   "execution_count": 18,
   "id": "ed731ebc",
   "metadata": {},
   "outputs": [
    {
     "name": "stdout",
     "output_type": "stream",
     "text": [
      "Jones 16\n"
     ]
    }
   ],
   "source": [
    "susan = student('susan',16,'English')\n",
    "print(susan.teacher,susan.age)"
   ]
  },
  {
   "cell_type": "code",
   "execution_count": 19,
   "id": "dbfe77ff",
   "metadata": {},
   "outputs": [],
   "source": [
    "student.teacher = 'Mr David'"
   ]
  },
  {
   "cell_type": "code",
   "execution_count": 20,
   "id": "4487006c",
   "metadata": {},
   "outputs": [
    {
     "name": "stdout",
     "output_type": "stream",
     "text": [
      "Mr David Math\n"
     ]
    }
   ],
   "source": [
    "print(tom.teacher,tom.sub)"
   ]
  },
  {
   "cell_type": "markdown",
   "id": "095e0925",
   "metadata": {},
   "source": [
    "#### Adding a method to class\n"
   ]
  },
  {
   "cell_type": "code",
   "execution_count": 21,
   "id": "be86f2cd",
   "metadata": {},
   "outputs": [],
   "source": [
    "# calculate area () - returns the product of attributes length and breadth.\n",
    "# self - identifies its association with the instance."
   ]
  },
  {
   "cell_type": "code",
   "execution_count": 11,
   "id": "e6b9cd33",
   "metadata": {},
   "outputs": [],
   "source": [
    "class rectangle:\n",
    "    def __init__(self,length,breadth):\n",
    "        self.length = length\n",
    "        self.breadth = breadth\n",
    "    def calculate_area(self):\n",
    "        return self.length*self.breadth"
   ]
  },
  {
   "cell_type": "code",
   "execution_count": 12,
   "id": "aaa909c9",
   "metadata": {},
   "outputs": [],
   "source": [
    "rect = rectangle(10,5)"
   ]
  },
  {
   "cell_type": "code",
   "execution_count": 16,
   "id": "eed84801",
   "metadata": {},
   "outputs": [
    {
     "name": "stdout",
     "output_type": "stream",
     "text": [
      "10 5 50\n"
     ]
    }
   ],
   "source": [
    "print(rect.length,rect.breadth,rect.calculate_area())"
   ]
  },
  {
   "cell_type": "code",
   "execution_count": 27,
   "id": "9b105cb5",
   "metadata": {},
   "outputs": [],
   "source": [
    "## class method and static method\n",
    "class circle:\n",
    "    pi = 3.14\n",
    "    def __init__(self,radius):\n",
    "        self.radius = radius\n",
    "    # instance method\n",
    "    def calculate_area(self):\n",
    "        return circle.pi * (self.radius)**2\n",
    "    #class method - I cannot access radius\n",
    "    def access_pi(cls):\n",
    "        pi = 3.1436\n",
    "        return pi\n",
    "    def circle_static():\n",
    "        print('This is circle static method')"
   ]
  },
  {
   "cell_type": "code",
   "execution_count": 21,
   "id": "0cf607b8",
   "metadata": {},
   "outputs": [
    {
     "name": "stdout",
     "output_type": "stream",
     "text": [
      "5 78.5\n"
     ]
    }
   ],
   "source": [
    "cir = circle(5)\n",
    "print(cir.radius,cir.calculate_area())"
   ]
  },
  {
   "cell_type": "code",
   "execution_count": 26,
   "id": "2a0193a3",
   "metadata": {},
   "outputs": [
    {
     "data": {
      "text/plain": [
       "3.1436"
      ]
     },
     "execution_count": 26,
     "metadata": {},
     "output_type": "execute_result"
    }
   ],
   "source": [
    "circle.access_pi(4)"
   ]
  },
  {
   "cell_type": "code",
   "execution_count": 28,
   "id": "6839f6a8",
   "metadata": {},
   "outputs": [
    {
     "name": "stdout",
     "output_type": "stream",
     "text": [
      "This is circle static method\n"
     ]
    }
   ],
   "source": [
    "circle.circle_static()"
   ]
  },
  {
   "cell_type": "code",
   "execution_count": 22,
   "id": "d137804e",
   "metadata": {},
   "outputs": [],
   "source": [
    "# Significance of self:\n",
    "# The attributes length and breadth are associated with an instance.\n",
    "# Self makes sure that each instance refers to its own copy of attributes."
   ]
  },
  {
   "cell_type": "markdown",
   "id": "88ad95af",
   "metadata": {},
   "source": [
    "#### Inheritance and overriding"
   ]
  },
  {
   "cell_type": "code",
   "execution_count": 40,
   "id": "f42b71f0",
   "metadata": {},
   "outputs": [],
   "source": [
    "class shape:\n",
    "    def set_color(self,color):\n",
    "        self.color = color\n",
    "    def calculate_area(self):\n",
    "        pass\n",
    "    def color_the_shape(self):\n",
    "        color_price = {'red':10,'blue':15,'green':5}\n",
    "        return self.calculate_area() * color_price[self.color]"
   ]
  },
  {
   "cell_type": "code",
   "execution_count": 41,
   "id": "9a38212f",
   "metadata": {},
   "outputs": [],
   "source": [
    "class circle(shape):\n",
    "    pi = 3.14\n",
    "    def __init__(self,radius):\n",
    "        self.radius = radius\n",
    "        \n",
    "    #overriding\n",
    "    def calculate_area(self):\n",
    "        return circle.pi * (self.radius)**2\n"
   ]
  },
  {
   "cell_type": "code",
   "execution_count": 42,
   "id": "1de4eb28",
   "metadata": {},
   "outputs": [],
   "source": [
    "c = circle(5)"
   ]
  },
  {
   "cell_type": "code",
   "execution_count": 43,
   "id": "c85132aa",
   "metadata": {},
   "outputs": [
    {
     "data": {
      "text/plain": [
       "5"
      ]
     },
     "execution_count": 43,
     "metadata": {},
     "output_type": "execute_result"
    }
   ],
   "source": [
    "c.radius"
   ]
  },
  {
   "cell_type": "code",
   "execution_count": 44,
   "id": "936ca837",
   "metadata": {},
   "outputs": [
    {
     "data": {
      "text/plain": [
       "78.5"
      ]
     },
     "execution_count": 44,
     "metadata": {},
     "output_type": "execute_result"
    }
   ],
   "source": [
    "c.calculate_area()"
   ]
  },
  {
   "cell_type": "code",
   "execution_count": 45,
   "id": "46a63487",
   "metadata": {},
   "outputs": [],
   "source": [
    "c.set_color('red')"
   ]
  },
  {
   "cell_type": "code",
   "execution_count": 46,
   "id": "b32e3542",
   "metadata": {},
   "outputs": [
    {
     "name": "stdout",
     "output_type": "stream",
     "text": [
      "3.14 5 red\n"
     ]
    }
   ],
   "source": [
    "print(c.pi,c.radius, c.color)"
   ]
  },
  {
   "cell_type": "code",
   "execution_count": 48,
   "id": "af499e36",
   "metadata": {},
   "outputs": [
    {
     "data": {
      "text/plain": [
       "785.0"
      ]
     },
     "execution_count": 48,
     "metadata": {},
     "output_type": "execute_result"
    }
   ],
   "source": [
    "c.color_the_shape()"
   ]
  },
  {
   "cell_type": "code",
   "execution_count": 51,
   "id": "ff081f19",
   "metadata": {},
   "outputs": [],
   "source": [
    "class rectangle(shape):\n",
    "    def __init__(self,length,breadth):\n",
    "        self.length = length\n",
    "        self.breadth = breadth\n",
    "    #overriding\n",
    "    def calculate_area(self):\n",
    "        return self.length*self.breadth\n",
    "    #overriding pythod default method\n",
    "    def __str__(self):\n",
    "        return 'area of rectangle =  '+ str(self.calculate_area())\n"
   ]
  },
  {
   "cell_type": "code",
   "execution_count": 52,
   "id": "22a972bf",
   "metadata": {},
   "outputs": [],
   "source": [
    "r = rectangle(10,5)"
   ]
  },
  {
   "cell_type": "code",
   "execution_count": 54,
   "id": "dc4ba729",
   "metadata": {},
   "outputs": [
    {
     "name": "stdout",
     "output_type": "stream",
     "text": [
      "10 5 blue 50\n"
     ]
    }
   ],
   "source": [
    "r.set_color('blue')\n",
    "print(r.length, r.breadth, r.color, r.calculate_area())"
   ]
  },
  {
   "cell_type": "code",
   "execution_count": 55,
   "id": "b63e0bd1",
   "metadata": {},
   "outputs": [
    {
     "data": {
      "text/plain": [
       "750"
      ]
     },
     "execution_count": 55,
     "metadata": {},
     "output_type": "execute_result"
    }
   ],
   "source": [
    "r.color_the_shape()"
   ]
  },
  {
   "cell_type": "code",
   "execution_count": 58,
   "id": "f10ac7b5",
   "metadata": {},
   "outputs": [
    {
     "name": "stdout",
     "output_type": "stream",
     "text": [
      "area of rectangle =  50\n"
     ]
    }
   ],
   "source": [
    "print(r)"
   ]
  },
  {
   "cell_type": "code",
   "execution_count": null,
   "id": "d140890f",
   "metadata": {},
   "outputs": [],
   "source": []
  }
 ],
 "metadata": {
  "kernelspec": {
   "display_name": "Python 3 (ipykernel)",
   "language": "python",
   "name": "python3"
  },
  "language_info": {
   "codemirror_mode": {
    "name": "ipython",
    "version": 3
   },
   "file_extension": ".py",
   "mimetype": "text/x-python",
   "name": "python",
   "nbconvert_exporter": "python",
   "pygments_lexer": "ipython3",
   "version": "3.9.7"
  }
 },
 "nbformat": 4,
 "nbformat_minor": 5
}
