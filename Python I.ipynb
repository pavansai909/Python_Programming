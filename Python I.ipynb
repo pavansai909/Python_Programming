{
 "cells": [
  {
   "cell_type": "code",
   "execution_count": 1,
   "id": "52689693",
   "metadata": {
    "scrolled": true
   },
   "outputs": [
    {
     "name": "stdout",
     "output_type": "stream",
     "text": [
      "5\n"
     ]
    }
   ],
   "source": [
    "# factorial\n",
    "n = int(input())\n"
   ]
  },
  {
   "cell_type": "code",
   "execution_count": 2,
   "id": "9a684f94",
   "metadata": {},
   "outputs": [
    {
     "name": "stdout",
     "output_type": "stream",
     "text": [
      "120\n"
     ]
    }
   ],
   "source": [
    "from functools import reduce\n",
    "inputlist = range(1,n+1)\n",
    "if(n==0):\n",
    "    print(1)\n",
    "else:\n",
    "    ans = reduce(lambda x,y: x*y, inputlist)\n",
    "    print(ans)"
   ]
  },
  {
   "cell_type": "code",
   "execution_count": 3,
   "id": "d7507511",
   "metadata": {},
   "outputs": [],
   "source": [
    "## for real life scenario's, for example the back button of browser\n",
    "# the urls are appended in list one after the other\n",
    "# when we press back, the last item is removed and the previous url is executed"
   ]
  },
  {
   "cell_type": "code",
   "execution_count": 4,
   "id": "e642a803",
   "metadata": {},
   "outputs": [],
   "source": [
    "# youtube view count functionality\n",
    "# the userlist id's are created for 1 video and it is counted\n",
    "# for a newuser, it will check the previous list and it will add to the count and list if the id is not exisiting"
   ]
  },
  {
   "cell_type": "code",
   "execution_count": 5,
   "id": "0417a8a9",
   "metadata": {},
   "outputs": [],
   "source": [
    "# search bar of any ecommerce website\n",
    "# company has all the products list\n",
    "# string matching algorith works and filter out the products which contains the matching substring"
   ]
  },
  {
   "cell_type": "code",
   "execution_count": 6,
   "id": "2503f4e1",
   "metadata": {},
   "outputs": [],
   "source": [
    "## for zomato , we have user - GPS, restaurant GPS\n",
    "## we have to find the relevant restaurants based on the radius of user GPS location\n",
    "# distance is calculated and shown if it satisfies the criteria"
   ]
  },
  {
   "cell_type": "code",
   "execution_count": 7,
   "id": "a1d4da74",
   "metadata": {},
   "outputs": [],
   "source": [
    "## in chatting apps, the users rightswipe and matches their profiles if both users right swipe\n"
   ]
  },
  {
   "cell_type": "markdown",
   "id": "3fd6186e",
   "metadata": {},
   "source": [
    "#### Swapping"
   ]
  },
  {
   "cell_type": "code",
   "execution_count": 8,
   "id": "d192e2bf",
   "metadata": {},
   "outputs": [
    {
     "data": {
      "text/plain": [
       "(50, 20)"
      ]
     },
     "execution_count": 8,
     "metadata": {},
     "output_type": "execute_result"
    }
   ],
   "source": [
    "x = 20\n",
    "y = 50\n",
    "# output needed x = 50, y = 20\n",
    "z = x\n",
    "x = y\n",
    "y = z\n",
    "x,y"
   ]
  },
  {
   "cell_type": "code",
   "execution_count": 9,
   "id": "b99c221e",
   "metadata": {},
   "outputs": [
    {
     "name": "stdout",
     "output_type": "stream",
     "text": [
      "1,2\n",
      "x before swapping: 1\n",
      "y before swapping: 2\n",
      "\n",
      "x after swapping: 2\n",
      "y after swapping: 1\n"
     ]
    }
   ],
   "source": [
    "instring = input()\n",
    "mylist = instring.split(',')\n",
    "x = int(mylist[0])\n",
    "y = int(mylist[1])\n",
    "print('x before swapping: {0}'.format(x))\n",
    "print('y before swapping: {0}'.format(y))\n",
    "z = x\n",
    "x = y\n",
    "y = z\n",
    "print()\n",
    "print('x after swapping: {0}'.format(x))\n",
    "print('y after swapping: {0}'.format(y))\n"
   ]
  },
  {
   "cell_type": "markdown",
   "id": "8f75be77",
   "metadata": {},
   "source": [
    "#### Even or Odd"
   ]
  },
  {
   "cell_type": "code",
   "execution_count": 10,
   "id": "dd767a11",
   "metadata": {},
   "outputs": [
    {
     "name": "stdout",
     "output_type": "stream",
     "text": [
      "Enter the number: 5\n",
      "It is odd number\n"
     ]
    }
   ],
   "source": [
    "number = int(input('Enter the number: '))\n",
    "if number%2 ==0:\n",
    "    print('It is even number')\n",
    "else:\n",
    "    print('It is odd number')"
   ]
  },
  {
   "cell_type": "markdown",
   "id": "7031cec5",
   "metadata": {},
   "source": [
    "#### Alarm clock"
   ]
  },
  {
   "cell_type": "code",
   "execution_count": 11,
   "id": "4b445ac8",
   "metadata": {},
   "outputs": [],
   "source": [
    "# day of week - 1 to 7\n",
    "# weekend - 6 and 7\n",
    "# weekday - 1 to 5\n",
    "# vacation : true or false "
   ]
  },
  {
   "cell_type": "code",
   "execution_count": 12,
   "id": "d0cbd2a4",
   "metadata": {},
   "outputs": [
    {
     "name": "stdout",
     "output_type": "stream",
     "text": [
      "6,True\n",
      "off\n"
     ]
    }
   ],
   "source": [
    "# take input using ast sys\n",
    "import ast\n",
    "input_str = input()\n",
    "# ast.literal_eval() will evaluate and make a datastructure for the same\n",
    "# here the input is a list in '[...]', so a list will be made as passed\n",
    "input_list = ast.literal_eval(input_str)\n",
    "dayofweek = input_list[0]\n",
    "isonvacation =input_list[1]\n",
    "\n",
    "\n",
    "def alarm_time(dayofweek,isonvacation):\n",
    "    weekend = [6,7]\n",
    "    if isonvacation:\n",
    "        if dayofweek not in weekend:\n",
    "            return '10:00'\n",
    "        else:\n",
    "            return 'off'\n",
    "    else:\n",
    "        if dayofweek not in weekend:\n",
    "            return '7:00'\n",
    "        else:\n",
    "            return '10:00'\n",
    "print(alarm_time(dayofweek,isonvacation))"
   ]
  },
  {
   "cell_type": "markdown",
   "id": "a24a4840",
   "metadata": {},
   "source": [
    "#### Factorial"
   ]
  },
  {
   "cell_type": "code",
   "execution_count": 13,
   "id": "6d222320",
   "metadata": {},
   "outputs": [
    {
     "name": "stdout",
     "output_type": "stream",
     "text": [
      "5\n",
      "120\n"
     ]
    }
   ],
   "source": [
    "# n! = n*(n-1)*(n-2)*....3*2*1\n",
    "n = int(input())\n",
    "def factorial(n):\n",
    "    if n<0:\n",
    "        return -1\n",
    "    elif n == 0:\n",
    "        return 1\n",
    "    else:\n",
    "        f = 1\n",
    "        for i in range(1,n+1):\n",
    "            f = f*i\n",
    "        return f\n",
    "k =factorial(n)\n",
    "print(k)"
   ]
  },
  {
   "cell_type": "markdown",
   "id": "db445ba0",
   "metadata": {},
   "source": [
    "#### Reverse the digits"
   ]
  },
  {
   "cell_type": "code",
   "execution_count": 14,
   "id": "dbb95ef4",
   "metadata": {},
   "outputs": [
    {
     "name": "stdout",
     "output_type": "stream",
     "text": [
      "12345\n",
      "54321\n"
     ]
    }
   ],
   "source": [
    "#n =12345\n",
    "#output needed is n = 54321\n",
    "n = int(input())\n",
    "\n",
    "r = 0\n",
    "while(n>0):\n",
    "    r = r*10 + n%10\n",
    "    n = n//10\n",
    "print(r)"
   ]
  },
  {
   "cell_type": "markdown",
   "id": "d5cd1cf4",
   "metadata": {},
   "source": [
    "#### How many chocolates"
   ]
  },
  {
   "cell_type": "code",
   "execution_count": 15,
   "id": "fc677637",
   "metadata": {},
   "outputs": [],
   "source": [
    "# m = 15\n",
    "# cost = 2\n",
    "# extra chocolate for 3 wrappers\n",
    "# 15/2 - 7 chocolates - 7 wrappers - 2 chocolates\n",
    "# 1 wrapper left - for two chocolates, we get 2 wrappers, so we can get 1 more chocolate\n",
    "# we can get 10 chocolates"
   ]
  },
  {
   "cell_type": "code",
   "execution_count": 16,
   "id": "d11bfc0f",
   "metadata": {},
   "outputs": [
    {
     "name": "stdout",
     "output_type": "stream",
     "text": [
      "15,2\n",
      "10\n"
     ]
    }
   ],
   "source": [
    "mystring = input()\n",
    "mylist = mystring.split(',')\n",
    "m = int(mylist[0])\n",
    "c = int(mylist[1])\n",
    "choc = m//c\n",
    "w = m//c\n",
    "\n",
    "while w//3 != 0:\n",
    "    choc = choc + w//3\n",
    "    w = w//3 + w%3\n",
    "    \n",
    "print(choc)"
   ]
  },
  {
   "cell_type": "markdown",
   "id": "56e4b112",
   "metadata": {},
   "source": []
  },
  {
   "cell_type": "markdown",
   "id": "8bb3bf6c",
   "metadata": {},
   "source": [
    "#### pattern"
   ]
  },
  {
   "cell_type": "code",
   "execution_count": 17,
   "id": "6c5f6819",
   "metadata": {},
   "outputs": [
    {
     "name": "stdout",
     "output_type": "stream",
     "text": [
      "5\n",
      "    *\n",
      "    *_*\n",
      "    *_*_*\n",
      "    *_*_*_*\n",
      "    *_*_*_*_*\n"
     ]
    }
   ],
   "source": [
    "n = int(input())\n",
    "for i in range(1,n+1):\n",
    "    for j in range(n-1):\n",
    "        print(' ',end='')\n",
    "    for k in range(i-1):\n",
    "        print('*_',end='')\n",
    "    print('*')"
   ]
  },
  {
   "cell_type": "markdown",
   "id": "fd1534de",
   "metadata": {},
   "source": [
    "#### smallest element"
   ]
  },
  {
   "cell_type": "code",
   "execution_count": 18,
   "id": "551a8c69",
   "metadata": {},
   "outputs": [
    {
     "name": "stdout",
     "output_type": "stream",
     "text": [
      "1,2,3,4,5\n",
      "1\n"
     ]
    }
   ],
   "source": [
    "import ast\n",
    "input_str = input()\n",
    "input_list = ast.literal_eval(input_str)\n",
    "\n",
    "if len(input_list)==0:\n",
    "    print('no minimum')\n",
    "else:\n",
    "    m = input_list[0]\n",
    "    for item in input_list:\n",
    "        if item < m:\n",
    "            m = item\n",
    "    print(m)"
   ]
  },
  {
   "cell_type": "code",
   "execution_count": 19,
   "id": "f2ba9e13",
   "metadata": {},
   "outputs": [
    {
     "name": "stdout",
     "output_type": "stream",
     "text": [
      "1\n"
     ]
    }
   ],
   "source": [
    "# second method\n",
    "print(min(input_list))"
   ]
  },
  {
   "cell_type": "markdown",
   "id": "0000f84c",
   "metadata": {},
   "source": [
    "#### Average"
   ]
  },
  {
   "cell_type": "code",
   "execution_count": 20,
   "id": "4662a518",
   "metadata": {},
   "outputs": [
    {
     "name": "stdout",
     "output_type": "stream",
     "text": [
      "[[1,2,3,4,5],2]\n",
      "False\n"
     ]
    }
   ],
   "source": [
    "import ast\n",
    "input_str = input()\n",
    "input_list = ast.literal_eval(input_str)\n",
    "\n",
    "data = input_list[0]\n",
    "check = input_list[1]\n",
    "\n",
    "s=0\n",
    "for item in data:\n",
    "    s = s+item\n",
    "avg = s/len(data)\n",
    "\n",
    "if check > avg:\n",
    "    print(\"True\")\n",
    "else:\n",
    "    print(\"False\")"
   ]
  },
  {
   "cell_type": "markdown",
   "id": "0f26e419",
   "metadata": {},
   "source": [
    "#### Recruitment"
   ]
  },
  {
   "cell_type": "code",
   "execution_count": 21,
   "id": "0a92c4f9",
   "metadata": {},
   "outputs": [],
   "source": [
    "# Team = [23,45,34,76]\n",
    "# Applicant = [70,34,94]\n",
    "# recruit if applicant average is more than team average"
   ]
  },
  {
   "cell_type": "code",
   "execution_count": 22,
   "id": "ed78aec5",
   "metadata": {},
   "outputs": [
    {
     "name": "stdout",
     "output_type": "stream",
     "text": [
      "[10,20,30]\n",
      "[20,30,40]\n",
      "[10, 20, 30, 30, 40]\n"
     ]
    }
   ],
   "source": [
    "import ast\n",
    "team = ast.literal_eval(input())\n",
    "applicant = ast.literal_eval(input())\n",
    "\n",
    "def check_above_average(data, check):\n",
    "#     s=0\n",
    "#     for item in data:\n",
    "#         s = s+item\n",
    "    s = sum(data)\n",
    "    avg = s/len(data)\n",
    "\n",
    "    if check > avg:\n",
    "        return 1\n",
    "    else:\n",
    "        return 0\n",
    "    \n",
    "for appl in applicant:\n",
    "    is_add = check_above_average(team,appl)\n",
    "    if is_add == 1:\n",
    "        team.append(appl)\n",
    "print(team)"
   ]
  },
  {
   "cell_type": "markdown",
   "id": "e5b7a571",
   "metadata": {},
   "source": [
    "#### Calendar"
   ]
  },
  {
   "cell_type": "code",
   "execution_count": 23,
   "id": "e8d9db39",
   "metadata": {},
   "outputs": [],
   "source": [
    "## there may be series of events like [[29,31],[23,26],[24,25]]\n",
    "# wedding = 24"
   ]
  },
  {
   "cell_type": "code",
   "execution_count": 24,
   "id": "c83d6d68",
   "metadata": {},
   "outputs": [
    {
     "name": "stdout",
     "output_type": "stream",
     "text": [
      "[[1,4],[7,10],[8,8],[14,23]]\n",
      "15\n",
      "1\n"
     ]
    }
   ],
   "source": [
    "# [[1,4],[7,10],[8,8],[14,23]]\n",
    "\n",
    "import ast\n",
    "input_str1  = input()\n",
    "input_list1 = ast.literal_eval(input_str1)\n",
    "events = input_list1\n",
    "wedding = int(input())\n",
    "\n",
    "clash = 0\n",
    "for event in events:\n",
    "    if event[0] <= wedding and event[1] >=wedding:\n",
    "        clash = clash+1\n",
    "print(clash)"
   ]
  },
  {
   "cell_type": "markdown",
   "id": "d29ea647",
   "metadata": {},
   "source": [
    "#### Fenced matrix"
   ]
  },
  {
   "cell_type": "code",
   "execution_count": 26,
   "id": "b17094cb",
   "metadata": {},
   "outputs": [],
   "source": [
    "# # m = 4,n=5\n",
    "# [[0 0 0 0 0]\n",
    "# [0 0 0 0 0]\n",
    "# [0 0 0 0 0]\n",
    "# [0 0 0 0 0]]\n",
    "# #output needed - boundaries with 1\n",
    "# [[1 1 1 1 1]\n",
    "# [1 0 0 0 1]\n",
    "# [1 0 0 0 1]\n",
    "# [1 1 1 1 1]]"
   ]
  },
  {
   "cell_type": "code",
   "execution_count": 29,
   "id": "7d07122f",
   "metadata": {},
   "outputs": [
    {
     "name": "stdout",
     "output_type": "stream",
     "text": [
      "5,6\n",
      "[1, 1, 1, 1, 1, 1]\n",
      "[1, 0, 0, 0, 0, 1]\n",
      "[1, 0, 0, 0, 0, 1]\n",
      "[1, 0, 0, 0, 0, 1]\n",
      "[1, 1, 1, 1, 1, 1]\n"
     ]
    }
   ],
   "source": [
    "import ast\n",
    "mylist = ast.literal_eval(input())\n",
    "m = mylist[0]\n",
    "n = mylist[1]\n",
    "\n",
    "final = [0]*n\n",
    "final= [list(final) for i in range(m)]\n",
    "\n",
    "for i in range(m):\n",
    "    for j in range(n):\n",
    "        if i ==0 or j==0 or i ==m-1 or j==n-1:\n",
    "            final[i][j] = 1\n",
    "for i in final:\n",
    "    print(i)"
   ]
  },
  {
   "cell_type": "markdown",
   "id": "b843209c",
   "metadata": {},
   "source": [
    "#### Palindrome"
   ]
  },
  {
   "cell_type": "code",
   "execution_count": 30,
   "id": "6e7f6081",
   "metadata": {},
   "outputs": [],
   "source": [
    "# s = HanNah\n",
    "# convert to lowercase\n",
    "# reverse and make a newstring\n",
    "# check if original and new are equal.. if they are equal , then it is palindrome"
   ]
  },
  {
   "cell_type": "code",
   "execution_count": 34,
   "id": "541bf048",
   "metadata": {},
   "outputs": [
    {
     "name": "stdout",
     "output_type": "stream",
     "text": [
      "naman\n",
      "1\n"
     ]
    }
   ],
   "source": [
    "s = input()\n",
    "s = s.lower()\n",
    "r =\"\"\n",
    "for i in s:\n",
    "    r = i+r\n",
    "if r == s:\n",
    "    print(1)\n",
    "else:\n",
    "    print(0)"
   ]
  },
  {
   "cell_type": "markdown",
   "id": "22353ba3",
   "metadata": {},
   "source": [
    "#### Reverse words"
   ]
  },
  {
   "cell_type": "code",
   "execution_count": 35,
   "id": "ccb77239",
   "metadata": {},
   "outputs": [],
   "source": [
    "# s = 'I LOVE CODING'\n",
    "# o = 'CODING LOVE I'\n",
    "# split words and we get a list of words\n",
    "# we need to reverse the words using reverse function\n",
    "# ' '.join the list"
   ]
  },
  {
   "cell_type": "code",
   "execution_count": 36,
   "id": "f5a7ca9e",
   "metadata": {},
   "outputs": [
    {
     "name": "stdout",
     "output_type": "stream",
     "text": [
      "python is fun\n",
      "fun is python\n"
     ]
    }
   ],
   "source": [
    "sentence = input()\n",
    "words = sentence.split(' ')\n",
    "words.reverse()\n",
    "# reversed_list = words[::-1]\n",
    "finalstring = ' '.join(words)\n",
    "print(finalstring)"
   ]
  },
  {
   "cell_type": "markdown",
   "id": "afd296bc",
   "metadata": {},
   "source": [
    "#### No Spaces"
   ]
  },
  {
   "cell_type": "code",
   "execution_count": 39,
   "id": "77fa296b",
   "metadata": {},
   "outputs": [
    {
     "name": "stdout",
     "output_type": "stream",
     "text": [
      "data science\n",
      "Data_Science\n"
     ]
    }
   ],
   "source": [
    "# # s = calrie consumed\n",
    "# # o = Calorie_Consumed\n",
    "# # convert to lowercase\n",
    "# split based on space and it will give list of words\n",
    "# use upper function for it and then join it using _ as delimiter\n",
    "s = input()\n",
    "s = s.lower()\n",
    "words = s.split(' ')\n",
    "# final = [word[0].upper() + word[1:] for word in words]\n",
    "final = [word.title() for word in words]\n",
    "finalstring = '_'.join(final)\n",
    "print(finalstring)"
   ]
  },
  {
   "cell_type": "markdown",
   "id": "6bfbaffa",
   "metadata": {},
   "source": [
    "#### Move vowels"
   ]
  },
  {
   "cell_type": "code",
   "execution_count": 40,
   "id": "595cc31f",
   "metadata": {},
   "outputs": [],
   "source": [
    "# s = 'programming'\n",
    "# vowels = a e i o u\n",
    "# o = 'oaiprgrmmng'"
   ]
  },
  {
   "cell_type": "code",
   "execution_count": 41,
   "id": "e4cbd456",
   "metadata": {},
   "outputs": [
    {
     "name": "stdout",
     "output_type": "stream",
     "text": [
      "you love python\n",
      "ouoeoy lv pythn\n"
     ]
    }
   ],
   "source": [
    "s = input()\n",
    "vowels = 'aeiouAEIOU'\n",
    "v =\"\"\n",
    "o =\"\"\n",
    "for i in s:\n",
    "    if i in vowels:\n",
    "        v = v+i\n",
    "    else:\n",
    "        o = o+i\n",
    "final = v+o\n",
    "print(final)"
   ]
  },
  {
   "cell_type": "markdown",
   "id": "72841ac3",
   "metadata": {},
   "source": [
    "#### Common Prefix"
   ]
  },
  {
   "cell_type": "code",
   "execution_count": 2,
   "id": "a82222e9",
   "metadata": {},
   "outputs": [
    {
     "name": "stdout",
     "output_type": "stream",
     "text": [
      "PROGRESS\n",
      "PROTEST\n",
      "pro\n"
     ]
    }
   ],
   "source": [
    "s1 = input()\n",
    "s2 = input()\n",
    "s1 = s1.lower()\n",
    "s2 = s2.lower()\n",
    "l1 = len(s1)\n",
    "l2 = len(s2)\n",
    "min_len = min(l1,l2)\n",
    "\n",
    "for i in range(min_len):\n",
    "    if s1[i] != s2[i]:\n",
    "        break\n",
    "if i ==0:\n",
    "    print(-1)\n",
    "else:\n",
    "    print(s1[:i])"
   ]
  },
  {
   "cell_type": "markdown",
   "id": "98fdd258",
   "metadata": {},
   "source": []
  },
  {
   "cell_type": "markdown",
   "id": "c43d51e5",
   "metadata": {},
   "source": [
    "#### Anagrams\n"
   ]
  },
  {
   "cell_type": "code",
   "execution_count": 4,
   "id": "dc4db319",
   "metadata": {},
   "outputs": [
    {
     "name": "stdout",
     "output_type": "stream",
     "text": [
      "a gentleman\n",
      "elegant man\n",
      "True\n"
     ]
    }
   ],
   "source": [
    "# Two strings are anagrams of each other if we can arrange the characters of one string to make the other string\n",
    "s1 = input()\n",
    "s2 = input()\n",
    "\n",
    "def anagram(s1,s2):\n",
    "    if len(s1) != len(s2):\n",
    "        return False\n",
    "    for i in range(len(s1)):\n",
    "        if s1.count(s1[i])  != s2.count(s1[i]):\n",
    "            return False\n",
    "    return True\n",
    "print(anagram(s1,s2))"
   ]
  },
  {
   "cell_type": "markdown",
   "id": "aef8a9a3",
   "metadata": {},
   "source": [
    "#### Remove duplicates"
   ]
  },
  {
   "cell_type": "code",
   "execution_count": 6,
   "id": "f90ec8cc",
   "metadata": {},
   "outputs": [
    {
     "name": "stdout",
     "output_type": "stream",
     "text": [
      "[4,4,4,4,3,3,3,2]\n",
      "[4, 3, 2]\n"
     ]
    }
   ],
   "source": [
    "# [4,4,4,4,3,3,3,2]\n",
    "import ast\n",
    "mylist = ast.literal_eval(input())\n",
    "d = {}\n",
    "for item in mylist:\n",
    "    if item not in d:\n",
    "        d[item] = 1\n",
    "print(list(d.keys()))\n",
    "        \n"
   ]
  },
  {
   "cell_type": "markdown",
   "id": "c172f692",
   "metadata": {},
   "source": [
    "#### Dictonary to list"
   ]
  },
  {
   "cell_type": "code",
   "execution_count": 7,
   "id": "7c5a6ce2",
   "metadata": {},
   "outputs": [
    {
     "name": "stdout",
     "output_type": "stream",
     "text": [
      "{'mobile': ['Redmi','samsung']}\n",
      "['mobile_Redmi', 'mobile_samsung']\n"
     ]
    }
   ],
   "source": [
    "import ast\n",
    "input_str = input()\n",
    "input_dict = ast.literal_eval(input_str)\n",
    "final = []\n",
    "for key in input_dict.keys():\n",
    "    for word in input_dict[key]:\n",
    "        final.append(key+'_'+word)\n",
    "print(final)"
   ]
  },
  {
   "cell_type": "markdown",
   "id": "39deb179",
   "metadata": {},
   "source": [
    "#### Characters appearing sequence wise - upgrad string"
   ]
  },
  {
   "cell_type": "code",
   "execution_count": 10,
   "id": "616dc27b",
   "metadata": {
    "scrolled": true
   },
   "outputs": [
    {
     "name": "stdout",
     "output_type": "stream",
     "text": [
      "$yrr$ssrsr\n",
      "True\n"
     ]
    }
   ],
   "source": [
    "s = input()\n",
    "d= {}\n",
    "for i in s:\n",
    "    if i not in d:\n",
    "        d[i] = 1\n",
    "    else:\n",
    "        d[i] = d[i] + 1\n",
    "vals = d.values()\n",
    "n = len(d)\n",
    "def upgrad_string(vals):\n",
    "    for i in range(1,n+1):\n",
    "        if i not in vals:\n",
    "            return False\n",
    "    return True\n",
    "print(upgrad_string(vals))"
   ]
  },
  {
   "cell_type": "markdown",
   "id": "471bbe4b",
   "metadata": {},
   "source": [
    "#### Balanced Brackets"
   ]
  },
  {
   "cell_type": "code",
   "execution_count": 12,
   "id": "48ce6ee0",
   "metadata": {},
   "outputs": [
    {
     "name": "stdout",
     "output_type": "stream",
     "text": [
      "((({{{[[]]}}})))\n",
      "Yes\n"
     ]
    }
   ],
   "source": [
    "# '(()'\n",
    "inp = input()\n",
    "\n",
    "stack = []\n",
    "for i in inp:\n",
    "    if len(stack)==0:\n",
    "        stack.append(i)\n",
    "    else:\n",
    "        if i ==')' and stack[-1]=='(':\n",
    "            stack.pop()\n",
    "        elif i ==']' and stack[-1]=='[':\n",
    "            stack.pop()\n",
    "        elif i =='}' and stack[-1]=='{':\n",
    "            stack.pop()\n",
    "        else:\n",
    "            stack.append(i)\n",
    "if stack:\n",
    "    print('No')\n",
    "else:\n",
    "    print('Yes')\n"
   ]
  },
  {
   "cell_type": "code",
   "execution_count": null,
   "id": "cf094d8b",
   "metadata": {},
   "outputs": [],
   "source": []
  }
 ],
 "metadata": {
  "kernelspec": {
   "display_name": "Python 3 (ipykernel)",
   "language": "python",
   "name": "python3"
  },
  "language_info": {
   "codemirror_mode": {
    "name": "ipython",
    "version": 3
   },
   "file_extension": ".py",
   "mimetype": "text/x-python",
   "name": "python",
   "nbconvert_exporter": "python",
   "pygments_lexer": "ipython3",
   "version": "3.9.7"
  }
 },
 "nbformat": 4,
 "nbformat_minor": 5
}
