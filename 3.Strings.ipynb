{
 "cells": [
  {
   "cell_type": "markdown",
   "id": "54bce8fb-5ec2-4b11-b691-b670bc44f9d5",
   "metadata": {},
   "source": [
    "# strings"
   ]
  },
  {
   "cell_type": "code",
   "execution_count": 3,
   "id": "3c8da3d1-13c2-4ac2-abba-3192cc21a835",
   "metadata": {},
   "outputs": [],
   "source": [
    "# strings are sequence of characters\n",
    "# in single quotes, or double quotes for strings\n",
    "# for multiline strings we use triple quotes\n"
   ]
  },
  {
   "cell_type": "code",
   "execution_count": 5,
   "id": "4b745568-df61-48d7-aecf-1cc54386408c",
   "metadata": {},
   "outputs": [
    {
     "data": {
      "text/plain": [
       "'hello'"
      ]
     },
     "execution_count": 5,
     "metadata": {},
     "output_type": "execute_result"
    }
   ],
   "source": [
    "'hello'"
   ]
  },
  {
   "cell_type": "code",
   "execution_count": 7,
   "id": "b623bfaf-8c41-4a41-825b-d2fb81eb2fa3",
   "metadata": {},
   "outputs": [
    {
     "data": {
      "text/plain": [
       "'world'"
      ]
     },
     "execution_count": 7,
     "metadata": {},
     "output_type": "execute_result"
    }
   ],
   "source": [
    "\"world\""
   ]
  },
  {
   "cell_type": "code",
   "execution_count": 9,
   "id": "14ba18c0-b275-42ce-bfaf-96c3a082c5b3",
   "metadata": {},
   "outputs": [
    {
     "data": {
      "text/plain": [
       "'\\nhello\\nworld\\n'"
      ]
     },
     "execution_count": 9,
     "metadata": {},
     "output_type": "execute_result"
    }
   ],
   "source": [
    "'''\n",
    "hello\n",
    "world\n",
    "'''\n"
   ]
  },
  {
   "cell_type": "code",
   "execution_count": 13,
   "id": "2ceda7c6-313b-4b3e-ad19-818c59c28b3d",
   "metadata": {},
   "outputs": [],
   "source": [
    "# \" hello world ' # this cause error "
   ]
  },
  {
   "cell_type": "code",
   "execution_count": 17,
   "id": "1648868c-10cd-4eed-a9a0-1d4d6af6a6b9",
   "metadata": {},
   "outputs": [],
   "source": [
    "# small letter, capital letters, numbers, whitespaces, special characters are allowed\n"
   ]
  },
  {
   "cell_type": "code",
   "execution_count": 19,
   "id": "de9c1611-aa12-45d3-b741-3ec16facfa54",
   "metadata": {},
   "outputs": [
    {
     "name": "stdout",
     "output_type": "stream",
     "text": [
      "This is some sentence, UPPERCASE, lowercase, or !@#$%^&*()\n"
     ]
    }
   ],
   "source": [
    "print(\"This is some sentence, UPPERCASE, lowercase, or !@#$%^&*()\")"
   ]
  },
  {
   "cell_type": "code",
   "execution_count": 21,
   "id": "da91127e-cb7d-4189-974c-7e90d9045750",
   "metadata": {},
   "outputs": [],
   "source": [
    "# American standard code for info interchange\n",
    "# it has 256 characters\n",
    "# encoding -> UTF - 8 / unicode/ ANSI\n"
   ]
  },
  {
   "cell_type": "code",
   "execution_count": 23,
   "id": "6032ab98-2f7b-4f8d-bea1-1975629f5bd9",
   "metadata": {},
   "outputs": [
    {
     "data": {
      "text/plain": [
       "True"
      ]
     },
     "execution_count": 23,
     "metadata": {},
     "output_type": "execute_result"
    }
   ],
   "source": [
    "\"a\" > \"A\""
   ]
  },
  {
   "cell_type": "code",
   "execution_count": 29,
   "id": "bf413b4d-64d7-43c5-a19a-77751ab66ad4",
   "metadata": {},
   "outputs": [
    {
     "data": {
      "text/plain": [
       "65"
      ]
     },
     "execution_count": 29,
     "metadata": {},
     "output_type": "execute_result"
    }
   ],
   "source": [
    "# to get ascii value\n",
    "ord(\"A\")"
   ]
  },
  {
   "cell_type": "code",
   "execution_count": 31,
   "id": "0f62d53f-f170-4758-9b49-19c0c6a93f08",
   "metadata": {},
   "outputs": [
    {
     "data": {
      "text/plain": [
       "97"
      ]
     },
     "execution_count": 31,
     "metadata": {},
     "output_type": "execute_result"
    }
   ],
   "source": [
    "ord(\"a\")"
   ]
  },
  {
   "cell_type": "code",
   "execution_count": 38,
   "id": "7658cfa8-b803-4afc-828a-3df8279da5e7",
   "metadata": {},
   "outputs": [
    {
     "data": {
      "text/plain": [
       "'a'"
      ]
     },
     "execution_count": 38,
     "metadata": {},
     "output_type": "execute_result"
    }
   ],
   "source": [
    "# character - to get character of ascii codes\n",
    "chr(97)"
   ]
  },
  {
   "cell_type": "code",
   "execution_count": 44,
   "id": "63ae2cc9-5fea-4e69-82ff-3b1441c5898e",
   "metadata": {},
   "outputs": [
    {
     "data": {
      "text/plain": [
       "'string1string2'"
      ]
     },
     "execution_count": 44,
     "metadata": {},
     "output_type": "execute_result"
    }
   ],
   "source": [
    "'string1' + 'string2' # string concatenation"
   ]
  },
  {
   "cell_type": "code",
   "execution_count": 46,
   "id": "597b07b8-acd2-4f5f-ab47-4d945ec46e02",
   "metadata": {},
   "outputs": [
    {
     "data": {
      "text/plain": [
       "'aaaaaaaaaaaaaaa'"
      ]
     },
     "execution_count": 46,
     "metadata": {},
     "output_type": "execute_result"
    }
   ],
   "source": [
    "\"a\" * 3 * 5"
   ]
  },
  {
   "cell_type": "code",
   "execution_count": 48,
   "id": "c81ed594-1310-4260-bc9d-252bec3f4bf2",
   "metadata": {},
   "outputs": [
    {
     "data": {
      "text/plain": [
       "'bbdddd'"
      ]
     },
     "execution_count": 48,
     "metadata": {},
     "output_type": "execute_result"
    }
   ],
   "source": [
    "\"b\" * 2 + \"d\" * 4"
   ]
  },
  {
   "cell_type": "code",
   "execution_count": 52,
   "id": "402d577b-bef4-44b0-b16b-aeddb67b243c",
   "metadata": {},
   "outputs": [
    {
     "data": {
      "text/plain": [
       "'dedefefefefe'"
      ]
     },
     "execution_count": 52,
     "metadata": {},
     "output_type": "execute_result"
    }
   ],
   "source": [
    "\"de\" * 2 + \"fe\" * 4"
   ]
  },
  {
   "cell_type": "code",
   "execution_count": 58,
   "id": "1893b0b9-44c0-41e2-bd69-0d0b1fc533da",
   "metadata": {},
   "outputs": [],
   "source": [
    " # lexigraphical order - dictionary"
   ]
  },
  {
   "cell_type": "code",
   "execution_count": 64,
   "id": "7f78c74c-bea7-4c64-82a6-073b01a83f8d",
   "metadata": {},
   "outputs": [
    {
     "data": {
      "text/plain": [
       "True"
      ]
     },
     "execution_count": 64,
     "metadata": {},
     "output_type": "execute_result"
    }
   ],
   "source": [
    "\"zebra\" > \"fdhdkjlgdhla\"\n",
    "# true because z is > a"
   ]
  },
  {
   "cell_type": "code",
   "execution_count": 66,
   "id": "160819dd-54e1-425f-8cbf-81c1d80566af",
   "metadata": {},
   "outputs": [
    {
     "data": {
      "text/plain": [
       "False"
      ]
     },
     "execution_count": 66,
     "metadata": {},
     "output_type": "execute_result"
    }
   ],
   "source": [
    "\"aAa\" > \"aaa\" # it will compare second letters because first is same"
   ]
  },
  {
   "cell_type": "code",
   "execution_count": 94,
   "id": "20262781-42f9-4792-bf7a-c9d8c219eec0",
   "metadata": {},
   "outputs": [
    {
     "name": "stdout",
     "output_type": "stream",
     "text": [
      "Length= 5 Breadth= 10 Area= 50\n",
      "Length= 5, Breadth= 10, Area= 50\n",
      "Length= 5, Breadth= 10, Area= 50\n"
     ]
    }
   ],
   "source": [
    "l = 5\n",
    "b = 10\n",
    "a = l * b\n",
    "print(\"Length=\",l,\"Breadth=\",b,\"Area=\",a)\n",
    "print(\"Length= {}, Breadth= {}, Area= {}\".format(l,b,a))\n",
    "print(f\"Length= {l}, Breadth= {b}, Area= {a}\")"
   ]
  },
  {
   "cell_type": "code",
   "execution_count": 98,
   "id": "3f314bd3-d70e-460e-9f23-0d496c6f95e1",
   "metadata": {},
   "outputs": [
    {
     "name": "stdout",
     "output_type": "stream",
     "text": [
      "HloWrd"
     ]
    }
   ],
   "source": [
    "message = 'Hello World!'\n",
    "i = 0\n",
    "while i < len(message):\n",
    "    if i%2 ==0 :\n",
    "        print(message[i], end = '')\n",
    "    i+=1"
   ]
  },
  {
   "cell_type": "code",
   "execution_count": 100,
   "id": "b99385ed-7e6d-4ff8-a2ac-1a1d63664e44",
   "metadata": {},
   "outputs": [
    {
     "name": "stdout",
     "output_type": "stream",
     "text": [
      "['4', '5', '6', '7', '8', '9']\n"
     ]
    }
   ],
   "source": [
    "print(\"4 5 6 7 8 9\".split())"
   ]
  },
  {
   "cell_type": "code",
   "execution_count": 102,
   "id": "388caa51-39f5-4566-ab2e-80873c2374c8",
   "metadata": {},
   "outputs": [
    {
     "name": "stdout",
     "output_type": "stream",
     "text": [
      "['Hi,', 'How', 'are', 'you?']\n"
     ]
    }
   ],
   "source": [
    "print(\"Hi, How are you?\".split())"
   ]
  },
  {
   "cell_type": "code",
   "execution_count": 104,
   "id": "74bbdbbc-7fe0-498e-b5cd-279602eb8610",
   "metadata": {},
   "outputs": [
    {
     "name": "stdout",
     "output_type": "stream",
     "text": [
      "['This', 'is', 'an', 'underscore', 'seperated', 'string']\n"
     ]
    }
   ],
   "source": [
    "print(\"This_is_an_underscore_seperated_string\".split(\"_\"))"
   ]
  },
  {
   "cell_type": "code",
   "execution_count": 108,
   "id": "78c97ddb-4e8b-4bf8-84d7-503628210822",
   "metadata": {},
   "outputs": [
    {
     "data": {
      "text/plain": [
       "'T'"
      ]
     },
     "execution_count": 108,
     "metadata": {},
     "output_type": "execute_result"
    }
   ],
   "source": [
    "l = \"This_is_an_underscore_seperated_string\"\n",
    "l[0]"
   ]
  },
  {
   "cell_type": "code",
   "execution_count": 111,
   "id": "15e11112-c677-4f55-bd73-c6d6518e2ca3",
   "metadata": {},
   "outputs": [
    {
     "data": {
      "text/plain": [
       "'g'"
      ]
     },
     "execution_count": 111,
     "metadata": {},
     "output_type": "execute_result"
    }
   ],
   "source": [
    "l[-1]\n"
   ]
  },
  {
   "cell_type": "code",
   "execution_count": 113,
   "id": "07655810-983a-4d73-b0e6-67dddc4692e6",
   "metadata": {},
   "outputs": [
    {
     "data": {
      "text/plain": [
       "['This', 'is', 'an', 'underscore', 'seperated', 'string']"
      ]
     },
     "execution_count": 113,
     "metadata": {},
     "output_type": "execute_result"
    }
   ],
   "source": [
    "randomstring = \"This_is_an_underscore_seperated_string\".split(\"_\")\n",
    "randomstring"
   ]
  },
  {
   "cell_type": "code",
   "execution_count": 115,
   "id": "125b8a49-6546-4b8d-8b6f-b5776d16a862",
   "metadata": {},
   "outputs": [
    {
     "data": {
      "text/plain": [
       "'This is an underscore seperated string'"
      ]
     },
     "execution_count": 115,
     "metadata": {},
     "output_type": "execute_result"
    }
   ],
   "source": [
    "#to join the string present in list\n",
    "\" \".join(randomstring)"
   ]
  },
  {
   "cell_type": "code",
   "execution_count": 117,
   "id": "db210fbf-7a70-4952-a59e-be8e6740be10",
   "metadata": {},
   "outputs": [
    {
     "data": {
      "text/plain": [
       "'This-is-an-underscore-seperated-string'"
      ]
     },
     "execution_count": 117,
     "metadata": {},
     "output_type": "execute_result"
    }
   ],
   "source": [
    "# join with -\n",
    "\"-\".join(randomstring)"
   ]
  },
  {
   "cell_type": "code",
   "execution_count": 119,
   "id": "36dd7e5b-3a70-4d0c-9b86-2ce1a82ba9d4",
   "metadata": {},
   "outputs": [
    {
     "data": {
      "text/plain": [
       "2"
      ]
     },
     "execution_count": 119,
     "metadata": {},
     "output_type": "execute_result"
    }
   ],
   "source": [
    "\"This_is_an_underscore_seperated_string\".find(\"is\")"
   ]
  },
  {
   "cell_type": "code",
   "execution_count": 121,
   "id": "ce0c93eb-2a54-424a-8654-16180a969da3",
   "metadata": {},
   "outputs": [
    {
     "data": {
      "text/plain": [
       "-1"
      ]
     },
     "execution_count": 121,
     "metadata": {},
     "output_type": "execute_result"
    }
   ],
   "source": [
    "# if any string is not present , it will show -1\n",
    "\"This_is_an_underscore_seperated_string\".find(\"india\")"
   ]
  },
  {
   "cell_type": "code",
   "execution_count": 123,
   "id": "5b356bf4-c166-44c5-8f82-f55a48265421",
   "metadata": {},
   "outputs": [
    {
     "data": {
      "text/plain": [
       "'This is so much interesting book'"
      ]
     },
     "execution_count": 123,
     "metadata": {},
     "output_type": "execute_result"
    }
   ],
   "source": [
    "random = \"This is very interesting book\"\n",
    "random.replace(\"very\", \"so much\")"
   ]
  },
  {
   "cell_type": "code",
   "execution_count": 125,
   "id": "6f2eedf6-79ce-4dda-8799-734905c32aa6",
   "metadata": {},
   "outputs": [
    {
     "data": {
      "text/plain": [
       "'This is very interesting book'"
      ]
     },
     "execution_count": 125,
     "metadata": {},
     "output_type": "execute_result"
    }
   ],
   "source": [
    "random"
   ]
  },
  {
   "cell_type": "code",
   "execution_count": 127,
   "id": "240e05af-a114-4f8a-b1f9-d73c673d0178",
   "metadata": {},
   "outputs": [
    {
     "data": {
      "text/plain": [
       "4"
      ]
     },
     "execution_count": 127,
     "metadata": {},
     "output_type": "execute_result"
    }
   ],
   "source": [
    "# count i's in string\n",
    "random.count('i')"
   ]
  },
  {
   "cell_type": "code",
   "execution_count": 131,
   "id": "6e77229b-3590-43a3-bd8e-6a0af6fd8d35",
   "metadata": {},
   "outputs": [
    {
     "data": {
      "text/plain": [
       "1"
      ]
     },
     "execution_count": 131,
     "metadata": {},
     "output_type": "execute_result"
    }
   ],
   "source": [
    "random.count('very')"
   ]
  },
  {
   "cell_type": "code",
   "execution_count": 1,
   "id": "c537661a-25fa-44c7-84ed-fdcb1e5d4a10",
   "metadata": {},
   "outputs": [
    {
     "data": {
      "text/plain": [
       "True"
      ]
     },
     "execution_count": 1,
     "metadata": {},
     "output_type": "execute_result"
    }
   ],
   "source": [
    "'6'.isdigit()"
   ]
  },
  {
   "cell_type": "code",
   "execution_count": 3,
   "id": "10749668-ba64-403d-9fe1-35486a863a87",
   "metadata": {},
   "outputs": [
    {
     "data": {
      "text/plain": [
       "False"
      ]
     },
     "execution_count": 3,
     "metadata": {},
     "output_type": "execute_result"
    }
   ],
   "source": [
    "'world123'.isdigit()"
   ]
  },
  {
   "cell_type": "code",
   "execution_count": 7,
   "id": "7624a1fd-ad2a-4b16-aa4e-d97a204c3d45",
   "metadata": {},
   "outputs": [
    {
     "data": {
      "text/plain": [
       "False"
      ]
     },
     "execution_count": 7,
     "metadata": {},
     "output_type": "execute_result"
    }
   ],
   "source": [
    "\"1245\".isdigit()"
   ]
  },
  {
   "cell_type": "code",
   "execution_count": 9,
   "id": "63a21cbe-970b-46c1-b096-037ee2e14d69",
   "metadata": {},
   "outputs": [
    {
     "data": {
      "text/plain": [
       "False"
      ]
     },
     "execution_count": 9,
     "metadata": {},
     "output_type": "execute_result"
    }
   ],
   "source": [
    "\"124 5\".isdigit()"
   ]
  },
  {
   "cell_type": "code",
   "execution_count": 11,
   "id": "ea210fa4-6945-4078-bcce-e63af4b9fba4",
   "metadata": {},
   "outputs": [
    {
     "data": {
      "text/plain": [
       "True"
      ]
     },
     "execution_count": 11,
     "metadata": {},
     "output_type": "execute_result"
    }
   ],
   "source": [
    "\"world\".isalpha()"
   ]
  },
  {
   "cell_type": "code",
   "execution_count": 13,
   "id": "a8e304c5-76ec-4873-8a84-5f67dfe11012",
   "metadata": {},
   "outputs": [
    {
     "data": {
      "text/plain": [
       "False"
      ]
     },
     "execution_count": 13,
     "metadata": {},
     "output_type": "execute_result"
    }
   ],
   "source": [
    "\"world123\".isalpha()"
   ]
  },
  {
   "cell_type": "code",
   "execution_count": 15,
   "id": "23c8b77d-7bbf-4b7e-959e-2f8ccc6b8791",
   "metadata": {},
   "outputs": [
    {
     "data": {
      "text/plain": [
       "True"
      ]
     },
     "execution_count": 15,
     "metadata": {},
     "output_type": "execute_result"
    }
   ],
   "source": [
    "\"world123\".isalnum() # both alpha and numbers"
   ]
  },
  {
   "cell_type": "code",
   "execution_count": 17,
   "id": "8b142e3b-4706-4483-997d-7471cb2cfbe8",
   "metadata": {},
   "outputs": [
    {
     "data": {
      "text/plain": [
       "True"
      ]
     },
     "execution_count": 17,
     "metadata": {},
     "output_type": "execute_result"
    }
   ],
   "source": [
    "'A'.isupper()"
   ]
  },
  {
   "cell_type": "code",
   "execution_count": 19,
   "id": "8c3cd0ad-30ce-49c6-b62d-6277e39aa75f",
   "metadata": {},
   "outputs": [
    {
     "data": {
      "text/plain": [
       "True"
      ]
     },
     "execution_count": 19,
     "metadata": {},
     "output_type": "execute_result"
    }
   ],
   "source": [
    "'a'.islower()"
   ]
  },
  {
   "cell_type": "code",
   "execution_count": 21,
   "id": "6b9b906d-72cc-46a4-9657-562a48d6571f",
   "metadata": {},
   "outputs": [
    {
     "data": {
      "text/plain": [
       "False"
      ]
     },
     "execution_count": 21,
     "metadata": {},
     "output_type": "execute_result"
    }
   ],
   "source": [
    "'A'.islower()"
   ]
  },
  {
   "cell_type": "code",
   "execution_count": 23,
   "id": "b8c5b3ff-c242-47de-80d3-f4de82e17762",
   "metadata": {},
   "outputs": [],
   "source": [
    "# take a string input from the user and reverse the string"
   ]
  },
  {
   "cell_type": "code",
   "execution_count": 25,
   "id": "a7e44fcb-0a13-4320-9afd-caf5a715c69a",
   "metadata": {},
   "outputs": [
    {
     "name": "stdin",
     "output_type": "stream",
     "text": [
      " pavan\n"
     ]
    },
    {
     "name": "stdout",
     "output_type": "stream",
     "text": [
      "navap\n"
     ]
    }
   ],
   "source": [
    "s = input()\n",
    "print(s[::-1])"
   ]
  },
  {
   "cell_type": "code",
   "execution_count": 33,
   "id": "2e9af974-ba80-4f78-a9e5-4d6928463268",
   "metadata": {},
   "outputs": [
    {
     "name": "stdin",
     "output_type": "stream",
     "text": [
      " navan\n"
     ]
    },
    {
     "data": {
      "text/plain": [
       "'palindrome'"
      ]
     },
     "execution_count": 33,
     "metadata": {},
     "output_type": "execute_result"
    }
   ],
   "source": [
    "# take a string input from the user\n",
    "# return palindrome if it is palindrome otherwise not a palindrome\n",
    "\n",
    "a = input()\n",
    "\n",
    "def check_palindrome(a):\n",
    "    return 'palindrome' if a == a[::-1] else 'not a palindrome'\n",
    "\n",
    "check_palindrome(a)"
   ]
  },
  {
   "cell_type": "code",
   "execution_count": 45,
   "id": "d43ecc73-e57a-4426-81af-331d94466d58",
   "metadata": {},
   "outputs": [
    {
     "name": "stdin",
     "output_type": "stream",
     "text": [
      " Nitin\n"
     ]
    },
    {
     "data": {
      "text/plain": [
       "'not a palindrome'"
      ]
     },
     "execution_count": 45,
     "metadata": {},
     "output_type": "execute_result"
    }
   ],
   "source": [
    "a2 = input()\n",
    "check_palindrome(a2)\n",
    "# Nitin is a palindrome, but there is wrong output"
   ]
  },
  {
   "cell_type": "code",
   "execution_count": 59,
   "id": "89b65ace-ee44-4fad-99bc-8483a38351ab",
   "metadata": {},
   "outputs": [
    {
     "name": "stdin",
     "output_type": "stream",
     "text": [
      "Enter the string pavan\n"
     ]
    }
   ],
   "source": [
    "a = input(\"Enter the string\" )\n",
    "def check_palindrome(a):\n",
    "    a = a.lower()\n",
    "    return 'palindrome' if a == a[::-1] else 'not a palindrome'"
   ]
  },
  {
   "cell_type": "code",
   "execution_count": 57,
   "id": "4ef3bb13-9c0a-4607-badc-44e35aa82b69",
   "metadata": {},
   "outputs": [
    {
     "name": "stdin",
     "output_type": "stream",
     "text": [
      " Nitin\n"
     ]
    },
    {
     "data": {
      "text/plain": [
       "'palindrome'"
      ]
     },
     "execution_count": 57,
     "metadata": {},
     "output_type": "execute_result"
    }
   ],
   "source": [
    "a = input()\n",
    "check_palindrome(a)"
   ]
  },
  {
   "cell_type": "code",
   "execution_count": 61,
   "id": "288ec199-13ad-4f30-a9b7-118b5c5d5cd0",
   "metadata": {},
   "outputs": [
    {
     "name": "stdout",
     "output_type": "stream",
     "text": [
      "Helle werld!\n"
     ]
    }
   ],
   "source": [
    "message = 'Hello world!'\n",
    "print(message.replace('o','e'))"
   ]
  },
  {
   "cell_type": "code",
   "execution_count": 63,
   "id": "6c0f0781-c5d0-4d12-b1b0-d024813027d7",
   "metadata": {},
   "outputs": [
    {
     "name": "stdout",
     "output_type": "stream",
     "text": [
      "4\n"
     ]
    }
   ],
   "source": [
    "message = 'Hello world!'\n",
    "print(message.find('o'))"
   ]
  },
  {
   "cell_type": "code",
   "execution_count": 65,
   "id": "a74f6619-80a8-48c2-ae4f-11760a3a478b",
   "metadata": {},
   "outputs": [],
   "source": [
    "# strings are immutable -- which means cant be changed"
   ]
  },
  {
   "cell_type": "code",
   "execution_count": 67,
   "id": "24e2253a-a2f7-49bd-9cb1-c3fdffbd72c1",
   "metadata": {},
   "outputs": [
    {
     "data": {
      "text/plain": [
       "140703781628472"
      ]
     },
     "execution_count": 67,
     "metadata": {},
     "output_type": "execute_result"
    }
   ],
   "source": [
    "a = 5\n",
    "id(a)"
   ]
  },
  {
   "cell_type": "code",
   "execution_count": 69,
   "id": "ae0794fc-797f-44be-bef8-809e88bd22d5",
   "metadata": {},
   "outputs": [
    {
     "data": {
      "text/plain": [
       "140703781628504"
      ]
     },
     "execution_count": 69,
     "metadata": {},
     "output_type": "execute_result"
    }
   ],
   "source": [
    "a = 6\n",
    "id(a)"
   ]
  },
  {
   "cell_type": "code",
   "execution_count": 73,
   "id": "86f6ec08-94f9-46cf-b126-45706d4ec6ce",
   "metadata": {},
   "outputs": [],
   "source": [
    "# integers are immutable\n",
    "# strings are also immutable\n",
    "# there are only 3 mutable datatypes  - lists, sets, dictionary\n",
    "# so if we create a variable with some value, even if we change the value\n",
    "# its memory location will be present always"
   ]
  },
  {
   "cell_type": "code",
   "execution_count": 75,
   "id": "02b66136-5081-4ea1-92eb-ad5e1d9481af",
   "metadata": {},
   "outputs": [
    {
     "data": {
      "text/plain": [
       "2237993835328"
      ]
     },
     "execution_count": 75,
     "metadata": {},
     "output_type": "execute_result"
    }
   ],
   "source": [
    "mylist = [1,3,4,5,6]\n",
    "id(mylist)"
   ]
  },
  {
   "cell_type": "code",
   "execution_count": 79,
   "id": "c373160b-18b1-4140-92cc-af34b32d82c9",
   "metadata": {},
   "outputs": [
    {
     "data": {
      "text/plain": [
       "2238047918528"
      ]
     },
     "execution_count": 79,
     "metadata": {},
     "output_type": "execute_result"
    }
   ],
   "source": [
    "mylist = [6,2,3,4,6]\n",
    "id(mylist)"
   ]
  },
  {
   "cell_type": "code",
   "execution_count": 81,
   "id": "205cca95-7cf8-4a95-ac4e-1c5cb8a7489f",
   "metadata": {},
   "outputs": [],
   "source": [
    "# for lists , it is same because it is mutable"
   ]
  },
  {
   "cell_type": "code",
   "execution_count": 93,
   "id": "722b4a87-b0b6-4d10-8b5a-3f4d8a19de08",
   "metadata": {},
   "outputs": [
    {
     "data": {
      "text/plain": [
       "[10, 2, 3, 4, 6]"
      ]
     },
     "execution_count": 93,
     "metadata": {},
     "output_type": "execute_result"
    }
   ],
   "source": [
    "mylist[0] = 10\n",
    "mylist"
   ]
  },
  {
   "cell_type": "code",
   "execution_count": 83,
   "id": "45689a06-051a-4de2-8b6d-4bae9d2e8203",
   "metadata": {},
   "outputs": [
    {
     "data": {
      "text/plain": [
       "2238007897728"
      ]
     },
     "execution_count": 83,
     "metadata": {},
     "output_type": "execute_result"
    }
   ],
   "source": [
    "a = 'Hello'\n",
    "id(a)"
   ]
  },
  {
   "cell_type": "code",
   "execution_count": 85,
   "id": "92ba0ff3-7181-481f-b194-2965adaf4f14",
   "metadata": {},
   "outputs": [
    {
     "data": {
      "text/plain": [
       "'e'"
      ]
     },
     "execution_count": 85,
     "metadata": {},
     "output_type": "execute_result"
    }
   ],
   "source": [
    "a[1] "
   ]
  },
  {
   "cell_type": "code",
   "execution_count": 89,
   "id": "8c79b410-cbde-4743-ac10-4cea324fb948",
   "metadata": {},
   "outputs": [],
   "source": [
    "# a[1] = 'a' # 'str' object does not support item assignment"
   ]
  },
  {
   "cell_type": "code",
   "execution_count": 99,
   "id": "96d44f95-fd07-4aa7-9b61-d511bf707555",
   "metadata": {},
   "outputs": [
    {
     "data": {
      "text/plain": [
       "2237993812144"
      ]
     },
     "execution_count": 99,
     "metadata": {},
     "output_type": "execute_result"
    }
   ],
   "source": [
    "a = 'Hello world'\n",
    "id(a)"
   ]
  },
  {
   "cell_type": "code",
   "execution_count": 101,
   "id": "b100ea45-6a17-47ef-b06e-ff514e861cf4",
   "metadata": {},
   "outputs": [
    {
     "data": {
      "text/plain": [
       "2238047912560"
      ]
     },
     "execution_count": 101,
     "metadata": {},
     "output_type": "execute_result"
    }
   ],
   "source": [
    "a = 'Hi world'\n",
    "id(a)"
   ]
  },
  {
   "cell_type": "code",
   "execution_count": 103,
   "id": "15101e9b-e4cb-42a8-9d66-97aa9a2f3b12",
   "metadata": {},
   "outputs": [
    {
     "data": {
      "text/plain": [
       "'Hi world'"
      ]
     },
     "execution_count": 103,
     "metadata": {},
     "output_type": "execute_result"
    }
   ],
   "source": [
    "a.replace('Hi','My')\n",
    "a"
   ]
  },
  {
   "cell_type": "code",
   "execution_count": 105,
   "id": "3d3da87a-0479-487e-8627-39ea0ab241c4",
   "metadata": {},
   "outputs": [
    {
     "data": {
      "text/plain": [
       "'My world'"
      ]
     },
     "execution_count": 105,
     "metadata": {},
     "output_type": "execute_result"
    }
   ],
   "source": [
    "a = a.replace('Hi','My')\n",
    "a"
   ]
  },
  {
   "cell_type": "code",
   "execution_count": 107,
   "id": "a7877644-65df-4535-b38f-7b9cfb835d53",
   "metadata": {},
   "outputs": [
    {
     "data": {
      "text/plain": [
       "2238047914736"
      ]
     },
     "execution_count": 107,
     "metadata": {},
     "output_type": "execute_result"
    }
   ],
   "source": [
    "id(a)"
   ]
  },
  {
   "cell_type": "code",
   "execution_count": null,
   "id": "4fc39a88-d721-46c0-8985-2c7ea3e84930",
   "metadata": {},
   "outputs": [],
   "source": []
  }
 ],
 "metadata": {
  "kernelspec": {
   "display_name": "Python 3 (ipykernel)",
   "language": "python",
   "name": "python3"
  },
  "language_info": {
   "codemirror_mode": {
    "name": "ipython",
    "version": 3
   },
   "file_extension": ".py",
   "mimetype": "text/x-python",
   "name": "python",
   "nbconvert_exporter": "python",
   "pygments_lexer": "ipython3",
   "version": "3.12.7"
  }
 },
 "nbformat": 4,
 "nbformat_minor": 5
}
