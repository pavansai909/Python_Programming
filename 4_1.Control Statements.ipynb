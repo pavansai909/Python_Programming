{
 "cells": [
  {
   "cell_type": "code",
   "execution_count": 4,
   "id": "308eab59-7088-4e15-8721-202a27e26d57",
   "metadata": {},
   "outputs": [
    {
     "name": "stdout",
     "output_type": "stream",
     "text": [
      "Yes\n",
      "End of if condition\n"
     ]
    }
   ],
   "source": [
    "# control statements\n",
    "# if else elif\n",
    "# flow charts and different conditions\n",
    "\n",
    "if 56>50:\n",
    "    print('Yes')\n",
    "else:\n",
    "    print('No')\n",
    "print('End of if condition')"
   ]
  },
  {
   "cell_type": "code",
   "execution_count": 14,
   "id": "1e7dbadf-63b9-4ae1-82fa-eadd7c0aacfd",
   "metadata": {},
   "outputs": [
    {
     "name": "stdout",
     "output_type": "stream",
     "text": [
      "3\n"
     ]
    }
   ],
   "source": [
    "if 5 > 50:\n",
    "    print(\"1\")\n",
    "    print(\"2\")\n",
    "print(\"3\")"
   ]
  },
  {
   "cell_type": "code",
   "execution_count": 14,
   "id": "5c4ad500-5626-490e-a6cc-17f4edec2247",
   "metadata": {},
   "outputs": [
    {
     "data": {
      "text/plain": [
       "8"
      ]
     },
     "execution_count": 14,
     "metadata": {},
     "output_type": "execute_result"
    }
   ],
   "source": [
    "a = 2\n",
    "a**3"
   ]
  },
  {
   "cell_type": "code",
   "execution_count": 4,
   "id": "c1157396-89af-408d-8ff3-275d451b52c7",
   "metadata": {},
   "outputs": [
    {
     "name": "stdout",
     "output_type": "stream",
     "text": [
      "This is greater than 25\n",
      "If condition completed\n"
     ]
    }
   ],
   "source": [
    "a = 2\n",
    "result = a**5\n",
    "if result > 25:\n",
    "    print(\"This is greater than 25\")\n",
    "else:\n",
    "    print(\"Less than 25\")\n",
    "print(\"If condition completed\")"
   ]
  },
  {
   "cell_type": "code",
   "execution_count": 24,
   "id": "09520b47-f383-4da2-9dfb-2e07cda9d4fe",
   "metadata": {},
   "outputs": [
    {
     "name": "stdin",
     "output_type": "stream",
     "text": [
      "Enter the password: 1235\n"
     ]
    },
    {
     "name": "stdout",
     "output_type": "stream",
     "text": [
      "Password is incorrect\n"
     ]
    }
   ],
   "source": [
    "# check password\n",
    "original_password = \"12345678\"\n",
    "password = input(\"Enter the password:\")\n",
    "if password == original_password:\n",
    "    print(\"Password is correct\")\n",
    "else:\n",
    "    print(\"Password is incorrect\")"
   ]
  },
  {
   "cell_type": "code",
   "execution_count": 32,
   "id": "8a40d47c-1228-45d0-8bcb-c96ef625f1fb",
   "metadata": {},
   "outputs": [
    {
     "name": "stdin",
     "output_type": "stream",
     "text": [
      "Enter time in 24 hr format:  16\n"
     ]
    },
    {
     "name": "stdout",
     "output_type": "stream",
     "text": [
      "Good afternoon\n"
     ]
    }
   ],
   "source": [
    "# greetings\n",
    "time = int(input(\"Enter time in 24 hr format: \"))\n",
    "\n",
    "if time > 6 and time <=12:\n",
    "    print(\"Good morning\")\n",
    "else:\n",
    "    if time > 12 and time <=17:\n",
    "        print(\"Good afternoon\")\n",
    "    else:\n",
    "        if time >17 and time <=21:\n",
    "            print(\"Good Evening\")\n",
    "        else:\n",
    "            print(\"Good night\")\n"
   ]
  },
  {
   "cell_type": "code",
   "execution_count": 48,
   "id": "902798bd-bf37-4eef-bfd4-75d58346e3a6",
   "metadata": {},
   "outputs": [
    {
     "name": "stdin",
     "output_type": "stream",
     "text": [
      "Enter time in 24 hr format:  4\n"
     ]
    },
    {
     "name": "stdout",
     "output_type": "stream",
     "text": [
      "Good night\n"
     ]
    }
   ],
   "source": [
    "time = int(input(\"Enter time in 24 hr format: \"))\n",
    "\n",
    "if time > 6 and time <=12:\n",
    "    print(\"Good morning\")\n",
    "elif time >12 and time <=17:\n",
    "    print(\"Good afternoon\")\n",
    "elif time >17 and time <=21:\n",
    "    print(\"Good evening\")\n",
    "else:\n",
    "    print(\"Good night\")"
   ]
  },
  {
   "cell_type": "code",
   "execution_count": 4,
   "id": "c18c6fc8-511e-48fe-b597-320367ca69e8",
   "metadata": {},
   "outputs": [
    {
     "name": "stdin",
     "output_type": "stream",
     "text": [
      "Enter amount:  1300\n"
     ]
    },
    {
     "name": "stdout",
     "output_type": "stream",
     "text": [
      "Denomination not available\n"
     ]
    }
   ],
   "source": [
    "amount = int(input(\"Enter amount: \"))\n",
    "if (amount%500)%200 == 0:\n",
    "    print(\"Discharging cash\")\n",
    "else:\n",
    "    print(\"Denomination not available\")"
   ]
  },
  {
   "cell_type": "code",
   "execution_count": 12,
   "id": "5902b497-9351-4fef-9880-9a0b9f3999f2",
   "metadata": {},
   "outputs": [
    {
     "name": "stdin",
     "output_type": "stream",
     "text": [
      "Enter amount:  1700\n"
     ]
    },
    {
     "name": "stdout",
     "output_type": "stream",
     "text": [
      "Denomination not available\n"
     ]
    }
   ],
   "source": [
    "amount = int(input(\"Enter amount: \"))\n",
    "if amount%500 == 0 or amount%200 == 0:\n",
    "    print(\"Discharging cash\")\n",
    "else:\n",
    "    print(\"Denomination not available\")\n",
    "\n",
    "# this is wrong, for 1700 it will not give result"
   ]
  },
  {
   "cell_type": "code",
   "execution_count": 52,
   "id": "78437fda-c4cb-4fa2-9665-5fbfdb34fffe",
   "metadata": {},
   "outputs": [
    {
     "name": "stdin",
     "output_type": "stream",
     "text": [
      "Enter amount:  700\n"
     ]
    },
    {
     "name": "stdout",
     "output_type": "stream",
     "text": [
      "Discharging cash\n"
     ]
    }
   ],
   "source": [
    "amount = int(input(\"Enter amount: \"))\n",
    "if amount<=500 and (amount%500)%200 == 0:\n",
    "    print(\"Discharging cash\")\n",
    "elif amount > 500 and ((amount%500)%200)%100 == 0:\n",
    "    print(\"Discharging cash\")\n",
    "else:\n",
    "    print(\"Denomination not available\")\n"
   ]
  },
  {
   "cell_type": "code",
   "execution_count": 44,
   "id": "b5096744-6906-4fa7-b878-893ca6f3e14d",
   "metadata": {},
   "outputs": [
    {
     "name": "stdout",
     "output_type": "stream",
     "text": [
      "world\n"
     ]
    }
   ],
   "source": [
    "x = 5\n",
    "if x > 10:\n",
    "    print(\"hello\")\n",
    "else:\n",
    "    print(\"world\")"
   ]
  },
  {
   "cell_type": "code",
   "execution_count": 16,
   "id": "e209eef3-ee42-41d0-837f-94813deae86d",
   "metadata": {},
   "outputs": [
    {
     "name": "stdout",
     "output_type": "stream",
     "text": [
      "True\n"
     ]
    }
   ],
   "source": [
    "x = 10\n",
    "if x:\n",
    "    print(\"True\")\n",
    "else:\n",
    "    print(\"False\")"
   ]
  },
  {
   "cell_type": "code",
   "execution_count": 24,
   "id": "0c294529-f811-4c69-8f22-505a5215f2e3",
   "metadata": {},
   "outputs": [
    {
     "name": "stdout",
     "output_type": "stream",
     "text": [
      "x is less than or equal to 2\n"
     ]
    }
   ],
   "source": [
    "x = 1\n",
    "if x > 2:\n",
    "    if x < 10:\n",
    "        print(\" x is between 2 and 10\")\n",
    "    else:\n",
    "        print(\"x is greater than or equal to 10\")\n",
    "else:\n",
    "    print(\"x is less than or equal to 2\")"
   ]
  },
  {
   "cell_type": "code",
   "execution_count": 68,
   "id": "760c434b-bb69-4150-9f71-0648567a8e2d",
   "metadata": {},
   "outputs": [
    {
     "name": "stdout",
     "output_type": "stream",
     "text": [
      "you are not eligible for voting\n"
     ]
    }
   ],
   "source": [
    "age = 15\n",
    "if age < 18:\n",
    "    print(\"you are not eligible for voting\")\n",
    "elif age >= 18 and age < 21:\n",
    "    print(\"you can vote but younger\")\n",
    "else:\n",
    "    print(\"you can vote and also adult\")"
   ]
  },
  {
   "cell_type": "code",
   "execution_count": 70,
   "id": "5fedddf1-662d-4599-8fb2-835b79d45b60",
   "metadata": {},
   "outputs": [],
   "source": [
    "# get some problems for if and else statements"
   ]
  },
  {
   "cell_type": "code",
   "execution_count": null,
   "id": "7a767570-49fc-4906-b8c4-ce55c3995e7a",
   "metadata": {},
   "outputs": [],
   "source": []
  }
 ],
 "metadata": {
  "kernelspec": {
   "display_name": "Python 3 (ipykernel)",
   "language": "python",
   "name": "python3"
  },
  "language_info": {
   "codemirror_mode": {
    "name": "ipython",
    "version": 3
   },
   "file_extension": ".py",
   "mimetype": "text/x-python",
   "name": "python",
   "nbconvert_exporter": "python",
   "pygments_lexer": "ipython3",
   "version": "3.12.7"
  }
 },
 "nbformat": 4,
 "nbformat_minor": 5
}
