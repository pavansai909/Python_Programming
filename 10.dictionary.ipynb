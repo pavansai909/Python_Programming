{
 "cells": [
  {
   "cell_type": "markdown",
   "id": "635fa54e-21d1-4db7-8c2a-4ebd3119545e",
   "metadata": {},
   "source": [
    "# dictionary"
   ]
  },
  {
   "cell_type": "code",
   "execution_count": 18,
   "id": "71d68d93-3b2d-49d9-b138-2454c622825a",
   "metadata": {},
   "outputs": [],
   "source": [
    "city_data = [('Mumbai',100),('Delhi',240),('Hyderabad',150)]"
   ]
  },
  {
   "cell_type": "code",
   "execution_count": 20,
   "id": "fd2842b4-f66f-4fe8-8c85-faa9a268d5f3",
   "metadata": {},
   "outputs": [],
   "source": [
    "city_data.append(('Bangalore',90))"
   ]
  },
  {
   "cell_type": "code",
   "execution_count": 22,
   "id": "ec0c9054-a0c9-4bd8-aa5c-c48bd5edf9de",
   "metadata": {},
   "outputs": [
    {
     "data": {
      "text/plain": [
       "[('Mumbai', 100), ('Delhi', 240), ('Hyderabad', 150), ('Bangalore', 90)]"
      ]
     },
     "execution_count": 22,
     "metadata": {},
     "output_type": "execute_result"
    }
   ],
   "source": [
    "city_data"
   ]
  },
  {
   "cell_type": "code",
   "execution_count": 24,
   "id": "e1ee239a-ca4c-4797-ae26-7a88a7f5c9d2",
   "metadata": {},
   "outputs": [
    {
     "data": {
      "text/plain": [
       "('Mumbai', 100)"
      ]
     },
     "execution_count": 24,
     "metadata": {},
     "output_type": "execute_result"
    }
   ],
   "source": [
    "city_data[0]"
   ]
  },
  {
   "cell_type": "code",
   "execution_count": 26,
   "id": "628afe93-85e1-4a91-8990-3e67e14821ff",
   "metadata": {},
   "outputs": [
    {
     "data": {
      "text/plain": [
       "100"
      ]
     },
     "execution_count": 26,
     "metadata": {},
     "output_type": "execute_result"
    }
   ],
   "source": [
    "city_data[0][1]"
   ]
  },
  {
   "cell_type": "code",
   "execution_count": 28,
   "id": "98327c19-5986-49a6-b2a9-ed125f52b309",
   "metadata": {},
   "outputs": [],
   "source": [
    "# take city input from user and provide the value for that city"
   ]
  },
  {
   "cell_type": "code",
   "execution_count": 2,
   "id": "98744660-b857-4a4d-bab3-84e0153776b4",
   "metadata": {},
   "outputs": [],
   "source": [
    "data = {\n",
    "    'Mumbai': 100,\n",
    "    'Delhi': 240,\n",
    "    'Hyderabad': 150,\n",
    "    'Bangalore': 90\n",
    "}\n",
    "\n",
    "# there is no indexing in dictionaries"
   ]
  },
  {
   "cell_type": "code",
   "execution_count": 8,
   "id": "3541b08d-26f6-4ce2-8cce-3f032bc25c28",
   "metadata": {},
   "outputs": [],
   "source": [
    "# data[0]"
   ]
  },
  {
   "cell_type": "code",
   "execution_count": 4,
   "id": "68802d69-d118-4591-8359-396c144b7fd8",
   "metadata": {},
   "outputs": [
    {
     "data": {
      "text/plain": [
       "240"
      ]
     },
     "execution_count": 4,
     "metadata": {},
     "output_type": "execute_result"
    }
   ],
   "source": [
    "data['Delhi']"
   ]
  },
  {
   "cell_type": "code",
   "execution_count": 34,
   "id": "76fbcc9c-4b03-4d90-8dc6-b725b603ca5f",
   "metadata": {},
   "outputs": [],
   "source": [
    "# keys must be unique, values can be anything"
   ]
  },
  {
   "cell_type": "code",
   "execution_count": 36,
   "id": "38ff927a-9293-46c2-979b-70c346c640e4",
   "metadata": {},
   "outputs": [
    {
     "data": {
      "text/plain": [
       "{'Mumbai': 100, 'Delhi': 300, 'Hyderabad': 150, 'Bangalore': 90}"
      ]
     },
     "execution_count": 36,
     "metadata": {},
     "output_type": "execute_result"
    }
   ],
   "source": [
    "# update exisiting key value pair\n",
    "data['Delhi'] = 300\n",
    "data"
   ]
  },
  {
   "cell_type": "code",
   "execution_count": 38,
   "id": "c3e85432-3554-4637-81bd-b79de210d5e5",
   "metadata": {},
   "outputs": [
    {
     "data": {
      "text/plain": [
       "{'Mumbai': 100, 'Delhi': 300, 'Hyderabad': 150, 'Bangalore': 90, 'jammu': 200}"
      ]
     },
     "execution_count": 38,
     "metadata": {},
     "output_type": "execute_result"
    }
   ],
   "source": [
    "# add new key value pair\n",
    "data['jammu'] = 200\n",
    "data"
   ]
  },
  {
   "cell_type": "code",
   "execution_count": 10,
   "id": "b50fa7d4-c3b9-4801-8701-fc2d64b56363",
   "metadata": {},
   "outputs": [],
   "source": [
    "avenger = {\n",
    "    \"name\": \"Thor\",\n",
    "    \"age\": 30,\n",
    "    \"weapons\":[\"weapon1\",\"weapon2\"]\n",
    "    }"
   ]
  },
  {
   "cell_type": "code",
   "execution_count": 12,
   "id": "a6d76dbe-47a9-4949-b877-86e745e249bb",
   "metadata": {},
   "outputs": [
    {
     "data": {
      "text/plain": [
       "{'name': 'Thor', 'age': 30, 'weapons': ['weapon1', 'weapon2']}"
      ]
     },
     "execution_count": 12,
     "metadata": {},
     "output_type": "execute_result"
    }
   ],
   "source": [
    "avenger"
   ]
  },
  {
   "cell_type": "code",
   "execution_count": 22,
   "id": "64a95ed8-a2db-4129-b6f0-7b95d2a9871b",
   "metadata": {},
   "outputs": [],
   "source": [
    "# update the dictionary\n",
    "avenger = {\n",
    "    \"name\": \"Thor odinson\",\n",
    "    \"age\": 35,\n",
    "    \"weapons\":[\"stormbreaker\"],\n",
    "    \"strongest\":True\n",
    "    }"
   ]
  },
  {
   "cell_type": "code",
   "execution_count": 24,
   "id": "fc5b88d7-3016-40c9-af51-c07408293f3e",
   "metadata": {},
   "outputs": [
    {
     "data": {
      "text/plain": [
       "{'name': 'Thor odinson',\n",
       " 'age': 35,\n",
       " 'weapons': ['stormbreaker'],\n",
       " 'strongest': True}"
      ]
     },
     "execution_count": 24,
     "metadata": {},
     "output_type": "execute_result"
    }
   ],
   "source": [
    "avenger"
   ]
  },
  {
   "cell_type": "code",
   "execution_count": 50,
   "id": "cf798b63-e5d0-40d6-aaf0-72f4d9536538",
   "metadata": {},
   "outputs": [],
   "source": [
    "# better way to read from a dictionary\n",
    "random = {\n",
    "    \"a\":1,\n",
    "    \"b\":2,\n",
    "    \"c\":3\n",
    "}"
   ]
  },
  {
   "cell_type": "code",
   "execution_count": 52,
   "id": "c9f37839-2807-4b44-a33a-84ecc4c51341",
   "metadata": {},
   "outputs": [
    {
     "data": {
      "text/plain": [
       "1"
      ]
     },
     "execution_count": 52,
     "metadata": {},
     "output_type": "execute_result"
    }
   ],
   "source": [
    "random[\"a\"]"
   ]
  },
  {
   "cell_type": "code",
   "execution_count": 54,
   "id": "70effdb6-9627-46a3-ba7d-3502c722408e",
   "metadata": {},
   "outputs": [],
   "source": [
    "#random[\"d\"]"
   ]
  },
  {
   "cell_type": "code",
   "execution_count": 56,
   "id": "ef84e744-3d24-494c-864c-5b195b9af1b3",
   "metadata": {},
   "outputs": [
    {
     "data": {
      "text/plain": [
       "1"
      ]
     },
     "execution_count": 56,
     "metadata": {},
     "output_type": "execute_result"
    }
   ],
   "source": [
    "random.get(\"a\")"
   ]
  },
  {
   "cell_type": "code",
   "execution_count": 64,
   "id": "bd10a4af-eaa7-491d-adee-647d8b2e7510",
   "metadata": {},
   "outputs": [
    {
     "name": "stdout",
     "output_type": "stream",
     "text": [
      "None\n"
     ]
    }
   ],
   "source": [
    "print(random.get(\"d\"))"
   ]
  },
  {
   "cell_type": "code",
   "execution_count": 68,
   "id": "2754d88d-949f-46bc-a9a3-76c64950d061",
   "metadata": {},
   "outputs": [
    {
     "data": {
      "text/plain": [
       "1"
      ]
     },
     "execution_count": 68,
     "metadata": {},
     "output_type": "execute_result"
    }
   ],
   "source": [
    "random.get(\"a\",\"Key not available!\")"
   ]
  },
  {
   "cell_type": "code",
   "execution_count": 38,
   "id": "7b3a7c45-07cc-4a85-bd59-14bd3aa42437",
   "metadata": {},
   "outputs": [
    {
     "data": {
      "text/plain": [
       "'Key not available!'"
      ]
     },
     "execution_count": 38,
     "metadata": {},
     "output_type": "execute_result"
    }
   ],
   "source": [
    "random.get(\"d\",\"Key not available!\")"
   ]
  },
  {
   "cell_type": "code",
   "execution_count": 40,
   "id": "1fc24530-7efb-4c48-9775-962cd4954555",
   "metadata": {},
   "outputs": [
    {
     "data": {
      "text/plain": [
       "3"
      ]
     },
     "execution_count": 40,
     "metadata": {},
     "output_type": "execute_result"
    }
   ],
   "source": [
    "random.pop(\"c\") # to delete a key value pair"
   ]
  },
  {
   "cell_type": "code",
   "execution_count": 42,
   "id": "0d0d734b-6794-41d8-9f98-555a22212a26",
   "metadata": {},
   "outputs": [
    {
     "data": {
      "text/plain": [
       "{'a': 1, 'b': 2}"
      ]
     },
     "execution_count": 42,
     "metadata": {},
     "output_type": "execute_result"
    }
   ],
   "source": [
    "random"
   ]
  },
  {
   "cell_type": "code",
   "execution_count": 46,
   "id": "0db4a181-c9b8-412a-a981-d1890f413365",
   "metadata": {},
   "outputs": [],
   "source": [
    "#random.pop() # cause error because it requires atleast 1 argument"
   ]
  },
  {
   "cell_type": "code",
   "execution_count": 70,
   "id": "4441183f-a269-4197-930c-4890e4b2a185",
   "metadata": {},
   "outputs": [],
   "source": [
    "s = {10,20,30,40,50}\n",
    "t = (10,20,30,40,40,10,50)"
   ]
  },
  {
   "cell_type": "code",
   "execution_count": 72,
   "id": "7e45a663-333f-48c5-8783-c064c2b721b5",
   "metadata": {},
   "outputs": [
    {
     "name": "stdout",
     "output_type": "stream",
     "text": [
      "50\n",
      "20\n",
      "40\n",
      "10\n",
      "30\n"
     ]
    }
   ],
   "source": [
    "for i in s:\n",
    "    print(i)"
   ]
  },
  {
   "cell_type": "code",
   "execution_count": 70,
   "id": "146ae838-3526-452a-a3d0-86d6ef5bef86",
   "metadata": {},
   "outputs": [
    {
     "data": {
      "text/plain": [
       "True"
      ]
     },
     "execution_count": 70,
     "metadata": {},
     "output_type": "execute_result"
    }
   ],
   "source": [
    "20 in s"
   ]
  },
  {
   "cell_type": "code",
   "execution_count": 72,
   "id": "17d4a626-7cc7-46ba-9976-697955e89818",
   "metadata": {},
   "outputs": [
    {
     "data": {
      "text/plain": [
       "False"
      ]
     },
     "execution_count": 72,
     "metadata": {},
     "output_type": "execute_result"
    }
   ],
   "source": [
    "100 in s"
   ]
  },
  {
   "cell_type": "code",
   "execution_count": 74,
   "id": "b7c7fdb2-933f-4df2-8095-c16c83cc028c",
   "metadata": {},
   "outputs": [
    {
     "name": "stdout",
     "output_type": "stream",
     "text": [
      "10\n",
      "20\n",
      "30\n",
      "40\n",
      "40\n",
      "10\n",
      "50\n"
     ]
    }
   ],
   "source": [
    "for i in t:\n",
    "    print(i)"
   ]
  },
  {
   "cell_type": "code",
   "execution_count": 76,
   "id": "19a3db67-399d-4fa4-bece-89627b9ea2ad",
   "metadata": {},
   "outputs": [
    {
     "name": "stdout",
     "output_type": "stream",
     "text": [
      "10\n",
      "20\n",
      "30\n",
      "40\n",
      "40\n",
      "10\n",
      "50\n"
     ]
    }
   ],
   "source": [
    "for i in range(len(t)):\n",
    "    print(t[i])"
   ]
  },
  {
   "cell_type": "code",
   "execution_count": 74,
   "id": "323903a4-67bf-4ea7-b414-14938366097a",
   "metadata": {},
   "outputs": [
    {
     "data": {
      "text/plain": [
       "{'name': 'Thor odinson',\n",
       " 'age': 35,\n",
       " 'weapons': ['stormbreaker'],\n",
       " 'strongest': True}"
      ]
     },
     "execution_count": 74,
     "metadata": {},
     "output_type": "execute_result"
    }
   ],
   "source": [
    "avenger"
   ]
  },
  {
   "cell_type": "code",
   "execution_count": 78,
   "id": "4d8778eb-545c-4f01-9191-c0c3cad85965",
   "metadata": {},
   "outputs": [
    {
     "name": "stdout",
     "output_type": "stream",
     "text": [
      "name\n",
      "age\n",
      "weapons\n",
      "strongest\n"
     ]
    }
   ],
   "source": [
    "# we get keys while default iteration in a dictionary\n",
    "for i in avenger:\n",
    "    print(i)"
   ]
  },
  {
   "cell_type": "code",
   "execution_count": 81,
   "id": "fbb0b8d8-5619-45d9-b516-cb0eb0146b5f",
   "metadata": {},
   "outputs": [
    {
     "name": "stdout",
     "output_type": "stream",
     "text": [
      "Thor odinson\n",
      "35\n",
      "['stormbreaker']\n",
      "True\n"
     ]
    }
   ],
   "source": [
    "# to access values\n",
    "for i in avenger:\n",
    "    print(avenger.get(i))"
   ]
  },
  {
   "cell_type": "code",
   "execution_count": 82,
   "id": "0f16226f-d65a-4918-a966-3401445ce94a",
   "metadata": {},
   "outputs": [
    {
     "name": "stdout",
     "output_type": "stream",
     "text": [
      "name -> Thor odinson\n",
      "age -> 35\n",
      "weapons -> ['stormbreaker']\n",
      "strongest -> True\n"
     ]
    }
   ],
   "source": [
    "for i in avenger:\n",
    "    print(f'{i} -> {avenger.get(i)}')\n",
    "    #print(i, \"->\", avenger.get(i))"
   ]
  },
  {
   "cell_type": "code",
   "execution_count": 87,
   "id": "38f34f2a-b467-4200-8c29-3abb2dca9d34",
   "metadata": {},
   "outputs": [
    {
     "data": {
      "text/plain": [
       "dict_keys(['name', 'age', 'weapons', 'strongest'])"
      ]
     },
     "execution_count": 87,
     "metadata": {},
     "output_type": "execute_result"
    }
   ],
   "source": [
    "avenger.keys()"
   ]
  },
  {
   "cell_type": "code",
   "execution_count": 89,
   "id": "d788fa75-7e0c-4daa-b1bd-c8e5e652e946",
   "metadata": {},
   "outputs": [
    {
     "data": {
      "text/plain": [
       "dict_values(['Thor odinson', 35, ['stormbreaker'], True])"
      ]
     },
     "execution_count": 89,
     "metadata": {},
     "output_type": "execute_result"
    }
   ],
   "source": [
    "avenger.values()"
   ]
  },
  {
   "cell_type": "code",
   "execution_count": 91,
   "id": "697df617-d692-4885-ad8b-7cb0622362a1",
   "metadata": {},
   "outputs": [
    {
     "data": {
      "text/plain": [
       "dict_items([('name', 'Thor odinson'), ('age', 35), ('weapons', ['stormbreaker']), ('strongest', True)])"
      ]
     },
     "execution_count": 91,
     "metadata": {},
     "output_type": "execute_result"
    }
   ],
   "source": [
    "avenger.items()"
   ]
  },
  {
   "cell_type": "code",
   "execution_count": 93,
   "id": "946eb09e-0334-4ebc-b00a-dd7d9807aeca",
   "metadata": {},
   "outputs": [
    {
     "name": "stdout",
     "output_type": "stream",
     "text": [
      "name\n",
      "age\n",
      "weapons\n",
      "strongest\n"
     ]
    }
   ],
   "source": [
    "for i in avenger.keys():\n",
    "    print(i)"
   ]
  },
  {
   "cell_type": "code",
   "execution_count": 95,
   "id": "c4596567-259e-4571-8c09-580928bf2ab9",
   "metadata": {},
   "outputs": [
    {
     "name": "stdout",
     "output_type": "stream",
     "text": [
      "Thor odinson\n",
      "35\n",
      "['stormbreaker']\n",
      "True\n"
     ]
    }
   ],
   "source": [
    "for i in avenger.values():\n",
    "    print(i)"
   ]
  },
  {
   "cell_type": "code",
   "execution_count": 97,
   "id": "bd4ffb04-bb79-46ad-8e76-a626701b0cdf",
   "metadata": {},
   "outputs": [
    {
     "name": "stdout",
     "output_type": "stream",
     "text": [
      "('name', 'Thor odinson')\n",
      "('age', 35)\n",
      "('weapons', ['stormbreaker'])\n",
      "('strongest', True)\n"
     ]
    }
   ],
   "source": [
    "for i in avenger.items():\n",
    "    print(i)"
   ]
  },
  {
   "cell_type": "code",
   "execution_count": 76,
   "id": "36432919-ce87-4e4f-81d0-accbafdd5a51",
   "metadata": {},
   "outputs": [
    {
     "name": "stdout",
     "output_type": "stream",
     "text": [
      "name -> Thor odinson\n",
      "age -> 35\n",
      "weapons -> ['stormbreaker']\n",
      "strongest -> True\n"
     ]
    }
   ],
   "source": [
    "for k, v in avenger.items():\n",
    "    print(f'{k} -> {v}')"
   ]
  },
  {
   "cell_type": "code",
   "execution_count": 84,
   "id": "42af1a65-7ea1-43d5-964a-59e6fb5d678c",
   "metadata": {},
   "outputs": [
    {
     "name": "stdout",
     "output_type": "stream",
     "text": [
      "name -> Thor odinson\n",
      "age -> 35\n",
      "weapons -> ['stormbreaker']\n",
      "strongest -> True\n"
     ]
    }
   ],
   "source": [
    "for i in avenger:\n",
    "    print(i,\"->\",avenger.get(i))"
   ]
  },
  {
   "cell_type": "code",
   "execution_count": 112,
   "id": "bf225eca-0b47-464f-91b4-66ff199f5312",
   "metadata": {},
   "outputs": [],
   "source": [
    "# how do i check a key present in a dictionary"
   ]
  },
  {
   "cell_type": "code",
   "execution_count": 86,
   "id": "31694bd4-a0a4-4692-9f5e-a48ad65079a5",
   "metadata": {},
   "outputs": [
    {
     "data": {
      "text/plain": [
       "dict_keys(['name', 'age', 'weapons', 'strongest'])"
      ]
     },
     "execution_count": 86,
     "metadata": {},
     "output_type": "execute_result"
    }
   ],
   "source": [
    "avenger.keys()\n",
    "# list has membership operators"
   ]
  },
  {
   "cell_type": "code",
   "execution_count": 128,
   "id": "96da6b41-9948-40ff-9f9b-17e475f0cd15",
   "metadata": {},
   "outputs": [
    {
     "data": {
      "text/plain": [
       "True"
      ]
     },
     "execution_count": 128,
     "metadata": {},
     "output_type": "execute_result"
    }
   ],
   "source": [
    "\"name\" in avenger"
   ]
  },
  {
   "cell_type": "code",
   "execution_count": 130,
   "id": "6ebbd3b0-ec72-48ec-9d8d-41904881900c",
   "metadata": {},
   "outputs": [
    {
     "data": {
      "text/plain": [
       "False"
      ]
     },
     "execution_count": 130,
     "metadata": {},
     "output_type": "execute_result"
    }
   ],
   "source": [
    "\"names\" in avenger"
   ]
  },
  {
   "cell_type": "code",
   "execution_count": 132,
   "id": "0158e7dc-ace7-4a38-beb0-72558f34850f",
   "metadata": {},
   "outputs": [
    {
     "data": {
      "text/plain": [
       "{(1, 2, 3), 56, 9.8, True, 'string'}"
      ]
     },
     "execution_count": 132,
     "metadata": {},
     "output_type": "execute_result"
    }
   ],
   "source": [
    "# set\n",
    "s = {\"string\",56,9.8, True,(1,2,3)}\n",
    "s"
   ]
  },
  {
   "cell_type": "code",
   "execution_count": 90,
   "id": "577dbc13-8634-4c76-aadb-070da4f883b0",
   "metadata": {},
   "outputs": [],
   "source": [
    "# sets cant store lists, sets, dictionaries\n",
    "# s = {\"string\",56,9.8, True,[1,2,3]}\n",
    "# s\n",
    "#unhashable type: 'list' -- error"
   ]
  },
  {
   "cell_type": "code",
   "execution_count": 140,
   "id": "b0e30cd4-e977-469f-8209-8cf6863a054d",
   "metadata": {},
   "outputs": [],
   "source": [
    "# mutable - lists, sets, dictionaries -- cannot be stored inside set\n",
    "# immutable -- integers, floats, booleans, strings, tuples, can be stored inside set"
   ]
  },
  {
   "cell_type": "code",
   "execution_count": 114,
   "id": "d1b46ec1-b7fe-46cc-b568-f1fdcaa9633f",
   "metadata": {},
   "outputs": [],
   "source": [
    "# the exact same restriction is with dictionary keys as well\n",
    "# we cannot use lists, sets, dictionaries as keys in dictionaries\n",
    "# values can be anything"
   ]
  },
  {
   "cell_type": "code",
   "execution_count": 122,
   "id": "1bf18839-adb4-4926-8c2e-0df8114684db",
   "metadata": {},
   "outputs": [],
   "source": [
    "random = {\n",
    "    \"string\":10,\n",
    "    1:20,\n",
    "    1.5:30,\n",
    "    False: 40,\n",
    "    (12,33):10,\n",
    "   # [1,2,3]:50\n",
    "\n",
    "}"
   ]
  },
  {
   "cell_type": "code",
   "execution_count": 124,
   "id": "330cfbcf-d251-4d08-adcf-92a1470813e3",
   "metadata": {},
   "outputs": [
    {
     "data": {
      "text/plain": [
       "20"
      ]
     },
     "execution_count": 124,
     "metadata": {},
     "output_type": "execute_result"
    }
   ],
   "source": [
    "random[1]"
   ]
  },
  {
   "cell_type": "code",
   "execution_count": 108,
   "id": "69c48337-0b5c-4f85-9726-ecee71784762",
   "metadata": {},
   "outputs": [],
   "source": [
    "# values can be anything\n",
    "random = {\n",
    "    \"string\":10,\n",
    "    1:[1,2,3],\n",
    "    1.5:(1,2,3),\n",
    "    True: {1,2,3}\n",
    "    # [1,2,3]:50\n",
    "\n",
    "}"
   ]
  },
  {
   "cell_type": "code",
   "execution_count": 126,
   "id": "68b2201e-2eb1-46da-8545-a7fd171e2fa4",
   "metadata": {},
   "outputs": [],
   "source": [
    "a = {\"a\":1,\"b\":1,\"a\":2}"
   ]
  },
  {
   "cell_type": "code",
   "execution_count": 128,
   "id": "95edbc2e-cbf0-440c-9ddd-346a5bf6f5d7",
   "metadata": {},
   "outputs": [
    {
     "data": {
      "text/plain": [
       "{'a': 2, 'b': 1}"
      ]
     },
     "execution_count": 128,
     "metadata": {},
     "output_type": "execute_result"
    }
   ],
   "source": [
    "a"
   ]
  },
  {
   "cell_type": "code",
   "execution_count": 152,
   "id": "df11ca3f-f992-4ca7-8dac-aed3ed7b8b8c",
   "metadata": {},
   "outputs": [],
   "source": [
    "random = {\n",
    "    \"key1\": \"any value/ any data structure\",\n",
    "    '1':\"any value/ any data structure\",\n",
    "    True: \"any value\",\n",
    "    1.5: \"any value/ any data structure\",\n",
    "    (1,2,3): \"any value/ any data structure\"\n",
    "}"
   ]
  },
  {
   "cell_type": "code",
   "execution_count": 154,
   "id": "b9663665-9e2e-41d8-b243-b48abe184d8d",
   "metadata": {},
   "outputs": [
    {
     "data": {
      "text/plain": [
       "'any value/ any data structure'"
      ]
     },
     "execution_count": 154,
     "metadata": {},
     "output_type": "execute_result"
    }
   ],
   "source": [
    "random.get((1,2,3))"
   ]
  },
  {
   "cell_type": "code",
   "execution_count": 156,
   "id": "9c181c03-950d-4a24-89da-ba37a7bbb3e3",
   "metadata": {},
   "outputs": [
    {
     "data": {
      "text/plain": [
       "dict_keys(['key1', '1', True, 1.5, (1, 2, 3)])"
      ]
     },
     "execution_count": 156,
     "metadata": {},
     "output_type": "execute_result"
    }
   ],
   "source": [
    "random.keys()"
   ]
  },
  {
   "cell_type": "code",
   "execution_count": 160,
   "id": "da54fcc1-26d7-4591-890a-5286fde2a40c",
   "metadata": {},
   "outputs": [
    {
     "data": {
      "text/plain": [
       "'any value/ any data structure'"
      ]
     },
     "execution_count": 160,
     "metadata": {},
     "output_type": "execute_result"
    }
   ],
   "source": [
    "random.get('1')"
   ]
  },
  {
   "cell_type": "code",
   "execution_count": 164,
   "id": "33e0a749-9ca1-4639-b114-b8708a0c05e1",
   "metadata": {},
   "outputs": [],
   "source": [
    "d = {}"
   ]
  },
  {
   "cell_type": "code",
   "execution_count": 166,
   "id": "d4406520-058b-492f-8d24-f007aad6ed96",
   "metadata": {},
   "outputs": [
    {
     "data": {
      "text/plain": [
       "dict"
      ]
     },
     "execution_count": 166,
     "metadata": {},
     "output_type": "execute_result"
    }
   ],
   "source": [
    "type(d)"
   ]
  },
  {
   "cell_type": "code",
   "execution_count": 187,
   "id": "1ea799d9-23c4-42e6-be1f-0a7a9e6df61e",
   "metadata": {},
   "outputs": [
    {
     "data": {
      "text/plain": [
       "set"
      ]
     },
     "execution_count": 187,
     "metadata": {},
     "output_type": "execute_result"
    }
   ],
   "source": [
    "s = set()\n",
    "type(s)"
   ]
  },
  {
   "cell_type": "code",
   "execution_count": 189,
   "id": "53fa4894-e15a-41ed-867a-6be6c8fc14e7",
   "metadata": {},
   "outputs": [],
   "source": [
    "# Take a string as input\n",
    "# create a dictionary according to conditions\n",
    "# There will be one key value pair for each unique character\n",
    "# key will be the character name\n",
    "# value will be the count of the character inside the string\n"
   ]
  },
  {
   "cell_type": "code",
   "execution_count": 191,
   "id": "169de736-b725-40ad-9209-29165be5f907",
   "metadata": {},
   "outputs": [],
   "source": [
    "# example input : rrssstttt"
   ]
  },
  {
   "cell_type": "code",
   "execution_count": 193,
   "id": "a0a7906e-8b13-4eec-9043-10d2833b85a6",
   "metadata": {},
   "outputs": [],
   "source": [
    "# # example output\n",
    "# {\n",
    "# \"r\":2,\n",
    "# \"s\":3,\n",
    "# \"t\":4\n",
    "# }"
   ]
  },
  {
   "cell_type": "code",
   "execution_count": 195,
   "id": "83a3cf53-9c6d-449a-965f-971b50d2e544",
   "metadata": {},
   "outputs": [
    {
     "data": {
      "text/plain": [
       "3"
      ]
     },
     "execution_count": 195,
     "metadata": {},
     "output_type": "execute_result"
    }
   ],
   "source": [
    "'rrssstttt'.count('s')"
   ]
  },
  {
   "cell_type": "code",
   "execution_count": 197,
   "id": "632fa6e6-8e07-4266-99c3-3bcf9f0ea84f",
   "metadata": {},
   "outputs": [
    {
     "name": "stdout",
     "output_type": "stream",
     "text": [
      "3\n"
     ]
    }
   ],
   "source": [
    "counter = 0\n",
    "for i in 'rrssstttt':\n",
    "    if i == \"s\":\n",
    "        counter+=1\n",
    "print(counter)"
   ]
  },
  {
   "cell_type": "code",
   "execution_count": 199,
   "id": "854444f9-2f94-47c1-9ad2-803f3c631240",
   "metadata": {},
   "outputs": [
    {
     "data": {
      "text/plain": [
       "9"
      ]
     },
     "execution_count": 199,
     "metadata": {},
     "output_type": "execute_result"
    }
   ],
   "source": [
    "len('rrssstttt')"
   ]
  },
  {
   "cell_type": "code",
   "execution_count": 201,
   "id": "ace9937e-89e6-4022-81e9-7e674ec0e3d6",
   "metadata": {},
   "outputs": [],
   "source": [
    "def count_chars(string):\n",
    "    result = {}\n",
    "    for i in string:\n",
    "        result[i] = string.count(i)\n",
    "    return result"
   ]
  },
  {
   "cell_type": "code",
   "execution_count": 203,
   "id": "6e3a9715-ced8-4530-a658-5b97a64a3634",
   "metadata": {},
   "outputs": [
    {
     "data": {
      "text/plain": [
       "{'r': 2, 's': 3, 't': 4}"
      ]
     },
     "execution_count": 203,
     "metadata": {},
     "output_type": "execute_result"
    }
   ],
   "source": [
    "count_chars('rrssstttt')"
   ]
  },
  {
   "cell_type": "code",
   "execution_count": 205,
   "id": "61dd8a32-3794-4beb-be1b-b27626772f55",
   "metadata": {},
   "outputs": [
    {
     "data": {
      "text/plain": [
       "{'r', 's', 't'}"
      ]
     },
     "execution_count": 205,
     "metadata": {},
     "output_type": "execute_result"
    }
   ],
   "source": [
    "set('rrssstttt')"
   ]
  },
  {
   "cell_type": "code",
   "execution_count": 207,
   "id": "6f4db9ef-9d28-48a3-b6af-2182bcffaa3f",
   "metadata": {},
   "outputs": [],
   "source": [
    "def count_chars(string):\n",
    "    result = {}\n",
    "    for i in set(string):\n",
    "        result[i] = string.count(i)\n",
    "    return result"
   ]
  },
  {
   "cell_type": "code",
   "execution_count": 209,
   "id": "f350dee9-a3cc-4c22-9c86-3e639f244e2d",
   "metadata": {},
   "outputs": [
    {
     "data": {
      "text/plain": [
       "{'t': 4, 's': 3, 'r': 2}"
      ]
     },
     "execution_count": 209,
     "metadata": {},
     "output_type": "execute_result"
    }
   ],
   "source": [
    "count_chars('rrssstttt')"
   ]
  },
  {
   "cell_type": "code",
   "execution_count": 186,
   "id": "b7ffa6f6-1c9d-439c-ab97-f2040d145052",
   "metadata": {},
   "outputs": [],
   "source": [
    "def count_chars(string):\n",
    "    result = {}\n",
    "\n",
    "    for i in string:\n",
    "        if i not in result:\n",
    "            result[i]=1\n",
    "        else:\n",
    "            result[i] += 1\n",
    "\n",
    "    return result"
   ]
  },
  {
   "cell_type": "code",
   "execution_count": 188,
   "id": "f74f4e13-d445-48ac-812c-44736afa502e",
   "metadata": {},
   "outputs": [
    {
     "data": {
      "text/plain": [
       "{'r': 2, 's': 3, 't': 4}"
      ]
     },
     "execution_count": 188,
     "metadata": {},
     "output_type": "execute_result"
    }
   ],
   "source": [
    "count_chars('rrssstttt')"
   ]
  },
  {
   "cell_type": "code",
   "execution_count": 180,
   "id": "7c6100be-797f-47c3-942a-de2abcceba9d",
   "metadata": {},
   "outputs": [],
   "source": [
    "# Data structures in python\n",
    "# list - creation [] , indexing [] - empty list []\n",
    "# tuple - creation () , indexing[] - empty tuple ()\n",
    "# set - creation {} , cant be indexed, empty set = set()\n",
    "# dictionary - {} , indexing - dictionary [keys] , empty dictionary - {}\n"
   ]
  },
  {
   "cell_type": "code",
   "execution_count": null,
   "id": "2b45c1de-ccbc-48aa-bac6-145001eaeb04",
   "metadata": {},
   "outputs": [],
   "source": []
  }
 ],
 "metadata": {
  "kernelspec": {
   "display_name": "Python 3 (ipykernel)",
   "language": "python",
   "name": "python3"
  },
  "language_info": {
   "codemirror_mode": {
    "name": "ipython",
    "version": 3
   },
   "file_extension": ".py",
   "mimetype": "text/x-python",
   "name": "python",
   "nbconvert_exporter": "python",
   "pygments_lexer": "ipython3",
   "version": "3.12.7"
  }
 },
 "nbformat": 4,
 "nbformat_minor": 5
}
