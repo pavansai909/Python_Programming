{
 "cells": [
  {
   "cell_type": "code",
   "execution_count": 6,
   "id": "99fb8f7e-7638-4397-9635-3e05bdc105f8",
   "metadata": {},
   "outputs": [],
   "source": [
    "# given a list of all runs, create a new list of runs made in last 5 matches\n",
    "runs = [ 62,85,74,10,12,101,122,99,81,55]"
   ]
  },
  {
   "cell_type": "code",
   "execution_count": 8,
   "id": "68e5ae0c-75d6-4b05-9c11-b07926d6cc17",
   "metadata": {},
   "outputs": [
    {
     "data": {
      "text/plain": [
       "[55, 81, 99, 122, 101]"
      ]
     },
     "execution_count": 8,
     "metadata": {},
     "output_type": "execute_result"
    }
   ],
   "source": [
    "result = []\n",
    "for i in range(1,6):\n",
    "    result.append(runs[-i])\n",
    "result"
   ]
  },
  {
   "cell_type": "code",
   "execution_count": 10,
   "id": "0feca3f9-afd3-4002-93ab-fa5403019453",
   "metadata": {},
   "outputs": [
    {
     "name": "stdout",
     "output_type": "stream",
     "text": [
      "55\n",
      "81\n",
      "99\n",
      "122\n",
      "101\n",
      "[55, 81, 99, 122, 101] "
     ]
    }
   ],
   "source": [
    "result = []\n",
    "for i in range(-1,-6,-1):\n",
    "    print(runs[i])\n",
    "    result.append(runs[i])\n",
    "print(result, end = \" \")"
   ]
  },
  {
   "cell_type": "code",
   "execution_count": 12,
   "id": "5e6d6bb2-6d76-4e20-9cce-796b68983767",
   "metadata": {},
   "outputs": [],
   "source": [
    "# given a list of all runs , create a new list of runs made in odd matches (even indices)\n",
    "result = []\n",
    "for i in range(0, len(runs)):\n",
    "    if i%2 == 0:\n",
    "        result.append(runs[i])\n"
   ]
  },
  {
   "cell_type": "code",
   "execution_count": 14,
   "id": "b0b90923-9541-45b8-b005-243e6b6f106b",
   "metadata": {},
   "outputs": [
    {
     "data": {
      "text/plain": [
       "[62, 85, 74, 10, 12, 101, 122, 99, 81, 55]"
      ]
     },
     "execution_count": 14,
     "metadata": {},
     "output_type": "execute_result"
    }
   ],
   "source": [
    "runs"
   ]
  },
  {
   "cell_type": "code",
   "execution_count": 16,
   "id": "ee9b4f6a-0717-4040-a97d-b59765661c88",
   "metadata": {},
   "outputs": [
    {
     "data": {
      "text/plain": [
       "[101, 122, 99, 81, 55]"
      ]
     },
     "execution_count": 16,
     "metadata": {},
     "output_type": "execute_result"
    }
   ],
   "source": [
    "runs[5:] # start, stop, stepsize"
   ]
  },
  {
   "cell_type": "code",
   "execution_count": 18,
   "id": "cb0fe07e-8942-47fa-86dc-646ed07b2988",
   "metadata": {},
   "outputs": [
    {
     "data": {
      "text/plain": [
       "[62, 85, 74, 10, 12]"
      ]
     },
     "execution_count": 18,
     "metadata": {},
     "output_type": "execute_result"
    }
   ],
   "source": [
    "runs[:5]"
   ]
  },
  {
   "cell_type": "code",
   "execution_count": 12,
   "id": "3d7b2c45-5cf2-4957-9b2d-dc34e7121892",
   "metadata": {},
   "outputs": [
    {
     "data": {
      "text/plain": [
       "[62, 85, 74, 10, 12, 101, 122, 99, 81, 55]"
      ]
     },
     "execution_count": 12,
     "metadata": {},
     "output_type": "execute_result"
    }
   ],
   "source": [
    "runs"
   ]
  },
  {
   "cell_type": "code",
   "execution_count": 22,
   "id": "89ea1962-b2af-45bf-ae50-e321e4726d4a",
   "metadata": {},
   "outputs": [
    {
     "data": {
      "text/plain": [
       "[62, 74, 12, 122, 81]"
      ]
     },
     "execution_count": 22,
     "metadata": {},
     "output_type": "execute_result"
    }
   ],
   "source": [
    "runs[::2]"
   ]
  },
  {
   "cell_type": "code",
   "execution_count": 16,
   "id": "358c1cea-01b1-4c7c-adf9-20213e10cc7a",
   "metadata": {},
   "outputs": [
    {
     "name": "stdout",
     "output_type": "stream",
     "text": [
      "0\n",
      "1\n"
     ]
    }
   ],
   "source": [
    "for i in range(5)[:2]:\n",
    "    print(i)"
   ]
  },
  {
   "cell_type": "code",
   "execution_count": 18,
   "id": "fb264698-84f8-40b8-999b-eabbdfad27b4",
   "metadata": {},
   "outputs": [
    {
     "data": {
      "text/plain": [
       "[101, 12, 10, 74, 85]"
      ]
     },
     "execution_count": 18,
     "metadata": {},
     "output_type": "execute_result"
    }
   ],
   "source": [
    "runs[5:0:-1]"
   ]
  },
  {
   "cell_type": "code",
   "execution_count": 22,
   "id": "2c0f2fe8-0728-419b-b83e-bfc3773a8fed",
   "metadata": {},
   "outputs": [
    {
     "data": {
      "text/plain": [
       "[101, 12, 10, 74, 85, 62]"
      ]
     },
     "execution_count": 22,
     "metadata": {},
     "output_type": "execute_result"
    }
   ],
   "source": [
    "runs[5::-1]"
   ]
  },
  {
   "cell_type": "code",
   "execution_count": 24,
   "id": "be07f313-b87c-4f67-a0c2-b253ba46e5f2",
   "metadata": {},
   "outputs": [
    {
     "data": {
      "text/plain": [
       "[62, 85, 74, 10, 12, 101, 122, 99, 81, 55]"
      ]
     },
     "execution_count": 24,
     "metadata": {},
     "output_type": "execute_result"
    }
   ],
   "source": [
    "runs"
   ]
  },
  {
   "cell_type": "code",
   "execution_count": 24,
   "id": "feb8488e-815d-4243-9206-2b8a402f5897",
   "metadata": {},
   "outputs": [
    {
     "data": {
      "text/plain": [
       "[81, 99, 122]"
      ]
     },
     "execution_count": 24,
     "metadata": {},
     "output_type": "execute_result"
    }
   ],
   "source": [
    "runs[-2:-5:-1]"
   ]
  },
  {
   "cell_type": "code",
   "execution_count": 26,
   "id": "e5d225f6-3c2e-47ab-8329-5a2dce14ef06",
   "metadata": {},
   "outputs": [
    {
     "data": {
      "text/plain": [
       "[62, 85, 74]"
      ]
     },
     "execution_count": 26,
     "metadata": {},
     "output_type": "execute_result"
    }
   ],
   "source": [
    "runs[0:3]"
   ]
  },
  {
   "cell_type": "code",
   "execution_count": 28,
   "id": "b48d6452-c8d0-413b-9a77-c4572fe2faff",
   "metadata": {},
   "outputs": [
    {
     "data": {
      "text/plain": [
       "[81, 99, 122, 101, 12, 10, 74, 85, 62]"
      ]
     },
     "execution_count": 28,
     "metadata": {},
     "output_type": "execute_result"
    }
   ],
   "source": [
    "runs[-2::-1]"
   ]
  },
  {
   "cell_type": "code",
   "execution_count": 34,
   "id": "0584a548-d1e7-4eb6-aa27-e21372affa0a",
   "metadata": {},
   "outputs": [
    {
     "name": "stdout",
     "output_type": "stream",
     "text": [
      "[40, 50]\n",
      "[10, 20, 30, 40, 50, 60, 70, 80, 90, 100]\n",
      "[90, 80, 70]\n",
      "[]\n",
      "[90, 100]\n",
      "[]\n"
     ]
    }
   ],
   "source": [
    "# given a python list\n",
    "a = [10 , 20, 30, 40, 50,60,70,80,90,100]\n",
    "\n",
    "print(a[3:5])\n",
    "print(a[:])\n",
    "print(a[-2:-5:-1])\n",
    "print(a[-2:-7])\n",
    "print(a[-2:])\n",
    "print(a[-8:5:-1])"
   ]
  },
  {
   "cell_type": "code",
   "execution_count": 30,
   "id": "a4792a65-37d9-48f7-89d2-0d853f0688b1",
   "metadata": {},
   "outputs": [
    {
     "name": "stdout",
     "output_type": "stream",
     "text": [
      "[5, 1, 2, 3, 4]\n"
     ]
    }
   ],
   "source": [
    "# rotate the list by 1 element (last element should be removed and added to the start)\n",
    "#a = [1,2,3,4,5]\n",
    "# output = [5,1,2,3,4]\n",
    "a = [1, 2, 3, 4, 5]\n",
    "rotated = [a[-1]] + a[:-1]\n",
    "print(rotated)  # Output: [5, 1, 2, 3, 4]\n"
   ]
  },
  {
   "cell_type": "code",
   "execution_count": 44,
   "id": "36ae0528-1aad-487f-9c5d-129ee97dc38a",
   "metadata": {},
   "outputs": [
    {
     "name": "stdout",
     "output_type": "stream",
     "text": [
      "[5, 1, 2, 3, 4]\n"
     ]
    }
   ],
   "source": [
    "a = [1, 2, 3, 4, 5]\n",
    "last_element = a.pop()  # Removes the last element\n",
    "a.insert(0, last_element)  # Inserts it at the start\n",
    "print(a)  # Output: [5, 1, 2, 3, 4]\n"
   ]
  },
  {
   "cell_type": "code",
   "execution_count": 52,
   "id": "818866c4-e241-483f-945b-1be6e161861e",
   "metadata": {},
   "outputs": [
    {
     "name": "stdout",
     "output_type": "stream",
     "text": [
      "[5, 4, 3, 2, 1]\n"
     ]
    }
   ],
   "source": [
    "# reverse\n",
    "a = [1, 2, 3, 4, 5]\n",
    "a.reverse()\n",
    "print(a)"
   ]
  },
  {
   "cell_type": "code",
   "execution_count": 56,
   "id": "2b7e3159-cd95-41d3-8538-33022c0754d9",
   "metadata": {},
   "outputs": [
    {
     "data": {
      "text/plain": [
       "[5, 4, 3, 2, 1]"
      ]
     },
     "execution_count": 56,
     "metadata": {},
     "output_type": "execute_result"
    }
   ],
   "source": [
    "# reverse other method\n",
    "a = [1, 2, 3, 4, 5]\n",
    "a[::-1]"
   ]
  },
  {
   "cell_type": "code",
   "execution_count": 60,
   "id": "77e2d984-92ba-4320-9170-38fbde57d97b",
   "metadata": {},
   "outputs": [
    {
     "data": {
      "text/plain": [
       "[5, 4, 3, 2, 1]"
      ]
     },
     "execution_count": 60,
     "metadata": {},
     "output_type": "execute_result"
    }
   ],
   "source": [
    "# other method\n",
    "a = [1, 2, 3, 4, 5]\n",
    "a_rev = list(reversed(a))\n",
    "a_rev"
   ]
  },
  {
   "cell_type": "code",
   "execution_count": 62,
   "id": "bfcd96a4-73aa-4e59-b0f4-08bec550bb91",
   "metadata": {},
   "outputs": [
    {
     "data": {
      "text/plain": [
       "[[1, 2, 3], [4, 5, 6], [7, 8, 9]]"
      ]
     },
     "execution_count": 62,
     "metadata": {},
     "output_type": "execute_result"
    }
   ],
   "source": [
    "# 2D lists, lists within lists\n",
    "a = [[1,2,3], [4,5,6], [7,8,9]]\n",
    "a"
   ]
  },
  {
   "cell_type": "code",
   "execution_count": 64,
   "id": "542a51f7-68a7-4853-a5bf-62446082e9ba",
   "metadata": {},
   "outputs": [
    {
     "data": {
      "text/plain": [
       "[1, 2, 3]"
      ]
     },
     "execution_count": 64,
     "metadata": {},
     "output_type": "execute_result"
    }
   ],
   "source": [
    "a[0]"
   ]
  },
  {
   "cell_type": "code",
   "execution_count": null,
   "id": "4823a078-2d48-43fb-a312-ad8bede21d8c",
   "metadata": {},
   "outputs": [],
   "source": []
  },
  {
   "cell_type": "code",
   "execution_count": 66,
   "id": "4f6d245a-3468-4afd-b896-7eb5d713cf67",
   "metadata": {},
   "outputs": [
    {
     "data": {
      "text/plain": [
       "2"
      ]
     },
     "execution_count": 66,
     "metadata": {},
     "output_type": "execute_result"
    }
   ],
   "source": [
    "a[0][1]"
   ]
  },
  {
   "cell_type": "code",
   "execution_count": 38,
   "id": "2ea5f456-9d1d-4e1d-b320-8030d64e2d42",
   "metadata": {},
   "outputs": [],
   "source": [
    "a = [[1,2,3], [4,5,6], [7,8,9]]"
   ]
  },
  {
   "cell_type": "code",
   "execution_count": 42,
   "id": "dbda8e2b-b694-4257-bf15-b41efc839264",
   "metadata": {},
   "outputs": [
    {
     "name": "stdout",
     "output_type": "stream",
     "text": [
      "1 2 3 \n",
      "4 5 6 \n",
      "7 8 9 \n"
     ]
    }
   ],
   "source": [
    "# print rows\n",
    "rows = len(a)\n",
    "cols = len(a[0])\n",
    "for i in range(rows):\n",
    "    for j in range(cols):\n",
    "        print(a[i][j], end = \" \")\n",
    "    print()"
   ]
  },
  {
   "cell_type": "code",
   "execution_count": 82,
   "id": "77d28bd3-8ffc-4d74-97a9-f2bde256c783",
   "metadata": {},
   "outputs": [
    {
     "name": "stdout",
     "output_type": "stream",
     "text": [
      "1 2 3 \n",
      "a b c d e \n",
      "4.5 6.7 \n"
     ]
    }
   ],
   "source": [
    "random = [[1,2,3],['a','b','c','d','e'], [4.5,6.7]]\n",
    "for i in random:\n",
    "    for j in i:\n",
    "        print(j,end = \" \")\n",
    "    print()"
   ]
  },
  {
   "cell_type": "code",
   "execution_count": 84,
   "id": "e0109f5e-50f1-45d7-b007-7233289a5acb",
   "metadata": {},
   "outputs": [],
   "source": [
    "# take 3x3 matrix as input from user\n",
    "# given this matrix\n",
    "# calculate the sum of all elements in the matrix\n",
    "# calculate the sum of elements in each row\n"
   ]
  },
  {
   "cell_type": "code",
   "execution_count": 14,
   "id": "1e98b32c-216b-4c8d-90b7-8493009244c5",
   "metadata": {},
   "outputs": [
    {
     "name": "stdin",
     "output_type": "stream",
     "text": [
      " 1\n",
      " 2\n",
      " 4\n",
      " 3\n",
      " 6\n",
      " 7\n",
      " 8\n",
      " 9\n",
      " 2\n"
     ]
    },
    {
     "name": "stdout",
     "output_type": "stream",
     "text": [
      "[[1, 2, 4], [3, 6, 7], [8, 9, 2]]\n"
     ]
    }
   ],
   "source": [
    "#### a = []\n",
    "for i in range(3):\n",
    "    inner_list = []\n",
    "    for j in range(3):\n",
    "        inner_list.append(int(input()))\n",
    "    a.append(inner_list)\n",
    "print(a)"
   ]
  },
  {
   "cell_type": "code",
   "execution_count": 16,
   "id": "90cec875-4df5-4577-b50f-133c3c9417c9",
   "metadata": {},
   "outputs": [
    {
     "name": "stdout",
     "output_type": "stream",
     "text": [
      "42\n"
     ]
    }
   ],
   "source": [
    "# sum of all elements\n",
    "sum_all = 0\n",
    "for i in a:\n",
    "    for j in i:\n",
    "        sum_all = sum_all + j\n",
    "print(sum_all)"
   ]
  },
  {
   "cell_type": "code",
   "execution_count": 20,
   "id": "fcca0974-4937-49dd-b19f-56b78019d319",
   "metadata": {},
   "outputs": [
    {
     "data": {
      "text/plain": [
       "3"
      ]
     },
     "execution_count": 20,
     "metadata": {},
     "output_type": "execute_result"
    }
   ],
   "source": [
    "len(a)"
   ]
  },
  {
   "cell_type": "code",
   "execution_count": 22,
   "id": "81783145-75c7-4bfc-9000-7c29d5ff126c",
   "metadata": {},
   "outputs": [
    {
     "data": {
      "text/plain": [
       "3"
      ]
     },
     "execution_count": 22,
     "metadata": {},
     "output_type": "execute_result"
    }
   ],
   "source": [
    "len(a[0])"
   ]
  },
  {
   "cell_type": "code",
   "execution_count": 24,
   "id": "2e3661ed-acdd-4433-845c-b54cea2edbba",
   "metadata": {},
   "outputs": [
    {
     "data": {
      "text/plain": [
       "[[1, 2, 4], [3, 6, 7], [8, 9, 2]]"
      ]
     },
     "execution_count": 24,
     "metadata": {},
     "output_type": "execute_result"
    }
   ],
   "source": [
    "a"
   ]
  },
  {
   "cell_type": "code",
   "execution_count": 18,
   "id": "eb3acdb4-ff7f-4ae5-a076-e62c0e7e4476",
   "metadata": {},
   "outputs": [
    {
     "name": "stdout",
     "output_type": "stream",
     "text": [
      "[7, 16, 19]\n"
     ]
    }
   ],
   "source": [
    "# sum row wise\n",
    "sum_rows = [0,0,0]\n",
    "rows = len(a)\n",
    "cols = len(a[0])\n",
    "\n",
    "for i in range(rows):\n",
    "    for j in range(cols):\n",
    "        sum_rows[i] = sum_rows[i] + a[i][j]\n",
    "print(sum_rows)"
   ]
  },
  {
   "cell_type": "code",
   "execution_count": 118,
   "id": "1bf61d5d-609f-4469-b473-8ea74c0b9124",
   "metadata": {},
   "outputs": [
    {
     "name": "stdout",
     "output_type": "stream",
     "text": [
      "1 2 3\n"
     ]
    }
   ],
   "source": [
    "numbers = [1,2,3]\n",
    "print(' '.join(map(str,numbers)))"
   ]
  },
  {
   "cell_type": "code",
   "execution_count": 34,
   "id": "96f4d4e9-b8ad-4a6b-bc06-e2740880f681",
   "metadata": {},
   "outputs": [
    {
     "name": "stdout",
     "output_type": "stream",
     "text": [
      "13\n"
     ]
    }
   ],
   "source": [
    "print(str(1)+str(3))"
   ]
  },
  {
   "cell_type": "code",
   "execution_count": 30,
   "id": "396f5f4a-01a2-4b46-ae30-1d86ac047a18",
   "metadata": {},
   "outputs": [
    {
     "data": {
      "text/plain": [
       "'1 3'"
      ]
     },
     "execution_count": 30,
     "metadata": {},
     "output_type": "execute_result"
    }
   ],
   "source": [
    "'1'+' '+'3'"
   ]
  },
  {
   "cell_type": "code",
   "execution_count": 130,
   "id": "1c12a166-fb8d-4c21-8cf9-7f9bc5cdf5c1",
   "metadata": {},
   "outputs": [
    {
     "name": "stdout",
     "output_type": "stream",
     "text": [
      "[23, 42, 62]\n"
     ]
    }
   ],
   "source": [
    "sum_rows =[0,0,0]\n",
    "b = [[11,12],[13,14,15],[10,14,18,20]]\n",
    "rc = 0\n",
    "for i in b:\n",
    "    for j in i:\n",
    "      sum_rows[rc]  = sum_rows[rc]  +int(j)\n",
    "    rc = rc + 1\n",
    "print(sum_rows)"
   ]
  },
  {
   "cell_type": "code",
   "execution_count": 44,
   "id": "a6278ecf-73b9-4aa1-aaf2-18379e462db4",
   "metadata": {},
   "outputs": [],
   "source": [
    "def transpose(A):\n",
    "    for i in range(N):\n",
    "        for j in range(i+1, N):\n",
    "            A[i][j], A[j][i] =A[j][i],A[i][j]"
   ]
  },
  {
   "cell_type": "code",
   "execution_count": 46,
   "id": "be4d5897-07af-42c8-ba47-b72edb32dcf8",
   "metadata": {},
   "outputs": [],
   "source": [
    "A = [ [1,1,1,1],\n",
    "      [2,2,2,2],\n",
    "      [3,3,3,3],\n",
    "      [4,4,4,4]]\n",
    "\n",
    "# 1234\n",
    "# 1234\n",
    "# 1234\n",
    "# 1234\n"
   ]
  },
  {
   "cell_type": "code",
   "execution_count": 60,
   "id": "2d0ac33e-e09d-49c3-b6ff-5678b0a9ff1f",
   "metadata": {},
   "outputs": [],
   "source": [
    "N = 4\n",
    "transpose(A)\n"
   ]
  },
  {
   "cell_type": "code",
   "execution_count": 62,
   "id": "2f5403ab-991e-42cd-ad68-156c44b7805c",
   "metadata": {},
   "outputs": [
    {
     "name": "stdout",
     "output_type": "stream",
     "text": [
      "[[1, 1, 1, 1], [2, 2, 2, 2], [3, 3, 3, 3], [4, 4, 4, 4]]\n"
     ]
    }
   ],
   "source": [
    "print(A)"
   ]
  },
  {
   "cell_type": "code",
   "execution_count": null,
   "id": "5588a467-4076-448a-acf3-e2f3ed574629",
   "metadata": {},
   "outputs": [],
   "source": []
  }
 ],
 "metadata": {
  "kernelspec": {
   "display_name": "Python 3 (ipykernel)",
   "language": "python",
   "name": "python3"
  },
  "language_info": {
   "codemirror_mode": {
    "name": "ipython",
    "version": 3
   },
   "file_extension": ".py",
   "mimetype": "text/x-python",
   "name": "python",
   "nbconvert_exporter": "python",
   "pygments_lexer": "ipython3",
   "version": "3.12.7"
  }
 },
 "nbformat": 4,
 "nbformat_minor": 5
}
