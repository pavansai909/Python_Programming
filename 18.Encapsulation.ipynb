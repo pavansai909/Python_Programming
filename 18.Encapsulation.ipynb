{
 "cells": [
  {
   "cell_type": "code",
   "execution_count": 2,
   "id": "b4f6950c-1430-4b77-bbfb-cfd4e0019812",
   "metadata": {},
   "outputs": [],
   "source": [
    "# Encapsulation is one of the four fundamental principles of Object-Oriented Programming (OOP). \n",
    "# It refers to the bundling of data (attributes) and methods (functions) that operate on the data into a single unit, called a class. \n",
    "# Encapsulation also involves restricting direct access to some of an object’s components (attributes or methods) to prevent unintended interference or misuse, \n",
    "# which is done by making attributes private and providing public methods to access and modify them.\n",
    "\n",
    "# In simple terms, encapsulation is about:\n",
    "# Hiding the internal state of an object.\n",
    "# Providing controlled access to that internal state through public methods."
   ]
  },
  {
   "cell_type": "code",
   "execution_count": 4,
   "id": "767fcdec-1c6f-4b6c-b081-8857ecbc2c8e",
   "metadata": {},
   "outputs": [],
   "source": [
    "# Benefits of Encapsulation:\n",
    "# Data Hiding: It ensures that the internal representation of the object is hidden from the outside world.\n",
    "# Control: By providing methods to access and modify private data, you can enforce rules or validation.\n",
    "# Modularity: It keeps the code modular and organized, as each object handles its own data and behavior."
   ]
  },
  {
   "cell_type": "code",
   "execution_count": 16,
   "id": "de51b90f-fc5e-45b0-a1d9-7f86c92480c9",
   "metadata": {},
   "outputs": [
    {
     "name": "stdout",
     "output_type": "stream",
     "text": [
      "1000\n",
      "1500\n",
      "1300\n"
     ]
    }
   ],
   "source": [
    "class BankAccount:\n",
    "    def __init__(self, owner, balance=0):\n",
    "        self.owner = owner\n",
    "        self.__balance = balance  # Private variable, cannot be accessed directly from outside\n",
    "\n",
    "    # Public method to view the balance\n",
    "    def get_balance(self):\n",
    "        return self.__balance\n",
    "\n",
    "    # Public method to deposit money\n",
    "    def deposit(self, amount):\n",
    "        if amount > 0:\n",
    "            self.__balance += amount\n",
    "        else:\n",
    "            print(\"Deposit amount must be positive.\")\n",
    "\n",
    "    # Public method to withdraw money\n",
    "    def withdraw(self, amount):\n",
    "        if amount > 0 and amount <= self.__balance:\n",
    "            self.__balance -= amount\n",
    "        else:\n",
    "            print(\"Insufficient funds or invalid amount.\")\n",
    "\n",
    "# Create an object of BankAccount\n",
    "account = BankAccount(\"John\", 1000)\n",
    "\n",
    "# Accessing balance via the public method\n",
    "print(account.get_balance())  # Output: 1000\n",
    "\n",
    "# Depositing money\n",
    "account.deposit(500)\n",
    "print(account.get_balance())  # Output: 1500\n",
    "\n",
    "# Withdrawing money\n",
    "account.withdraw(200)\n",
    "print(account.get_balance())  # Output: 1300\n"
   ]
  },
  {
   "cell_type": "code",
   "execution_count": 18,
   "id": "74e7ff46-4bd7-412c-bea4-ded4be46c51d",
   "metadata": {},
   "outputs": [],
   "source": [
    "# The __balance attribute is private, meaning it can’t be accessed directly from outside the class.\n",
    "# To access or modify the balance, we use the public methods get_balance(), deposit(), and withdraw().\n",
    "# This ensures that the balance can only be changed through these methods, which can enforce rules (e.g., ensuring a positive deposit amount)."
   ]
  },
  {
   "cell_type": "code",
   "execution_count": 20,
   "id": "3aed9cc4-89e6-4563-aa24-a4f1b461b311",
   "metadata": {},
   "outputs": [],
   "source": [
    "# Example 2: Accessing Private Variables (With Double Underscore)\n",
    "# While Python doesn’t strictly enforce private variables (like other languages do), \n",
    "# it uses name mangling to make private attributes harder to access directly. \n",
    "# If you try to access __balance directly, you’ll get an error. \n",
    "# However, you can still access it using a modified name."
   ]
  },
  {
   "cell_type": "code",
   "execution_count": 32,
   "id": "099d7ce5-02e4-4b13-873e-2405279624d2",
   "metadata": {},
   "outputs": [],
   "source": [
    "# dir(account)"
   ]
  },
  {
   "cell_type": "code",
   "execution_count": 34,
   "id": "e376ae75-d921-4713-a70a-2ed6d1f3436e",
   "metadata": {},
   "outputs": [
    {
     "name": "stdout",
     "output_type": "stream",
     "text": [
      "2000\n"
     ]
    }
   ],
   "source": [
    "account = BankAccount(\"Alice\", 2000)\n",
    "\n",
    "# Trying to access private variable directly (this will raise an error)\n",
    "#print(account.__balance)  # AttributeError\n",
    "\n",
    "# You can still access it with name mangling (not recommended)\n",
    "print(account._BankAccount__balance)  # Output: 2000 (not a good practice)\n",
    "\n"
   ]
  },
  {
   "cell_type": "code",
   "execution_count": 26,
   "id": "04f65b4f-34d5-4e97-bcc3-1705540a4b2f",
   "metadata": {},
   "outputs": [],
   "source": [
    "# Double underscore (__) before an attribute makes it private and performs name mangling (changes the variable name internally).\n",
    "# While you can still access the variable by modifying the name, it's not recommended because it breaks encapsulation."
   ]
  },
  {
   "cell_type": "code",
   "execution_count": 28,
   "id": "412047fb-e35d-4a74-bc74-952d127a9c60",
   "metadata": {},
   "outputs": [],
   "source": [
    "# Python provides a property decorator, which allows you to define methods that act like attributes. \n",
    "# This provides a controlled way of accessing private attributes."
   ]
  },
  {
   "cell_type": "code",
   "execution_count": 33,
   "id": "418cc63f-ecc7-440c-9d3f-6a86ff4e89f7",
   "metadata": {},
   "outputs": [
    {
     "name": "stdout",
     "output_type": "stream",
     "text": [
      "Area: 200\n",
      "Updated Area: 375\n"
     ]
    }
   ],
   "source": [
    "class Rectangle:\n",
    "    def __init__(self, width, height):\n",
    "        self._width = width\n",
    "        self._height = height\n",
    "\n",
    "    @property\n",
    "    def area(self):\n",
    "        return self._width * self._height\n",
    "\n",
    "    @property\n",
    "    def width(self):\n",
    "        return self._width\n",
    "\n",
    "    @width.setter\n",
    "    def width(self, value):\n",
    "        if value > 0:\n",
    "            self._width = value\n",
    "        else:\n",
    "            print(\"Width must be positive.\")\n",
    "\n",
    "    @property\n",
    "    def height(self):\n",
    "        return self._height\n",
    "\n",
    "    @height.setter\n",
    "    def height(self, value):\n",
    "        if value > 0:\n",
    "            self._height = value\n",
    "        else:\n",
    "            print(\"Height must be positive.\")\n",
    "\n",
    "# Create a Rectangle object\n",
    "rect = Rectangle(10, 20)\n",
    "\n",
    "# Access area as if it's a property (no need for parentheses)\n",
    "print(\"Area:\", rect.area)  # Output: 200\n",
    "\n",
    "# Modifying width and height using setters\n",
    "rect.width = 15\n",
    "rect.height = 25\n",
    "print(\"Updated Area:\", rect.area)  # Output: 375\n"
   ]
  },
  {
   "cell_type": "code",
   "execution_count": 35,
   "id": "d0f453b3-3b3d-4430-bb09-fb58bc737f6f",
   "metadata": {},
   "outputs": [],
   "source": [
    "# @property allows you to define a getter method for attributes.\n",
    "# @setter allows you to define a setter method to control how the attribute is modified.\n",
    "# The area is computed dynamically, and you cannot modify it directly; instead, it’s calculated when accessed."
   ]
  },
  {
   "cell_type": "code",
   "execution_count": 37,
   "id": "dffc22a0-9b5a-43ea-9f77-3c06b9b18e05",
   "metadata": {},
   "outputs": [],
   "source": [
    "# When to Use Encapsulation:\n",
    "# When you want to protect internal state from unintended changes.\n",
    "# When you want to encapsulate logic for modifying or retrieving data, such as adding validation or applying transformations."
   ]
  },
  {
   "cell_type": "code",
   "execution_count": 8,
   "id": "f04812c0-45d3-4563-a8d9-5f0058fe1a1c",
   "metadata": {},
   "outputs": [
    {
     "name": "stdout",
     "output_type": "stream",
     "text": [
      "setter method called\n",
      "getter method called\n",
      "10\n"
     ]
    }
   ],
   "source": [
    "# Python program showing a \n",
    "# use of property() function \n",
    "  \n",
    "class Geeks: \n",
    "     def __init__(self): \n",
    "          self._age = 0\n",
    "       \n",
    "     # function to get value of _age \n",
    "     def get_age(self): \n",
    "         print(\"getter method called\") \n",
    "         return self._age \n",
    "       \n",
    "     # function to set value of _age \n",
    "     def set_age(self, a): \n",
    "         print(\"setter method called\") \n",
    "         self._age = a \n",
    "  \n",
    "     # function to delete _age attribute \n",
    "     def del_age(self): \n",
    "         del self._age \n",
    "     \n",
    "     age = property(get_age, set_age, del_age)  \n",
    "  \n",
    "mark = Geeks() \n",
    "  \n",
    "mark.age = 10\n",
    "  \n",
    "print(mark.age)"
   ]
  },
  {
   "cell_type": "code",
   "execution_count": 38,
   "id": "846f1ca9-d9a5-4319-9031-0fab8ba59191",
   "metadata": {},
   "outputs": [
    {
     "name": "stdout",
     "output_type": "stream",
     "text": [
      "setter method called\n",
      "getter method called\n",
      "19\n"
     ]
    }
   ],
   "source": [
    "# Python program showing the use of \n",
    "# @property \n",
    "  \n",
    "class Geeks: \n",
    "     def __init__(self): \n",
    "          self._age = 0\n",
    "       \n",
    "     # using property decorator \n",
    "     # a getter function \n",
    "     @property\n",
    "     def age(self): \n",
    "         print(\"getter method called\") \n",
    "         return self._age \n",
    "       \n",
    "     # a setter function \n",
    "     @age.setter \n",
    "     def age(self, a): \n",
    "         if(a < 18): \n",
    "            raise ValueError(\"Sorry you age is below eligibility criteria\") \n",
    "         print(\"setter method called\") \n",
    "         self._age = a \n",
    "  \n",
    "mark = Geeks() \n",
    "  \n",
    "mark.age = 19\n",
    "  \n",
    "print(mark.age)"
   ]
  },
  {
   "cell_type": "code",
   "execution_count": null,
   "id": "45adfb72-0024-434d-9259-221db5fc0313",
   "metadata": {},
   "outputs": [],
   "source": []
  }
 ],
 "metadata": {
  "kernelspec": {
   "display_name": "Python 3 (ipykernel)",
   "language": "python",
   "name": "python3"
  },
  "language_info": {
   "codemirror_mode": {
    "name": "ipython",
    "version": 3
   },
   "file_extension": ".py",
   "mimetype": "text/x-python",
   "name": "python",
   "nbconvert_exporter": "python",
   "pygments_lexer": "ipython3",
   "version": "3.12.7"
  }
 },
 "nbformat": 4,
 "nbformat_minor": 5
}
