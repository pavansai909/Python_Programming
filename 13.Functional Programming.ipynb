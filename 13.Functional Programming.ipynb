{
 "cells": [
  {
   "cell_type": "code",
   "execution_count": 2,
   "id": "2084f45f-c2f7-4b6b-aaa5-594d7b2e6149",
   "metadata": {},
   "outputs": [],
   "source": [
    "x = 5  # operations involving memory"
   ]
  },
  {
   "cell_type": "code",
   "execution_count": 4,
   "id": "24b6ae9d-89b6-4ef3-ade6-f1c6e235c1bd",
   "metadata": {},
   "outputs": [
    {
     "data": {
      "text/plain": [
       "13"
      ]
     },
     "execution_count": 4,
     "metadata": {},
     "output_type": "execute_result"
    }
   ],
   "source": [
    "6 + 7 # logical operations on the processor"
   ]
  },
  {
   "cell_type": "code",
   "execution_count": 10,
   "id": "253337a2-d7ba-40ed-8743-97701595cbe9",
   "metadata": {},
   "outputs": [],
   "source": [
    "# RAM can perform 3 * 10 ^ 9 operations per second (Ghz)\n",
    "# CPU is multiple times faster than RAM\n",
    "\n",
    "# instead of writing loops and classes\n",
    "# we will write functions and use some special alternatives\n",
    "# which is optimised to reduce mutations and amount of code to be written\n",
    "# memory operations are costly"
   ]
  },
  {
   "cell_type": "code",
   "execution_count": 12,
   "id": "d5cbb6b7-6d64-4c9a-9106-41d21f34fc55",
   "metadata": {},
   "outputs": [],
   "source": [
    "# LAMBDA Functions\n",
    "# the primary benefit is making code look smaller and better\n",
    "# no time advantage"
   ]
  },
  {
   "cell_type": "code",
   "execution_count": 22,
   "id": "f8331625-51f4-41ad-b30a-ad7f7656a389",
   "metadata": {},
   "outputs": [],
   "source": [
    "def square1(a):\n",
    "    return a**2  # a single return value"
   ]
  },
  {
   "cell_type": "code",
   "execution_count": 30,
   "id": "f5a41d60-4e9e-462f-b527-ca84a7e4d821",
   "metadata": {},
   "outputs": [
    {
     "data": {
      "text/plain": [
       "49"
      ]
     },
     "execution_count": 30,
     "metadata": {},
     "output_type": "execute_result"
    }
   ],
   "source": [
    "square1(7)"
   ]
  },
  {
   "cell_type": "code",
   "execution_count": 32,
   "id": "afa84763-6f03-4c07-ba51-66b75448fc83",
   "metadata": {},
   "outputs": [],
   "source": [
    "# using lambda , the code is shorter\n",
    "\n",
    "square2 = lambda a : a**2"
   ]
  },
  {
   "cell_type": "code",
   "execution_count": 34,
   "id": "6ae6be71-51fe-49bf-a0e5-cbcbcf60a707",
   "metadata": {},
   "outputs": [
    {
     "data": {
      "text/plain": [
       "36"
      ]
     },
     "execution_count": 34,
     "metadata": {},
     "output_type": "execute_result"
    }
   ],
   "source": [
    "square2(6)"
   ]
  },
  {
   "cell_type": "code",
   "execution_count": 36,
   "id": "de6f8bdd-3ede-4c52-88dc-c423809ee4f7",
   "metadata": {},
   "outputs": [
    {
     "data": {
      "text/plain": [
       "(function, function)"
      ]
     },
     "execution_count": 36,
     "metadata": {},
     "output_type": "execute_result"
    }
   ],
   "source": [
    "type(square1),type(square2)"
   ]
  },
  {
   "cell_type": "code",
   "execution_count": 42,
   "id": "91f33e84-970d-4394-87e2-1194e3370999",
   "metadata": {},
   "outputs": [
    {
     "data": {
      "text/plain": [
       "81"
      ]
     },
     "execution_count": 42,
     "metadata": {},
     "output_type": "execute_result"
    }
   ],
   "source": [
    "# lambda functions can be anonymous\n",
    "# it immediately calls the function definition\n",
    "\n",
    "(lambda a:a**2)(9)"
   ]
  },
  {
   "cell_type": "code",
   "execution_count": 2,
   "id": "fe767123-5938-4711-894f-13679e7d8b57",
   "metadata": {},
   "outputs": [
    {
     "data": {
      "text/plain": [
       "8"
      ]
     },
     "execution_count": 2,
     "metadata": {},
     "output_type": "execute_result"
    }
   ],
   "source": [
    "# Lambda functions can take multiple parameters\n",
    "\n",
    "(lambda x,y : x**y)(2,3)"
   ]
  },
  {
   "cell_type": "code",
   "execution_count": 48,
   "id": "1af349fa-75e0-400f-91ee-0ba0282f4184",
   "metadata": {},
   "outputs": [],
   "source": [
    "# ternary operator can be used with lambda\n",
    "\n",
    "# if condition:\n",
    "#     true value\n",
    "# else:\n",
    "#     falsevalue\n",
    "\n",
    "# true_value if condition else false_value --> ternary operator\n",
    "\n"
   ]
  },
  {
   "cell_type": "code",
   "execution_count": 50,
   "id": "c00e0fc4-d444-4502-bd38-fe47ed53b41e",
   "metadata": {},
   "outputs": [],
   "source": [
    "max_number = lambda x, y: x if x>y else y"
   ]
  },
  {
   "cell_type": "code",
   "execution_count": 52,
   "id": "31423d80-bc08-4719-952c-fd9513cb6098",
   "metadata": {},
   "outputs": [
    {
     "data": {
      "text/plain": [
       "5"
      ]
     },
     "execution_count": 52,
     "metadata": {},
     "output_type": "execute_result"
    }
   ],
   "source": [
    "max_number(2,5)"
   ]
  },
  {
   "cell_type": "code",
   "execution_count": 54,
   "id": "e5ac0893-f0f2-4300-94f3-0b5148945b01",
   "metadata": {},
   "outputs": [],
   "source": [
    "# use lambda functions only when you think that it can be single line and can be converted in short code"
   ]
  },
  {
   "cell_type": "code",
   "execution_count": 56,
   "id": "1ee1e84e-f6b6-46a4-bedc-8bd0d99ff901",
   "metadata": {},
   "outputs": [
    {
     "data": {
      "text/plain": [
       "[0, 1, 2, 3, 4, 5, 6, 7]"
      ]
     },
     "execution_count": 56,
     "metadata": {},
     "output_type": "execute_result"
    }
   ],
   "source": [
    "a = [1,5,7,6,4,2,3,0]\n",
    "sorted_a = sorted(a)\n",
    "sorted_a"
   ]
  },
  {
   "cell_type": "code",
   "execution_count": 6,
   "id": "3f228c1d-9742-495e-af9c-1b6ef9160db8",
   "metadata": {},
   "outputs": [],
   "source": [
    "students = [\n",
    "    {'name': 'A', 'marks': 50},\n",
    "    {'name': 'B', 'marks': 70},\n",
    "    {'name': 'C', 'marks': 100},\n",
    "    {'name': 'D', 'marks': 90},\n",
    "    {'name': 'E', 'marks': 20},\n",
    "    {'name': 'F', 'marks': 60},\n",
    "]\n"
   ]
  },
  {
   "cell_type": "code",
   "execution_count": 18,
   "id": "13bc2eaa-25c3-4951-af67-e4ed14317346",
   "metadata": {},
   "outputs": [],
   "source": [
    "# students_sorted = sorted(students)\n",
    "# students_sorted                         # error since it is not supported\n",
    "# dictionaries are not supported to be compared "
   ]
  },
  {
   "cell_type": "code",
   "execution_count": 12,
   "id": "5cd3ca3c-20e5-4d46-9196-ab21ec49d183",
   "metadata": {},
   "outputs": [],
   "source": [
    "#{'name': 'A', 'marks': 50}< {'name': 'B', 'marks': 70}"
   ]
  },
  {
   "cell_type": "code",
   "execution_count": 78,
   "id": "f94788f2-2736-43ff-abc6-aec6284f5752",
   "metadata": {},
   "outputs": [
    {
     "data": {
      "text/plain": [
       "'A'"
      ]
     },
     "execution_count": 78,
     "metadata": {},
     "output_type": "execute_result"
    }
   ],
   "source": [
    "{'name': 'A', 'marks': 50}.get('name') "
   ]
  },
  {
   "cell_type": "code",
   "execution_count": 16,
   "id": "9b312b2e-387d-47d2-9ed2-4216652417e8",
   "metadata": {},
   "outputs": [
    {
     "data": {
      "text/plain": [
       "False"
      ]
     },
     "execution_count": 16,
     "metadata": {},
     "output_type": "execute_result"
    }
   ],
   "source": [
    "{'name': 'A', 'marks': 50}.get('marks') > {'name': 'B', 'marks': 70}.get('marks')"
   ]
  },
  {
   "cell_type": "code",
   "execution_count": 90,
   "id": "a6322ef6-d37d-46fd-8474-2ac9bb351be1",
   "metadata": {},
   "outputs": [
    {
     "name": "stdout",
     "output_type": "stream",
     "text": [
      "[{'name': 'E', 'marks': 20}, {'name': 'A', 'marks': 50}, {'name': 'F', 'marks': 60}, {'name': 'B', 'marks': 70}, {'name': 'D', 'marks': 90}, {'name': 'C', 'marks': 100}]\n"
     ]
    }
   ],
   "source": [
    "# how to tell sorted function to sort on certain key\n",
    "# marks in ascending order\n",
    "sorted_students = sorted(students, key=lambda x: x['marks'])\n",
    "print(sorted_students)\n"
   ]
  },
  {
   "cell_type": "code",
   "execution_count": 92,
   "id": "afabeeb9-faf3-46e8-a4e0-dd832c9d3dcd",
   "metadata": {},
   "outputs": [
    {
     "name": "stdout",
     "output_type": "stream",
     "text": [
      "[{'name': 'C', 'marks': 100}, {'name': 'D', 'marks': 90}, {'name': 'B', 'marks': 70}, {'name': 'F', 'marks': 60}, {'name': 'A', 'marks': 50}, {'name': 'E', 'marks': 20}]\n"
     ]
    }
   ],
   "source": [
    "# marks in descending order\n",
    "sorted_students_desc = sorted(students, key=lambda x: x['marks'], reverse=True)\n",
    "print(sorted_students_desc)\n"
   ]
  },
  {
   "cell_type": "code",
   "execution_count": 94,
   "id": "3cf00d54-81c2-4e64-9e73-9c3d6679c22e",
   "metadata": {},
   "outputs": [
    {
     "name": "stdout",
     "output_type": "stream",
     "text": [
      "[{'name': 'E', 'marks': 20}, {'name': 'A', 'marks': 50}, {'name': 'F', 'marks': 60}, {'name': 'B', 'marks': 70}, {'name': 'D', 'marks': 90}, {'name': 'C', 'marks': 100}]\n"
     ]
    }
   ],
   "source": [
    "# using sort \n",
    "students.sort(key=lambda x: x['marks'])\n",
    "print(students)\n"
   ]
  },
  {
   "cell_type": "code",
   "execution_count": 96,
   "id": "d8c00673-764e-4e31-8bc7-047623066638",
   "metadata": {},
   "outputs": [
    {
     "name": "stdout",
     "output_type": "stream",
     "text": [
      "[{'name': 'C', 'marks': 100}, {'name': 'D', 'marks': 90}, {'name': 'B', 'marks': 70}, {'name': 'F', 'marks': 60}, {'name': 'A', 'marks': 50}, {'name': 'E', 'marks': 20}]\n"
     ]
    }
   ],
   "source": [
    "# using sort in descending order\n",
    "students.sort(key=lambda x: x['marks'], reverse=True)\n",
    "print(students)\n"
   ]
  },
  {
   "cell_type": "code",
   "execution_count": 110,
   "id": "aab4fa08-2084-44c2-be16-b5642dc8435f",
   "metadata": {},
   "outputs": [],
   "source": [
    "# higher order functions"
   ]
  },
  {
   "cell_type": "code",
   "execution_count": 98,
   "id": "864800e1-48d0-4f03-8fe2-14bd0060d1c5",
   "metadata": {},
   "outputs": [],
   "source": [
    "# writing a function that can generate functions\n",
    "def gen_exp(n):\n",
    "    def exp(x):\n",
    "        return x**n\n",
    "    return exp"
   ]
  },
  {
   "cell_type": "code",
   "execution_count": 102,
   "id": "d708fb8a-2c09-497a-8d07-935df1757197",
   "metadata": {},
   "outputs": [
    {
     "data": {
      "text/plain": [
       "<function __main__.gen_exp.<locals>.exp(x)>"
      ]
     },
     "execution_count": 102,
     "metadata": {},
     "output_type": "execute_result"
    }
   ],
   "source": [
    "exp_5  = gen_exp(5)        \n",
    "exp_5                  # x**5\n",
    "\n",
    "# # it returns internally\n",
    "# def exp(x):\n",
    "#     return x**5"
   ]
  },
  {
   "cell_type": "code",
   "execution_count": 108,
   "id": "10a3335a-9e4e-4fa1-83ce-d01424528f21",
   "metadata": {},
   "outputs": [
    {
     "data": {
      "text/plain": [
       "32"
      ]
     },
     "execution_count": 108,
     "metadata": {},
     "output_type": "execute_result"
    }
   ],
   "source": [
    "exp_5(2)   # 2^5"
   ]
  },
  {
   "cell_type": "code",
   "execution_count": 22,
   "id": "fb4420e5-5bdc-49f2-a44c-f8c80e829a26",
   "metadata": {},
   "outputs": [],
   "source": [
    "# using lambda\n",
    "def gen_exp1(n):\n",
    "    exp = lambda x:x**n\n",
    "    return exp"
   ]
  },
  {
   "cell_type": "code",
   "execution_count": 24,
   "id": "8897f18d-33fd-4c57-9794-bd64570a6101",
   "metadata": {},
   "outputs": [
    {
     "data": {
      "text/plain": [
       "32"
      ]
     },
     "execution_count": 24,
     "metadata": {},
     "output_type": "execute_result"
    }
   ],
   "source": [
    "exp5 = gen_exp1(5)\n",
    "exp5(2)   # 2^5"
   ]
  },
  {
   "cell_type": "code",
   "execution_count": 26,
   "id": "6d480554-4954-4363-9cb9-bc5ac6df3006",
   "metadata": {},
   "outputs": [
    {
     "data": {
      "text/plain": [
       "9"
      ]
     },
     "execution_count": 26,
     "metadata": {},
     "output_type": "execute_result"
    }
   ],
   "source": [
    "square = gen_exp1(2)\n",
    "square(3)"
   ]
  },
  {
   "cell_type": "code",
   "execution_count": 30,
   "id": "96fc8e7c-7850-43c1-9dcf-480df9971deb",
   "metadata": {},
   "outputs": [
    {
     "data": {
      "text/plain": [
       "64"
      ]
     },
     "execution_count": 30,
     "metadata": {},
     "output_type": "execute_result"
    }
   ],
   "source": [
    "cube = gen_exp1(3) # x**3\n",
    "cube(4)"
   ]
  },
  {
   "cell_type": "code",
   "execution_count": 32,
   "id": "7d805536-fc60-4d25-ab8f-0c8e78c0fa43",
   "metadata": {},
   "outputs": [
    {
     "data": {
      "text/plain": [
       "4.0"
      ]
     },
     "execution_count": 32,
     "metadata": {},
     "output_type": "execute_result"
    }
   ],
   "source": [
    "sqrt = gen_exp1(0.5)\n",
    "sqrt(16)"
   ]
  },
  {
   "cell_type": "code",
   "execution_count": 128,
   "id": "631be719-40cb-4b5e-ba15-b0b9c6da5690",
   "metadata": {},
   "outputs": [
    {
     "data": {
      "text/plain": [
       "function"
      ]
     },
     "execution_count": 128,
     "metadata": {},
     "output_type": "execute_result"
    }
   ],
   "source": [
    "type(sqrt)"
   ]
  },
  {
   "cell_type": "code",
   "execution_count": 48,
   "id": "d7a7ee02-294e-47ca-a39d-aa437a41b837",
   "metadata": {},
   "outputs": [],
   "source": [
    "# creating a new chatbot\n",
    "def hello():\n",
    "    print('hello everyone: my name is jarvis: ')\n",
    "def bye():\n",
    "    print('bye, signing out')\n",
    "def greetings():\n",
    "    print('Hi , Greetings to you')"
   ]
  },
  {
   "cell_type": "code",
   "execution_count": 50,
   "id": "a0a891ce-54ed-4588-ac21-4c9320bee294",
   "metadata": {},
   "outputs": [
    {
     "name": "stdout",
     "output_type": "stream",
     "text": [
      "hello everyone: my name is jarvis: \n"
     ]
    }
   ],
   "source": [
    "hello()"
   ]
  },
  {
   "cell_type": "code",
   "execution_count": 52,
   "id": "71bc48db-168e-45c0-9fd1-fceda58fb196",
   "metadata": {},
   "outputs": [
    {
     "name": "stdout",
     "output_type": "stream",
     "text": [
      "Hi , Greetings to you\n"
     ]
    }
   ],
   "source": [
    "greetings()"
   ]
  },
  {
   "cell_type": "code",
   "execution_count": 54,
   "id": "cec61884-ac91-431c-b3ee-df43a8b81d24",
   "metadata": {},
   "outputs": [
    {
     "data": {
      "text/plain": [
       "''"
      ]
     },
     "execution_count": 54,
     "metadata": {},
     "output_type": "execute_result"
    }
   ],
   "source": [
    "''*10"
   ]
  },
  {
   "cell_type": "code",
   "execution_count": 56,
   "id": "7cacb3ab-4f1b-40f8-940d-b50b93e27707",
   "metadata": {},
   "outputs": [],
   "source": [
    "def hello():\n",
    "    print('-'*50)  # assign any code\n",
    "    print('hello everyone: my name is jarvis: ')\n",
    "    print('-'*50)"
   ]
  },
  {
   "cell_type": "code",
   "execution_count": 58,
   "id": "e161e305-7f52-48a4-930e-7a91fe997387",
   "metadata": {},
   "outputs": [
    {
     "name": "stdout",
     "output_type": "stream",
     "text": [
      "--------------------------------------------------\n",
      "hello everyone: my name is jarvis: \n",
      "--------------------------------------------------\n"
     ]
    }
   ],
   "source": [
    "hello()"
   ]
  },
  {
   "cell_type": "code",
   "execution_count": 60,
   "id": "7da17382-e5b9-47ae-854b-bbaf441f83cf",
   "metadata": {},
   "outputs": [],
   "source": [
    "# higher order function\n",
    "def example(f):\n",
    "    def inner():\n",
    "        print('-'*50)\n",
    "        print(f)\n",
    "        print('-'*50)\n",
    "    return inner"
   ]
  },
  {
   "cell_type": "code",
   "execution_count": 85,
   "id": "03b232d1-1e11-4cb2-ab2b-8e0eab33bf71",
   "metadata": {},
   "outputs": [
    {
     "name": "stdout",
     "output_type": "stream",
     "text": [
      "--------------------------------------------------\n",
      "bye, signing out\n",
      "--------------------------------------------------\n"
     ]
    }
   ],
   "source": [
    "random = example(bye) # f = bye\n",
    "random()"
   ]
  },
  {
   "cell_type": "code",
   "execution_count": 64,
   "id": "e2e1e895-15cf-4aeb-bd25-92c561bae561",
   "metadata": {},
   "outputs": [],
   "source": [
    "# decorated bye\n",
    "def example(f):\n",
    "    def inner():\n",
    "        print('-'*50)\n",
    "        f()                 #bye()\n",
    "        print('-'*50)\n",
    "    return inner\n",
    "\n",
    "\n",
    "# def inner():\n",
    "#     print('-'*50)\n",
    "#     bye()\n",
    "#     print('-'*50)\n",
    "    "
   ]
  },
  {
   "cell_type": "code",
   "execution_count": 66,
   "id": "bb1c4cdf-9eff-4f94-a308-dedecdee0c6f",
   "metadata": {},
   "outputs": [
    {
     "name": "stdout",
     "output_type": "stream",
     "text": [
      "--------------------------------------------------\n",
      "bye, signing out\n",
      "--------------------------------------------------\n"
     ]
    }
   ],
   "source": [
    "decorated_bye = example(bye)   # f is bye\n",
    "decorated_bye()"
   ]
  },
  {
   "cell_type": "code",
   "execution_count": 68,
   "id": "77e72c8e-0292-47d8-92f9-c42a972d3c84",
   "metadata": {},
   "outputs": [
    {
     "name": "stdout",
     "output_type": "stream",
     "text": [
      "--------------------------------------------------\n",
      "Hi , Greetings to you\n",
      "--------------------------------------------------\n"
     ]
    }
   ],
   "source": [
    "decorated_greetings = example(greetings)\n",
    "decorated_greetings()\n"
   ]
  },
  {
   "cell_type": "code",
   "execution_count": 70,
   "id": "e0752407-bc70-477a-9ce5-86320cb71630",
   "metadata": {},
   "outputs": [],
   "source": [
    "def learn():\n",
    "    print('I am learning python')"
   ]
  },
  {
   "cell_type": "code",
   "execution_count": 72,
   "id": "16b27d4b-57d3-4a5b-96ed-a0835832080b",
   "metadata": {},
   "outputs": [
    {
     "name": "stdout",
     "output_type": "stream",
     "text": [
      "--------------------------------------------------\n",
      "I am learning python\n",
      "--------------------------------------------------\n"
     ]
    }
   ],
   "source": [
    "decorated_learn = example(learn)\n",
    "decorated_learn()"
   ]
  },
  {
   "cell_type": "code",
   "execution_count": 74,
   "id": "a2544908-2999-4097-8a70-47d7e9442cc3",
   "metadata": {},
   "outputs": [],
   "source": [
    "# to eliminate the repeated use - to optimise\n",
    "\n",
    "@example  #decorator\n",
    "def random():\n",
    "    print('this is random message')\n",
    "\n",
    "\n",
    "# random = example(random)"
   ]
  },
  {
   "cell_type": "code",
   "execution_count": 76,
   "id": "36dfbb61-186c-470f-bbb8-fbb18b268f5e",
   "metadata": {},
   "outputs": [
    {
     "name": "stdout",
     "output_type": "stream",
     "text": [
      "--------------------------------------------------\n",
      "this is random message\n",
      "--------------------------------------------------\n"
     ]
    }
   ],
   "source": [
    "random()"
   ]
  },
  {
   "cell_type": "markdown",
   "id": "bc59c828-dad7-496f-980f-1a2d969ace18",
   "metadata": {},
   "source": [
    "# Map , filter, Reduce, zip, args and kwargs\n"
   ]
  },
  {
   "cell_type": "code",
   "execution_count": 1,
   "id": "3783152a-0639-4b1f-af3c-bf20d9d1c91f",
   "metadata": {},
   "outputs": [],
   "source": [
    "# given a list of numbers, create a list containing the square of every number\n",
    "a = [1,2,3,4]"
   ]
  },
  {
   "cell_type": "code",
   "execution_count": 213,
   "id": "d340eb5c-5947-4cce-b7c6-26156678588c",
   "metadata": {},
   "outputs": [
    {
     "name": "stdout",
     "output_type": "stream",
     "text": [
      "[1, 4, 9, 16]\n"
     ]
    }
   ],
   "source": [
    "result = []\n",
    "\n",
    "for i in a:\n",
    "    result.append(i*i)\n",
    "print(result)"
   ]
  },
  {
   "cell_type": "code",
   "execution_count": 219,
   "id": "138b7134-517e-4bd3-bb18-fe176f3070ec",
   "metadata": {},
   "outputs": [
    {
     "data": {
      "text/plain": [
       "[1, 4, 9, 16]"
      ]
     },
     "execution_count": 219,
     "metadata": {},
     "output_type": "execute_result"
    }
   ],
   "source": [
    "# using list comprehension\n",
    "result1 = [i*i for i in a]\n",
    "result1"
   ]
  },
  {
   "cell_type": "code",
   "execution_count": 7,
   "id": "a78be3b6-2e87-42bf-b719-dbb53c8959fa",
   "metadata": {},
   "outputs": [
    {
     "data": {
      "text/plain": [
       "[1, 4, 9, 16]"
      ]
     },
     "execution_count": 7,
     "metadata": {},
     "output_type": "execute_result"
    }
   ],
   "source": [
    "# map\n",
    "# map(function, iterable)\n",
    "result2 = list(map(lambda x: x**2, a))\n",
    "result2"
   ]
  },
  {
   "cell_type": "code",
   "execution_count": 239,
   "id": "d9b4de15-45f9-4c60-8e76-de38bb57922e",
   "metadata": {},
   "outputs": [
    {
     "name": "stdout",
     "output_type": "stream",
     "text": [
      "678 ns ± 46.9 ns per loop (mean ± std. dev. of 7 runs, 1,000,000 loops each)\n"
     ]
    }
   ],
   "source": [
    "%timeit [i**2 for i in a]"
   ]
  },
  {
   "cell_type": "code",
   "execution_count": 241,
   "id": "521b54e6-9d87-4632-847e-0658e5e63689",
   "metadata": {},
   "outputs": [
    {
     "name": "stdout",
     "output_type": "stream",
     "text": [
      "1.78 μs ± 252 ns per loop (mean ± std. dev. of 7 runs, 100,000 loops each)\n"
     ]
    }
   ],
   "source": [
    "%timeit list(map(lambda x: x**2, a))"
   ]
  },
  {
   "cell_type": "code",
   "execution_count": 243,
   "id": "7bee1d11-ed9c-4650-953c-cd754c127e46",
   "metadata": {},
   "outputs": [],
   "source": [
    "# map a given list of heights to sizes as per given bifurcation\n",
    "# h < 150 -- S\n",
    "# h>=150 and <180 -- M\n",
    "# h >= 180 --L\n",
    "\n",
    "heights = [144, 167,189,170,190,150,165,178,200,130]"
   ]
  },
  {
   "cell_type": "code",
   "execution_count": 245,
   "id": "71c963fb-41a9-45bb-9275-6c68f3808b1c",
   "metadata": {},
   "outputs": [],
   "source": [
    "def size(h):\n",
    "    if h<150:\n",
    "        return 'S'\n",
    "    elif h <180:\n",
    "        return 'M'\n",
    "    else:\n",
    "        return 'L'"
   ]
  },
  {
   "cell_type": "code",
   "execution_count": 247,
   "id": "07dc5107-ade8-4c23-876b-568e6be60335",
   "metadata": {},
   "outputs": [
    {
     "data": {
      "text/plain": [
       "'L'"
      ]
     },
     "execution_count": 247,
     "metadata": {},
     "output_type": "execute_result"
    }
   ],
   "source": [
    "size(193)"
   ]
  },
  {
   "cell_type": "code",
   "execution_count": 249,
   "id": "165292e3-a84a-4614-9617-ce1badad9332",
   "metadata": {},
   "outputs": [
    {
     "data": {
      "text/plain": [
       "['S', 'M', 'L', 'M', 'L', 'M', 'M', 'M', 'L', 'S']"
      ]
     },
     "execution_count": 249,
     "metadata": {},
     "output_type": "execute_result"
    }
   ],
   "source": [
    "sizes = list(map(size,heights))\n",
    "sizes"
   ]
  },
  {
   "cell_type": "code",
   "execution_count": 251,
   "id": "f5fe61d2-e3b1-4c80-9ac5-f3f3e3911cc5",
   "metadata": {},
   "outputs": [
    {
     "data": {
      "text/plain": [
       "['S', 'M', 'L', 'M', 'L', 'M', 'M', 'M', 'L', 'S']"
      ]
     },
     "execution_count": 251,
     "metadata": {},
     "output_type": "execute_result"
    }
   ],
   "source": [
    "result = list(map(lambda h: 'S' if h <150 else 'M' if h <180 else 'L', heights))\n",
    "result"
   ]
  },
  {
   "cell_type": "code",
   "execution_count": 255,
   "id": "bf2a2050-89ed-46fd-9145-07fe4a436f00",
   "metadata": {},
   "outputs": [
    {
     "data": {
      "text/plain": [
       "[25, 45, 65, 85, 105]"
      ]
     },
     "execution_count": 255,
     "metadata": {},
     "output_type": "execute_result"
    }
   ],
   "source": [
    "# map function will iterate till end of the list\n",
    "A = [10,20,30,40,50]\n",
    "B= [15,25,35,45,55,67,88,90]\n",
    "\n",
    "result = list(map(lambda x,y: x+y ,A,B))\n",
    "result"
   ]
  },
  {
   "cell_type": "markdown",
   "id": "12bd440f-fb7c-4b30-8a0f-7209a4506ac8",
   "metadata": {},
   "source": [
    "# filter"
   ]
  },
  {
   "cell_type": "code",
   "execution_count": 257,
   "id": "ca9832ad-baef-45a9-a114-17bd8fee2287",
   "metadata": {},
   "outputs": [],
   "source": [
    "# filter filters the net values of an iterable based on some logic"
   ]
  },
  {
   "cell_type": "code",
   "execution_count": 259,
   "id": "a5a1d77d-c9d1-41ea-9c6b-ed661a864718",
   "metadata": {},
   "outputs": [
    {
     "data": {
      "text/plain": [
       "[1, 2, 3, 4, 5, 6, 7, 8, 9, 10, 11, 12, 13, 14, 15, 16, 17, 18, 19, 20]"
      ]
     },
     "execution_count": 259,
     "metadata": {},
     "output_type": "execute_result"
    }
   ],
   "source": [
    "a = list(range(1,21))\n",
    "a"
   ]
  },
  {
   "cell_type": "code",
   "execution_count": 11,
   "id": "e29c4a15-a265-4523-b272-1f2c6a17e728",
   "metadata": {},
   "outputs": [
    {
     "data": {
      "text/plain": [
       "filter"
      ]
     },
     "execution_count": 11,
     "metadata": {},
     "output_type": "execute_result"
    }
   ],
   "source": [
    "evens = list(filter(lambda x:x%2 == 0, a))\n",
    "type(evens)"
   ]
  },
  {
   "cell_type": "code",
   "execution_count": 263,
   "id": "25663f59-161a-4520-a76f-829a8f63513e",
   "metadata": {},
   "outputs": [
    {
     "name": "stdout",
     "output_type": "stream",
     "text": [
      "[False, True, False, True, False, True, False, True, False, True, False, True, False, True, False, True, False, True, False, True]\n"
     ]
    }
   ],
   "source": [
    "map_lam = list(map(lambda x:x%2 == 0,a))\n",
    "print(map_lam)"
   ]
  },
  {
   "cell_type": "markdown",
   "id": "1afe10d0-c9b5-40c2-a9c1-e1fe856d2502",
   "metadata": {},
   "source": [
    "# zip"
   ]
  },
  {
   "cell_type": "code",
   "execution_count": 267,
   "id": "de758291-27ce-4604-85f6-db62c1c732da",
   "metadata": {},
   "outputs": [],
   "source": [
    "a = [1,2,3,4]\n",
    "b = ['a','b','c','d','e']\n",
    "c = [True, False, True, False]"
   ]
  },
  {
   "cell_type": "code",
   "execution_count": 269,
   "id": "9531e2de-2a2e-4c25-9252-eb592600b7db",
   "metadata": {},
   "outputs": [
    {
     "data": {
      "text/plain": [
       "[(1, 'a', True), (2, 'b', False), (3, 'c', True), (4, 'd', False)]"
      ]
     },
     "execution_count": 269,
     "metadata": {},
     "output_type": "execute_result"
    }
   ],
   "source": [
    "list(zip(a,b,c))"
   ]
  },
  {
   "cell_type": "code",
   "execution_count": 279,
   "id": "053ef10f-081d-4eb2-927c-7a994efc63b9",
   "metadata": {},
   "outputs": [],
   "source": [
    "keys = ['a','b','c','d']\n",
    "values = [97,98,99,100]"
   ]
  },
  {
   "cell_type": "code",
   "execution_count": 281,
   "id": "cce31076-bf4c-4752-8b13-48eb375915b1",
   "metadata": {},
   "outputs": [
    {
     "data": {
      "text/plain": [
       "{'a': 97, 'b': 98, 'c': 99, 'd': 100}"
      ]
     },
     "execution_count": 281,
     "metadata": {},
     "output_type": "execute_result"
    }
   ],
   "source": [
    "dict(zip(keys,values))"
   ]
  },
  {
   "cell_type": "markdown",
   "id": "c38cf138-b56f-4a23-a287-d5f503b5296b",
   "metadata": {},
   "source": [
    "# reduce"
   ]
  },
  {
   "cell_type": "code",
   "execution_count": 15,
   "id": "d8ba5537-21c7-42bf-9619-5f8e43e37951",
   "metadata": {},
   "outputs": [],
   "source": [
    "from functools import reduce"
   ]
  },
  {
   "cell_type": "code",
   "execution_count": 17,
   "id": "5f150bd9-19dd-453b-8a98-188713780ce9",
   "metadata": {},
   "outputs": [
    {
     "data": {
      "text/plain": [
       "[1, 2, 3, 4, 5, 6, 7, 8, 9, 10]"
      ]
     },
     "execution_count": 17,
     "metadata": {},
     "output_type": "execute_result"
    }
   ],
   "source": [
    "a = list(range(1,11))\n",
    "a"
   ]
  },
  {
   "cell_type": "code",
   "execution_count": 19,
   "id": "e7fccb8f-6e88-4b20-a13e-b092aa8053cc",
   "metadata": {},
   "outputs": [
    {
     "data": {
      "text/plain": [
       "55"
      ]
     },
     "execution_count": 19,
     "metadata": {},
     "output_type": "execute_result"
    }
   ],
   "source": [
    "result = reduce(lambda x,y : x + y, a)\n",
    "result"
   ]
  },
  {
   "cell_type": "code",
   "execution_count": 25,
   "id": "4788f4a0-ae3a-4564-93fd-036ad9b86e82",
   "metadata": {},
   "outputs": [
    {
     "data": {
      "text/plain": [
       "720"
      ]
     },
     "execution_count": 25,
     "metadata": {},
     "output_type": "execute_result"
    }
   ],
   "source": [
    "# find factorial of 5 using above list and reduce function\n",
    "l = [1,2,3,4,5,6]\n",
    "fact = reduce(lambda x,y : x*y,l)\n",
    "fact\n",
    "# 5 * 4 * 3 *2*1"
   ]
  },
  {
   "cell_type": "code",
   "execution_count": 31,
   "id": "a6760fb1-7dae-4163-8274-4b1df33e2344",
   "metadata": {},
   "outputs": [
    {
     "name": "stdin",
     "output_type": "stream",
     "text": [
      " 7\n"
     ]
    }
   ],
   "source": [
    "n = int(input())\n",
    "l = list(range(1,n+1))"
   ]
  },
  {
   "cell_type": "code",
   "execution_count": 33,
   "id": "271dfb25-929f-4071-a6d0-e48b13724257",
   "metadata": {},
   "outputs": [
    {
     "data": {
      "text/plain": [
       "[1, 2, 3, 4, 5, 6, 7]"
      ]
     },
     "execution_count": 33,
     "metadata": {},
     "output_type": "execute_result"
    }
   ],
   "source": [
    "l"
   ]
  },
  {
   "cell_type": "code",
   "execution_count": 20,
   "id": "9dcfee48-f576-4bf5-b239-f25d0939efe8",
   "metadata": {},
   "outputs": [
    {
     "data": {
      "text/plain": [
       "720"
      ]
     },
     "execution_count": 20,
     "metadata": {},
     "output_type": "execute_result"
    }
   ],
   "source": [
    "fact6 = reduce(lambda x,y : x*y,l)\n",
    "fact6"
   ]
  },
  {
   "cell_type": "code",
   "execution_count": 39,
   "id": "1438b074-16b9-44e7-b729-6abc39e8c314",
   "metadata": {},
   "outputs": [
    {
     "name": "stdin",
     "output_type": "stream",
     "text": [
      " 6\n"
     ]
    },
    {
     "data": {
      "text/plain": [
       "720"
      ]
     },
     "execution_count": 39,
     "metadata": {},
     "output_type": "execute_result"
    }
   ],
   "source": [
    "n = int(input())\n",
    "fact6 = reduce(lambda x,y : x*y,list(range(1,n+1)))\n",
    "fact6"
   ]
  },
  {
   "cell_type": "code",
   "execution_count": 26,
   "id": "266b400b-a308-4bef-adf9-e81faa9a0cee",
   "metadata": {},
   "outputs": [
    {
     "data": {
      "text/plain": [
       "[(1, 'a'), (2, 'b')]"
      ]
     },
     "execution_count": 26,
     "metadata": {},
     "output_type": "execute_result"
    }
   ],
   "source": [
    "a = [1,2,3]\n",
    "b = ['a','b']\n",
    "\n",
    "list(zip(a,b))"
   ]
  },
  {
   "cell_type": "markdown",
   "id": "6132fdc8-b02d-4449-b977-3ab69d1aab98",
   "metadata": {},
   "source": [
    "# Args and Kwargs"
   ]
  },
  {
   "cell_type": "code",
   "execution_count": 43,
   "id": "147ecbe9-5f90-4783-b86f-4b0781f3b799",
   "metadata": {},
   "outputs": [],
   "source": [
    "def add(a,b):\n",
    "    return a+b"
   ]
  },
  {
   "cell_type": "code",
   "execution_count": 45,
   "id": "e214dc67-a51c-4b78-bcac-a72e4e2150b6",
   "metadata": {},
   "outputs": [
    {
     "data": {
      "text/plain": [
       "3"
      ]
     },
     "execution_count": 45,
     "metadata": {},
     "output_type": "execute_result"
    }
   ],
   "source": [
    "add(1,2)"
   ]
  },
  {
   "cell_type": "code",
   "execution_count": 51,
   "id": "a550e1f4-73a4-4e99-9290-6722ab9abaf8",
   "metadata": {},
   "outputs": [],
   "source": [
    "#add(1,2,3,4,5,6) # error"
   ]
  },
  {
   "cell_type": "code",
   "execution_count": 49,
   "id": "a74a1242-9fa5-4f69-adb2-99e55d8746fd",
   "metadata": {},
   "outputs": [],
   "source": [
    "# args - arbitrary number of arguments"
   ]
  },
  {
   "cell_type": "code",
   "execution_count": 41,
   "id": "4c70e6da-9f05-462a-b5d6-0932beb8d04a",
   "metadata": {},
   "outputs": [],
   "source": [
    "def add(a,b, *args):\n",
    "    print(args)\n",
    "    return a+b"
   ]
  },
  {
   "cell_type": "code",
   "execution_count": 45,
   "id": "21da0301-33e5-4463-80f4-8560e6091754",
   "metadata": {},
   "outputs": [
    {
     "name": "stdout",
     "output_type": "stream",
     "text": [
      "(3, 4, 5, 6)\n"
     ]
    },
    {
     "data": {
      "text/plain": [
       "3"
      ]
     },
     "execution_count": 45,
     "metadata": {},
     "output_type": "execute_result"
    }
   ],
   "source": [
    "add(1,2,3,4,5,6)"
   ]
  },
  {
   "cell_type": "code",
   "execution_count": 47,
   "id": "54170ed7-a493-4fd2-ba30-542a8b9d4b0c",
   "metadata": {},
   "outputs": [],
   "source": [
    "def add(a,b, *args):\n",
    "    return a+b+sum(args)"
   ]
  },
  {
   "cell_type": "code",
   "execution_count": 49,
   "id": "e65717c2-8240-4af9-bf3a-0731863918e8",
   "metadata": {},
   "outputs": [
    {
     "data": {
      "text/plain": [
       "21"
      ]
     },
     "execution_count": 49,
     "metadata": {},
     "output_type": "execute_result"
    }
   ],
   "source": [
    "add(1,2,3,4,5,6)"
   ]
  },
  {
   "cell_type": "code",
   "execution_count": 51,
   "id": "275601de-a47a-4ca8-bcf7-abcd136d3b26",
   "metadata": {},
   "outputs": [],
   "source": [
    "def print_numbers(*args):\n",
    "    print(args)"
   ]
  },
  {
   "cell_type": "code",
   "execution_count": 53,
   "id": "bdd923de-72ff-477b-90aa-709c3a5607f2",
   "metadata": {},
   "outputs": [
    {
     "name": "stdout",
     "output_type": "stream",
     "text": [
      "(1, 'rahul')\n"
     ]
    }
   ],
   "source": [
    "print_numbers(1,'rahul')"
   ]
  },
  {
   "cell_type": "code",
   "execution_count": 59,
   "id": "ee72c375-3de6-42ae-bdc8-42300912c22b",
   "metadata": {},
   "outputs": [],
   "source": [
    "def multi(a,b,*args):\n",
    "    mul = 1\n",
    "    for i in args:\n",
    "        mul *= i\n",
    "    print(args)\n",
    "    return mul * a * b"
   ]
  },
  {
   "cell_type": "code",
   "execution_count": 61,
   "id": "5a694f98-c000-4d90-afdf-0df160366b13",
   "metadata": {},
   "outputs": [
    {
     "name": "stdout",
     "output_type": "stream",
     "text": [
      "(3, 4)\n"
     ]
    },
    {
     "data": {
      "text/plain": [
       "24"
      ]
     },
     "execution_count": 61,
     "metadata": {},
     "output_type": "execute_result"
    }
   ],
   "source": [
    "multi(1,2,3,4)"
   ]
  },
  {
   "cell_type": "code",
   "execution_count": 63,
   "id": "40339682-352a-4ebc-8361-27ab8a5c7db7",
   "metadata": {},
   "outputs": [],
   "source": [
    "# **Kwargs"
   ]
  },
  {
   "cell_type": "code",
   "execution_count": 55,
   "id": "0ff8d6c3-8a49-4d30-97c3-f1c2f723875b",
   "metadata": {},
   "outputs": [],
   "source": [
    "def create_person(name,age, gender):\n",
    "    person = {\n",
    "        'name' : name,\n",
    "        'age' : age,\n",
    "        'gender' : gender\n",
    "    }\n",
    "    return person"
   ]
  },
  {
   "cell_type": "code",
   "execution_count": 57,
   "id": "6d31cf23-dfa8-4aef-b570-638c729c335a",
   "metadata": {},
   "outputs": [
    {
     "data": {
      "text/plain": [
       "{'name': 'Rahul', 'age': 28, 'gender': 'male'}"
      ]
     },
     "execution_count": 57,
     "metadata": {},
     "output_type": "execute_result"
    }
   ],
   "source": [
    "create_person('Rahul',28,'male')"
   ]
  },
  {
   "cell_type": "code",
   "execution_count": 59,
   "id": "501b6169-f236-4fc5-bc54-399939f91b3e",
   "metadata": {},
   "outputs": [
    {
     "data": {
      "text/plain": [
       "{'name': 'Rahul', 'age': 28, 'gender': 'male'}"
      ]
     },
     "execution_count": 59,
     "metadata": {},
     "output_type": "execute_result"
    }
   ],
   "source": [
    "create_person(name = 'Rahul',age =28, gender ='male')"
   ]
  },
  {
   "cell_type": "code",
   "execution_count": 67,
   "id": "3eba808b-8ed0-472a-bb02-90cdbe1c8183",
   "metadata": {},
   "outputs": [],
   "source": [
    "#create_person(name = 'Rahul',age =28, gender ='male',hobby = 'trek',color = 'blue')"
   ]
  },
  {
   "cell_type": "code",
   "execution_count": 63,
   "id": "12139999-9638-4529-8366-8f7534f967d1",
   "metadata": {},
   "outputs": [],
   "source": [
    "# kwargs = keyword arguments"
   ]
  },
  {
   "cell_type": "code",
   "execution_count": 65,
   "id": "ff5bda46-a2f0-4ac3-8200-4061778af3de",
   "metadata": {},
   "outputs": [],
   "source": [
    "def create_person(name,age, gender,**kwargs):\n",
    "    person = {\n",
    "        'name' : name,\n",
    "        'age' : age,\n",
    "        'gender' : gender\n",
    "    }\n",
    "    print(f'kwargs are --> {kwargs}')\n",
    "    person.update(kwargs)\n",
    "    return person"
   ]
  },
  {
   "cell_type": "code",
   "execution_count": 91,
   "id": "46dc1996-6e9b-4418-9d4a-b0f7d0eb9c76",
   "metadata": {},
   "outputs": [
    {
     "name": "stdout",
     "output_type": "stream",
     "text": [
      "kwargs are --> {'hobby': 'trek', 'color': 'blue'}\n"
     ]
    },
    {
     "data": {
      "text/plain": [
       "{'name': 'Rahul',\n",
       " 'age': 28,\n",
       " 'gender': 'male',\n",
       " 'hobby': 'trek',\n",
       " 'color': 'blue'}"
      ]
     },
     "execution_count": 91,
     "metadata": {},
     "output_type": "execute_result"
    }
   ],
   "source": [
    "create_person(name = 'Rahul',age =28, gender ='male',hobby = 'trek',color = 'blue')"
   ]
  },
  {
   "cell_type": "code",
   "execution_count": 71,
   "id": "67917cb0-4c10-4d81-ab22-83732021ef36",
   "metadata": {},
   "outputs": [],
   "source": [
    "# positional --> args --> default --> kwargs"
   ]
  },
  {
   "cell_type": "code",
   "execution_count": 73,
   "id": "68e98409-7d62-442b-ae9f-1ed41e0873d8",
   "metadata": {},
   "outputs": [],
   "source": [
    "def sample_func(x,y,*args,**kwargs):\n",
    "    return x,y,args,kwargs"
   ]
  },
  {
   "cell_type": "code",
   "execution_count": 75,
   "id": "2c7bfab8-888c-4c42-8bcf-60d382b385a4",
   "metadata": {},
   "outputs": [
    {
     "data": {
      "text/plain": [
       "(1, 2, (3, 4), {'a': 5, 'b': 6})"
      ]
     },
     "execution_count": 75,
     "metadata": {},
     "output_type": "execute_result"
    }
   ],
   "source": [
    "sample_func(1,2,3,4,a = 5, b =6)"
   ]
  },
  {
   "cell_type": "code",
   "execution_count": null,
   "id": "457bed9f-9a10-4328-96d0-63911fa7ceeb",
   "metadata": {},
   "outputs": [],
   "source": []
  }
 ],
 "metadata": {
  "kernelspec": {
   "display_name": "Python 3 (ipykernel)",
   "language": "python",
   "name": "python3"
  },
  "language_info": {
   "codemirror_mode": {
    "name": "ipython",
    "version": 3
   },
   "file_extension": ".py",
   "mimetype": "text/x-python",
   "name": "python",
   "nbconvert_exporter": "python",
   "pygments_lexer": "ipython3",
   "version": "3.12.7"
  }
 },
 "nbformat": 4,
 "nbformat_minor": 5
}
