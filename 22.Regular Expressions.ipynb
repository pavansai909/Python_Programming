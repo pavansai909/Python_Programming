{
 "cells": [
  {
   "cell_type": "code",
   "execution_count": 4,
   "id": "a4f78cbb-eb12-4746-9770-8e1576f033f9",
   "metadata": {},
   "outputs": [],
   "source": [
    "# https://regex101.com/"
   ]
  },
  {
   "cell_type": "code",
   "execution_count": 2,
   "id": "45d77283-b9d7-4865-9b4c-d4a7f26f099c",
   "metadata": {},
   "outputs": [
    {
     "data": {
      "text/plain": [
       "'This is a \"special\" string'"
      ]
     },
     "execution_count": 2,
     "metadata": {},
     "output_type": "execute_result"
    }
   ],
   "source": [
    "\"This is a \\\"special\\\" string\""
   ]
  },
  {
   "cell_type": "code",
   "execution_count": 6,
   "id": "bbd8d72a-e976-481b-8fe9-321e7183d886",
   "metadata": {},
   "outputs": [],
   "source": [
    "# special characters/meta characters"
   ]
  },
  {
   "cell_type": "code",
   "execution_count": 8,
   "id": "acd4e5eb-0600-41cf-b0ef-a42bc995cfc5",
   "metadata": {},
   "outputs": [],
   "source": [
    "# .\n",
    "# \\. only.\n",
    "# d\n",
    "# \\d digits\n",
    "#\\d\\d\\d\\d\\d -5 digits\n",
    "# \\D everything else except digits\n",
    "# \\w alphanumeric\n",
    "# \\s spaces\n",
    "# \\S everything else except spaces"
   ]
  },
  {
   "cell_type": "code",
   "execution_count": 16,
   "id": "1407530f-2070-41f5-8776-1ac1c215cb13",
   "metadata": {},
   "outputs": [],
   "source": [
    "# \\bHa -- starts with Ha in all words\n",
    "# \\BHa -- other than that search for Ha\n",
    "# ^ab -- beginning of the string\n",
    "# \\bab -- checks for ab in all words starting\n"
   ]
  },
  {
   "cell_type": "code",
   "execution_count": 4,
   "id": "c7ad50cd-7863-4656-9431-b4207b1b81d9",
   "metadata": {},
   "outputs": [],
   "source": [
    "# abcdefghijklmnopqurtuvwxyz.\n",
    "# ABCDEFGHIJKLMNOPQRSTUVWXYZ abc\n",
    "# 1234567890.\n",
    "# abcdefe_ghijklHa\n",
    "# Ha HaHaHaHaHaHa\n",
    "# [$v\\()}]*\n",
    "# website.com\n",
    "# 321-555-4321\n",
    "# 123.555.1234.\n",
    "# Mr.Pavan\n",
    "# Mr.Sai\n",
    "# Ms.Kumar\n",
    "# Mrs. Singh.\n",
    "# Mrs.Himanshi Varma\n",
    "# Ms.Kalpana Roy"
   ]
  },
  {
   "cell_type": "code",
   "execution_count": 18,
   "id": "099c461c-e8d7-4a6c-9d3b-8d452e2ff74d",
   "metadata": {},
   "outputs": [],
   "source": [
    "# \\d\\d\\d.\\d\\d\\d.\\d\\d\\d\\d -- for numbers\n",
    "# character sets\n",
    "# \\d\\d\\d[.-]\\d\\d\\d[.-]\\d\\d\\d\\d\n",
    "# \\d{3}[.-]\\d{3}[.-]\\d{4}\n",
    "# [a-f] - from a to f\n",
    "# [^a-f] - not from a to f\n",
    "# [2-6]\n",
    "# [6adc]\n",
    "# a+ -- a appearing 1 or more times\n",
    "# a* -- a appearing 0 or more times\n",
    "# a? -- a appearing 0 or 1 time\n",
    "\n",
    "# M(r|s|rs)\\.?\\s*[A-Z]{1}[a-z]+[ ]?[A-Z]?[a-z]*\n"
   ]
  },
  {
   "cell_type": "code",
   "execution_count": 6,
   "id": "8c58bada-61f6-45a4-99b8-6ae69df17fa0",
   "metadata": {},
   "outputs": [],
   "source": [
    "import re\n",
    "import pandas as pd\n",
    "import numpy as np"
   ]
  },
  {
   "cell_type": "code",
   "execution_count": 10,
   "id": "f37b385d-1222-46ca-aa74-07811dc0ca5f",
   "metadata": {},
   "outputs": [],
   "source": [
    "import re\n",
    "\n",
    "email_regex = r'^[a-zA-Z0-9._%+-]+@[a-zA-Z0-9.-]+\\.[a-zA-Z]{2,}$'\n",
    "\n",
    "def is_valid_email(email):\n",
    "    return re.match(email_regex, email) is not None\n"
   ]
  },
  {
   "cell_type": "code",
   "execution_count": 12,
   "id": "d4b5e4f6-e5ae-4658-ad47-3ad3acdf2ec3",
   "metadata": {},
   "outputs": [
    {
     "name": "stdout",
     "output_type": "stream",
     "text": [
      "True\n",
      "False\n"
     ]
    }
   ],
   "source": [
    "print(is_valid_email(\"test@example.com\"))\n",
    "print(is_valid_email(\"invalid-email@\"))    "
   ]
  },
  {
   "cell_type": "code",
   "execution_count": null,
   "id": "57def1dd-865d-4e5b-bc48-b074f3d7b0f5",
   "metadata": {},
   "outputs": [],
   "source": [
    "# ^ → Start of the string.\n",
    "# [a-zA-Z0-9._%+-]+ → Matches the local part (before @).\n",
    "# @ → Matches the @ symbol.\n",
    "# [a-zA-Z0-9.-]+ → Matches the domain name.\n",
    "# \\. → Matches the dot before the domain extension.\n",
    "# [a-zA-Z]{2,} → Matches the domain extension (at least 2 letters).\n",
    "# $ → End of the string."
   ]
  },
  {
   "cell_type": "code",
   "execution_count": 28,
   "id": "ea3b68bd-cff7-4a57-835f-3f251838cd83",
   "metadata": {},
   "outputs": [],
   "source": [
    "# re.match(pattern, string)\n",
    "# Matches only at the beginning of the string.\n",
    "# Returns a match object if successful, else None."
   ]
  },
  {
   "cell_type": "code",
   "execution_count": 26,
   "id": "454019d8-5d78-4664-af48-945aea440839",
   "metadata": {},
   "outputs": [
    {
     "name": "stdout",
     "output_type": "stream",
     "text": [
      "No match\n"
     ]
    }
   ],
   "source": [
    "import re\n",
    "\n",
    "pattern = r\"Hello\"\n",
    "text = \"  Today is a good day, Hello World!\"\n",
    "# text = \" Hello World! Today is a good day, \"\n",
    "\n",
    "match = re.match(pattern, text)\n",
    "if match:\n",
    "    print(\"Match found:\", match.group())\n",
    "else:\n",
    "    print(\"No match\")"
   ]
  },
  {
   "cell_type": "code",
   "execution_count": null,
   "id": "d804a634-f89a-44b1-87f3-091a24827f94",
   "metadata": {},
   "outputs": [],
   "source": [
    "# re.search(pattern, string)\n",
    "# Searches the entire string for a match.\n",
    "# Returns the first occurrence of the match."
   ]
  },
  {
   "cell_type": "code",
   "execution_count": 22,
   "id": "4aaf9605-c1c8-427a-83a2-e4d795d10c11",
   "metadata": {},
   "outputs": [
    {
     "name": "stdout",
     "output_type": "stream",
     "text": [
      "Match found: Python\n"
     ]
    }
   ],
   "source": [
    "text = \"Hi, Python is amazing! Learn Python today.\"\n",
    "pattern = r\"Python\"\n",
    "\n",
    "match = re.search(pattern, text)\n",
    "if match:\n",
    "    print(\"Match found:\", match.group())  \n"
   ]
  },
  {
   "cell_type": "code",
   "execution_count": 38,
   "id": "780c95ec-2daf-49df-9b4f-982219d16eaf",
   "metadata": {},
   "outputs": [],
   "source": [
    "# re.findall(pattern, string)\n",
    "# Finds all occurrences of the pattern in the string.\n",
    "# Returns a list of matches."
   ]
  },
  {
   "cell_type": "code",
   "execution_count": 28,
   "id": "99adb073-2874-428d-ac3d-7ac5789b5dd3",
   "metadata": {},
   "outputs": [
    {
     "name": "stdout",
     "output_type": "stream",
     "text": [
      "['test@example.com', 'contact@example.com']\n"
     ]
    }
   ],
   "source": [
    "text = \"Email me at test@example.com or contact@example.com or example@com\"\n",
    "pattern = r\"\\w+@\\w+\\.\\w+\"\n",
    "\n",
    "emails = re.findall(pattern, text)\n",
    "print(emails)\n"
   ]
  },
  {
   "cell_type": "code",
   "execution_count": 42,
   "id": "ab8a9a4d-ed6f-4c2f-bd8a-e3bb1186f553",
   "metadata": {},
   "outputs": [],
   "source": [
    "# re.finditer(pattern, string)\n",
    "# Like findall(), but returns an iterator of match objects instead of a list."
   ]
  },
  {
   "cell_type": "code",
   "execution_count": 30,
   "id": "f0cc9529-255b-4f29-a8a2-44a09986b338",
   "metadata": {},
   "outputs": [
    {
     "name": "stdout",
     "output_type": "stream",
     "text": [
      "Number found: 3\n",
      "Number found: 5\n"
     ]
    }
   ],
   "source": [
    "text = \"There are 3 apples and 5 bananas.\"\n",
    "pattern = r\"\\d+\" \n",
    "\n",
    "matches = re.finditer(pattern, text)\n",
    "for i in matches:\n",
    "    print(\"Number found:\", i.group())"
   ]
  },
  {
   "cell_type": "code",
   "execution_count": 46,
   "id": "e5b7cf1e-dfe9-4448-82a8-1d9dab470841",
   "metadata": {},
   "outputs": [],
   "source": [
    "# re.sub(pattern, replacement, string)\n",
    "# Replaces occurrences of the pattern with a replacement string."
   ]
  },
  {
   "cell_type": "code",
   "execution_count": 32,
   "id": "4e767727-742f-4411-a07f-5c72e2a3eb96",
   "metadata": {},
   "outputs": [
    {
     "name": "stdout",
     "output_type": "stream",
     "text": [
      "The colour is red\n"
     ]
    }
   ],
   "source": [
    "text = \"The color is red\"\n",
    "pattern = r\"color\"\n",
    "replacement = \"colour\"\n",
    "\n",
    "new_text = re.sub(pattern, replacement, text)\n",
    "print(new_text) "
   ]
  },
  {
   "cell_type": "code",
   "execution_count": 54,
   "id": "b2bafbdc-492b-4b0e-b7d6-1bd52a2bd1d4",
   "metadata": {},
   "outputs": [],
   "source": [
    "# re.split(pattern, string)\n",
    "# Splits the string by occurrences of the pattern."
   ]
  },
  {
   "cell_type": "code",
   "execution_count": 36,
   "id": "f2b88081-5c2e-4953-84ad-d07505e7a9ad",
   "metadata": {},
   "outputs": [
    {
     "name": "stdout",
     "output_type": "stream",
     "text": [
      "['apple', ' banana', ' grape', 'orange']\n"
     ]
    }
   ],
   "source": [
    "text = \"apple, banana; grape|orange\"\n",
    "pattern = r\"[,;|]\"  \n",
    "\n",
    "fruits = re.split(pattern, text)\n",
    "print(fruits) \n"
   ]
  },
  {
   "cell_type": "code",
   "execution_count": null,
   "id": "6de305a8-7b68-4ee4-9632-fa056108f9df",
   "metadata": {},
   "outputs": [],
   "source": [
    "# .\tMatches any character except newline\t\n",
    "# h.t → matches hat, hit, hot\n",
    "# ^\tMatches the start of a string\t\n",
    "# ^hello → matches hello world but not say hello\n",
    "# $\tMatches the end of a string\t\n",
    "# world$ → matches hello world but not world hello\n",
    "# \\d\tMatches any digit (0-9)\t\n",
    "# \\d+ → matches 123 in abc123\n",
    "# \\D\tMatches any non-digit\t\n",
    "# \\D+ → matches abc in abc123\n",
    "# \\w\tMatches any alphanumeric character (letters & digits)\t\n",
    "# \\w+ → matches Hello123 in Hello123!\n",
    "# \\W\tMatches any non-word character\t\n",
    "# \\W+ → matches ! in Hello123!\n",
    "# \\s\tMatches any whitespace (space, tab, newline)\t\n",
    "# \\s+ → matches spaces in Hello World\n",
    "# \\S\tMatches any non-whitespace\t\n",
    "# \\S+ → matches Hello in Hello World\n",
    "# +\tMatches one or more occurrences\t\n",
    "# \\d+ → matches 123 in abc123\n",
    "# *\tMatches zero or more occurrences\t\n",
    "# a* → matches aaa in aaaabc and also b in bcd\n",
    "# ?\tMatches zero or one occurrence\t\n",
    "# colou?r → matches color and colour\n",
    "# {n,m}\tMatches between n and m repetitions\t\n",
    "# \\d{2,4} → matches 12, 123, or 1234\n",
    "# `\t`\tActs as OR operator\n",
    "# ( )\tGroups expressions\t\n",
    "# (ab)+ → matches ab, abab, ababab"
   ]
  },
  {
   "cell_type": "code",
   "execution_count": 58,
   "id": "ce59d121-b726-41e0-99cf-91838e6b7a5d",
   "metadata": {},
   "outputs": [],
   "source": [
    "# If you plan to use a regex multiple times, it's more efficient to compile it first."
   ]
  },
  {
   "cell_type": "code",
   "execution_count": 60,
   "id": "863bc396-3f47-4ac1-88ee-68a3eb98a384",
   "metadata": {},
   "outputs": [
    {
     "name": "stdout",
     "output_type": "stream",
     "text": [
      "['123', '456']\n"
     ]
    }
   ],
   "source": [
    "pattern = re.compile(r\"\\d+\")  # Matches numbers\n",
    "\n",
    "text = \"Order 123 is ready. Order 456 is pending.\"\n",
    "matches = pattern.findall(text)\n",
    "print(matches) \n"
   ]
  },
  {
   "cell_type": "code",
   "execution_count": 62,
   "id": "5e0d824a-7595-416f-90de-f321f1b76bf2",
   "metadata": {},
   "outputs": [],
   "source": [
    "# re.IGNORECASE (re.I)\tCase-insensitive matching\n",
    "# re.MULTILINE (re.M)\tAllows ^ and $ to match start and end of each line\n",
    "# re.DOTALL (re.S)\tAllows . to match newlines"
   ]
  },
  {
   "cell_type": "code",
   "execution_count": 44,
   "id": "9bc6b251-359f-4c9d-8583-7c37e5bc8a47",
   "metadata": {},
   "outputs": [
    {
     "name": "stdout",
     "output_type": "stream",
     "text": [
      "['Python', 'PYTHON']\n"
     ]
    }
   ],
   "source": [
    "text = \"Python is fun. PYTHON is powerful.\"\n",
    "pattern = re.compile(r\"python\", re.I)\n",
    "\n",
    "matches = pattern.findall(text)\n",
    "print(matches)  "
   ]
  },
  {
   "cell_type": "code",
   "execution_count": 56,
   "id": "6e36b5d9-52e9-43c2-a343-035c0856604a",
   "metadata": {},
   "outputs": [
    {
     "name": "stdout",
     "output_type": "stream",
     "text": [
      "Area code: 123\n",
      "First 3 digits: 456\n",
      "Last 4 digits: 7890\n"
     ]
    }
   ],
   "source": [
    "text = \"My phone number is (123) 456-7890.\"\n",
    "pattern = r\"\\((\\d{3})\\) (\\d{3})-(\\d{4})\"\n",
    "\n",
    "match = re.search(pattern, text)\n",
    "if match:\n",
    "    print(\"Area code:\", match.group(1))  \n",
    "    print(\"First 3 digits:\", match.group(2))  \n",
    "    print(\"Last 4 digits:\", match.group(3))\n",
    "else:\n",
    "    print('No match')"
   ]
  },
  {
   "cell_type": "code",
   "execution_count": null,
   "id": "413c38af-5331-4e03-8363-d58020b98d74",
   "metadata": {},
   "outputs": [],
   "source": []
  }
 ],
 "metadata": {
  "kernelspec": {
   "display_name": "Python 3 (ipykernel)",
   "language": "python",
   "name": "python3"
  },
  "language_info": {
   "codemirror_mode": {
    "name": "ipython",
    "version": 3
   },
   "file_extension": ".py",
   "mimetype": "text/x-python",
   "name": "python",
   "nbconvert_exporter": "python",
   "pygments_lexer": "ipython3",
   "version": "3.12.7"
  }
 },
 "nbformat": 4,
 "nbformat_minor": 5
}
