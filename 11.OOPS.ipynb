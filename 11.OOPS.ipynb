{
 "cells": [
  {
   "cell_type": "code",
   "execution_count": null,
   "id": "ab828bb0-c059-411f-aed4-01a5a9bb3230",
   "metadata": {},
   "outputs": [],
   "source": [
    "# OOPS\n",
    "# Functional Programming\n",
    "# the above two are called programming paradigms\n",
    "# Modules and exception Handling\n",
    "# Time Complexity\n",
    "# Regular Expressions\n",
    "# Web scraping\n",
    "# Git and github"
   ]
  },
  {
   "cell_type": "code",
   "execution_count": 2,
   "id": "da2e6aa4-34af-40b1-b7a9-694721dc4091",
   "metadata": {},
   "outputs": [],
   "source": [
    "# Object Oriented Programming"
   ]
  },
  {
   "cell_type": "code",
   "execution_count": 4,
   "id": "ec25c3dc-cd6c-41f4-a69a-eee001a8f61c",
   "metadata": {},
   "outputs": [],
   "source": [
    "# paradigm is a set of rules / patterns used to structure code"
   ]
  },
  {
   "cell_type": "code",
   "execution_count": 8,
   "id": "912ff81e-6573-4261-8592-b203bb6494d1",
   "metadata": {},
   "outputs": [],
   "source": [
    "# OOPS is dependent on Classes (Blueprints) and Objects(Instances of classes)"
   ]
  },
  {
   "cell_type": "code",
   "execution_count": 14,
   "id": "9502ff4b-aae2-488c-b512-a3e60247c1c0",
   "metadata": {},
   "outputs": [],
   "source": [
    "# student - name, age, percentage, hobbies  -- properties / attributes\n",
    "# functions - give test, did pass,seek permission.......methods/functions"
   ]
  },
  {
   "cell_type": "code",
   "execution_count": null,
   "id": "d238f20b-07ec-45aa-9406-bb4d3d2c3e34",
   "metadata": {},
   "outputs": [],
   "source": [
    "# Here are some best practices to follow when working with Object-Oriented Programming (OOP) in Python:\n",
    "\n",
    "# ---\n",
    "\n",
    "#  1. Understand Core OOP Principles\n",
    "# OOP revolves around four key principles:\n",
    "# - Encapsulation: Group related data and methods in a class and control access to them.\n",
    "# - Inheritance: Use parent classes to reuse code and create a logical hierarchy.\n",
    "# - Polymorphism: Design objects to share behavior via method overriding or method overloading.\n",
    "# - Abstraction: Hide unnecessary implementation details and expose only the relevant ones.\n",
    "\n",
    "# ---\n",
    "\n",
    "#  2. Follow Naming Conventions\n",
    "# - Use PascalCase for class names (`MyClass`, `EmployeeDetails`).\n",
    "# - Use snake_case for methods and variables (`calculate_tax`, `total_salary`).\n",
    "# - Prefix private attributes with underscores (`_attribute` or `__attribute`).\n",
    "\n",
    "# ---\n",
    "\n",
    "#  3. Keep Classes Focused (Single Responsibility Principle)\n",
    "# Each class should have a single responsibility or functionality. Avoid designing classes that handle too many unrelated tasks.\n",
    "\n",
    "# ```python\n",
    "# class User:\n",
    "#     def __init__(self, name, email):\n",
    "#         self.name = name\n",
    "#         self.email = email\n",
    "\n",
    "# class EmailService:\n",
    "#     def send_email(self, email, subject, content):\n",
    "#         # Logic for sending email\n",
    "#         pass\n",
    "# ```\n",
    "\n",
    "# ---\n",
    "\n",
    "#  4. Use Encapsulation for Data Protection\n",
    "# - Make attributes private/protected if they should not be modified directly.\n",
    "# - Provide getter and setter methods for controlled access.\n",
    "\n",
    "# ```python\n",
    "# class BankAccount:\n",
    "#     def __init__(self, account_number, balance):\n",
    "#         self.__account_number = account_number\n",
    "#         self.__balance = balance\n",
    "\n",
    "#     def deposit(self, amount):\n",
    "#         self.__balance += amount\n",
    "\n",
    "#     def get_balance(self):\n",
    "#         return self.__balance\n",
    "# ```\n",
    "\n",
    "# ---\n",
    "\n",
    "#  5. Leverage Inheritance Wisely\n",
    "# - Use inheritance only when it makes logical sense (e.g., an `Employee` is a `Person`).\n",
    "# - Avoid deep inheritance hierarchies as they can make code harder to debug.\n",
    "\n",
    "# ```python\n",
    "# class Animal:\n",
    "#     def eat(self):\n",
    "#         print(\"Eating...\")\n",
    "\n",
    "# class Dog(Animal):\n",
    "#     def bark(self):\n",
    "#         print(\"Barking...\")\n",
    "# ```\n",
    "\n",
    "# ---\n",
    "\n",
    "#  6. Favor Composition Over Inheritance\n",
    "# Use composition when a \"has-a\" relationship is more appropriate than an \"is-a\" relationship.\n",
    "\n",
    "# ```python\n",
    "# class Engine:\n",
    "#     def start(self):\n",
    "#         print(\"Engine starting...\")\n",
    "\n",
    "# class Car:\n",
    "#     def __init__(self):\n",
    "#         self.engine = Engine()\n",
    "\n",
    "#     def start(self):\n",
    "#         self.engine.start()\n",
    "# ```\n",
    "\n",
    "# ---\n",
    "\n",
    "#  7. Use Polymorphism for Flexibility\n",
    "# Design classes to share a common interface while implementing behavior specific to the subclass.\n",
    "\n",
    "# ```python\n",
    "# class Shape:\n",
    "#     def area(self):\n",
    "#         raise NotImplementedError(\"Subclasses must implement this method\")\n",
    "\n",
    "# class Circle(Shape):\n",
    "#     def __init__(self, radius):\n",
    "#         self.radius = radius\n",
    "\n",
    "#     def area(self):\n",
    "#         return 3.14 * self.radius * self.radius\n",
    "\n",
    "# class Rectangle(Shape):\n",
    "#     def __init__(self, width, height):\n",
    "#         self.width = width\n",
    "#         self.height = height\n",
    "\n",
    "#     def area(self):\n",
    "#         return self.width * self.height\n",
    "# ```\n",
    "\n",
    "# ---\n",
    "\n",
    "#  8. Keep Methods Short and Cohesive\n",
    "# Each method should do one thing and do it well. Avoid long, multi-functional methods.\n",
    "\n",
    "# ---\n",
    "\n",
    "#  9. Use Dunder Methods for Special Behavior\n",
    "# Dunder (double underscore) methods allow custom behavior for standard Python operations (e.g., `__str__`, `__repr__`, `__eq__`, `__len__`, etc.).\n",
    "\n",
    "# ```python\n",
    "# class Book:\n",
    "#     def __init__(self, title, author):\n",
    "#         self.title = title\n",
    "#         self.author = author\n",
    "\n",
    "#     def __str__(self):\n",
    "#         return f\"{self.title} by {self.author}\"\n",
    "# ```\n",
    "\n",
    "# ---\n",
    "\n",
    "#  10. Use Abstract Base Classes (ABC) for Interfaces\n",
    "# If you want to enforce a specific interface in subclasses, use `abc.ABC`.\n",
    "\n",
    "# ```python\n",
    "# from abc import ABC, abstractmethod\n",
    "\n",
    "# class Animal(ABC):\n",
    "#     @abstractmethod\n",
    "#     def speak(self):\n",
    "#         pass\n",
    "\n",
    "# class Dog(Animal):\n",
    "#     def speak(self):\n",
    "#         return \"Woof\"\n",
    "\n",
    "# class Cat(Animal):\n",
    "#     def speak(self):\n",
    "#         return \"Meow\"\n",
    "# ```\n",
    "\n",
    "# ---\n",
    "\n",
    "#  11. Use Static and Class Methods Appropriately\n",
    "# - Instance Methods (`self`): Operate on object-specific data.\n",
    "# - Class Methods (`cls`): Operate on class-specific data, often used as factory methods.\n",
    "# - Static Methods: Independent of class or instance; utility-like functions.\n",
    "\n",
    "# ```python\n",
    "# class MathUtils:\n",
    "#     @staticmethod\n",
    "#     def add(a, b):\n",
    "#         return a + b\n",
    "# ```\n",
    "\n",
    "# ---\n",
    "\n",
    "#  12. Write Clean and Readable Code\n",
    "# - Use docstrings to explain the purpose of classes and methods.\n",
    "# - Add comments where necessary.\n",
    "# - Avoid overly complicated relationships or unnecessary abstraction.\n",
    "\n",
    "# ---\n",
    "\n",
    "#  13. Test Your Classes\n",
    "# Write unit tests to ensure your classes work as expected. Use the `unittest` module or other testing frameworks like `pytest`.\n",
    "\n",
    "# ---\n",
    "\n",
    "#  14. Avoid Global Variables\n",
    "# Instead of relying on global variables, encapsulate state within objects.\n",
    "\n",
    "# ---\n",
    "\n",
    "#  15. Make Use of Design Patterns\n",
    "# Implement design patterns such as Singleton, Factory, or Observer when appropriate to solve recurring problems in OOP.\n",
    "\n",
    "# ---\n",
    "\n",
    "# By following these best practices, you'll write robust, maintainable, and clean OOP code in Python."
   ]
  },
  {
   "cell_type": "code",
   "execution_count": 240,
   "id": "34170d88-d7e4-474e-bcc9-37c18747985c",
   "metadata": {},
   "outputs": [],
   "source": [
    "class Student:\n",
    "    # properties\n",
    "    # methods\n",
    "    pass"
   ]
  },
  {
   "cell_type": "code",
   "execution_count": 242,
   "id": "43d1875b-7348-4839-a538-ab953fde04e0",
   "metadata": {},
   "outputs": [],
   "source": [
    "s1 = Student()\n",
    "s2 = Student()"
   ]
  },
  {
   "cell_type": "code",
   "execution_count": 244,
   "id": "f7b117b5-6c83-4cb1-87ae-200f7f2c61bd",
   "metadata": {},
   "outputs": [
    {
     "data": {
      "text/plain": [
       "True"
      ]
     },
     "execution_count": 244,
     "metadata": {},
     "output_type": "execute_result"
    }
   ],
   "source": [
    "isinstance(s1,Student)"
   ]
  },
  {
   "cell_type": "code",
   "execution_count": 248,
   "id": "bdfc3dee-eace-4c63-9d92-60e5d977afd7",
   "metadata": {},
   "outputs": [
    {
     "data": {
      "text/plain": [
       "True"
      ]
     },
     "execution_count": 248,
     "metadata": {},
     "output_type": "execute_result"
    }
   ],
   "source": [
    "isinstance(s2,Student)"
   ]
  },
  {
   "cell_type": "code",
   "execution_count": 250,
   "id": "ec6561af-2119-40d3-98ea-29f685158b9f",
   "metadata": {},
   "outputs": [
    {
     "data": {
      "text/plain": [
       "type"
      ]
     },
     "execution_count": 250,
     "metadata": {},
     "output_type": "execute_result"
    }
   ],
   "source": [
    "type(Student)"
   ]
  },
  {
   "cell_type": "code",
   "execution_count": 10,
   "id": "9f57fd65-51f8-42e1-8619-4cd9d380344c",
   "metadata": {},
   "outputs": [],
   "source": [
    "# four pillars of OOPS\n",
    "# Encapsulation - putting things together - grouping  - lists, dictionaries, classes\n",
    "# Abstraction - payment example, car example - accelerator, brake, clutch, steering\n",
    "# Inheritance \n",
    "# Polymorphism - same syntax - but different behavior lke +, pop function"
   ]
  },
  {
   "cell_type": "code",
   "execution_count": 162,
   "id": "235d4ad7-9c8d-4a5f-af78-5af3c5625a92",
   "metadata": {},
   "outputs": [],
   "source": [
    "class Student:\n",
    "    # properties\n",
    "    # behaviour\n",
    "    pass"
   ]
  },
  {
   "cell_type": "code",
   "execution_count": 164,
   "id": "4ac8ee28-7c3b-4441-9a39-fc54c49a948f",
   "metadata": {},
   "outputs": [],
   "source": [
    "# expected behavior - A name, age and gender is needed every time a student is created\n",
    "s1 = Student()"
   ]
  },
  {
   "cell_type": "code",
   "execution_count": 166,
   "id": "6a89d19f-ea22-405a-8b77-1d71b290d31b",
   "metadata": {},
   "outputs": [],
   "source": [
    "# Properties can be added even after creation\n",
    "s1.name = 'Thomas'\n",
    "s1.age = 25\n",
    "s1.gender = 'Male'"
   ]
  },
  {
   "cell_type": "code",
   "execution_count": 168,
   "id": "190aeace-e8d9-447d-87e4-6a5d5d1afd74",
   "metadata": {},
   "outputs": [
    {
     "data": {
      "text/plain": [
       "('Thomas', 25, 'Male')"
      ]
     },
     "execution_count": 168,
     "metadata": {},
     "output_type": "execute_result"
    }
   ],
   "source": [
    "s1.name,s1.age,s1.gender"
   ]
  },
  {
   "cell_type": "code",
   "execution_count": 170,
   "id": "51be475f-ced0-440e-8506-e70ff01bb555",
   "metadata": {},
   "outputs": [],
   "source": [
    "s2 = Student()"
   ]
  },
  {
   "cell_type": "code",
   "execution_count": 174,
   "id": "00c4be96-fc56-4859-b7af-9e1196c41d4f",
   "metadata": {},
   "outputs": [],
   "source": [
    "# s2.name -- error"
   ]
  },
  {
   "cell_type": "code",
   "execution_count": 28,
   "id": "744e607f-d43e-4b52-b927-4a39efda8059",
   "metadata": {},
   "outputs": [],
   "source": [
    "class Student:\n",
    "    def __init__(self): # this empty __init__method is created by default\n",
    "        pass\n"
   ]
  },
  {
   "cell_type": "code",
   "execution_count": 30,
   "id": "af5299e4-ea9e-46db-acd5-eca1dcd34f33",
   "metadata": {},
   "outputs": [],
   "source": [
    "s = Student() # __init__ method gets called! creator method"
   ]
  },
  {
   "cell_type": "code",
   "execution_count": 32,
   "id": "3c424218-0b18-4c31-8deb-8240d59f4649",
   "metadata": {},
   "outputs": [],
   "source": [
    "class Student:\n",
    "    def __init__(self): # this empty __init__method is created by default\n",
    "        print('init method executed to create the object')"
   ]
  },
  {
   "cell_type": "code",
   "execution_count": 38,
   "id": "1765590a-55ec-45aa-8286-fd2bc25ad56c",
   "metadata": {},
   "outputs": [
    {
     "name": "stdout",
     "output_type": "stream",
     "text": [
      "init method executed to create the object\n",
      "init method executed to create the object\n"
     ]
    }
   ],
   "source": [
    "s1 = Student()\n",
    "s2 = Student()"
   ]
  },
  {
   "cell_type": "code",
   "execution_count": 178,
   "id": "2a3c1c08-09b0-4f57-8a5a-3ea1d3106382",
   "metadata": {},
   "outputs": [
    {
     "name": "stdout",
     "output_type": "stream",
     "text": [
      "140731973511896\n",
      "140731973511896\n",
      "140731973511896\n"
     ]
    }
   ],
   "source": [
    "a = 10\n",
    "b = 10\n",
    "c = 10\n",
    "print(id(a))\n",
    "print(id(b))\n",
    "print(id(c))"
   ]
  },
  {
   "cell_type": "code",
   "execution_count": 180,
   "id": "41710cd8-60bb-41cc-a73b-e358fae111d1",
   "metadata": {},
   "outputs": [],
   "source": [
    "class Student:\n",
    "    def __init__(self): # this empty __init__method is created by default\n",
    "        print(id(self))"
   ]
  },
  {
   "cell_type": "code",
   "execution_count": 182,
   "id": "905ee3b7-3096-4b10-83f7-bc97418c7d38",
   "metadata": {},
   "outputs": [
    {
     "name": "stdout",
     "output_type": "stream",
     "text": [
      "1735726486960\n"
     ]
    }
   ],
   "source": [
    "s1 = Student()\n",
    "# Student.__init__(s1)"
   ]
  },
  {
   "cell_type": "code",
   "execution_count": 184,
   "id": "7e1a8556-0a81-4337-a313-3c03b33000b3",
   "metadata": {},
   "outputs": [
    {
     "data": {
      "text/plain": [
       "1735726486960"
      ]
     },
     "execution_count": 184,
     "metadata": {},
     "output_type": "execute_result"
    }
   ],
   "source": [
    "id(s1)"
   ]
  },
  {
   "cell_type": "code",
   "execution_count": 186,
   "id": "8f971357-5230-4af3-a26c-928ba6769ee7",
   "metadata": {},
   "outputs": [
    {
     "name": "stdout",
     "output_type": "stream",
     "text": [
      "1735754536272\n"
     ]
    }
   ],
   "source": [
    "s2 = Student()\n",
    "# Student.__init__(s2)"
   ]
  },
  {
   "cell_type": "code",
   "execution_count": 188,
   "id": "369d0d35-5e67-42e4-8ebb-6612ca997bb1",
   "metadata": {},
   "outputs": [
    {
     "data": {
      "text/plain": [
       "1735754536272"
      ]
     },
     "execution_count": 188,
     "metadata": {},
     "output_type": "execute_result"
    }
   ],
   "source": [
    "id(s2)"
   ]
  },
  {
   "cell_type": "code",
   "execution_count": 192,
   "id": "98895782-74b5-4d10-98dd-d4a58ec7e459",
   "metadata": {},
   "outputs": [],
   "source": [
    "def __init__(self):\n",
    "    print(id(self))"
   ]
  },
  {
   "cell_type": "code",
   "execution_count": 194,
   "id": "3057f896-61e8-4ec0-8db3-b5dbcbee8fef",
   "metadata": {},
   "outputs": [
    {
     "name": "stdout",
     "output_type": "stream",
     "text": [
      "140731973511896\n"
     ]
    }
   ],
   "source": [
    "a = 10\n",
    "__init__(a)"
   ]
  },
  {
   "cell_type": "code",
   "execution_count": 77,
   "id": "4773b9f3-6c23-46a9-b7b5-0895353e9e46",
   "metadata": {},
   "outputs": [
    {
     "data": {
      "text/plain": [
       "140731973511896"
      ]
     },
     "execution_count": 77,
     "metadata": {},
     "output_type": "execute_result"
    }
   ],
   "source": [
    "id(a)"
   ]
  },
  {
   "cell_type": "code",
   "execution_count": 79,
   "id": "89c0c5a5-d41a-4e44-b4fa-59b7bec9b3c4",
   "metadata": {},
   "outputs": [
    {
     "name": "stdout",
     "output_type": "stream",
     "text": [
      "140731973512216\n"
     ]
    }
   ],
   "source": [
    "b = 20\n",
    "__init__(b)"
   ]
  },
  {
   "cell_type": "code",
   "execution_count": 198,
   "id": "ba5e3fbc-28ec-462e-b654-e2aea7ac3475",
   "metadata": {},
   "outputs": [],
   "source": [
    "class Student:\n",
    "    def __init__(self,name, age, gender):\n",
    "        self.name = name\n",
    "        self.age = age\n",
    "        self.gender = gender\n",
    "        print(f'name = {self.name}, age - {self.age}, gender - {self.gender}')"
   ]
  },
  {
   "cell_type": "code",
   "execution_count": 200,
   "id": "15827510-fe0a-4bab-9cc2-f2c0c7a0fa7e",
   "metadata": {},
   "outputs": [
    {
     "name": "stdout",
     "output_type": "stream",
     "text": [
      "name = John, age - 24, gender - Male\n"
     ]
    }
   ],
   "source": [
    "s1 = Student('John',24,'Male') "
   ]
  },
  {
   "cell_type": "code",
   "execution_count": 202,
   "id": "4e0e4f75-6a42-4c68-b84d-777b8765cd9e",
   "metadata": {},
   "outputs": [
    {
     "data": {
      "text/plain": [
       "('John', 24, 'Male')"
      ]
     },
     "execution_count": 202,
     "metadata": {},
     "output_type": "execute_result"
    }
   ],
   "source": [
    "s1.name, s1.age, s1.gender"
   ]
  },
  {
   "cell_type": "code",
   "execution_count": 87,
   "id": "02bd608d-4338-403b-b137-558c281627ca",
   "metadata": {},
   "outputs": [
    {
     "name": "stdout",
     "output_type": "stream",
     "text": [
      "name = Paul, age - 22, gender - Male\n"
     ]
    }
   ],
   "source": [
    "s2 = Student('Paul',22,'Male')"
   ]
  },
  {
   "cell_type": "code",
   "execution_count": 89,
   "id": "6b0b8e1f-cb12-466a-b59d-15974074cf69",
   "metadata": {},
   "outputs": [
    {
     "data": {
      "text/plain": [
       "('Paul', 22, 'Male')"
      ]
     },
     "execution_count": 89,
     "metadata": {},
     "output_type": "execute_result"
    }
   ],
   "source": [
    "s2.name, s2.age, s2.gender"
   ]
  },
  {
   "cell_type": "code",
   "execution_count": 208,
   "id": "6633b3d4-bb87-4a79-ac3e-bb94fdbdccc5",
   "metadata": {},
   "outputs": [],
   "source": [
    "class Student:\n",
    "    def __init__(self,name, age, gender):\n",
    "        self.name = name\n",
    "        self.age = age\n",
    "        self.gender = gender\n",
    "    def introduce(self):\n",
    "        print(f'My name is {self.name} and my age is {self.age}')"
   ]
  },
  {
   "cell_type": "code",
   "execution_count": 210,
   "id": "f223a71d-93b6-43ac-9ba9-8c63ace0e4c7",
   "metadata": {},
   "outputs": [],
   "source": [
    "s1 = Student('John',24,'Male') "
   ]
  },
  {
   "cell_type": "code",
   "execution_count": 212,
   "id": "95a5ec92-19aa-4e44-83aa-0d939c3894cb",
   "metadata": {},
   "outputs": [
    {
     "name": "stdout",
     "output_type": "stream",
     "text": [
      "My name is John and my age is 24\n"
     ]
    }
   ],
   "source": [
    "s1.introduce()   # Student.introduce(s1)"
   ]
  },
  {
   "cell_type": "code",
   "execution_count": 214,
   "id": "3f3a3df1-6292-4a9a-96ae-09da8fa938f4",
   "metadata": {},
   "outputs": [],
   "source": [
    "s2 = Student('Paul',22,'Male')"
   ]
  },
  {
   "cell_type": "code",
   "execution_count": 216,
   "id": "2b835c20-6d70-4bb4-bd34-fb6271adff5f",
   "metadata": {},
   "outputs": [
    {
     "name": "stdout",
     "output_type": "stream",
     "text": [
      "My name is Paul and my age is 22\n"
     ]
    }
   ],
   "source": [
    "s2.introduce()"
   ]
  },
  {
   "cell_type": "code",
   "execution_count": 218,
   "id": "b2b669f6-0b7c-4e68-aed5-f6b2b628b19c",
   "metadata": {},
   "outputs": [],
   "source": [
    "class Dog:\n",
    "    kind = 'Canine'  # common value for all objects - class variables\n",
    "    def __init__(self,name):\n",
    "        self.name = name   # different value for every object - instance variables, object variables\n"
   ]
  },
  {
   "cell_type": "code",
   "execution_count": 220,
   "id": "41825ea3-c694-4249-89f3-157c9711ed68",
   "metadata": {},
   "outputs": [],
   "source": [
    "d1 = Dog('scooby')\n",
    "d2 = Dog('Tuffy')"
   ]
  },
  {
   "cell_type": "code",
   "execution_count": 113,
   "id": "f28f386f-9d1d-4664-ba97-3cef9bc2f5fd",
   "metadata": {},
   "outputs": [
    {
     "data": {
      "text/plain": [
       "('scooby', 'Tuffy')"
      ]
     },
     "execution_count": 113,
     "metadata": {},
     "output_type": "execute_result"
    }
   ],
   "source": [
    "d1.name, d2.name"
   ]
  },
  {
   "cell_type": "code",
   "execution_count": 115,
   "id": "53f72286-3b43-41bb-985e-b92049c6cb60",
   "metadata": {},
   "outputs": [
    {
     "data": {
      "text/plain": [
       "('Canine', 'Canine')"
      ]
     },
     "execution_count": 115,
     "metadata": {},
     "output_type": "execute_result"
    }
   ],
   "source": [
    "d1.kind, d2.kind"
   ]
  },
  {
   "cell_type": "code",
   "execution_count": 117,
   "id": "814c6d8e-8c62-4904-9c18-d38dbba1c585",
   "metadata": {},
   "outputs": [
    {
     "data": {
      "text/plain": [
       "'Canine'"
      ]
     },
     "execution_count": 117,
     "metadata": {},
     "output_type": "execute_result"
    }
   ],
   "source": [
    "Dog.kind  # Class variables can directly be accessed using the class name"
   ]
  },
  {
   "cell_type": "code",
   "execution_count": 224,
   "id": "4d587d4b-9ed9-46c8-9157-05c0c58dfd74",
   "metadata": {},
   "outputs": [],
   "source": [
    "#Dog.name # instance variables can only be accessed via objects"
   ]
  },
  {
   "cell_type": "code",
   "execution_count": 123,
   "id": "3769db07-d462-4fa7-ad8e-1dd899c3642a",
   "metadata": {},
   "outputs": [],
   "source": [
    "class Dog:\n",
    "    kind = 'Canine'  \n",
    "    def __init__(self,name):\n",
    "        self.name = name  "
   ]
  },
  {
   "cell_type": "code",
   "execution_count": 125,
   "id": "ebba2368-a4ba-454b-8c73-17fb7be24c73",
   "metadata": {},
   "outputs": [],
   "source": [
    "d1 = Dog('Scooby')\n",
    "d2 = Dog('Tuffy')\n",
    "d3 = Dog('julie') "
   ]
  },
  {
   "cell_type": "code",
   "execution_count": 129,
   "id": "5448a868-d696-4e19-8228-f99bbc397949",
   "metadata": {},
   "outputs": [
    {
     "data": {
      "text/plain": [
       "('Canine', 'Canine', 'Canine')"
      ]
     },
     "execution_count": 129,
     "metadata": {},
     "output_type": "execute_result"
    }
   ],
   "source": [
    "d1.kind , d2.kind, d3.kind"
   ]
  },
  {
   "cell_type": "code",
   "execution_count": 131,
   "id": "f3d41b70-65d7-44c1-bc12-75005c9d0e40",
   "metadata": {},
   "outputs": [],
   "source": [
    "d3.kind = 'Husky'"
   ]
  },
  {
   "cell_type": "code",
   "execution_count": 226,
   "id": "3b1193e1-8d25-49d1-b390-349ab47f446a",
   "metadata": {},
   "outputs": [
    {
     "data": {
      "text/plain": [
       "'Husky'"
      ]
     },
     "execution_count": 226,
     "metadata": {},
     "output_type": "execute_result"
    }
   ],
   "source": [
    "d3.kind"
   ]
  },
  {
   "cell_type": "code",
   "execution_count": 228,
   "id": "727b5eff-21e0-4edd-bd0d-f02e50fff9cf",
   "metadata": {},
   "outputs": [
    {
     "data": {
      "text/plain": [
       "('Canine', 'Canine')"
      ]
     },
     "execution_count": 228,
     "metadata": {},
     "output_type": "execute_result"
    }
   ],
   "source": [
    "d1.kind, d2.kind"
   ]
  },
  {
   "cell_type": "code",
   "execution_count": 234,
   "id": "f885d1bb-8aa0-490d-808f-1fa23cd5231d",
   "metadata": {},
   "outputs": [
    {
     "data": {
      "text/plain": [
       "('Beagle', 'Beagle', 'Husky')"
      ]
     },
     "execution_count": 234,
     "metadata": {},
     "output_type": "execute_result"
    }
   ],
   "source": [
    "Dog.kind = 'Beagle'\n",
    "d1.kind, d2.kind, d3.kind"
   ]
  },
  {
   "cell_type": "code",
   "execution_count": 236,
   "id": "dbd117e6-8561-49fd-9b90-873fbc5a8ced",
   "metadata": {},
   "outputs": [
    {
     "name": "stdout",
     "output_type": "stream",
     "text": [
      "Hello Ayush\n"
     ]
    }
   ],
   "source": [
    "# example\n",
    "class Student:\n",
    "    name = 'Surya'\n",
    "    def __init__(self,name,age):\n",
    "        self.name = name\n",
    "        self.age = age\n",
    "    def hello(self):\n",
    "        print(f'Hello {self.name}')\n",
    "b= Student('Ayush',20)\n",
    "b.hello()"
   ]
  },
  {
   "cell_type": "code",
   "execution_count": 149,
   "id": "afaa6839-7659-4037-8902-a25bc4de964b",
   "metadata": {},
   "outputs": [],
   "source": [
    "class Random:\n",
    "    def __init__(self, a, b):\n",
    "        self.a = a\n",
    "        self.b = b\n",
    "    def do_something(self):\n",
    "        print(f'{self.a}, {self.b}')"
   ]
  },
  {
   "cell_type": "code",
   "execution_count": 153,
   "id": "a05e25cc-fef0-45b8-aa19-b3275d5f499c",
   "metadata": {},
   "outputs": [
    {
     "data": {
      "text/plain": [
       "1"
      ]
     },
     "execution_count": 153,
     "metadata": {},
     "output_type": "execute_result"
    }
   ],
   "source": [
    "r = Random(1,2)\n",
    "r.a"
   ]
  },
  {
   "cell_type": "code",
   "execution_count": 155,
   "id": "c729be0f-bd7c-432e-8472-36b06aabb307",
   "metadata": {},
   "outputs": [
    {
     "data": {
      "text/plain": [
       "2"
      ]
     },
     "execution_count": 155,
     "metadata": {},
     "output_type": "execute_result"
    }
   ],
   "source": [
    "r.b"
   ]
  },
  {
   "cell_type": "code",
   "execution_count": 157,
   "id": "ffa6133f-5c90-48c6-b265-8c8714bd56e0",
   "metadata": {},
   "outputs": [
    {
     "name": "stdout",
     "output_type": "stream",
     "text": [
      "1, 2\n"
     ]
    }
   ],
   "source": [
    "r.do_something()"
   ]
  },
  {
   "cell_type": "code",
   "execution_count": null,
   "id": "50f9d5c9-d953-4d58-8c1f-e441a63a0c83",
   "metadata": {},
   "outputs": [],
   "source": []
  }
 ],
 "metadata": {
  "kernelspec": {
   "display_name": "Python 3 (ipykernel)",
   "language": "python",
   "name": "python3"
  },
  "language_info": {
   "codemirror_mode": {
    "name": "ipython",
    "version": 3
   },
   "file_extension": ".py",
   "mimetype": "text/x-python",
   "name": "python",
   "nbconvert_exporter": "python",
   "pygments_lexer": "ipython3",
   "version": "3.12.7"
  }
 },
 "nbformat": 4,
 "nbformat_minor": 5
}
