{
 "cells": [
  {
   "cell_type": "code",
   "execution_count": 2,
   "id": "a60d885c-a289-406a-9f11-70e199a5de52",
   "metadata": {},
   "outputs": [],
   "source": [
    "# numbers that we add are operands\n",
    "# symbols we use are operators to do the calculations or other things"
   ]
  },
  {
   "cell_type": "code",
   "execution_count": 4,
   "id": "7abc7504-1183-491a-af1c-1f166ab6a1dd",
   "metadata": {},
   "outputs": [
    {
     "data": {
      "text/plain": [
       "10"
      ]
     },
     "execution_count": 4,
     "metadata": {},
     "output_type": "execute_result"
    }
   ],
   "source": [
    "20-10"
   ]
  },
  {
   "cell_type": "code",
   "execution_count": 6,
   "id": "d6d57160-80ec-431a-b447-9ea061ff1274",
   "metadata": {},
   "outputs": [
    {
     "data": {
      "text/plain": [
       "40"
      ]
     },
     "execution_count": 6,
     "metadata": {},
     "output_type": "execute_result"
    }
   ],
   "source": [
    "20+20"
   ]
  },
  {
   "cell_type": "code",
   "execution_count": 8,
   "id": "1e138cd0-eb6f-41e7-9f90-0ed7a529e42f",
   "metadata": {},
   "outputs": [
    {
     "data": {
      "text/plain": [
       "200"
      ]
     },
     "execution_count": 8,
     "metadata": {},
     "output_type": "execute_result"
    }
   ],
   "source": [
    "20*10"
   ]
  },
  {
   "cell_type": "code",
   "execution_count": 10,
   "id": "93ec74db-383a-410d-8dbf-16c4741e701e",
   "metadata": {},
   "outputs": [
    {
     "data": {
      "text/plain": [
       "2.0"
      ]
     },
     "execution_count": 10,
     "metadata": {},
     "output_type": "execute_result"
    }
   ],
   "source": [
    "20/10"
   ]
  },
  {
   "cell_type": "code",
   "execution_count": 12,
   "id": "86213df3-4988-4dfd-8870-0a0f769421a6",
   "metadata": {},
   "outputs": [
    {
     "data": {
      "text/plain": [
       "8000"
      ]
     },
     "execution_count": 12,
     "metadata": {},
     "output_type": "execute_result"
    }
   ],
   "source": [
    "20**3"
   ]
  },
  {
   "cell_type": "code",
   "execution_count": 14,
   "id": "94adbbf9-4cdf-4dff-a3a0-becd9961faf0",
   "metadata": {},
   "outputs": [],
   "source": [
    "# integers are subset of floating point numbers\n",
    "# floating point numbers are subset of all numbers real numbers"
   ]
  },
  {
   "cell_type": "code",
   "execution_count": 16,
   "id": "f711c916-23bc-46c5-b43f-afae4ebeb82c",
   "metadata": {},
   "outputs": [
    {
     "data": {
      "text/plain": [
       "3.3333333333333335"
      ]
     },
     "execution_count": 16,
     "metadata": {},
     "output_type": "execute_result"
    }
   ],
   "source": [
    "10/3"
   ]
  },
  {
   "cell_type": "code",
   "execution_count": 20,
   "id": "5127c2e5-852b-4b3d-bcdd-173428393d36",
   "metadata": {},
   "outputs": [
    {
     "data": {
      "text/plain": [
       "3"
      ]
     },
     "execution_count": 20,
     "metadata": {},
     "output_type": "execute_result"
    }
   ],
   "source": [
    "10//3 # integer decision"
   ]
  },
  {
   "cell_type": "code",
   "execution_count": 22,
   "id": "f775320f-25f0-48c4-a56b-fd1d3deef09b",
   "metadata": {},
   "outputs": [
    {
     "data": {
      "text/plain": [
       "1"
      ]
     },
     "execution_count": 22,
     "metadata": {},
     "output_type": "execute_result"
    }
   ],
   "source": [
    "# modulo -- remainder\n",
    "5 %2"
   ]
  },
  {
   "cell_type": "code",
   "execution_count": 24,
   "id": "6950d022-f71b-43e3-839b-83570f0d77ab",
   "metadata": {},
   "outputs": [],
   "source": [
    "# if x is positive, then x/y\n",
    "# if x is negative, y - (x%y)"
   ]
  },
  {
   "cell_type": "code",
   "execution_count": 26,
   "id": "e145f714-bb99-470c-b025-10922b29b551",
   "metadata": {},
   "outputs": [],
   "source": [
    "# give problems to them on operators , bodmas related questions in python"
   ]
  },
  {
   "cell_type": "code",
   "execution_count": null,
   "id": "fcf1827a-cc8c-4dcb-aca2-638b8c56fdd7",
   "metadata": {},
   "outputs": [],
   "source": [
    "# BODMAS\n",
    "#  "
   ]
  },
  {
   "cell_type": "code",
   "execution_count": 3,
   "id": "34d15c40-c41e-451e-804f-e2a7840ba127",
   "metadata": {},
   "outputs": [
    {
     "data": {
      "text/plain": [
       "2.0"
      ]
     },
     "execution_count": 3,
     "metadata": {},
     "output_type": "execute_result"
    }
   ],
   "source": [
    "20 + (3 / 6) * 4 - 20"
   ]
  },
  {
   "cell_type": "code",
   "execution_count": 28,
   "id": "378cc459-25e8-4238-9de1-9e2bb092f54b",
   "metadata": {},
   "outputs": [
    {
     "data": {
      "text/plain": [
       "True"
      ]
     },
     "execution_count": 28,
     "metadata": {},
     "output_type": "execute_result"
    }
   ],
   "source": [
    "bool(1)"
   ]
  },
  {
   "cell_type": "code",
   "execution_count": 32,
   "id": "796de005-f4b0-414a-a5d7-b512add7eb81",
   "metadata": {},
   "outputs": [
    {
     "data": {
      "text/plain": [
       "False"
      ]
     },
     "execution_count": 32,
     "metadata": {},
     "output_type": "execute_result"
    }
   ],
   "source": [
    "bool(0)"
   ]
  },
  {
   "cell_type": "code",
   "execution_count": 34,
   "id": "03ecad69-e5a8-4b39-9c69-f7fc82ade9b1",
   "metadata": {},
   "outputs": [
    {
     "data": {
      "text/plain": [
       "True"
      ]
     },
     "execution_count": 34,
     "metadata": {},
     "output_type": "execute_result"
    }
   ],
   "source": [
    "bool(-123)"
   ]
  },
  {
   "cell_type": "code",
   "execution_count": 36,
   "id": "c7381956-2c29-4349-9445-84df13ea8e2f",
   "metadata": {},
   "outputs": [
    {
     "data": {
      "text/plain": [
       "True"
      ]
     },
     "execution_count": 36,
     "metadata": {},
     "output_type": "execute_result"
    }
   ],
   "source": [
    "bool('hello')"
   ]
  },
  {
   "cell_type": "code",
   "execution_count": 38,
   "id": "144ec523-64e3-4553-9302-818c8f8b57d9",
   "metadata": {},
   "outputs": [
    {
     "data": {
      "text/plain": [
       "False"
      ]
     },
     "execution_count": 38,
     "metadata": {},
     "output_type": "execute_result"
    }
   ],
   "source": [
    "bool('')"
   ]
  },
  {
   "cell_type": "code",
   "execution_count": 40,
   "id": "d4b9b17b-9eb8-48e9-8281-3b5f282da636",
   "metadata": {},
   "outputs": [
    {
     "name": "stdout",
     "output_type": "stream",
     "text": [
      "True\n"
     ]
    }
   ],
   "source": [
    "print(bool('false'))"
   ]
  },
  {
   "cell_type": "code",
   "execution_count": 44,
   "id": "0b7e40f4-a093-4d39-809a-e6167256a935",
   "metadata": {},
   "outputs": [
    {
     "data": {
      "text/plain": [
       "False"
      ]
     },
     "execution_count": 44,
     "metadata": {},
     "output_type": "execute_result"
    }
   ],
   "source": [
    "bool(None)"
   ]
  },
  {
   "cell_type": "code",
   "execution_count": 54,
   "id": "03b06898-c753-46c3-a154-2f2b0ccba412",
   "metadata": {},
   "outputs": [],
   "source": [
    "# o or \"\"  or None, blank, it is false, other things it is true"
   ]
  },
  {
   "cell_type": "code",
   "execution_count": 46,
   "id": "a0c4cb1a-85b8-4f85-8286-e4366f2e1414",
   "metadata": {},
   "outputs": [
    {
     "data": {
      "text/plain": [
       "1"
      ]
     },
     "execution_count": 46,
     "metadata": {},
     "output_type": "execute_result"
    }
   ],
   "source": [
    "int(True)"
   ]
  },
  {
   "cell_type": "code",
   "execution_count": 48,
   "id": "176201a5-cde5-445d-82a6-24d71b48b69f",
   "metadata": {},
   "outputs": [
    {
     "data": {
      "text/plain": [
       "0"
      ]
     },
     "execution_count": 48,
     "metadata": {},
     "output_type": "execute_result"
    }
   ],
   "source": [
    "int(False)"
   ]
  },
  {
   "cell_type": "code",
   "execution_count": 80,
   "id": "1b5e6d31-4749-4b38-b803-70473be2bf16",
   "metadata": {},
   "outputs": [
    {
     "data": {
      "text/plain": [
       "False"
      ]
     },
     "execution_count": 80,
     "metadata": {},
     "output_type": "execute_result"
    }
   ],
   "source": [
    "bool(())\n"
   ]
  },
  {
   "cell_type": "code",
   "execution_count": 50,
   "id": "acd85674-a0a8-4dd9-99c9-023d7f233d71",
   "metadata": {},
   "outputs": [
    {
     "data": {
      "text/plain": [
       "False"
      ]
     },
     "execution_count": 50,
     "metadata": {},
     "output_type": "execute_result"
    }
   ],
   "source": [
    "bool( )"
   ]
  },
  {
   "cell_type": "code",
   "execution_count": 78,
   "id": "e9354f63-60fb-4042-aa23-4e7d6ef18539",
   "metadata": {
    "scrolled": true
   },
   "outputs": [
    {
     "data": {
      "text/plain": [
       "False"
      ]
     },
     "execution_count": 78,
     "metadata": {},
     "output_type": "execute_result"
    }
   ],
   "source": [
    "bool([])"
   ]
  },
  {
   "cell_type": "code",
   "execution_count": 72,
   "id": "f4a87e87-a145-4497-8e4d-ac1bbef79b8a",
   "metadata": {},
   "outputs": [
    {
     "data": {
      "text/plain": [
       "False"
      ]
     },
     "execution_count": 72,
     "metadata": {},
     "output_type": "execute_result"
    }
   ],
   "source": [
    "\n",
    "bool({})"
   ]
  },
  {
   "cell_type": "code",
   "execution_count": 56,
   "id": "32c54a4e-d747-4a10-aeb0-39acce6bc8bb",
   "metadata": {},
   "outputs": [
    {
     "data": {
      "text/plain": [
       "True"
      ]
     },
     "execution_count": 56,
     "metadata": {},
     "output_type": "execute_result"
    }
   ],
   "source": [
    "bool(\" \")"
   ]
  },
  {
   "cell_type": "code",
   "execution_count": 7,
   "id": "c763efdd-cf5e-462f-86a2-be8866dd670a",
   "metadata": {},
   "outputs": [],
   "source": [
    "#bool(null) # error"
   ]
  },
  {
   "cell_type": "code",
   "execution_count": 11,
   "id": "bfc46271-a2fb-4972-97c5-f10f391babc3",
   "metadata": {},
   "outputs": [],
   "source": [
    "#bool(NaN)"
   ]
  },
  {
   "cell_type": "code",
   "execution_count": 13,
   "id": "264aaf80-b451-4178-be2a-c9f92c3e69f0",
   "metadata": {},
   "outputs": [
    {
     "data": {
      "text/plain": [
       "-2"
      ]
     },
     "execution_count": 13,
     "metadata": {},
     "output_type": "execute_result"
    }
   ],
   "source": [
    "# ~x = -(x+1)\n",
    "~True"
   ]
  },
  {
   "cell_type": "code",
   "execution_count": 62,
   "id": "7744654f-f6c0-4966-a36b-17c45aa26259",
   "metadata": {},
   "outputs": [
    {
     "data": {
      "text/plain": [
       "-1"
      ]
     },
     "execution_count": 62,
     "metadata": {},
     "output_type": "execute_result"
    }
   ],
   "source": [
    "~0"
   ]
  },
  {
   "cell_type": "code",
   "execution_count": 64,
   "id": "355d137c-ad5c-46f9-88bb-67b10735c17f",
   "metadata": {},
   "outputs": [
    {
     "data": {
      "text/plain": [
       "-4"
      ]
     },
     "execution_count": 64,
     "metadata": {},
     "output_type": "execute_result"
    }
   ],
   "source": [
    "~3"
   ]
  },
  {
   "cell_type": "markdown",
   "id": "c697fbf6-6623-4acc-b049-29f28f5bf76e",
   "metadata": {},
   "source": [
    "# comparison operators"
   ]
  },
  {
   "cell_type": "markdown",
   "id": "5c306be5-477a-4b17-a156-faeeee5fbac6",
   "metadata": {},
   "source": [
    "### example"
   ]
  },
  {
   "cell_type": "code",
   "execution_count": null,
   "id": "9de62f07-7838-4e1d-9e6b-b4ce056220ab",
   "metadata": {},
   "outputs": [],
   "source": []
  },
  {
   "cell_type": "code",
   "execution_count": 84,
   "id": "f082207b-3bb7-4ac3-889c-e4a10968a36f",
   "metadata": {},
   "outputs": [],
   "source": [
    "# <,>,>=,<=,!=.=="
   ]
  },
  {
   "cell_type": "code",
   "execution_count": 19,
   "id": "44bbd49b-1a93-46de-83c5-96df04dd0969",
   "metadata": {},
   "outputs": [
    {
     "data": {
      "text/plain": [
       "False"
      ]
     },
     "execution_count": 19,
     "metadata": {},
     "output_type": "execute_result"
    }
   ],
   "source": [
    "mymarks = 90\n",
    "averagemarks = 90\n",
    "\n",
    "mymarks > averagemarks"
   ]
  },
  {
   "cell_type": "code",
   "execution_count": 21,
   "id": "73d210e0-cdc7-429b-9288-781a122c91d8",
   "metadata": {},
   "outputs": [
    {
     "data": {
      "text/plain": [
       "True"
      ]
     },
     "execution_count": 21,
     "metadata": {},
     "output_type": "execute_result"
    }
   ],
   "source": [
    "mymarks == averagemarks # check whether both are same or not"
   ]
  },
  {
   "cell_type": "code",
   "execution_count": 114,
   "id": "ea1caecb-64f2-48c6-9938-c097257dfec2",
   "metadata": {},
   "outputs": [
    {
     "data": {
      "text/plain": [
       "True"
      ]
     },
     "execution_count": 114,
     "metadata": {},
     "output_type": "execute_result"
    }
   ],
   "source": [
    "mymarks = 90\n",
    "mymarks == averagemarks  #90 = 90"
   ]
  },
  {
   "cell_type": "code",
   "execution_count": 116,
   "id": "2a0f2a5f-c5ba-4e7d-9fdd-038b152dbd1e",
   "metadata": {},
   "outputs": [
    {
     "data": {
      "text/plain": [
       "False"
      ]
     },
     "execution_count": 116,
     "metadata": {},
     "output_type": "execute_result"
    }
   ],
   "source": [
    "mymarks != averagemarks"
   ]
  },
  {
   "cell_type": "code",
   "execution_count": 118,
   "id": "0e0df5f8-6c5a-4be0-8ce8-daaecd4fd2c1",
   "metadata": {},
   "outputs": [],
   "source": [
    "name = 'pavan'"
   ]
  },
  {
   "cell_type": "code",
   "execution_count": 122,
   "id": "4c85d196-56f4-4c87-b57c-7fb2a067654a",
   "metadata": {},
   "outputs": [
    {
     "data": {
      "text/plain": [
       "False"
      ]
     },
     "execution_count": 122,
     "metadata": {},
     "output_type": "execute_result"
    }
   ],
   "source": [
    "name == 'kumar'"
   ]
  },
  {
   "cell_type": "code",
   "execution_count": 126,
   "id": "86e8a0f7-6d36-4ad2-9c9b-0269f3a1509c",
   "metadata": {},
   "outputs": [
    {
     "data": {
      "text/plain": [
       "True"
      ]
     },
     "execution_count": 126,
     "metadata": {},
     "output_type": "execute_result"
    }
   ],
   "source": [
    "1 ==1.0"
   ]
  },
  {
   "cell_type": "code",
   "execution_count": 128,
   "id": "f5ae52a6-0af9-476f-ac58-93397353c71a",
   "metadata": {},
   "outputs": [],
   "source": [
    "## assignment operator"
   ]
  },
  {
   "cell_type": "code",
   "execution_count": 130,
   "id": "a606da1b-61f5-46a6-a729-3a539009f6dd",
   "metadata": {},
   "outputs": [],
   "source": [
    "a = 4*5"
   ]
  },
  {
   "cell_type": "code",
   "execution_count": 132,
   "id": "3b18eac6-72de-4ae8-8cfd-f45e8dc9ce83",
   "metadata": {},
   "outputs": [
    {
     "data": {
      "text/plain": [
       "20"
      ]
     },
     "execution_count": 132,
     "metadata": {},
     "output_type": "execute_result"
    }
   ],
   "source": [
    "a"
   ]
  },
  {
   "cell_type": "code",
   "execution_count": 23,
   "id": "c9a44f53-32f9-47e7-a2a3-425173d52309",
   "metadata": {},
   "outputs": [
    {
     "data": {
      "text/plain": [
       "51.0"
      ]
     },
     "execution_count": 23,
     "metadata": {},
     "output_type": "execute_result"
    }
   ],
   "source": [
    "marks = 50\n",
    "correction = 0.5\n",
    "\n",
    "marks = marks + correction #50.5\n",
    "\n",
    "marks = marks + correction # 50.5+0.5\n",
    "marks"
   ]
  },
  {
   "cell_type": "code",
   "execution_count": 31,
   "id": "b4954741-d266-4e90-a83f-c5e267aadabe",
   "metadata": {},
   "outputs": [
    {
     "data": {
      "text/plain": [
       "4"
      ]
     },
     "execution_count": 31,
     "metadata": {},
     "output_type": "execute_result"
    }
   ],
   "source": [
    "a= 2\n",
    "a = a +2\n",
    "a"
   ]
  },
  {
   "cell_type": "code",
   "execution_count": 41,
   "id": "601bf0b6-d2ad-4eb3-b242-74efabd857ae",
   "metadata": {},
   "outputs": [
    {
     "name": "stdout",
     "output_type": "stream",
     "text": [
      "14\n",
      "12\n"
     ]
    }
   ],
   "source": [
    "a = 12\n",
    "a +=2\n",
    "print(a)\n",
    "# a -= 2\n",
    "a = a -2\n",
    "print(a)"
   ]
  },
  {
   "cell_type": "code",
   "execution_count": 37,
   "id": "920f7fae-9f9d-4d27-be4b-62474610fae9",
   "metadata": {},
   "outputs": [
    {
     "name": "stdout",
     "output_type": "stream",
     "text": [
      "7\n",
      "5\n",
      "10\n"
     ]
    }
   ],
   "source": [
    "# what will be the ouput\n",
    "a = 5\n",
    "a+=2\n",
    "print(a)\n",
    "a-=2\n",
    "print(a)\n",
    "a*=2\n",
    "print(a)"
   ]
  },
  {
   "cell_type": "markdown",
   "id": "65cc14ac-82e0-442c-9767-5871b047131b",
   "metadata": {},
   "source": [
    "# logical operators"
   ]
  },
  {
   "cell_type": "code",
   "execution_count": 147,
   "id": "9ac4159e-4631-4c44-a990-f1a756fbc227",
   "metadata": {},
   "outputs": [],
   "source": [
    "# AND, OR, NOT - boolean ops"
   ]
  },
  {
   "cell_type": "code",
   "execution_count": 149,
   "id": "2830c592-51c1-4816-84ea-b7ca4d056b62",
   "metadata": {},
   "outputs": [],
   "source": [
    "# AND is true if all conditions are satisfied\n",
    "# OR is true if any condition is satisfied\n",
    "# NOT gives opposite result"
   ]
  },
  {
   "cell_type": "code",
   "execution_count": 151,
   "id": "dccc93ce-2ea4-4927-9e62-6b790e2c8950",
   "metadata": {},
   "outputs": [],
   "source": [
    "a = 10"
   ]
  },
  {
   "cell_type": "code",
   "execution_count": 153,
   "id": "198bdf36-4e6f-44aa-a01e-a0b9b685b42c",
   "metadata": {},
   "outputs": [
    {
     "data": {
      "text/plain": [
       "True"
      ]
     },
     "execution_count": 153,
     "metadata": {},
     "output_type": "execute_result"
    }
   ],
   "source": [
    "a > 5 or a >20 or a<2"
   ]
  },
  {
   "cell_type": "code",
   "execution_count": 155,
   "id": "a5b3e965-fe47-4b13-996f-920e9734be8c",
   "metadata": {},
   "outputs": [
    {
     "data": {
      "text/plain": [
       "False"
      ]
     },
     "execution_count": 155,
     "metadata": {},
     "output_type": "execute_result"
    }
   ],
   "source": [
    "a > 5 and a == 20 and a <2"
   ]
  },
  {
   "cell_type": "code",
   "execution_count": 43,
   "id": "80678c2f-d017-43ed-b7d6-f7e08aff1fa8",
   "metadata": {},
   "outputs": [
    {
     "data": {
      "text/plain": [
       "True"
      ]
     },
     "execution_count": 43,
     "metadata": {},
     "output_type": "execute_result"
    }
   ],
   "source": [
    "amount = 1000\n",
    "amount % 500 == 0"
   ]
  },
  {
   "cell_type": "code",
   "execution_count": 163,
   "id": "d6a9d1f1-1aea-42f9-9c15-b5e2aba8f71c",
   "metadata": {},
   "outputs": [
    {
     "name": "stdin",
     "output_type": "stream",
     "text": [
      "Enter amount:  1200\n"
     ]
    },
    {
     "data": {
      "text/plain": [
       "True"
      ]
     },
     "execution_count": 163,
     "metadata": {},
     "output_type": "execute_result"
    }
   ],
   "source": [
    "amount = int(input(\"Enter amount: \"))\n",
    "amount % 500 == 0 or amount%200 == 0"
   ]
  },
  {
   "cell_type": "code",
   "execution_count": 165,
   "id": "4cbbef95-4ac5-42ff-af91-4321a19b751b",
   "metadata": {},
   "outputs": [
    {
     "data": {
      "text/plain": [
       "False"
      ]
     },
     "execution_count": 165,
     "metadata": {},
     "output_type": "execute_result"
    }
   ],
   "source": [
    "not True"
   ]
  },
  {
   "cell_type": "code",
   "execution_count": 167,
   "id": "ed4184b7-68d5-47ab-8698-e06b37240fed",
   "metadata": {},
   "outputs": [
    {
     "data": {
      "text/plain": [
       "True"
      ]
     },
     "execution_count": 167,
     "metadata": {},
     "output_type": "execute_result"
    }
   ],
   "source": [
    "not False"
   ]
  },
  {
   "cell_type": "code",
   "execution_count": 169,
   "id": "f51b5f8d-ab5c-40d9-9cb7-72388ab87e1a",
   "metadata": {},
   "outputs": [
    {
     "data": {
      "text/plain": [
       "False"
      ]
     },
     "execution_count": 169,
     "metadata": {},
     "output_type": "execute_result"
    }
   ],
   "source": [
    "not 24 <56"
   ]
  },
  {
   "cell_type": "code",
   "execution_count": null,
   "id": "c0901b93-07b4-4471-96c1-f500b915943c",
   "metadata": {},
   "outputs": [],
   "source": []
  }
 ],
 "metadata": {
  "kernelspec": {
   "display_name": "Python 3 (ipykernel)",
   "language": "python",
   "name": "python3"
  },
  "language_info": {
   "codemirror_mode": {
    "name": "ipython",
    "version": 3
   },
   "file_extension": ".py",
   "mimetype": "text/x-python",
   "name": "python",
   "nbconvert_exporter": "python",
   "pygments_lexer": "ipython3",
   "version": "3.12.7"
  }
 },
 "nbformat": 4,
 "nbformat_minor": 5
}
