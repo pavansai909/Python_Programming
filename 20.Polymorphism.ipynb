{
 "cells": [
  {
   "cell_type": "code",
   "execution_count": 6,
   "id": "e7dd54ed-fec6-4b56-b01d-d4781db78627",
   "metadata": {},
   "outputs": [],
   "source": [
    "# Polymorphism is one of the four fundamental principles of Object-Oriented Programming (OOP). \n",
    "# It refers to the ability of different objects (from different classes) to respond to the same method or message in their own unique way. \n",
    "# Simply put, polymorphism allows a method to perform different tasks based on the object that calls it.\n",
    "\n",
    "# Key Points of Polymorphism:\n",
    "# Same method name can behave differently on different objects.\n",
    "# Overriding methods in subclasses allows polymorphism.\n",
    "# Polymorphism can occur through method overriding or method overloading.\n",
    "# In Python, method overriding is the most common form of polymorphism. \n",
    "# Python doesn't support traditional method overloading, \n",
    "# but it uses dynamic typing to allow polymorphic behavior."
   ]
  },
  {
   "cell_type": "code",
   "execution_count": null,
   "id": "4fc25c07-9d97-4cd2-bab1-ec3f1c21b7d6",
   "metadata": {},
   "outputs": [],
   "source": [
    "# Types of Polymorphism in Python:\n",
    "# Method Overriding: When a subclass provides a specific implementation for a method that is already defined in its superclass.\n",
    "# Duck Typing: Python's dynamic typing allows polymorphism without requiring inheritance or method overriding. \n",
    "#If an object \"acts like\" another object (i.e., implements the required methods), it is considered polymorphic."
   ]
  },
  {
   "cell_type": "code",
   "execution_count": 4,
   "id": "2ade4882-eff7-4f1b-91d1-ec4fef2d7800",
   "metadata": {},
   "outputs": [],
   "source": [
    "# 1. Method Overriding Example\n",
    "# Let’s create a base class and derived classes to demonstrate polymorphism using method overriding."
   ]
  },
  {
   "cell_type": "code",
   "execution_count": 10,
   "id": "a7bce61b-24d8-42e4-890b-d9f2e3a41f90",
   "metadata": {},
   "outputs": [
    {
     "name": "stdout",
     "output_type": "stream",
     "text": [
      "Dog barks.\n",
      "Cat meows.\n"
     ]
    }
   ],
   "source": [
    "class Animal:\n",
    "    def sound(self):\n",
    "        print(\"Animal makes a sound.\")\n",
    "\n",
    "class Dog(Animal):\n",
    "    def sound(self):\n",
    "        print(\"Dog barks.\")\n",
    "\n",
    "class Cat(Animal):\n",
    "    def sound(self):\n",
    "        print(\"Cat meows.\")\n",
    "\n",
    "# Instantiate objects of Dog and Cat\n",
    "dog = Dog()\n",
    "cat = Cat()\n",
    "\n",
    "# Calling the sound method (method overriding)\n",
    "dog.sound()  # Output: Dog barks.\n",
    "cat.sound()  # Output: Cat meows.\n"
   ]
  },
  {
   "cell_type": "code",
   "execution_count": 8,
   "id": "16ae1f53-2ca3-4445-87fb-b00ccf1a4612",
   "metadata": {},
   "outputs": [],
   "source": [
    "# sound() is defined in the base class Animal.\n",
    "# Both Dog and Cat classes override the sound() method to provide their own implementations.\n",
    "# When the sound() method is called on objects of Dog and Cat, \n",
    "# the appropriate method is invoked based on the object’s class (this is polymorphism)."
   ]
  },
  {
   "cell_type": "code",
   "execution_count": 10,
   "id": "fecb2c55-6607-4a76-8dfa-06dd05b52683",
   "metadata": {},
   "outputs": [],
   "source": [
    "# 2. Polymorphism via Inheritance and Method Overriding\n",
    "# Let’s build on the previous example by creating a generic function that operates on any object of type Animal (or its subclasses). \n",
    "# This will demonstrate polymorphism in action."
   ]
  },
  {
   "cell_type": "code",
   "execution_count": 12,
   "id": "441c873a-36bd-45a6-ab8e-136a25559f1c",
   "metadata": {},
   "outputs": [
    {
     "name": "stdout",
     "output_type": "stream",
     "text": [
      "Dog barks.\n",
      "Cat meows.\n"
     ]
    }
   ],
   "source": [
    "class Animal:\n",
    "    def sound(self):\n",
    "        print(\"Animal makes a sound.\")\n",
    "\n",
    "class Dog(Animal):\n",
    "    def sound(self):\n",
    "        print(\"Dog barks.\")\n",
    "\n",
    "class Cat(Animal):\n",
    "    def sound(self):\n",
    "        print(\"Cat meows.\")\n",
    "\n",
    "# Generic function that works with polymorphic objects\n",
    "def animal_sound(animal):\n",
    "    animal.sound()  # Polymorphic call\n",
    "\n",
    "# Instantiate objects\n",
    "dog = Dog()\n",
    "cat = Cat()\n",
    "\n",
    "# Pass objects to the same function\n",
    "animal_sound(dog)  # Output: Dog barks.\n",
    "animal_sound(cat)  # Output: Cat meows.\n"
   ]
  },
  {
   "cell_type": "code",
   "execution_count": 14,
   "id": "8f1d6e3b-026a-4889-a5d4-dba3934bea19",
   "metadata": {},
   "outputs": [],
   "source": [
    "# The animal_sound() function takes an Animal object and calls its sound() method.\n",
    "# Thanks to polymorphism, even though the animal_sound() function doesn't know whether it's working with a Dog or a Cat, \n",
    "# it will automatically call the appropriate sound() method based on the object passed to it."
   ]
  },
  {
   "cell_type": "code",
   "execution_count": 16,
   "id": "82128ba5-45c3-4c46-be42-779274b0008c",
   "metadata": {},
   "outputs": [],
   "source": [
    "# 3. Polymorphism and Duck Typing\n",
    "# Python is a dynamically typed language, \n",
    "# meaning that you don’t need to explicitly declare the type of an object. \n",
    "# This allows Python to achieve polymorphism through duck typing.\n",
    "# The concept of duck typing is based on the saying:\n",
    "# \"If it looks like a duck, swims like a duck, and quacks like a duck, then it probably is a duck.\"\n",
    "# In simpler terms, if an object implements the required methods,\n",
    "# it can be treated as an instance of the expected type, regardless of its actual class. \n",
    "# This is polymorphism through behavior, not inheritance."
   ]
  },
  {
   "cell_type": "code",
   "execution_count": 12,
   "id": "11f6868f-bbc6-4e7e-8b29-56f1e10b54a7",
   "metadata": {},
   "outputs": [
    {
     "name": "stdout",
     "output_type": "stream",
     "text": [
      "Dog barks.\n",
      "Duck quacks.\n"
     ]
    }
   ],
   "source": [
    "class Dog:\n",
    "    def speak(self):\n",
    "        print(\"Dog barks.\")\n",
    "\n",
    "class Duck:\n",
    "    def speak(self):\n",
    "        print(\"Duck quacks.\")\n",
    "\n",
    "# Function that expects an object with a `speak()` method\n",
    "def animal_speak(animal):\n",
    "    animal.speak()  # Polymorphic call\n",
    "\n",
    "# Instantiate objects\n",
    "dog = Dog()\n",
    "duck = Duck()\n",
    "\n",
    "# Pass objects of different classes\n",
    "animal_speak(dog)   # Output: Dog barks.\n",
    "animal_speak(duck)  # Output: Duck quacks.\n"
   ]
  },
  {
   "cell_type": "code",
   "execution_count": 20,
   "id": "7de92342-f923-4f8f-a5a2-dde3a590bc9e",
   "metadata": {},
   "outputs": [],
   "source": [
    "# Both Dog and Duck classes have a speak() method, even though they don’t share a common base class.\n",
    "# The function animal_speak() doesn’t care about the type of object it receives, as long as it has a speak() method. \n",
    "# This is duck typing, and it’s another form of polymorphism."
   ]
  },
  {
   "cell_type": "code",
   "execution_count": 22,
   "id": "02a487ae-a87a-4391-8f4a-623f640d4e91",
   "metadata": {},
   "outputs": [],
   "source": [
    "# 4. Polymorphism with Different Argument Types\n",
    "# You can also have polymorphism where the same method can accept different types of arguments and behave differently.\n",
    "# This is often achieved using default arguments or variable-length arguments."
   ]
  },
  {
   "cell_type": "code",
   "execution_count": 24,
   "id": "ad324ba4-dae8-4758-a2d8-2445a4cac5b4",
   "metadata": {},
   "outputs": [
    {
     "name": "stdout",
     "output_type": "stream",
     "text": [
      "Printing default message.\n",
      "Printing message: Hello!\n"
     ]
    }
   ],
   "source": [
    "class Printer:\n",
    "    def print_message(self, msg=None):\n",
    "        if msg is None:\n",
    "            print(\"Printing default message.\")\n",
    "        else:\n",
    "            print(f\"Printing message: {msg}\")\n",
    "\n",
    "# Instantiate the Printer class\n",
    "printer = Printer()\n",
    "\n",
    "# Call with different arguments\n",
    "printer.print_message()           # Output: Printing default message.\n",
    "printer.print_message(\"Hello!\")   # Output: Printing message: Hello!"
   ]
  },
  {
   "cell_type": "code",
   "execution_count": 26,
   "id": "f1fa0b94-c7d5-4aaa-aa08-952387d0a5bd",
   "metadata": {},
   "outputs": [],
   "source": [
    "# The print_message() method behaves polymorphically depending on whether you provide an argument (msg) or not.\n",
    "# When no argument is passed, it prints a default message. \n",
    "# When an argument is passed, it prints the given message."
   ]
  },
  {
   "cell_type": "code",
   "execution_count": 28,
   "id": "ba8b706e-8d63-48d0-ad7a-feade15214cc",
   "metadata": {},
   "outputs": [],
   "source": [
    "# 5. Polymorphism with Operator Overloading\n",
    "# In Python, polymorphism can also be achieved through operator overloading, where operators like +, -, *, etc., are overloaded in user-defined classes."
   ]
  },
  {
   "cell_type": "code",
   "execution_count": 14,
   "id": "55c04fe6-c078-4380-b2f3-c742cba70dc0",
   "metadata": {},
   "outputs": [
    {
     "name": "stdout",
     "output_type": "stream",
     "text": [
      "Point(4, 6)\n"
     ]
    }
   ],
   "source": [
    "class Point:\n",
    "    def __init__(self, x, y):\n",
    "        self.x = x\n",
    "        self.y = y\n",
    "\n",
    "    # Overloading the + operator to add two Point objects\n",
    "    def __add__(self, other):\n",
    "        return Point(self.x + other.x, self.y + other.y)\n",
    "\n",
    "    # String representation of the object (called by print())\n",
    "    def __repr__(self):\n",
    "        return f\"Point({self.x}, {self.y})\"\n",
    "\n",
    "# Instantiate Point objects\n",
    "p1 = Point(1, 2)\n",
    "p2 = Point(3, 4)\n",
    "\n",
    "# Adding two Point objects using overloaded + operator\n",
    "p3 = p1 + p2  # This calls the __add__ method\n",
    "\n",
    "print(p3)  # Output: Point(4, 6)\n"
   ]
  },
  {
   "cell_type": "code",
   "execution_count": 38,
   "id": "6c3b0e04-0c02-4fcd-98c5-d4f16142b542",
   "metadata": {},
   "outputs": [],
   "source": [
    "# The Point class overloads the + operator by defining the __add__() method.\n",
    "# When two Point objects are added using the + operator, \n",
    "# it returns a new Point object with the sum of the coordinates, demonstrating polymorphism."
   ]
  },
  {
   "cell_type": "code",
   "execution_count": null,
   "id": "f46c67e4-5d0c-4b34-b25a-42a231676515",
   "metadata": {},
   "outputs": [],
   "source": []
  }
 ],
 "metadata": {
  "kernelspec": {
   "display_name": "Python 3 (ipykernel)",
   "language": "python",
   "name": "python3"
  },
  "language_info": {
   "codemirror_mode": {
    "name": "ipython",
    "version": 3
   },
   "file_extension": ".py",
   "mimetype": "text/x-python",
   "name": "python",
   "nbconvert_exporter": "python",
   "pygments_lexer": "ipython3",
   "version": "3.12.7"
  }
 },
 "nbformat": 4,
 "nbformat_minor": 5
}
