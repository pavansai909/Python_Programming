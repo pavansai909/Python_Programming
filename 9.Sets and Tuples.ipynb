{
 "cells": [
  {
   "cell_type": "code",
   "execution_count": 2,
   "id": "7e3aa2da-d6e6-4e36-b4e1-db4d17e3d1ad",
   "metadata": {},
   "outputs": [
    {
     "data": {
      "text/plain": [
       "1"
      ]
     },
     "execution_count": 2,
     "metadata": {},
     "output_type": "execute_result"
    }
   ],
   "source": [
    "a = [1,2,3,4,5]\n",
    "a[0]"
   ]
  },
  {
   "cell_type": "code",
   "execution_count": 4,
   "id": "8ab00df2-b688-4d7e-87b9-fd9f5df4cebc",
   "metadata": {},
   "outputs": [
    {
     "data": {
      "text/plain": [
       "[10, 2, 3, 4, 5]"
      ]
     },
     "execution_count": 4,
     "metadata": {},
     "output_type": "execute_result"
    }
   ],
   "source": [
    "a[0] = 10\n",
    "a"
   ]
  },
  {
   "cell_type": "code",
   "execution_count": 4,
   "id": "653539bb-6c64-498e-bb7e-7f9356ad1364",
   "metadata": {},
   "outputs": [
    {
     "ename": "TypeError",
     "evalue": "'tuple' object does not support item assignment",
     "output_type": "error",
     "traceback": [
      "\u001b[1;31m---------------------------------------------------------------------------\u001b[0m",
      "\u001b[1;31mTypeError\u001b[0m                                 Traceback (most recent call last)",
      "Cell \u001b[1;32mIn[4], line 2\u001b[0m\n\u001b[0;32m      1\u001b[0m a \u001b[38;5;241m=\u001b[39m (\u001b[38;5;241m1\u001b[39m,\u001b[38;5;241m2\u001b[39m,\u001b[38;5;241m3\u001b[39m,\u001b[38;5;241m4\u001b[39m,\u001b[38;5;241m5\u001b[39m)\n\u001b[1;32m----> 2\u001b[0m a[\u001b[38;5;241m0\u001b[39m] \u001b[38;5;241m=\u001b[39m \u001b[38;5;241m10\u001b[39m\n",
      "\u001b[1;31mTypeError\u001b[0m: 'tuple' object does not support item assignment"
     ]
    }
   ],
   "source": [
    "# a = (1,2,3,4,5)\n",
    "# a[0] = 10\n",
    "#'tuple' object does not support item assignment"
   ]
  },
  {
   "cell_type": "code",
   "execution_count": 10,
   "id": "f0cc939c-4b78-4e97-9e52-1c86b64ef4e1",
   "metadata": {},
   "outputs": [],
   "source": [
    "a = (1,2,3,4,5,6,7,8,9,0)"
   ]
  },
  {
   "cell_type": "code",
   "execution_count": 12,
   "id": "7130838b-5baa-4947-b395-127cabbf5afe",
   "metadata": {},
   "outputs": [
    {
     "data": {
      "text/plain": [
       "(3, 4, 5, 6, 7, 8)"
      ]
     },
     "execution_count": 12,
     "metadata": {},
     "output_type": "execute_result"
    }
   ],
   "source": [
    "a[2:8]"
   ]
  },
  {
   "cell_type": "code",
   "execution_count": 14,
   "id": "34ce3050-ed1d-43dc-9dd6-65af4913bf12",
   "metadata": {},
   "outputs": [
    {
     "data": {
      "text/plain": [
       "(3, 4, 5, 6, 7, 8, 9, 0)"
      ]
     },
     "execution_count": 14,
     "metadata": {},
     "output_type": "execute_result"
    }
   ],
   "source": [
    "a[2:]"
   ]
  },
  {
   "cell_type": "code",
   "execution_count": 16,
   "id": "55f227f7-bf7e-4fbe-ac5b-4fad13e92e55",
   "metadata": {},
   "outputs": [
    {
     "data": {
      "text/plain": [
       "(3, 4, 5, 6)"
      ]
     },
     "execution_count": 16,
     "metadata": {},
     "output_type": "execute_result"
    }
   ],
   "source": [
    "a[2:6]"
   ]
  },
  {
   "cell_type": "code",
   "execution_count": 18,
   "id": "e262d718-8d2e-439c-ba3f-00245bf26318",
   "metadata": {},
   "outputs": [
    {
     "data": {
      "text/plain": [
       "()"
      ]
     },
     "execution_count": 18,
     "metadata": {},
     "output_type": "execute_result"
    }
   ],
   "source": [
    "a[-1:-8]"
   ]
  },
  {
   "cell_type": "code",
   "execution_count": 22,
   "id": "34c896de-5165-46a4-a443-5acca45ac7f2",
   "metadata": {},
   "outputs": [
    {
     "name": "stdout",
     "output_type": "stream",
     "text": [
      "<class 'tuple'>\n"
     ]
    }
   ],
   "source": [
    "t = ()\n",
    "print(type(t))"
   ]
  },
  {
   "cell_type": "code",
   "execution_count": 6,
   "id": "ce2012c2-0aba-4f8f-8745-43cf3ffa7e74",
   "metadata": {},
   "outputs": [
    {
     "name": "stdout",
     "output_type": "stream",
     "text": [
      "<class 'tuple'>\n"
     ]
    }
   ],
   "source": [
    "t = (1,2,3,4)\n",
    "print(type(t))"
   ]
  },
  {
   "cell_type": "code",
   "execution_count": 8,
   "id": "4d7e362e-8dfc-459e-88de-06adba14be0d",
   "metadata": {},
   "outputs": [
    {
     "data": {
      "text/plain": [
       "int"
      ]
     },
     "execution_count": 8,
     "metadata": {},
     "output_type": "execute_result"
    }
   ],
   "source": [
    "t = (45)\n",
    "type(t)"
   ]
  },
  {
   "cell_type": "code",
   "execution_count": 10,
   "id": "bc1948f5-65bc-4154-bbde-779f1adeba81",
   "metadata": {},
   "outputs": [
    {
     "data": {
      "text/plain": [
       "tuple"
      ]
     },
     "execution_count": 10,
     "metadata": {},
     "output_type": "execute_result"
    }
   ],
   "source": [
    "t = (45,)\n",
    "type(t)"
   ]
  },
  {
   "cell_type": "code",
   "execution_count": 30,
   "id": "b29879bc-c8fd-4b23-be43-a6fa852dc9dc",
   "metadata": {},
   "outputs": [
    {
     "data": {
      "text/plain": [
       "tuple"
      ]
     },
     "execution_count": 30,
     "metadata": {},
     "output_type": "execute_result"
    }
   ],
   "source": [
    "t = 45,\n",
    "type(t)"
   ]
  },
  {
   "cell_type": "code",
   "execution_count": 36,
   "id": "d24f84b7-5c83-4ca0-904a-62897ef589b8",
   "metadata": {},
   "outputs": [
    {
     "name": "stdout",
     "output_type": "stream",
     "text": [
      "[1, 2, 3, 4, 5]\n",
      "(1, 2, 3, 4, 5)\n",
      "<class 'list'>\n",
      "<class 'tuple'>\n"
     ]
    }
   ],
   "source": [
    "a = [1,2,3,4,5]\n",
    "b = tuple(a)\n",
    "print(a)\n",
    "print(b)\n",
    "print(type(a))\n",
    "print(type(b))"
   ]
  },
  {
   "cell_type": "code",
   "execution_count": 38,
   "id": "31f6f210-6fa2-4f6e-b2b9-57409695e469",
   "metadata": {},
   "outputs": [],
   "source": [
    "# packing and unpacking in tuples"
   ]
  },
  {
   "cell_type": "code",
   "execution_count": 6,
   "id": "2540ec89-8a03-43b2-8d1a-62c1baebd811",
   "metadata": {},
   "outputs": [
    {
     "name": "stdout",
     "output_type": "stream",
     "text": [
      "1\n",
      "2\n",
      "3\n"
     ]
    }
   ],
   "source": [
    "# unpacking\n",
    "x,y,z = (1,2,3)\n",
    "print(x)\n",
    "print(y)\n",
    "print(z)"
   ]
  },
  {
   "cell_type": "code",
   "execution_count": 46,
   "id": "ad379685-d25c-432d-b227-6f508427dba1",
   "metadata": {},
   "outputs": [
    {
     "name": "stdout",
     "output_type": "stream",
     "text": [
      "1\n",
      "2\n",
      "3\n"
     ]
    }
   ],
   "source": [
    "a = (1,2,3)\n",
    "x,y,z = a\n",
    "print(x)\n",
    "print(y)\n",
    "print(z)"
   ]
  },
  {
   "cell_type": "code",
   "execution_count": 50,
   "id": "d24fa74f-039b-4062-8d32-928924dff152",
   "metadata": {},
   "outputs": [],
   "source": [
    "# x,y = (1,2,3)  # one possible error"
   ]
  },
  {
   "cell_type": "code",
   "execution_count": 12,
   "id": "d9cd8440-8c9c-4aed-94ba-063d07fe1f90",
   "metadata": {},
   "outputs": [
    {
     "name": "stdout",
     "output_type": "stream",
     "text": [
      "(200, 300, 400, 500)\n"
     ]
    }
   ],
   "source": [
    "# packing values in return \n",
    "def food():\n",
    "    return 200,300,400,500\n",
    "\n",
    "bill = food()\n",
    "print(bill)"
   ]
  },
  {
   "cell_type": "code",
   "execution_count": 64,
   "id": "301775ec-a9c6-4207-87a4-85095ce3edc9",
   "metadata": {},
   "outputs": [],
   "source": [
    "a = [(1,\"abhi\"),(2,'raj'),(3,'Ashok'),(4,'kiran')]"
   ]
  },
  {
   "cell_type": "code",
   "execution_count": 66,
   "id": "31492299-c4d7-42b8-8aae-37a6c1a1b90e",
   "metadata": {},
   "outputs": [
    {
     "name": "stdout",
     "output_type": "stream",
     "text": [
      "(1, 'abhi')\n",
      "(2, 'raj')\n",
      "(3, 'Ashok')\n",
      "(4, 'kiran')\n"
     ]
    }
   ],
   "source": [
    "for i in a:\n",
    "    print(i)"
   ]
  },
  {
   "cell_type": "code",
   "execution_count": 68,
   "id": "07035baa-8c5c-456a-8ad6-fbb8dce8effb",
   "metadata": {},
   "outputs": [
    {
     "name": "stdout",
     "output_type": "stream",
     "text": [
      "rollnumber is 1 and name is abhi\n",
      "rollnumber is 2 and name is raj\n",
      "rollnumber is 3 and name is Ashok\n",
      "rollnumber is 4 and name is kiran\n"
     ]
    }
   ],
   "source": [
    "for rollnum, name in a:\n",
    "    print(f'rollnumber is {rollnum} and name is {name}')"
   ]
  },
  {
   "cell_type": "code",
   "execution_count": 14,
   "id": "fa48021e-88bf-4636-aedb-0daf51249599",
   "metadata": {},
   "outputs": [
    {
     "name": "stdout",
     "output_type": "stream",
     "text": [
      "(1, 2, 3, 4, 5, 6)\n",
      "6\n"
     ]
    }
   ],
   "source": [
    "x = (1,2,3)\n",
    "y = (4,5,6)\n",
    "z = x + y\n",
    "print(z)\n",
    "print(len(z))"
   ]
  },
  {
   "cell_type": "code",
   "execution_count": 18,
   "id": "cef68570-06a4-4fa3-ba6d-6f669689b6f0",
   "metadata": {},
   "outputs": [],
   "source": [
    "# swap two variables\n",
    "a = 5\n",
    "b = 10"
   ]
  },
  {
   "cell_type": "code",
   "execution_count": 20,
   "id": "2e8c13b9-f189-40f4-ae3a-8212b81a32ca",
   "metadata": {},
   "outputs": [
    {
     "name": "stdout",
     "output_type": "stream",
     "text": [
      "10\n",
      "5\n"
     ]
    }
   ],
   "source": [
    "# first method\n",
    "temp = a # temp = 5\n",
    "a = b  # a = 10\n",
    "b = temp # b = 5\n",
    "print(a)\n",
    "print(b)"
   ]
  },
  {
   "cell_type": "code",
   "execution_count": 22,
   "id": "05739598-273b-4ba4-aaa4-514f1c8a3f72",
   "metadata": {},
   "outputs": [
    {
     "name": "stdout",
     "output_type": "stream",
     "text": [
      "10\n",
      "5\n"
     ]
    }
   ],
   "source": [
    "# second method \n",
    "a = 5\n",
    "b = 10\n",
    "b = a + b # b = 15\n",
    "a = b - a # a = 10\n",
    "b = b - a # 15 - 10\n",
    "print(a)\n",
    "print(b)"
   ]
  },
  {
   "cell_type": "code",
   "execution_count": 82,
   "id": "c35ab65d-ddc9-4ff2-8e8d-1bd1035ca0a6",
   "metadata": {},
   "outputs": [
    {
     "name": "stdout",
     "output_type": "stream",
     "text": [
      "10\n",
      "5\n"
     ]
    }
   ],
   "source": [
    "# other method - tuples are helping to do this\n",
    "a = 5\n",
    "b = 10\n",
    "a,b = b,a\n",
    "print(a)\n",
    "print(b)"
   ]
  },
  {
   "cell_type": "code",
   "execution_count": null,
   "id": "10ed4b4f-23b0-4097-84e3-863f64d74823",
   "metadata": {},
   "outputs": [],
   "source": []
  },
  {
   "cell_type": "code",
   "execution_count": 26,
   "id": "11b8cdee-7a2f-4208-830c-117e5105101b",
   "metadata": {},
   "outputs": [
    {
     "data": {
      "text/plain": [
       "{1, 2, 3, 4, 5}"
      ]
     },
     "execution_count": 26,
     "metadata": {},
     "output_type": "execute_result"
    }
   ],
   "source": [
    "s = {1,1,1,1,3,3,3,4,4,4,5,2,2,2,2}\n",
    "s"
   ]
  },
  {
   "cell_type": "code",
   "execution_count": 1,
   "id": "d6e8939c-415d-47e2-a92c-22d757204d0d",
   "metadata": {},
   "outputs": [],
   "source": [
    "#s[0] #'set' object is not subscriptable"
   ]
  },
  {
   "cell_type": "code",
   "execution_count": 3,
   "id": "b7eb2b1f-a073-448e-8725-fa82c297736a",
   "metadata": {},
   "outputs": [
    {
     "data": {
      "text/plain": [
       "set()"
      ]
     },
     "execution_count": 3,
     "metadata": {},
     "output_type": "execute_result"
    }
   ],
   "source": [
    "s = set()\n",
    "s"
   ]
  },
  {
   "cell_type": "code",
   "execution_count": 5,
   "id": "d288b3e3-018d-43fb-a77b-d9e846ffc57a",
   "metadata": {},
   "outputs": [],
   "source": [
    "# sets can store strings, tuples and booleans inside them all at once\n",
    "# sets cannot store lists, sets and dictionaries within them"
   ]
  },
  {
   "cell_type": "code",
   "execution_count": 7,
   "id": "d711da9e-70a0-4edf-860a-71570eda219e",
   "metadata": {},
   "outputs": [
    {
     "data": {
      "text/plain": [
       "{1, 2, 3}"
      ]
     },
     "execution_count": 7,
     "metadata": {},
     "output_type": "execute_result"
    }
   ],
   "source": [
    "s={1,2,3}\n",
    "s"
   ]
  },
  {
   "cell_type": "code",
   "execution_count": 34,
   "id": "ceb27c0a-218f-4311-8481-ae74457700c2",
   "metadata": {},
   "outputs": [],
   "source": [
    "# s={1,2,3,{1,3,4}}\n",
    "# s # error"
   ]
  },
  {
   "cell_type": "code",
   "execution_count": 9,
   "id": "73bf3176-bd0d-4dc7-a413-5c5008a0f011",
   "metadata": {},
   "outputs": [
    {
     "data": {
      "text/plain": [
       "{1, 2, 3, 4}"
      ]
     },
     "execution_count": 9,
     "metadata": {},
     "output_type": "execute_result"
    }
   ],
   "source": [
    "s.add(4)\n",
    "s"
   ]
  },
  {
   "cell_type": "code",
   "execution_count": 19,
   "id": "1e032203-f6c5-4a1f-8685-694a83480b80",
   "metadata": {},
   "outputs": [
    {
     "data": {
      "text/plain": [
       "{-1, 1, 2, 3, 4}"
      ]
     },
     "execution_count": 19,
     "metadata": {},
     "output_type": "execute_result"
    }
   ],
   "source": [
    "s.add(-1)\n",
    "s"
   ]
  },
  {
   "cell_type": "code",
   "execution_count": 21,
   "id": "964e55c3-78f5-4e61-a72f-d1aa6814a6c9",
   "metadata": {},
   "outputs": [
    {
     "data": {
      "text/plain": [
       "{1, 2, 3, 4}"
      ]
     },
     "execution_count": 21,
     "metadata": {},
     "output_type": "execute_result"
    }
   ],
   "source": [
    "s.remove(-1)\n",
    "s"
   ]
  },
  {
   "cell_type": "code",
   "execution_count": 27,
   "id": "b7da034a-736b-4b84-ad72-67aedaa79faa",
   "metadata": {},
   "outputs": [
    {
     "data": {
      "text/plain": [
       "{1, 2, 3, 4, 5}"
      ]
     },
     "execution_count": 27,
     "metadata": {},
     "output_type": "execute_result"
    }
   ],
   "source": [
    "s.add(5)\n",
    "s"
   ]
  },
  {
   "cell_type": "code",
   "execution_count": 29,
   "id": "7b3d6659-c30d-4464-9528-113d38e34e2c",
   "metadata": {},
   "outputs": [
    {
     "data": {
      "text/plain": [
       "{1, 2, 3, 4, 5, 6}"
      ]
     },
     "execution_count": 29,
     "metadata": {},
     "output_type": "execute_result"
    }
   ],
   "source": [
    "s.add(6)\n",
    "s"
   ]
  },
  {
   "cell_type": "code",
   "execution_count": 33,
   "id": "3d1a4bed-e684-478a-9631-30f6ff223013",
   "metadata": {},
   "outputs": [
    {
     "data": {
      "text/plain": [
       "{-2, 1, 2, 3, 4, 5, 6}"
      ]
     },
     "execution_count": 33,
     "metadata": {},
     "output_type": "execute_result"
    }
   ],
   "source": [
    "s.add(-2)\n",
    "s"
   ]
  },
  {
   "cell_type": "code",
   "execution_count": 38,
   "id": "28e29f53-9785-450d-baaf-ea4862bf305d",
   "metadata": {},
   "outputs": [],
   "source": [
    "#s.remove(8) # error because it is not present in set"
   ]
  },
  {
   "cell_type": "code",
   "execution_count": 39,
   "id": "33c6fc04-8db7-4032-a411-3725070f0462",
   "metadata": {},
   "outputs": [
    {
     "data": {
      "text/plain": [
       "{(9, 10), -2, 1, 2, 3, 4, 5, 6}"
      ]
     },
     "execution_count": 39,
     "metadata": {},
     "output_type": "execute_result"
    }
   ],
   "source": [
    "s.add((9,10))\n",
    "s"
   ]
  },
  {
   "cell_type": "code",
   "execution_count": 41,
   "id": "f572b648-3d13-4cbe-aed4-02ecad9faeb3",
   "metadata": {},
   "outputs": [
    {
     "data": {
      "text/plain": [
       "{-2, 1, 2, 3, 4, 5, 6}"
      ]
     },
     "execution_count": 41,
     "metadata": {},
     "output_type": "execute_result"
    }
   ],
   "source": [
    "s.pop()\n",
    "s"
   ]
  },
  {
   "cell_type": "code",
   "execution_count": 43,
   "id": "04eff480-0490-4560-b6cd-ef0e26d5aa90",
   "metadata": {},
   "outputs": [
    {
     "data": {
      "text/plain": [
       "{-2, 1, 2, 3, 4, 5, 6, 23, 34, 45, 54, 86}"
      ]
     },
     "execution_count": 43,
     "metadata": {},
     "output_type": "execute_result"
    }
   ],
   "source": [
    "s.update([34,54,23,86,45])\n",
    "s"
   ]
  },
  {
   "cell_type": "code",
   "execution_count": 42,
   "id": "0335f079-b1b6-448b-970d-7c9673a40e5d",
   "metadata": {},
   "outputs": [
    {
     "name": "stdin",
     "output_type": "stream",
     "text": [
      "Enter the string:  pavan\n"
     ]
    },
    {
     "name": "stdout",
     "output_type": "stream",
     "text": [
      "{'p', 'n', 'a', 'v'}\n",
      "4\n"
     ]
    }
   ],
   "source": [
    "# take a string input\n",
    "# print the number of unique characters in that string\n",
    "\n",
    "s = input('Enter the string: ')\n",
    "print(set(s))\n",
    "print(len(set(s)))"
   ]
  },
  {
   "cell_type": "code",
   "execution_count": 55,
   "id": "a2b98205-bcbf-4a31-87c5-c4d2608626d3",
   "metadata": {},
   "outputs": [
    {
     "name": "stdout",
     "output_type": "stream",
     "text": [
      "{'banana', 'mango', 'cherry', 'grape', 'apple', 'orange'}\n",
      "6\n"
     ]
    }
   ],
   "source": [
    "fruits = {'apple','banana','cherry'}\n",
    "fruits.add('orange')\n",
    "fruits.update(['mango','grape'])\n",
    "print(fruits)\n",
    "print(len(fruits))"
   ]
  },
  {
   "cell_type": "code",
   "execution_count": 46,
   "id": "042d53da-3a52-4dd8-aae5-85ba1c53604b",
   "metadata": {},
   "outputs": [],
   "source": [
    "s1 = {2,3,4,5}\n",
    "s2 = {1,3,4,6,7,8}"
   ]
  },
  {
   "cell_type": "code",
   "execution_count": 48,
   "id": "085be1cf-d405-49ac-ad93-a5e5a3fcc14a",
   "metadata": {},
   "outputs": [
    {
     "data": {
      "text/plain": [
       "{1, 2, 3, 4, 5, 6, 7, 8}"
      ]
     },
     "execution_count": 48,
     "metadata": {},
     "output_type": "execute_result"
    }
   ],
   "source": [
    "s1.union(s2)"
   ]
  },
  {
   "cell_type": "code",
   "execution_count": 50,
   "id": "b3819bbf-870b-4849-a808-4f6a3b1315a0",
   "metadata": {},
   "outputs": [
    {
     "data": {
      "text/plain": [
       "{1, 2, 3, 4, 5, 6, 7, 8}"
      ]
     },
     "execution_count": 50,
     "metadata": {},
     "output_type": "execute_result"
    }
   ],
   "source": [
    "s1 | s2 # union"
   ]
  },
  {
   "cell_type": "code",
   "execution_count": 52,
   "id": "03287d3f-e94a-48a7-92a7-08a0af3513af",
   "metadata": {},
   "outputs": [
    {
     "data": {
      "text/plain": [
       "{3, 4}"
      ]
     },
     "execution_count": 52,
     "metadata": {},
     "output_type": "execute_result"
    }
   ],
   "source": [
    "s1.intersection(s2)"
   ]
  },
  {
   "cell_type": "code",
   "execution_count": 54,
   "id": "e48d46ec-f189-441a-b270-d65d0499f716",
   "metadata": {},
   "outputs": [
    {
     "data": {
      "text/plain": [
       "{3, 4}"
      ]
     },
     "execution_count": 54,
     "metadata": {},
     "output_type": "execute_result"
    }
   ],
   "source": [
    "s1 & s2 # intersection"
   ]
  },
  {
   "cell_type": "code",
   "execution_count": 56,
   "id": "06986adf-1f0e-4ef1-a2d4-69ec4aa79301",
   "metadata": {},
   "outputs": [
    {
     "data": {
      "text/plain": [
       "{1, 6, 7, 8}"
      ]
     },
     "execution_count": 56,
     "metadata": {},
     "output_type": "execute_result"
    }
   ],
   "source": [
    "s2.difference(s1)"
   ]
  },
  {
   "cell_type": "code",
   "execution_count": 60,
   "id": "538136b5-82de-4d01-b903-c5d8ae92b196",
   "metadata": {},
   "outputs": [
    {
     "data": {
      "text/plain": [
       "{2, 5}"
      ]
     },
     "execution_count": 60,
     "metadata": {},
     "output_type": "execute_result"
    }
   ],
   "source": [
    "s1-s2"
   ]
  },
  {
   "cell_type": "code",
   "execution_count": 83,
   "id": "8f5622a0-1917-440c-84bd-f0a0d1c5ae89",
   "metadata": {},
   "outputs": [
    {
     "data": {
      "text/plain": [
       "{1, 2, 5, 6, 7, 8}"
      ]
     },
     "execution_count": 83,
     "metadata": {},
     "output_type": "execute_result"
    }
   ],
   "source": [
    "s1.symmetric_difference(s2) # all elements without intersection part"
   ]
  },
  {
   "cell_type": "code",
   "execution_count": 81,
   "id": "d258272d-eefa-49c4-835d-3799224a9a46",
   "metadata": {},
   "outputs": [
    {
     "data": {
      "text/plain": [
       "{1, 2, 5, 6, 7, 8}"
      ]
     },
     "execution_count": 81,
     "metadata": {},
     "output_type": "execute_result"
    }
   ],
   "source": [
    "s1^s2"
   ]
  },
  {
   "cell_type": "code",
   "execution_count": 85,
   "id": "d93e9deb-0848-4348-91b9-eca5d0d5bddb",
   "metadata": {},
   "outputs": [
    {
     "name": "stdout",
     "output_type": "stream",
     "text": [
      "{1, 2, 3, 6, 7, 8}\n"
     ]
    }
   ],
   "source": [
    "set1 = {1,2,3,4,5}\n",
    "set2 = {4,5,6,7,8}\n",
    "set3 = set1.symmetric_difference(set2)\n",
    "print(set3)"
   ]
  },
  {
   "cell_type": "code",
   "execution_count": 87,
   "id": "2d2cb056-23dd-4531-bc73-c644e4fcdeeb",
   "metadata": {},
   "outputs": [],
   "source": [
    "# you are given a string as input\n",
    "# ascertain whether the string contains a binary number or not"
   ]
  },
  {
   "cell_type": "code",
   "execution_count": 89,
   "id": "b6a079a3-864b-43bf-a363-1d3dd41946c6",
   "metadata": {},
   "outputs": [],
   "source": [
    "#00101010100001111a --> not binary\n",
    "#01010111100010010111 --> binary\n"
   ]
  },
  {
   "cell_type": "code",
   "execution_count": 91,
   "id": "a6441fa4-3cfa-49a4-a5d7-5b0e81e0eb71",
   "metadata": {},
   "outputs": [],
   "source": [
    "def check_binary(string):\n",
    "    for i in string:\n",
    "        if not (i=='0' or i =='1'):\n",
    "            return 'Not binary'\n",
    "    return 'binary'"
   ]
  },
  {
   "cell_type": "code",
   "execution_count": 93,
   "id": "14f5a146-f909-4619-a96d-b070e3bd6f88",
   "metadata": {},
   "outputs": [
    {
     "data": {
      "text/plain": [
       "'Not binary'"
      ]
     },
     "execution_count": 93,
     "metadata": {},
     "output_type": "execute_result"
    }
   ],
   "source": [
    "check_binary('a1010101')"
   ]
  },
  {
   "cell_type": "code",
   "execution_count": 95,
   "id": "1e4322fa-1ab2-4732-8947-1673f476fd2f",
   "metadata": {},
   "outputs": [
    {
     "data": {
      "text/plain": [
       "'binary'"
      ]
     },
     "execution_count": 95,
     "metadata": {},
     "output_type": "execute_result"
    }
   ],
   "source": [
    "check_binary('0101001000111')"
   ]
  },
  {
   "cell_type": "code",
   "execution_count": 97,
   "id": "625d7e30-5cd2-4cc1-bb26-87bbf8275fd2",
   "metadata": {},
   "outputs": [],
   "source": [
    "# other method\n",
    "def check_binary(string):\n",
    "    s = set(string)\n",
    "    if s == {\"0\",\"1\"}:\n",
    "        return 'Binary'\n",
    "    return 'Not Binary'"
   ]
  },
  {
   "cell_type": "code",
   "execution_count": 99,
   "id": "10d38116-79cb-4b9f-863a-2966e062726d",
   "metadata": {},
   "outputs": [
    {
     "data": {
      "text/plain": [
       "'Not Binary'"
      ]
     },
     "execution_count": 99,
     "metadata": {},
     "output_type": "execute_result"
    }
   ],
   "source": [
    "check_binary('a1010101')"
   ]
  },
  {
   "cell_type": "code",
   "execution_count": 101,
   "id": "204dea26-6534-47e5-ae89-99cf8b648796",
   "metadata": {},
   "outputs": [
    {
     "data": {
      "text/plain": [
       "'Binary'"
      ]
     },
     "execution_count": 101,
     "metadata": {},
     "output_type": "execute_result"
    }
   ],
   "source": [
    "check_binary('0101001000111')"
   ]
  },
  {
   "cell_type": "code",
   "execution_count": null,
   "id": "08df2a56-477b-4f02-8f73-de07db79d55c",
   "metadata": {},
   "outputs": [],
   "source": []
  }
 ],
 "metadata": {
  "kernelspec": {
   "display_name": "Python 3 (ipykernel)",
   "language": "python",
   "name": "python3"
  },
  "language_info": {
   "codemirror_mode": {
    "name": "ipython",
    "version": 3
   },
   "file_extension": ".py",
   "mimetype": "text/x-python",
   "name": "python",
   "nbconvert_exporter": "python",
   "pygments_lexer": "ipython3",
   "version": "3.12.7"
  }
 },
 "nbformat": 4,
 "nbformat_minor": 5
}
