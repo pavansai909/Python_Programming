{
 "cells": [
  {
   "cell_type": "code",
   "execution_count": 15,
   "id": "9c4bb4a8-599b-412d-9069-123e275f05e0",
   "metadata": {},
   "outputs": [
    {
     "name": "stdout",
     "output_type": "stream",
     "text": [
      "2025-02-11 18:29:40.031731\n"
     ]
    }
   ],
   "source": [
    "import datetime\n",
    "\n",
    "now = datetime.datetime.now()\n",
    "print(now)  \n"
   ]
  },
  {
   "cell_type": "code",
   "execution_count": 17,
   "id": "325b3912-ec96-4e11-a4dd-7641d2e174d4",
   "metadata": {},
   "outputs": [
    {
     "name": "stdout",
     "output_type": "stream",
     "text": [
      "2025-02-11\n"
     ]
    }
   ],
   "source": [
    "today = datetime.date.today()\n",
    "print(today)  "
   ]
  },
  {
   "cell_type": "code",
   "execution_count": 19,
   "id": "a856e15f-5a57-4f21-91d7-a41a78c468a7",
   "metadata": {},
   "outputs": [
    {
     "name": "stdout",
     "output_type": "stream",
     "text": [
      "Year: 2025\n",
      "Month: 2\n",
      "Day: 11\n",
      "Hour: 18\n",
      "Minute: 29\n",
      "Second: 40\n"
     ]
    }
   ],
   "source": [
    "now = datetime.datetime.now()\n",
    "print(\"Year:\", now.year)\n",
    "print(\"Month:\", now.month)\n",
    "print(\"Day:\", now.day)\n",
    "print(\"Hour:\", now.hour)\n",
    "print(\"Minute:\", now.minute)\n",
    "print(\"Second:\", now.second)"
   ]
  },
  {
   "cell_type": "code",
   "execution_count": 21,
   "id": "57a06460-bb5c-4918-9d3c-6bb8691631ec",
   "metadata": {},
   "outputs": [
    {
     "name": "stdout",
     "output_type": "stream",
     "text": [
      "2025-12-25 15:30:45\n"
     ]
    }
   ],
   "source": [
    "import datetime\n",
    "\n",
    "custom_date = datetime.datetime(2025, 12, 25, 15, 30, 45)\n",
    "print(custom_date)  \n"
   ]
  },
  {
   "cell_type": "code",
   "execution_count": 65,
   "id": "62fdd897-3e24-4bc6-b2fc-d6ce24e49fed",
   "metadata": {},
   "outputs": [
    {
     "name": "stdout",
     "output_type": "stream",
     "text": [
      "2025-Feb-11 18:34:28\n"
     ]
    }
   ],
   "source": [
    "import datetime\n",
    "\n",
    "now = datetime.datetime.now()\n",
    "formatted_date = now.strftime(\"%Y-%b-%d %H:%M:%S\")\n",
    "print(formatted_date)  \n"
   ]
  },
  {
   "cell_type": "code",
   "execution_count": null,
   "id": "49fa52e5-053f-4ab0-ad2a-e223c7e567de",
   "metadata": {},
   "outputs": [],
   "source": []
  },
  {
   "cell_type": "code",
   "execution_count": 39,
   "id": "1ea76648-234e-4db9-8922-2e1b8ff3d794",
   "metadata": {},
   "outputs": [],
   "source": [
    "# %Y\tYear (4 digits)\t2025\n",
    "# %y\tYear (2 digits)\t25\n",
    "# %m\tMonth (01-12)\t01\n",
    "# %B\tMonth Name\tJanuary\n",
    "# %d\tDay (01-31)\t30\n",
    "# %A\tWeekday\tThursday\n",
    "# %H\tHour (24-hour format)\t14\n",
    "# %I\tHour (12-hour format)\t02\n",
    "# %p\tAM/PM\tPM\n",
    "# %M\tMinute (00-59)\t45\n",
    "# %S\tSecond (00-59)\t30"
   ]
  },
  {
   "cell_type": "code",
   "execution_count": 68,
   "id": "ccd3c6ae-d3bb-4729-ab7a-03a8045a555d",
   "metadata": {},
   "outputs": [
    {
     "name": "stdout",
     "output_type": "stream",
     "text": [
      "2025-12-25 00:00:00\n"
     ]
    }
   ],
   "source": [
    "# Convert string to date\n",
    "import datetime\n",
    "\n",
    "date_string = \"2025-12-25\"\n",
    "date_object = datetime.datetime.strptime(date_string, \"%Y-%m-%d\")\n",
    "print(date_object) \n"
   ]
  },
  {
   "cell_type": "code",
   "execution_count": 70,
   "id": "a5460509-f778-4691-ae9e-b0c94fd2bb49",
   "metadata": {},
   "outputs": [
    {
     "name": "stdout",
     "output_type": "stream",
     "text": [
      "2025-02-21\n"
     ]
    }
   ],
   "source": [
    "# adding days\n",
    "import datetime\n",
    "\n",
    "today = datetime.date.today()\n",
    "future_date = today + datetime.timedelta(days=10)\n",
    "print(future_date) "
   ]
  },
  {
   "cell_type": "code",
   "execution_count": 72,
   "id": "f4a809cb-9aec-4ddb-8be6-b811db4124b7",
   "metadata": {},
   "outputs": [
    {
     "name": "stdout",
     "output_type": "stream",
     "text": [
      "2025-02-06\n"
     ]
    }
   ],
   "source": [
    "# subtracting days\n",
    "past_date = today - datetime.timedelta(days=5)\n",
    "print(past_date)\n"
   ]
  },
  {
   "cell_type": "code",
   "execution_count": 74,
   "id": "1356faf3-af93-4513-a07d-31ad377babd9",
   "metadata": {},
   "outputs": [
    {
     "name": "stdout",
     "output_type": "stream",
     "text": [
      "Difference: 11 days\n"
     ]
    }
   ],
   "source": [
    "# difference\n",
    "import datetime\n",
    "\n",
    "date1 = datetime.date(2025, 1, 30)\n",
    "date2 = datetime.date(2025, 2, 10)\n",
    "\n",
    "difference = date2 - date1\n",
    "print(f\"Difference: {difference.days} days\")\n"
   ]
  },
  {
   "cell_type": "code",
   "execution_count": 78,
   "id": "2f79a2c2-6004-4c1f-a912-61d14c3c0af9",
   "metadata": {},
   "outputs": [
    {
     "name": "stdout",
     "output_type": "stream",
     "text": [
      "Today is: Tuesday\n"
     ]
    }
   ],
   "source": [
    "# get day of week\n",
    "import datetime\n",
    "\n",
    "today = datetime.date.today()\n",
    "weekday = today.strftime(\"%A\")\n",
    "print(f\"Today is: {weekday}\")"
   ]
  },
  {
   "cell_type": "code",
   "execution_count": 84,
   "id": "79e5e58c-0b5e-4962-84be-eb6eea9ab377",
   "metadata": {},
   "outputs": [
    {
     "name": "stdout",
     "output_type": "stream",
     "text": [
      "UTC Time: 2025-02-11 13:09:07.817866+00:00\n",
      "Indian Time: 2025-02-11 18:39:07.817866+05:30\n"
     ]
    }
   ],
   "source": [
    "# Python’s built-in datetime doesn’t handle time zones well, \n",
    "# so we use the pytz module.\n",
    "\n",
    "import datetime\n",
    "import pytz\n",
    "\n",
    "utc_time = datetime.datetime.now(pytz.utc)\n",
    "india_time = utc_time.astimezone(pytz.timezone(\"Asia/Kolkata\"))\n",
    "\n",
    "print(f\"UTC Time: {utc_time}\")\n",
    "print(f\"Indian Time: {india_time}\")"
   ]
  },
  {
   "cell_type": "code",
   "execution_count": 86,
   "id": "413bb779-4f76-484e-935b-666d576fcc69",
   "metadata": {},
   "outputs": [
    {
     "name": "stdout",
     "output_type": "stream",
     "text": [
      "Today's Date: 11-02-2025\n"
     ]
    }
   ],
   "source": [
    "# Display Today’s Date in the Format DD-MM-YYYY\n",
    "import datetime\n",
    "\n",
    "today = datetime.date.today()\n",
    "formatted_date = today.strftime(\"%d-%m-%Y\")  # Format as DD-MM-YYYY\n",
    "print(f\"Today's Date: {formatted_date}\")"
   ]
  },
  {
   "cell_type": "code",
   "execution_count": 96,
   "id": "90c158a6-2cb2-4ad6-98ef-46891c61c5c9",
   "metadata": {},
   "outputs": [
    {
     "name": "stdout",
     "output_type": "stream",
     "text": [
      "Days left until my birthday: 19 days\n"
     ]
    }
   ],
   "source": [
    "# Create a Countdown Timer to Show Days Left Until Your Birthday\n",
    "import datetime\n",
    "\n",
    "# Your birthday (set to a future date)\n",
    "birthday = datetime.date(2025, 3, 2)\n",
    "\n",
    "# Get today's date\n",
    "today = datetime.date.today()\n",
    "\n",
    "# Calculate the difference\n",
    "days_left = (birthday - today).days\n",
    "\n",
    "print(f\"Days left until my birthday: {days_left} days\")"
   ]
  },
  {
   "cell_type": "code",
   "execution_count": 98,
   "id": "ee22042f-be3f-40c9-89da-bf95802551e1",
   "metadata": {},
   "outputs": [
    {
     "name": "stdin",
     "output_type": "stream",
     "text": [
      "Enter a date (YYYY-MM-DD):  2025-02-11\n"
     ]
    },
    {
     "name": "stdout",
     "output_type": "stream",
     "text": [
      "The day of the week is: Tuesday\n"
     ]
    }
   ],
   "source": [
    "# Convert a User’s Input (2025-12-31) into a Weekday Name (Wednesday)\n",
    "import datetime\n",
    "\n",
    "# User input as a string\n",
    "date_string = input(\"Enter a date (YYYY-MM-DD): \")\n",
    "\n",
    "# Convert the string to a datetime object\n",
    "date_object = datetime.datetime.strptime(date_string, \"%Y-%m-%d\")\n",
    "\n",
    "# Get the weekday name\n",
    "weekday_name = date_object.strftime(\"%A\")\n",
    "\n",
    "print(f\"The day of the week is: {weekday_name}\")\n"
   ]
  },
  {
   "cell_type": "code",
   "execution_count": 104,
   "id": "42f39599-d4cd-4f18-8466-80792918d251",
   "metadata": {},
   "outputs": [
    {
     "name": "stdin",
     "output_type": "stream",
     "text": [
      "Enter your birthdate (YYYY-MM-DD):  1995-12-01\n"
     ]
    },
    {
     "name": "stdout",
     "output_type": "stream",
     "text": [
      "You are 29 years old.\n"
     ]
    }
   ],
   "source": [
    "# Calculate a Person’s Age from Their Birthdate\n",
    "import datetime\n",
    "\n",
    "# Input birthdate (e.g., \"1995-05-15\")\n",
    "birthdate_str = input(\"Enter your birthdate (YYYY-MM-DD): \")\n",
    "\n",
    "# Convert input string to datetime object\n",
    "birthdate = datetime.datetime.strptime(birthdate_str, \"%Y-%m-%d\")\n",
    "\n",
    "# Get today's date\n",
    "today = datetime.date.today()\n",
    "\n",
    "# Calculate age\n",
    "age = today.year - birthdate.year - ((today.month, today.day) < (birthdate.month, birthdate.day))\n",
    "\n",
    "print(f\"You are {age} years old.\")"
   ]
  },
  {
   "cell_type": "code",
   "execution_count": null,
   "id": "a71e0972-de54-4d65-9bdc-0e228b83b9d7",
   "metadata": {},
   "outputs": [],
   "source": []
  }
 ],
 "metadata": {
  "kernelspec": {
   "display_name": "Python 3 (ipykernel)",
   "language": "python",
   "name": "python3"
  },
  "language_info": {
   "codemirror_mode": {
    "name": "ipython",
    "version": 3
   },
   "file_extension": ".py",
   "mimetype": "text/x-python",
   "name": "python",
   "nbconvert_exporter": "python",
   "pygments_lexer": "ipython3",
   "version": "3.12.7"
  }
 },
 "nbformat": 4,
 "nbformat_minor": 5
}
