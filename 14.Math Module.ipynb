{
 "cells": [
  {
   "cell_type": "code",
   "execution_count": null,
   "id": "3a9d12c0-a38e-47c7-898f-f4bf1b83421c",
   "metadata": {},
   "outputs": [],
   "source": [
    "#  Beginner Python → math, random, os, datetime, sys, time\n",
    "# 📌 Automation & Scripting → subprocess, threading, pyautogui, shutil\n",
    "# 📌 Data Science & ML → numpy, pandas, matplotlib, seaborn, scikit-learn\n",
    "# 📌 Web Development → flask, django, requests, beautifulsoup4\n",
    "# 📌 Cybersecurity → hashlib, cryptography, scapy\n",
    "# 📌 Game Development → pygame, arcade, pyglet"
   ]
  },
  {
   "cell_type": "code",
   "execution_count": null,
   "id": "17168e56-c46f-421e-868d-e839ac06ac28",
   "metadata": {},
   "outputs": [],
   "source": [
    "# Constant\tDescription\tValue\n",
    "# math.pi\tValue of π (pi)\t3.141592653589793\n",
    "# math.e\tEuler's number\t2.718281828459045\n",
    "# math.tau\tTau (τ), which is 2 * pi\t6.283185307179586\n",
    "# math.inf\tPositive infinity\t∞\n",
    "# math.nan\tNot-a-Number (NaN)\tNaN"
   ]
  },
  {
   "cell_type": "code",
   "execution_count": 2,
   "id": "ea972029-db9b-4c70-8dd0-d90146d2ff8d",
   "metadata": {},
   "outputs": [
    {
     "name": "stdout",
     "output_type": "stream",
     "text": [
      "3.141592653589793\n",
      "2.718281828459045\n",
      "inf\n",
      "nan\n"
     ]
    }
   ],
   "source": [
    "import math\n",
    "#Mathematical Constants\n",
    "print(math.pi)   # Output: 3.141592653589793\n",
    "print(math.e)    # Output: 2.718281828459045\n",
    "print(math.inf)  # Output: inf\n",
    "print(math.nan)  # Output: nan"
   ]
  },
  {
   "cell_type": "code",
   "execution_count": 6,
   "id": "92d794d0-eb21-464b-a57d-2cf23697946a",
   "metadata": {},
   "outputs": [],
   "source": [
    "# Function\tDescription\n",
    "# math.ceil(x)\tRounds x up to the nearest integer\n",
    "# math.floor(x)\tRounds x down to the nearest integer\n",
    "# math.trunc(x)\tRemoves the decimal part, keeping only the integer"
   ]
  },
  {
   "cell_type": "code",
   "execution_count": 4,
   "id": "fc714e1c-2d84-4982-b493-f6cbaaaeb2cf",
   "metadata": {},
   "outputs": [
    {
     "name": "stdout",
     "output_type": "stream",
     "text": [
      "5\n",
      "4\n",
      "-4\n"
     ]
    }
   ],
   "source": [
    "# Rounding Functions\n",
    "print(math.ceil(4.2))   # Output: 5\n",
    "print(math.floor(4.8))  # Output: 4\n",
    "print(math.trunc(-4.9)) # Output: -4"
   ]
  },
  {
   "cell_type": "code",
   "execution_count": 14,
   "id": "d842114a-9f39-4185-81b7-d0f5627897fb",
   "metadata": {},
   "outputs": [],
   "source": [
    "# # Power and Logarithm Functions\n",
    "# math.pow(x, y)\tReturns x raised to the power y (x^y)\n",
    "# math.sqrt(x)\tReturns the square root of x\n",
    "# math.exp(x)\tReturns e^x (exponential function)\n",
    "# math.log(x, base)\tReturns the logarithm of x to the given base (default: natural log)\n",
    "# math.log2(x)\tReturns the base-2 logarithm of x\n",
    "# math.log10(x)\tReturns the base-10 logarithm of x"
   ]
  },
  {
   "cell_type": "code",
   "execution_count": 6,
   "id": "4d66308d-0700-4ea8-82a0-b4618c8f2471",
   "metadata": {},
   "outputs": [
    {
     "name": "stdout",
     "output_type": "stream",
     "text": [
      "8.0\n",
      "4.0\n",
      "7.38905609893065\n",
      "3.0\n",
      "2.0\n",
      "3.0\n"
     ]
    }
   ],
   "source": [
    "print(math.pow(2, 3))    # Output: 8.0\n",
    "print(math.sqrt(16))     # Output: 4.0\n",
    "print(math.exp(2))       # Output: 7.38905609893065\n",
    "print(math.log(8, 2))    # Output: 3.0\n",
    "print(math.log10(100))   # Output: 2.0\n",
    "print(math.log2(8))      # Output: 3.0"
   ]
  },
  {
   "cell_type": "code",
   "execution_count": 18,
   "id": "2f033cbf-8acb-46b6-9906-be58bfa4e3d7",
   "metadata": {},
   "outputs": [],
   "source": [
    "# # Trigonometric Functions\n",
    "# math.sin(x)\tReturns the sine of x (in radians)\n",
    "# math.cos(x)\tReturns the cosine of x (in radians)\n",
    "# math.tan(x)\tReturns the tangent of x (in radians)\n",
    "# math.asin(x)\tReturns the arcsine of x, in radians\n",
    "# math.acos(x)\tReturns the arccosine of x, in radians\n",
    "# math.atan(x)\tReturns the arctangent of x, in radians"
   ]
  },
  {
   "cell_type": "code",
   "execution_count": 20,
   "id": "a5e81192-1b7a-4270-8d30-a41bb6d2770c",
   "metadata": {},
   "outputs": [
    {
     "name": "stdout",
     "output_type": "stream",
     "text": [
      "1.0\n",
      "1.0\n",
      "0.9999999999999999\n",
      "1.5707963267948966\n",
      "1.5707963267948966\n",
      "0.7853981633974483\n"
     ]
    }
   ],
   "source": [
    "print(math.sin(math.pi/2))  # Output: 1.0\n",
    "print(math.cos(0))          # Output: 1.0\n",
    "print(math.tan(math.pi/4))  # Output: 1.0\n",
    "print(math.asin(1))         # Output: 1.5707963267948966 (pi/2)\n",
    "print(math.acos(0))         # Output: 1.5707963267948966 (pi/2)\n",
    "print(math.atan(1))         # Output: 0.7853981633974483 (pi/4)"
   ]
  },
  {
   "cell_type": "code",
   "execution_count": 22,
   "id": "4491cf3b-1116-4927-b346-e9ebf0945f4a",
   "metadata": {},
   "outputs": [],
   "source": [
    "# # conversion\n",
    "# math.degrees(x)\tConverts radians to degrees\n",
    "# math.radians(x)\tConverts degrees to radians"
   ]
  },
  {
   "cell_type": "code",
   "execution_count": 24,
   "id": "1e7ed333-91a2-4043-b0c8-02d24e1358ca",
   "metadata": {},
   "outputs": [
    {
     "name": "stdout",
     "output_type": "stream",
     "text": [
      "180.0\n",
      "3.141592653589793\n"
     ]
    }
   ],
   "source": [
    "print(math.degrees(math.pi))  # Output: 180.0\n",
    "print(math.radians(180))      # Output: 3.141592653589793\n"
   ]
  },
  {
   "cell_type": "code",
   "execution_count": 26,
   "id": "76b77cb0-1b9a-4767-a35a-8505bedf4765",
   "metadata": {},
   "outputs": [],
   "source": [
    "# # Factorial and Combinations\n",
    "# math.factorial(n)\tReturns the factorial of n\n",
    "# math.comb(n, k)\tReturns the number of combinations (n choose k)\n",
    "# math.perm(n, k)\tReturns the number of permutations (n permute k)"
   ]
  },
  {
   "cell_type": "code",
   "execution_count": 8,
   "id": "cd089804-705b-42e0-8d98-457d3d8ba0bd",
   "metadata": {},
   "outputs": [
    {
     "name": "stdout",
     "output_type": "stream",
     "text": [
      "120\n",
      "10\n",
      "20\n"
     ]
    }
   ],
   "source": [
    "print(math.factorial(5))    # Output: 120 (5! = 5×4×3×2×1)\n",
    "print(math.comb(5, 2))      # Output: 10 (5C2 = 5! / (2!(5-2)!))\n",
    "print(math.perm(5, 2))      # Output: 20 (5P2 = 5! / (5-2)!)"
   ]
  },
  {
   "cell_type": "code",
   "execution_count": 30,
   "id": "4ed76837-efcf-434c-be37-655e0986d3c9",
   "metadata": {},
   "outputs": [],
   "source": [
    "# Greatest Common Divisor (GCD) and Least Common Multiple (LCM)\n",
    "# math.gcd(a, b)\tReturns the greatest common divisor of a and b\n",
    "# math.lcm(a, b)\tReturns the least common multiple of a and b"
   ]
  },
  {
   "cell_type": "code",
   "execution_count": 10,
   "id": "31c5ded3-ac91-47f7-92b6-e3709aa8819e",
   "metadata": {},
   "outputs": [
    {
     "name": "stdout",
     "output_type": "stream",
     "text": [
      "12\n",
      "12\n"
     ]
    }
   ],
   "source": [
    "print(math.gcd(24, 36))  # Output: 12\n",
    "print(math.lcm(4, 6))    # Output: 12"
   ]
  },
  {
   "cell_type": "code",
   "execution_count": 12,
   "id": "76bbef37-090e-453e-a3fe-cdde54f1ff8a",
   "metadata": {},
   "outputs": [],
   "source": [
    "# # Special Functions\n",
    "# math.isfinite(x)\tReturns True if x is finite (not infinity or NaN)\n",
    "# math.isinf(x)\tReturns True if x is infinity\n",
    "# math.isnan(x)\tReturns True if x is NaN (Not a Number)"
   ]
  },
  {
   "cell_type": "code",
   "execution_count": 36,
   "id": "c4755394-9713-469d-854c-1ed634dd22a9",
   "metadata": {},
   "outputs": [
    {
     "name": "stdout",
     "output_type": "stream",
     "text": [
      "True\n",
      "True\n",
      "True\n"
     ]
    }
   ],
   "source": [
    "print(math.isfinite(100))   # Output: True\n",
    "print(math.isinf(math.inf)) # Output: True\n",
    "print(math.isnan(math.nan)) # Output: True\n"
   ]
  },
  {
   "cell_type": "code",
   "execution_count": 38,
   "id": "d02adde7-6b73-4506-a81b-bfea9bbe6ee2",
   "metadata": {},
   "outputs": [],
   "source": [
    "# # Hyperbolic Functions\n",
    "# math.sinh(x)\tReturns the hyperbolic sine of x\n",
    "# math.cosh(x)\tReturns the hyperbolic cosine of x\n",
    "# math.tanh(x)\tReturns the hyperbolic tangent of x"
   ]
  },
  {
   "cell_type": "code",
   "execution_count": 40,
   "id": "20750501-5be8-4376-8c81-df6353531a58",
   "metadata": {},
   "outputs": [
    {
     "name": "stdout",
     "output_type": "stream",
     "text": [
      "1.1752011936438014\n",
      "1.5430806348152437\n",
      "0.7615941559557649\n"
     ]
    }
   ],
   "source": [
    "print(math.sinh(1))  # Output: 1.1752011936438014\n",
    "print(math.cosh(1))  # Output: 1.5430806348152437\n",
    "print(math.tanh(1))  # Output: 0.7615941559557649\n"
   ]
  },
  {
   "cell_type": "code",
   "execution_count": 42,
   "id": "cde176fd-192b-4c8e-bd2f-615942e00fba",
   "metadata": {},
   "outputs": [],
   "source": [
    "# Problem: Write a Python function that takes the radius of a circle as input and returns its circumference and area using the math module."
   ]
  },
  {
   "cell_type": "code",
   "execution_count": 44,
   "id": "dc70c5df-1e03-4230-a746-3249e754691c",
   "metadata": {},
   "outputs": [
    {
     "name": "stdin",
     "output_type": "stream",
     "text": [
      "Enter the radius:  5\n"
     ]
    },
    {
     "name": "stdout",
     "output_type": "stream",
     "text": [
      "Circumference: 31.41592653589793, Area: 78.53981633974483\n"
     ]
    }
   ],
   "source": [
    "import math\n",
    "\n",
    "def circle_properties(radius):\n",
    "    circumference = 2 * math.pi * radius\n",
    "    area = math.pi * math.pow(radius, 2)\n",
    "    return circumference, area\n",
    "\n",
    "radius = float(input(\"Enter the radius: \"))\n",
    "c, a = circle_properties(radius)\n",
    "print(f\"Circumference: {c}, Area: {a}\")\n"
   ]
  },
  {
   "cell_type": "code",
   "execution_count": 46,
   "id": "6a405392-ca5c-43e7-9dc6-adad730021c8",
   "metadata": {},
   "outputs": [],
   "source": [
    "# # Pythagorean Theorem\n",
    "# Problem: Given the lengths of two sides of a right-angled triangle, calculate the hypotenuse.\n"
   ]
  },
  {
   "cell_type": "code",
   "execution_count": 48,
   "id": "8693e10e-39b3-4f1d-adc2-eaa86ca38f8c",
   "metadata": {},
   "outputs": [
    {
     "name": "stdin",
     "output_type": "stream",
     "text": [
      "Enter side a:  5\n",
      "Enter side b:  7\n"
     ]
    },
    {
     "name": "stdout",
     "output_type": "stream",
     "text": [
      "Hypotenuse: 8.602325267042627\n"
     ]
    }
   ],
   "source": [
    "def hypotenuse(a, b):\n",
    "    return mf(math.pow(a, 2) + math.pow(b, 2))\n",
    "\n",
    "a = float(input(\"Enter side a: \"))\n",
    "b = float(input(\"Enter side b: \"))\n",
    "print(\"Hypotenuse:\", hypotenuse(a, b))\n"
   ]
  },
  {
   "cell_type": "code",
   "execution_count": 50,
   "id": "086e9b1c-9263-4cd7-8f95-d798023eef24",
   "metadata": {},
   "outputs": [],
   "source": [
    "# Problem: Write a function that takes a number and its base, then returns the logarithm of the number."
   ]
  },
  {
   "cell_type": "code",
   "execution_count": 54,
   "id": "2a88aa04-479a-429e-b4ce-8a1785db9af0",
   "metadata": {},
   "outputs": [
    {
     "name": "stdin",
     "output_type": "stream",
     "text": [
      "Enter the number:  10\n",
      "Enter the base:  10\n"
     ]
    },
    {
     "name": "stdout",
     "output_type": "stream",
     "text": [
      "Logarithm of 10.0 with base 10.0 is: 1.0\n"
     ]
    }
   ],
   "source": [
    "def log_value(num, base):\n",
    "    return math.log(num, base)\n",
    "\n",
    "num = float(input(\"Enter the number: \"))\n",
    "base = float(input(\"Enter the base: \"))\n",
    "print(f\"Logarithm of {num} with base {base} is: {log_value(num, base)}\")\n"
   ]
  },
  {
   "cell_type": "code",
   "execution_count": 56,
   "id": "87671113-45fa-4f39-be6d-25c0ee4ebf67",
   "metadata": {},
   "outputs": [],
   "source": [
    "# Problem: Convert degrees to radians and vice versa."
   ]
  },
  {
   "cell_type": "code",
   "execution_count": 22,
   "id": "8f8bac80-1012-4b76-9b86-24108aa8c939",
   "metadata": {},
   "outputs": [
    {
     "name": "stdin",
     "output_type": "stream",
     "text": [
      "Enter the value:  180\n",
      "Convert to 'radians' or 'degrees'?  radians\n"
     ]
    },
    {
     "name": "stdout",
     "output_type": "stream",
     "text": [
      "3.141592653589793\n"
     ]
    }
   ],
   "source": [
    "def convert_angle(value, mode):\n",
    "    if mode == \"radians\":\n",
    "        return math.radians(value)\n",
    "    elif mode == \"degrees\":\n",
    "        return math.degrees(value)\n",
    "    else:\n",
    "        return \"Invalid mode\"\n",
    "\n",
    "value = float(input(\"Enter the value: \"))\n",
    "mode = input(\"Convert to 'radians' or 'degrees'? \").strip().lower()\n",
    "print(convert_angle(value, mode))"
   ]
  },
  {
   "cell_type": "code",
   "execution_count": 62,
   "id": "cb3537b2-8411-448e-87e5-6a6d2affe178",
   "metadata": {},
   "outputs": [],
   "source": [
    " # Find the factorial of a given number"
   ]
  },
  {
   "cell_type": "code",
   "execution_count": 64,
   "id": "364db8a3-792b-4f13-b0bb-9d1c567cfb05",
   "metadata": {},
   "outputs": [
    {
     "name": "stdin",
     "output_type": "stream",
     "text": [
      "Enter a number:  5\n"
     ]
    },
    {
     "name": "stdout",
     "output_type": "stream",
     "text": [
      "Factorial: 120\n"
     ]
    }
   ],
   "source": [
    "def factorial(n):\n",
    "    return math.factorial(n)\n",
    "\n",
    "n = int(input(\"Enter a number: \"))\n",
    "print(\"Factorial:\", factorial(n))\n"
   ]
  },
  {
   "cell_type": "markdown",
   "id": "c68a2f3c-3fd1-480e-b4ea-fb55193e8c54",
   "metadata": {},
   "source": [
    "# Scientific Calculator"
   ]
  },
  {
   "cell_type": "code",
   "execution_count": 24,
   "id": "42c7398d-2cf7-45f5-91af-b59b74c964b1",
   "metadata": {},
   "outputs": [
    {
     "name": "stdout",
     "output_type": "stream",
     "text": [
      "\n",
      "📌 Mini Scientific Calculator\n",
      "1. Square Root\n",
      "2. Logarithm (Base 10)\n",
      "3. Natural Log (ln)\n",
      "4. Trigonometric Functions (sin, cos, tan)\n",
      "5. Factorial\n",
      "6. Convert Degrees to Radians\n",
      "7. Convert Radians to Degrees\n",
      "8. Exit\n"
     ]
    },
    {
     "name": "stdin",
     "output_type": "stream",
     "text": [
      "Choose an option (1-8):  1\n",
      "Enter a number:  48\n"
     ]
    },
    {
     "name": "stdout",
     "output_type": "stream",
     "text": [
      "Square Root: 6.928203230275509\n",
      "\n",
      "📌 Mini Scientific Calculator\n",
      "1. Square Root\n",
      "2. Logarithm (Base 10)\n",
      "3. Natural Log (ln)\n",
      "4. Trigonometric Functions (sin, cos, tan)\n",
      "5. Factorial\n",
      "6. Convert Degrees to Radians\n",
      "7. Convert Radians to Degrees\n",
      "8. Exit\n"
     ]
    },
    {
     "name": "stdin",
     "output_type": "stream",
     "text": [
      "Choose an option (1-8):  5\n",
      "Enter an integer:  6\n"
     ]
    },
    {
     "name": "stdout",
     "output_type": "stream",
     "text": [
      "6! = 720\n",
      "\n",
      "📌 Mini Scientific Calculator\n",
      "1. Square Root\n",
      "2. Logarithm (Base 10)\n",
      "3. Natural Log (ln)\n",
      "4. Trigonometric Functions (sin, cos, tan)\n",
      "5. Factorial\n",
      "6. Convert Degrees to Radians\n",
      "7. Convert Radians to Degrees\n",
      "8. Exit\n"
     ]
    },
    {
     "name": "stdin",
     "output_type": "stream",
     "text": [
      "Choose an option (1-8):  9\n"
     ]
    },
    {
     "name": "stdout",
     "output_type": "stream",
     "text": [
      "Invalid choice! Please select a valid option.\n",
      "\n",
      "📌 Mini Scientific Calculator\n",
      "1. Square Root\n",
      "2. Logarithm (Base 10)\n",
      "3. Natural Log (ln)\n",
      "4. Trigonometric Functions (sin, cos, tan)\n",
      "5. Factorial\n",
      "6. Convert Degrees to Radians\n",
      "7. Convert Radians to Degrees\n",
      "8. Exit\n"
     ]
    },
    {
     "name": "stdin",
     "output_type": "stream",
     "text": [
      "Choose an option (1-8):  8\n"
     ]
    },
    {
     "name": "stdout",
     "output_type": "stream",
     "text": [
      "Exiting... Have a great day! 🚀\n"
     ]
    }
   ],
   "source": [
    "import math\n",
    "\n",
    "def scientific_calculator():\n",
    "    while True:\n",
    "        print(\"\\n📌 Mini Scientific Calculator\")\n",
    "        print(\"1. Square Root\")\n",
    "        print(\"2. Logarithm (Base 10)\")\n",
    "        print(\"3. Natural Log (ln)\")\n",
    "        print(\"4. Trigonometric Functions (sin, cos, tan)\")\n",
    "        print(\"5. Factorial\")\n",
    "        print(\"6. Convert Degrees to Radians\")\n",
    "        print(\"7. Convert Radians to Degrees\")\n",
    "        print(\"8. Exit\")\n",
    "        \n",
    "        choice = input(\"Choose an option (1-8): \")\n",
    "\n",
    "        if choice == '1':  # Square Root\n",
    "            num = float(input(\"Enter a number: \"))\n",
    "            print(f\"Square Root: {math.sqrt(num)}\")\n",
    "\n",
    "        elif choice == '2':  # Logarithm (Base 10)\n",
    "            num = float(input(\"Enter a number: \"))\n",
    "            print(f\"log10({num}) = {math.log10(num)}\")\n",
    "\n",
    "        elif choice == '3':  # Natural Log (ln)\n",
    "            num = float(input(\"Enter a number: \"))\n",
    "            print(f\"ln({num}) = {math.log(num)}\")\n",
    "\n",
    "        elif choice == '4':  # Trigonometric Functions\n",
    "            angle = float(input(\"Enter angle in degrees: \"))\n",
    "            rad = math.radians(angle)\n",
    "            print(f\"sin({angle}) = {math.sin(rad)}\")\n",
    "            print(f\"cos({angle}) = {math.cos(rad)}\")\n",
    "            print(f\"tan({angle}) = {math.tan(rad)}\")\n",
    "\n",
    "        elif choice == '5':  # Factorial\n",
    "            num = int(input(\"Enter an integer: \"))\n",
    "            print(f\"{num}! = {math.factorial(num)}\")\n",
    "\n",
    "        elif choice == '6':  # Degrees to Radians\n",
    "            degrees = float(input(\"Enter degrees: \"))\n",
    "            print(f\"{degrees}° = {math.radians(degrees)} radians\")\n",
    "\n",
    "        elif choice == '7':  # Radians to Degrees\n",
    "            radians = float(input(\"Enter radians: \"))\n",
    "            print(f\"{radians} radians = {math.degrees(radians)}°\")\n",
    "\n",
    "        elif choice == '8':  # Exit\n",
    "            print(\"Exiting... Have a great day! 🚀\")\n",
    "            break\n",
    "\n",
    "        else:\n",
    "            print(\"Invalid choice! Please select a valid option.\")\n",
    "\n",
    "# Run the calculator\n",
    "scientific_calculator()\n"
   ]
  },
  {
   "cell_type": "code",
   "execution_count": null,
   "id": "d480ba54-05c8-4632-8589-bea59affc607",
   "metadata": {},
   "outputs": [],
   "source": []
  }
 ],
 "metadata": {
  "kernelspec": {
   "display_name": "Python 3 (ipykernel)",
   "language": "python",
   "name": "python3"
  },
  "language_info": {
   "codemirror_mode": {
    "name": "ipython",
    "version": 3
   },
   "file_extension": ".py",
   "mimetype": "text/x-python",
   "name": "python",
   "nbconvert_exporter": "python",
   "pygments_lexer": "ipython3",
   "version": "3.12.7"
  }
 },
 "nbformat": 4,
 "nbformat_minor": 5
}
