{
 "cells": [
  {
   "cell_type": "code",
   "execution_count": 18,
   "id": "caf2e8e5-e002-43b6-a165-6ff5d4790ab2",
   "metadata": {},
   "outputs": [
    {
     "name": "stdout",
     "output_type": "stream",
     "text": [
      "1\n",
      "2\n",
      "3\n",
      "4\n",
      "5\n"
     ]
    }
   ],
   "source": [
    "# loops - while loop, for loop\n",
    "num = 1            # initializer\\n\",\n",
    "while num <= 5:    # while loop condition\\n\",\n",
    "    print(num)\n",
    "    num = num + 1  # increment operator\""
   ]
  },
  {
   "cell_type": "code",
   "execution_count": 4,
   "id": "f1e24b59-70b8-4541-8fc6-758f8e1528cc",
   "metadata": {},
   "outputs": [
    {
     "name": "stdin",
     "output_type": "stream",
     "text": [
      "Enter the number:  23\n"
     ]
    },
    {
     "name": "stdout",
     "output_type": "stream",
     "text": [
      "1\n",
      "3\n",
      "5\n",
      "7\n",
      "9\n",
      "11\n",
      "13\n",
      "15\n",
      "17\n",
      "19\n",
      "21\n",
      "23\n"
     ]
    }
   ],
   "source": [
    "# take input from user and print all the alternate numbers from 1 till input\\n\",\n",
    "number = int(input(\"Enter the number: \"))\n",
    "i = 1\n",
    "while i <= number:\n",
    "    print(i)\n",
    "    i+=2\n"
   ]
  },
  {
   "cell_type": "code",
   "execution_count": 6,
   "id": "cf9f7c76-8a4d-4a79-b795-718a4f2b8022",
   "metadata": {},
   "outputs": [
    {
     "name": "stdin",
     "output_type": "stream",
     "text": [
      "Enter the start number:  10\n",
      "Enter the end number:  50\n"
     ]
    },
    {
     "name": "stdout",
     "output_type": "stream",
     "text": [
      "10\n",
      "13\n",
      "16\n",
      "19\n",
      "22\n",
      "25\n",
      "28\n",
      "31\n",
      "34\n",
      "37\n",
      "40\n",
      "43\n",
      "46\n",
      "49\n"
     ]
    }
   ],
   "source": [
    "# take input from user for start and end values and print every third number\\n\",\n",
    "start = int(input(\"Enter the start number: \"))\n",
    "end = int(input(\"Enter the end number: \"))\n",
    "while start<=end:\n",
    "    print(start)\n",
    "    start+=3\n"
   ]
  },
  {
   "cell_type": "code",
   "execution_count": 8,
   "id": "f2427dfb-747a-44fc-b9fa-49e6369678ee",
   "metadata": {},
   "outputs": [
    {
     "name": "stdin",
     "output_type": "stream",
     "text": [
      "Enter the start number:  3\n",
      "Enter the end number:  30\n"
     ]
    },
    {
     "name": "stdout",
     "output_type": "stream",
     "text": [
      "4\n",
      "6\n",
      "8\n",
      "10\n",
      "12\n",
      "14\n",
      "16\n",
      "18\n",
      "20\n",
      "22\n",
      "24\n",
      "26\n",
      "28\n",
      "30\n"
     ]
    }
   ],
   "source": [
    "# Take an input from the user for start and end values. print all even numbers between them\n",
    "start = int(input(\"Enter the start number: \"))\n",
    "end = int(input(\"Enter the end number: \"))\n",
    "while start<=end:\n",
    "    if start%2 == 0:\n",
    "        print(start)\n",
    "    start+=1"
   ]
  },
  {
   "cell_type": "code",
   "execution_count": 5,
   "id": "a2682171-fbc4-4379-a298-c6533c45d9f5",
   "metadata": {},
   "outputs": [
    {
     "name": "stdin",
     "output_type": "stream",
     "text": [
      "Enter the start number:  4\n",
      "Enter the end number:  40\n"
     ]
    },
    {
     "name": "stdout",
     "output_type": "stream",
     "text": [
      "4\n",
      "6\n",
      "8\n",
      "10\n",
      "12\n",
      "14\n",
      "16\n",
      "18\n",
      "20\n",
      "22\n",
      "24\n",
      "26\n",
      "28\n",
      "30\n",
      "32\n",
      "34\n",
      "36\n",
      "38\n",
      "40\n"
     ]
    }
   ],
   "source": [
    "#if the number is even, start from number\n",
    "# if the number is odd, start from number+1\n",
    "# print the number\n",
    "# then increment by 2\n",
    "\n",
    "start = int(input(\"Enter the start number: \"))\n",
    "end = int(input(\"Enter the end number: \"))\n",
    "\n",
    "if start%2 == 0:\n",
    "    i = start\n",
    "else:\n",
    "    i = start + 1\n",
    "while i <= end:\n",
    "    print(i)\n",
    "    i = i + 2"
   ]
  },
  {
   "cell_type": "code",
   "execution_count": 6,
   "id": "747aec05-22c2-495c-b314-fde78e22cf67",
   "metadata": {},
   "outputs": [
    {
     "name": "stdin",
     "output_type": "stream",
     "text": [
      "Enter the start number:  1\n",
      "Enter the end number:  6\n"
     ]
    },
    {
     "name": "stdout",
     "output_type": "stream",
     "text": [
      "2\n",
      "4\n",
      "6\n"
     ]
    }
   ],
   "source": [
    "a = int(input(\"Enter the start number: \"))\n",
    "b = int(input(\"Enter the end number: \"))\n",
    "\n",
    "while a <= b:\n",
    "    if a%2 == 0:\n",
    "        print(a)\n",
    "    a+=1"
   ]
  },
  {
   "cell_type": "code",
   "execution_count": 7,
   "id": "2937d684-8baf-464f-9e33-1f87639ea635",
   "metadata": {},
   "outputs": [
    {
     "name": "stdout",
     "output_type": "stream",
     "text": [
      "1\n",
      "2\n",
      "Fizz\n",
      "4\n",
      "buzz\n",
      "Fizz\n",
      "7\n",
      "8\n",
      "Fizz\n",
      "buzz\n",
      "11\n",
      "Fizz\n",
      "13\n",
      "14\n",
      "Fizzbuzz\n",
      "16\n",
      "17\n",
      "Fizz\n",
      "19\n",
      "buzz\n"
     ]
    }
   ],
   "source": [
    "x = 1\n",
    "while x <= 20:\n",
    "    if x%3 ==0 and x%5 ==0:\n",
    "        print('Fizzbuzz')\n",
    "    elif x%3 == 0:\n",
    "        print('Fizz')\n",
    "    elif x%5 == 0:\n",
    "        print('buzz')\n",
    "    else:\n",
    "        print(x)\n",
    "    x+=1"
   ]
  },
  {
   "cell_type": "code",
   "execution_count": 8,
   "id": "984c57bf-317d-45d8-9eea-0cfce391f3a2",
   "metadata": {},
   "outputs": [
    {
     "name": "stdout",
     "output_type": "stream",
     "text": [
      "1 2 3 4 5 "
     ]
    }
   ],
   "source": [
    "num = 1 #initializer\n",
    "while num<=5:\n",
    "    print(num,end = ' ')\n",
    "    num = num + 1"
   ]
  },
  {
   "cell_type": "code",
   "execution_count": 9,
   "id": "bb22e370-5675-49b4-b976-5aaeab813704",
   "metadata": {},
   "outputs": [
    {
     "name": "stdout",
     "output_type": "stream",
     "text": [
      "1\n",
      "2\n",
      "3\n",
      "4\n",
      "5\n"
     ]
    }
   ],
   "source": [
    "num = 1 #initializer\n",
    "while num<=5:\n",
    "    print(num,end = '\\n')\n",
    "    num = num + 1"
   ]
  },
  {
   "cell_type": "code",
   "execution_count": 10,
   "id": "50b4fccf-5f4a-44ac-a02e-46f4a367ded4",
   "metadata": {},
   "outputs": [
    {
     "name": "stdout",
     "output_type": "stream",
     "text": [
      "1\t2\t3\t4\t5\t"
     ]
    }
   ],
   "source": [
    "num = 1 #initializer\n",
    "while num<=5:\n",
    "    print(num,end = '\\t')\n",
    "    num = num + 1"
   ]
  },
  {
   "cell_type": "code",
   "execution_count": 30,
   "id": "b5e1b3ec-61c8-4c46-bd3d-533085c2c640",
   "metadata": {},
   "outputs": [
    {
     "name": "stdout",
     "output_type": "stream",
     "text": [
      "my_name_is_pavan\n"
     ]
    }
   ],
   "source": [
    "print('my','name','is','pavan',sep = '_')"
   ]
  },
  {
   "cell_type": "code",
   "execution_count": 12,
   "id": "f79af208-a9d8-4003-9475-4e0bfed9059d",
   "metadata": {},
   "outputs": [],
   "source": [
    "# Suppose you wish to see the multiplication table of few different numbers\n",
    "# take the count of test cases from the user\n",
    "# take the numbers whose multiplication table you want\n",
    "# print multiplication table for all these numbers\n"
   ]
  },
  {
   "cell_type": "code",
   "execution_count": 34,
   "id": "a6d34a36-f75f-433a-9a52-46d35034738b",
   "metadata": {},
   "outputs": [
    {
     "name": "stdin",
     "output_type": "stream",
     "text": [
      "Enter the number of test cases:  1\n",
      "Please enter the number:  12246689\n"
     ]
    },
    {
     "name": "stdout",
     "output_type": "stream",
     "text": [
      "Printing multiplication table of  12246689\n",
      "12246689 24493378 36740067 48986756 61233445 73480134 85726823 97973512 110220201 122466890 \n",
      "\n"
     ]
    }
   ],
   "source": [
    "test_cases = int(input(\"Enter the number of test cases: \")) #2\n",
    "t = 1\n",
    "while t <= test_cases: ## 1<=2, 2<=2\n",
    "    number = int(input(\"Please enter the number: \")) #5,7\n",
    "    i = 1\n",
    "    print(\"Printing multiplication table of \", number) #5,7\n",
    "    while i <= 10:\n",
    "        print(number*i, end = ' ') #5*1, 5*2\n",
    "        i += 1\n",
    "    print('\\n')\n",
    "    t += 1q"
   ]
  },
  {
   "cell_type": "code",
   "execution_count": 34,
   "id": "16da9c43-cfa6-4ac8-adb0-a8cbddea93c7",
   "metadata": {},
   "outputs": [],
   "source": [
    "# initializer = 1\n",
    "# while condition\n",
    "# do something\n",
    "# increment initializer"
   ]
  },
  {
   "cell_type": "code",
   "execution_count": 36,
   "id": "7e55e055-f2c7-497f-9082-548019d6528c",
   "metadata": {},
   "outputs": [
    {
     "data": {
      "text/plain": [
       "range(0, 5)"
      ]
     },
     "execution_count": 36,
     "metadata": {},
     "output_type": "execute_result"
    }
   ],
   "source": [
    "range(5)"
   ]
  },
  {
   "cell_type": "code",
   "execution_count": 38,
   "id": "edfc99ad-b068-4a25-a6df-a163e321bc9a",
   "metadata": {},
   "outputs": [
    {
     "name": "stdout",
     "output_type": "stream",
     "text": [
      "[0, 1, 2, 3, 4]\n"
     ]
    }
   ],
   "source": [
    "print(list(range(0,5)))"
   ]
  },
  {
   "cell_type": "code",
   "execution_count": 40,
   "id": "6ae98df8-0c58-4019-ad11-1b4e1460ea51",
   "metadata": {},
   "outputs": [
    {
     "name": "stdout",
     "output_type": "stream",
     "text": [
      "[2, 3, 4, 5, 6, 7, 8, 9]\n"
     ]
    }
   ],
   "source": [
    "print(list(range(2,10)))"
   ]
  },
  {
   "cell_type": "code",
   "execution_count": 42,
   "id": "9c7808bc-2ebb-4cf4-b253-f31f3522ee24",
   "metadata": {},
   "outputs": [
    {
     "name": "stdout",
     "output_type": "stream",
     "text": [
      "[-1, 0, 1, 2]\n"
     ]
    }
   ],
   "source": [
    "print(list(range(-1,3)))"
   ]
  },
  {
   "cell_type": "code",
   "execution_count": 46,
   "id": "2e030792-5aaa-4377-b715-c72fbf3d4814",
   "metadata": {},
   "outputs": [
    {
     "name": "stdout",
     "output_type": "stream",
     "text": [
      "[-9, -8, -7, -6, -5, -4, -3, -2]\n"
     ]
    }
   ],
   "source": [
    "print(list(range(-9,-1)))"
   ]
  },
  {
   "cell_type": "code",
   "execution_count": 48,
   "id": "f665ce0e-a10e-4123-b575-32aeeb3d9067",
   "metadata": {},
   "outputs": [
    {
     "name": "stdout",
     "output_type": "stream",
     "text": [
      "[]\n"
     ]
    }
   ],
   "source": [
    "print(list(range(-1,-9)))"
   ]
  },
  {
   "cell_type": "code",
   "execution_count": 50,
   "id": "6bd39935-e6ea-4d5e-b9eb-d32a547ff5dd",
   "metadata": {},
   "outputs": [
    {
     "name": "stdout",
     "output_type": "stream",
     "text": [
      "[2, 4, 6, 8]\n"
     ]
    }
   ],
   "source": [
    "print(list(range(2,10,2)))"
   ]
  },
  {
   "cell_type": "code",
   "execution_count": 52,
   "id": "df7cffcc-c34e-459e-b8c5-20f5d73f8b27",
   "metadata": {},
   "outputs": [
    {
     "name": "stdout",
     "output_type": "stream",
     "text": [
      "[1, 4, 7, 10, 13, 16, 19, 22, 25, 28]\n"
     ]
    }
   ],
   "source": [
    "print(list(range(1,30,3)))"
   ]
  },
  {
   "cell_type": "code",
   "execution_count": 54,
   "id": "d5e11447-f01d-40dd-abc1-13df0273d97a",
   "metadata": {},
   "outputs": [
    {
     "name": "stdout",
     "output_type": "stream",
     "text": [
      "[2]\n"
     ]
    }
   ],
   "source": [
    "print(list(range(2,5,10)))"
   ]
  },
  {
   "cell_type": "code",
   "execution_count": 56,
   "id": "a769836a-17b7-4a74-bcfe-73e72ad1bcb4",
   "metadata": {},
   "outputs": [
    {
     "name": "stdout",
     "output_type": "stream",
     "text": [
      "[-1, -2, -3, -4, -5, -6, -7, -8]\n"
     ]
    }
   ],
   "source": [
    "print(list(range(-1,-9,-1)))"
   ]
  },
  {
   "cell_type": "code",
   "execution_count": 58,
   "id": "42dbc991-6089-410d-97ff-bfe88b8f495f",
   "metadata": {},
   "outputs": [
    {
     "name": "stdout",
     "output_type": "stream",
     "text": [
      "[5, 3, 1, -1, -3, -5, -7, -9]\n"
     ]
    }
   ],
   "source": [
    "print(list(range(5,-10,-2)))"
   ]
  },
  {
   "cell_type": "code",
   "execution_count": 60,
   "id": "a0ef8e00-7b08-403a-9f27-70531526fd12",
   "metadata": {},
   "outputs": [
    {
     "name": "stdout",
     "output_type": "stream",
     "text": [
      "[]\n"
     ]
    }
   ],
   "source": [
    "print(list(range(8,8)))"
   ]
  },
  {
   "cell_type": "code",
   "execution_count": 72,
   "id": "5f538fb2-c9fc-4004-a308-2285589d5300",
   "metadata": {},
   "outputs": [
    {
     "name": "stdin",
     "output_type": "stream",
     "text": [
      "Enter number:  10\n"
     ]
    },
    {
     "name": "stdout",
     "output_type": "stream",
     "text": [
      "55\n"
     ]
    }
   ],
   "source": [
    "# sum of n natural numbers\n",
    "num = int(input(\"Enter number: \"))\n",
    "final_sum = 0\n",
    "for value in range(1,num+1):\n",
    "    final_sum = final_sum + value\n",
    "print(final_sum)"
   ]
  },
  {
   "cell_type": "code",
   "execution_count": 9,
   "id": "7058f963-1ac9-4df8-a3b3-9f1366a9b725",
   "metadata": {},
   "outputs": [
    {
     "name": "stdin",
     "output_type": "stream",
     "text": [
      "Enter number:  10\n"
     ]
    },
    {
     "name": "stdout",
     "output_type": "stream",
     "text": [
      "1\n",
      "3\n",
      "6\n",
      "10\n",
      "15\n",
      "21\n",
      "28\n",
      "36\n",
      "45\n",
      "55\n",
      "55\n"
     ]
    }
   ],
   "source": [
    "# adding numbers continuously\n",
    "num = int(input(\"Enter number: \")) #6\n",
    "final_sum = 0\n",
    "for value in range(1,num+1): # for value in range(1,7) -- 1,2,3,4,5,6\n",
    "    final_sum = final_sum + value # 0+1 =1 +2 = 3+3 = 6+4 = 10+5 = 15+6 =21\n",
    "    print(final_sum)\n",
    "print(final_sum) #21"
   ]
  },
  {
   "cell_type": "code",
   "execution_count": 74,
   "id": "35c2c0bb-474a-4673-a5f5-4a854a13670c",
   "metadata": {},
   "outputs": [],
   "source": [
    "# print all numbers from an input n to 1 , where n > 1"
   ]
  },
  {
   "cell_type": "code",
   "execution_count": 78,
   "id": "16494c1a-4df5-4afd-9c51-231e687899b6",
   "metadata": {},
   "outputs": [
    {
     "name": "stdin",
     "output_type": "stream",
     "text": [
      "Enter the number:  10\n"
     ]
    },
    {
     "name": "stdout",
     "output_type": "stream",
     "text": [
      "10\n",
      "9\n",
      "8\n",
      "7\n",
      "6\n",
      "5\n",
      "4\n",
      "3\n",
      "2\n",
      "1\n"
     ]
    }
   ],
   "source": [
    "num = int(input(\"Enter the number: \"))\n",
    "for i in range(num,0,-1):\n",
    "    print(i)"
   ]
  },
  {
   "cell_type": "code",
   "execution_count": 88,
   "id": "4da786be-a5bd-465d-ad46-8da8475243bd",
   "metadata": {},
   "outputs": [],
   "source": [
    "# print all numbers from an input N to 1 , where N > 1  using for loop. Solve this without using a negative jump!"
   ]
  },
  {
   "cell_type": "code",
   "execution_count": 86,
   "id": "a55b4642-3021-4b4c-a574-a31f34d35d2c",
   "metadata": {},
   "outputs": [
    {
     "name": "stdin",
     "output_type": "stream",
     "text": [
      "Enter the number:  5\n"
     ]
    },
    {
     "name": "stdout",
     "output_type": "stream",
     "text": [
      "5\n",
      "4\n",
      "3\n",
      "2\n",
      "1\n"
     ]
    }
   ],
   "source": [
    "num = int(input(\"Enter the number: \"))\n",
    "for i in range(1,num+1):\n",
    "    print(num-i+1)"
   ]
  },
  {
   "cell_type": "code",
   "execution_count": 90,
   "id": "f75ce374-8072-4395-9fb5-c1275b181e13",
   "metadata": {},
   "outputs": [
    {
     "name": "stdin",
     "output_type": "stream",
     "text": [
      "Enter the number:  5\n"
     ]
    },
    {
     "name": "stdout",
     "output_type": "stream",
     "text": [
      "5\n",
      "4\n",
      "3\n",
      "2\n",
      "1\n"
     ]
    }
   ],
   "source": [
    "num = int(input(\"Enter the number: \"))\n",
    "for i in range(-num,0):\n",
    "    print(-i)"
   ]
  },
  {
   "cell_type": "code",
   "execution_count": 98,
   "id": "2b392f8c-a354-471f-9ca6-069037df8243",
   "metadata": {},
   "outputs": [],
   "source": [
    "# list(range(1,11,2)) # five numbers # quiz"
   ]
  },
  {
   "cell_type": "code",
   "execution_count": 101,
   "id": "d029278a-73a6-4dfb-a3ca-0ffefe11c70d",
   "metadata": {},
   "outputs": [
    {
     "data": {
      "text/plain": [
       "[0, 1, 2, 3, 4, 5, 6, 7, 8, 9, 10]"
      ]
     },
     "execution_count": 101,
     "metadata": {},
     "output_type": "execute_result"
    }
   ],
   "source": [
    "list(range(11))"
   ]
  },
  {
   "cell_type": "code",
   "execution_count": 103,
   "id": "22bdd7db-d135-439f-a617-642483ca9222",
   "metadata": {},
   "outputs": [
    {
     "data": {
      "text/plain": [
       "range"
      ]
     },
     "execution_count": 103,
     "metadata": {},
     "output_type": "execute_result"
    }
   ],
   "source": [
    "type(range(11))"
   ]
  },
  {
   "cell_type": "code",
   "execution_count": null,
   "id": "1b1c7810-6b56-430a-874a-84e1885543e7",
   "metadata": {},
   "outputs": [],
   "source": []
  }
 ],
 "metadata": {
  "kernelspec": {
   "display_name": "Python 3 (ipykernel)",
   "language": "python",
   "name": "python3"
  },
  "language_info": {
   "codemirror_mode": {
    "name": "ipython",
    "version": 3
   },
   "file_extension": ".py",
   "mimetype": "text/x-python",
   "name": "python",
   "nbconvert_exporter": "python",
   "pygments_lexer": "ipython3",
   "version": "3.12.7"
  }
 },
 "nbformat": 4,
 "nbformat_minor": 5
}
