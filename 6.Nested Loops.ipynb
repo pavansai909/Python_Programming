{
 "cells": [
  {
   "cell_type": "markdown",
   "id": "ddd208d2-91bf-4507-b8f6-ebd61f3e425e",
   "metadata": {},
   "source": [
    "# Nested Loops"
   ]
  },
  {
   "cell_type": "code",
   "execution_count": 5,
   "id": "4b44148a-dfa2-4af3-bc58-19c5ea85e215",
   "metadata": {},
   "outputs": [],
   "source": [
    "# write a loop to print following numbers - 1,4,7,10,13,16"
   ]
  },
  {
   "cell_type": "code",
   "execution_count": 7,
   "id": "db339b7a-77fa-4f66-9fcc-82720d0d787d",
   "metadata": {},
   "outputs": [
    {
     "name": "stdout",
     "output_type": "stream",
     "text": [
      "1, 4, 7, 10, 13, 16"
     ]
    }
   ],
   "source": [
    "for i in range(1,17,3):\n",
    "    if i == 16:\n",
    "        print(i, end = '')\n",
    "    else:\n",
    "        print(i,end = ', ')"
   ]
  },
  {
   "cell_type": "code",
   "execution_count": 8,
   "id": "07e4a28d-774d-4e1d-ab62-420a09130259",
   "metadata": {},
   "outputs": [
    {
     "name": "stdout",
     "output_type": "stream",
     "text": [
      "1\n",
      "4\n",
      "7\n",
      "10\n",
      "13\n",
      "16\n"
     ]
    }
   ],
   "source": [
    "x = 1\n",
    "while x <17:\n",
    "    print(x)\n",
    "    x+=3"
   ]
  },
  {
   "cell_type": "code",
   "execution_count": 9,
   "id": "a3dcce63-8e91-40ca-b7b6-dc9b3a36f6aa",
   "metadata": {},
   "outputs": [],
   "source": [
    "# write a loop to print the following numbers -1,3,7,13,21,31,43"
   ]
  },
  {
   "cell_type": "code",
   "execution_count": 2,
   "id": "23a44f8a-e94e-41bc-82f9-73011ef65654",
   "metadata": {},
   "outputs": [
    {
     "name": "stdout",
     "output_type": "stream",
     "text": [
      "1 3 7 13 21 31 43 "
     ]
    }
   ],
   "source": [
    "number = 1\n",
    "i = 1\n",
    "while number <= 43:\n",
    "    print(number, end = \" \")\n",
    "    number += 2 * i  # number = number + (2*i)\n",
    "    i = i + 1"
   ]
  },
  {
   "cell_type": "code",
   "execution_count": 10,
   "id": "dc36c2b1-5042-4b6a-a429-13834c620560",
   "metadata": {},
   "outputs": [
    {
     "name": "stdout",
     "output_type": "stream",
     "text": [
      "1 3 7 13 21 31 43 "
     ]
    }
   ],
   "source": [
    "number = 1\n",
    "i = 1\n",
    "for i in range(1, 44):  # Using a large enough range to account for the sequence.\n",
    "    if number > 43:\n",
    "        break\n",
    "    print(number, end=\" \")\n",
    "    number += 2 * i\n"
   ]
  },
  {
   "cell_type": "markdown",
   "id": "1d64c1b3-08c6-4cfe-b679-27bd92301e3a",
   "metadata": {},
   "source": [
    "# PASS"
   ]
  },
  {
   "cell_type": "code",
   "execution_count": 23,
   "id": "cbb678de-759a-4578-b3fa-9acc5e237e8b",
   "metadata": {},
   "outputs": [
    {
     "name": "stdout",
     "output_type": "stream",
     "text": [
      "0\n",
      "1\n",
      "2\n",
      "3\n",
      "4\n"
     ]
    }
   ],
   "source": [
    "for i in range(5):\n",
    "    if i == 3:\n",
    "        pass\n",
    "    print(i)"
   ]
  },
  {
   "cell_type": "markdown",
   "id": "17c6b07f-4b98-4eb2-92f3-53a9efb2888a",
   "metadata": {},
   "source": [
    "# CONTINUE"
   ]
  },
  {
   "cell_type": "code",
   "execution_count": 29,
   "id": "e586fa34-14e5-4e3d-96b3-03bf37bab3dc",
   "metadata": {},
   "outputs": [
    {
     "name": "stdout",
     "output_type": "stream",
     "text": [
      "0\n",
      "1\n",
      "2\n",
      "4\n"
     ]
    }
   ],
   "source": [
    "for i in range(5):\n",
    "    if i == 3:\n",
    "        continue\n",
    "    print(i)"
   ]
  },
  {
   "cell_type": "code",
   "execution_count": 31,
   "id": "b4b16785-350b-4794-92e4-a136b9f3d49a",
   "metadata": {},
   "outputs": [
    {
     "name": "stdout",
     "output_type": "stream",
     "text": [
      "1\n",
      "2\n",
      "4\n",
      "5\n"
     ]
    }
   ],
   "source": [
    "x = 0\n",
    "while x < 5:\n",
    "    x += 1\n",
    "    if x == 3:\n",
    "        continue\n",
    "    print(x)"
   ]
  },
  {
   "cell_type": "markdown",
   "id": "da702ede-20a2-4a51-8349-6ca1350d0bda",
   "metadata": {},
   "source": [
    "# break"
   ]
  },
  {
   "cell_type": "code",
   "execution_count": 36,
   "id": "fa6fd6b6-b0fd-45aa-abe1-940ed2fcb07a",
   "metadata": {},
   "outputs": [
    {
     "name": "stdout",
     "output_type": "stream",
     "text": [
      "0\n",
      "1\n",
      "2\n"
     ]
    }
   ],
   "source": [
    "for i in range(5):\n",
    "    if i == 3:\n",
    "        break\n",
    "    print(i)"
   ]
  },
  {
   "cell_type": "code",
   "execution_count": 42,
   "id": "26f7f5ed-4c2b-4cbc-9dfc-d358c3a8b769",
   "metadata": {},
   "outputs": [
    {
     "name": "stdout",
     "output_type": "stream",
     "text": [
      "1\n",
      "2\n",
      "Loop Finished\n"
     ]
    }
   ],
   "source": [
    "x = 0\n",
    "while x < 5:\n",
    "    x += 1\n",
    "    if x == 3:\n",
    "        break\n",
    "    print(x)\n",
    "print('Loop Finished')"
   ]
  },
  {
   "cell_type": "code",
   "execution_count": 46,
   "id": "f132923e-3f1f-4f11-a749-21ba25e1905b",
   "metadata": {},
   "outputs": [
    {
     "name": "stdout",
     "output_type": "stream",
     "text": [
      "0\n",
      "1\n",
      "2\n",
      "3\n",
      "4\n"
     ]
    }
   ],
   "source": [
    "count = 0\n",
    "while True:\n",
    "    if count == 5:\n",
    "        break\n",
    "    print(count)\n",
    "    count +=1"
   ]
  },
  {
   "cell_type": "code",
   "execution_count": 14,
   "id": "75fdfc8a-945f-4a2c-a06f-c5060a2847f3",
   "metadata": {},
   "outputs": [
    {
     "name": "stdout",
     "output_type": "stream",
     "text": [
      "['False', 'None', 'True', 'and', 'as', 'assert', 'async', 'await', 'break', 'class', 'continue', 'def', 'del', 'elif', 'else', 'except', 'finally', 'for', 'from', 'global', 'if', 'import', 'in', 'is', 'lambda', 'nonlocal', 'not', 'or', 'pass', 'raise', 'return', 'try', 'while', 'with', 'yield']\n"
     ]
    },
    {
     "data": {
      "text/plain": [
       "35"
      ]
     },
     "execution_count": 14,
     "metadata": {},
     "output_type": "execute_result"
    }
   ],
   "source": [
    "import keyword\n",
    "print(keyword.kwlist)\n",
    "len(keyword.kwlist)"
   ]
  },
  {
   "cell_type": "code",
   "execution_count": 38,
   "id": "546d941d-e546-4a3b-bc41-814f1017799c",
   "metadata": {},
   "outputs": [],
   "source": [
    "# write a program that continuously asks the user to provide an input number\n",
    "# the program should stop only when the user provides 5\n",
    "# once the user provides 5, the program should print the number of times an input was provided\n",
    "# assume that the user always provides a number"
   ]
  },
  {
   "cell_type": "code",
   "execution_count": 2,
   "id": "cbe1bd02-a0ef-470f-b465-c1c7b7d69248",
   "metadata": {},
   "outputs": [
    {
     "name": "stdin",
     "output_type": "stream",
     "text": [
      "Enter the number : 2\n",
      "Enter the number : 4\n",
      "Enter the number : 6\n",
      "Enter the number : 7\n",
      "Enter the number : 7\n",
      "Enter the number : 8\n",
      "Enter the number : 9\n",
      "Enter the number : 5\n"
     ]
    },
    {
     "name": "stdout",
     "output_type": "stream",
     "text": [
      "Loop executed : 8 times\n"
     ]
    }
   ],
   "source": [
    "count = 0\n",
    "while True:\n",
    "    num = int(input('Enter the number :'))\n",
    "    count += 1\n",
    "    if num == 5:\n",
    "        break\n",
    "print(\"Loop executed :\", count ,\"times\")"
   ]
  },
  {
   "cell_type": "code",
   "execution_count": 48,
   "id": "b4b8180d-ec97-481f-8399-46d76d265d95",
   "metadata": {},
   "outputs": [
    {
     "name": "stdout",
     "output_type": "stream",
     "text": [
      "0 0\n",
      "0 1\n",
      "0 2\n",
      "1 0\n",
      "1 1\n",
      "1 2\n",
      "2 0\n",
      "2 1\n",
      "2 2\n"
     ]
    }
   ],
   "source": [
    "for i in range(3):\n",
    "    for j in range(3):\n",
    "        print(i, j)"
   ]
  },
  {
   "cell_type": "code",
   "execution_count": 8,
   "id": "f200f821-5dec-4a20-9d04-658221b20cb5",
   "metadata": {},
   "outputs": [
    {
     "name": "stdin",
     "output_type": "stream",
     "text": [
      " 3\n"
     ]
    },
    {
     "name": "stdout",
     "output_type": "stream",
     "text": [
      "*********"
     ]
    }
   ],
   "source": [
    "n = int(input())\n",
    "for i in range(n):\n",
    "    for j in range(n):\n",
    "        print('*',end = '')\n",
    "    # print()"
   ]
  },
  {
   "cell_type": "code",
   "execution_count": 12,
   "id": "e1c9ca00-71f1-4083-a87f-b18e8afe332e",
   "metadata": {},
   "outputs": [
    {
     "name": "stdin",
     "output_type": "stream",
     "text": [
      "Please enter a number :  3\n"
     ]
    },
    {
     "name": "stdout",
     "output_type": "stream",
     "text": [
      "1 2 3 4 5 6 7 8 9 10 \n",
      "2 4 6 8 10 12 14 16 18 20 \n",
      "3 6 9 12 15 18 21 24 27 30 \n"
     ]
    }
   ],
   "source": [
    "# write a program to print a multiplication table till the provided input\n",
    "# example input 3 \n",
    "\n",
    "num = int(input(\"Please enter a number : \"))\n",
    "for i in range(1,num+1):\n",
    "    for j in range(1,11):\n",
    "        print(i*j, end = \" \")\n",
    "    print()"
   ]
  },
  {
   "cell_type": "code",
   "execution_count": 14,
   "id": "9840c0b7-3652-4f30-9e9c-688a080b58b7",
   "metadata": {},
   "outputs": [
    {
     "name": "stdout",
     "output_type": "stream",
     "text": [
      "* * * \n",
      "* * \n",
      "* \n"
     ]
    }
   ],
   "source": [
    "for i in range(3):\n",
    "    for j in range(i,3):\n",
    "        print(\"*\", end = \" \")\n",
    "    print()"
   ]
  },
  {
   "cell_type": "markdown",
   "id": "884a806a-6743-4396-875a-5f986ad205ad",
   "metadata": {},
   "source": [
    "# Greatest Common Divisor"
   ]
  },
  {
   "cell_type": "code",
   "execution_count": 27,
   "id": "1afe3a62-8bbe-467a-ac78-67c784cb6390",
   "metadata": {},
   "outputs": [
    {
     "name": "stdin",
     "output_type": "stream",
     "text": [
      " 10\n",
      " 15\n"
     ]
    },
    {
     "name": "stdout",
     "output_type": "stream",
     "text": [
      "5\n"
     ]
    }
   ],
   "source": [
    "a = int(input())\n",
    "b = int(input())\n",
    "x = min(a,b)\n",
    "for i in range(x,0,-1):\n",
    "    if a % i == 0 and b %i == 0:\n",
    "        print(i)\n",
    "        break"
   ]
  },
  {
   "cell_type": "markdown",
   "id": "c0a26e21-94c1-4a02-84d7-7c07d856d785",
   "metadata": {},
   "source": [
    "# Least common multiple"
   ]
  },
  {
   "cell_type": "code",
   "execution_count": 10,
   "id": "6982bcd8-7936-4bb2-b96d-7303163d92ea",
   "metadata": {},
   "outputs": [
    {
     "name": "stdin",
     "output_type": "stream",
     "text": [
      " 10\n",
      " 15\n"
     ]
    },
    {
     "name": "stdout",
     "output_type": "stream",
     "text": [
      "30\n"
     ]
    }
   ],
   "source": [
    "a = int(input())\n",
    "b = int(input())\n",
    "x = max(a,b)\n",
    "while True:\n",
    "    if x%a == 0 and x%b ==0:\n",
    "        print(x)\n",
    "        break\n",
    "    x=x+1"
   ]
  },
  {
   "cell_type": "code",
   "execution_count": null,
   "id": "9f1f2ec8-7477-42d1-9dd4-87c7b53b37a5",
   "metadata": {},
   "outputs": [],
   "source": []
  }
 ],
 "metadata": {
  "kernelspec": {
   "display_name": "Python 3 (ipykernel)",
   "language": "python",
   "name": "python3"
  },
  "language_info": {
   "codemirror_mode": {
    "name": "ipython",
    "version": 3
   },
   "file_extension": ".py",
   "mimetype": "text/x-python",
   "name": "python",
   "nbconvert_exporter": "python",
   "pygments_lexer": "ipython3",
   "version": "3.12.7"
  }
 },
 "nbformat": 4,
 "nbformat_minor": 5
}
