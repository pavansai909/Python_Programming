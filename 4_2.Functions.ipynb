{
 "cells": [
  {
   "cell_type": "code",
   "execution_count": 2,
   "id": "0167a021-74a7-4116-a32d-949e323ba859",
   "metadata": {},
   "outputs": [
    {
     "name": "stdout",
     "output_type": "stream",
     "text": [
      "Dust all the rooms\n",
      "Arrange everything in the living room\n",
      "Go and get the drinks and snacks\n",
      "Dont't misbehave in front of guests\n",
      "Greet them and touch their feet\n"
     ]
    }
   ],
   "source": [
    "print(\"Dust all the rooms\")\n",
    "print(\"Arrange everything in the living room\")\n",
    "print(\"Go and get the drinks and snacks\")\n",
    "print(\"Dont't misbehave in front of guests\")\n",
    "print(\"Greet them and touch their feet\")"
   ]
  },
  {
   "cell_type": "code",
   "execution_count": 4,
   "id": "ff6d9064-41a4-4e34-ae93-7a19eaddd33f",
   "metadata": {},
   "outputs": [],
   "source": [
    "def prepare_for_guests():\n",
    "    print(\"Dust all the rooms\")\n",
    "    print(\"Arrange everything in the living room\")\n",
    "    print(\"Go and get the drinks and snacks\")\n",
    "    print(\"Dont't misbehave in front of guests\")\n",
    "    print(\"Greet them and touch their feet\")"
   ]
  },
  {
   "cell_type": "code",
   "execution_count": 6,
   "id": "12575fee-543d-4af9-b665-c3843c491dc2",
   "metadata": {},
   "outputs": [
    {
     "name": "stdout",
     "output_type": "stream",
     "text": [
      "Dust all the rooms\n",
      "Arrange everything in the living room\n",
      "Go and get the drinks and snacks\n",
      "Dont't misbehave in front of guests\n",
      "Greet them and touch their feet\n"
     ]
    }
   ],
   "source": [
    "prepare_for_guests()"
   ]
  },
  {
   "cell_type": "code",
   "execution_count": 8,
   "id": "c9ddf81d-537b-4bb8-aa2b-f17bbe1891a5",
   "metadata": {},
   "outputs": [],
   "source": [
    "def make_tea():\n",
    "    print(\"I am making tea\")"
   ]
  },
  {
   "cell_type": "code",
   "execution_count": 10,
   "id": "aaa02d3e-30f9-4cdf-a0ac-bd7696109af5",
   "metadata": {},
   "outputs": [
    {
     "name": "stdout",
     "output_type": "stream",
     "text": [
      "I am making tea\n"
     ]
    }
   ],
   "source": [
    "make_tea()"
   ]
  },
  {
   "cell_type": "code",
   "execution_count": 12,
   "id": "2de7a02f-d491-4546-a784-c293f542d60a",
   "metadata": {},
   "outputs": [
    {
     "name": "stdout",
     "output_type": "stream",
     "text": [
      "I am making tea\n",
      "I am making tea\n",
      "I am making tea\n",
      "I am making tea\n",
      "I am making tea\n"
     ]
    }
   ],
   "source": [
    "for i in range(5):\n",
    "    make_tea()"
   ]
  },
  {
   "cell_type": "code",
   "execution_count": 16,
   "id": "de5e8786-c129-40aa-85d2-6f2d82fccb22",
   "metadata": {},
   "outputs": [],
   "source": [
    "def make_tea():\n",
    "    for i in range(5):\n",
    "        print(\"I am making tea\")"
   ]
  },
  {
   "cell_type": "code",
   "execution_count": 18,
   "id": "e267aa9f-fdbe-4300-872a-50aeaf05a7ae",
   "metadata": {},
   "outputs": [
    {
     "name": "stdout",
     "output_type": "stream",
     "text": [
      "I am making tea\n",
      "I am making tea\n",
      "I am making tea\n",
      "I am making tea\n",
      "I am making tea\n"
     ]
    }
   ],
   "source": [
    "make_tea()"
   ]
  },
  {
   "cell_type": "code",
   "execution_count": 20,
   "id": "4212cd6f-7b2b-4f2f-b972-24df1f11293d",
   "metadata": {},
   "outputs": [],
   "source": [
    "def knock(name):\n",
    "    print(\"The door is knocked by \",name)\n"
   ]
  },
  {
   "cell_type": "code",
   "execution_count": 22,
   "id": "2790705c-4a05-407f-b0ce-4d8a3524b864",
   "metadata": {},
   "outputs": [
    {
     "name": "stdout",
     "output_type": "stream",
     "text": [
      "The door is knocked by  Pavan\n"
     ]
    }
   ],
   "source": [
    "knock(\"Pavan\")"
   ]
  },
  {
   "cell_type": "code",
   "execution_count": 28,
   "id": "463366f0-dc67-403f-b569-2b611fca57b0",
   "metadata": {},
   "outputs": [],
   "source": [
    "# introduce my family\n",
    "def introduce_family(father, mother, sibling):\n",
    "    print(\"Father\", father)\n",
    "    print(\"Mother\", mother)\n",
    "    print(\"Sibling\",sibling)\n"
   ]
  },
  {
   "cell_type": "code",
   "execution_count": 30,
   "id": "a515d7f4-c9d9-447d-a3c1-941e0ce6d11e",
   "metadata": {},
   "outputs": [
    {
     "name": "stdout",
     "output_type": "stream",
     "text": [
      "Father ABC\n",
      "Mother DEF\n",
      "Sibling PQR\n"
     ]
    }
   ],
   "source": [
    "introduce_family(\"ABC\",\"DEF\",\"PQR\")"
   ]
  },
  {
   "cell_type": "code",
   "execution_count": 34,
   "id": "34765ef5-5643-4372-b2e2-6586cca08a98",
   "metadata": {},
   "outputs": [],
   "source": [
    "# less or more number of parameters in function will give error"
   ]
  },
  {
   "cell_type": "code",
   "execution_count": 4,
   "id": "34be3590-91d4-49da-ac92-8c2a3629a106",
   "metadata": {},
   "outputs": [],
   "source": [
    "def func(n):\n",
    "    for i in range(n):\n",
    "        print('hello')\n",
    "        "
   ]
  },
  {
   "cell_type": "code",
   "execution_count": 6,
   "id": "45640ed4-2a50-4dac-b8fc-a54201e44515",
   "metadata": {},
   "outputs": [
    {
     "name": "stdout",
     "output_type": "stream",
     "text": [
      "hello\n",
      "hello\n",
      "hello\n"
     ]
    }
   ],
   "source": [
    "func(3)"
   ]
  },
  {
   "cell_type": "code",
   "execution_count": 8,
   "id": "2db7fbba-872c-4eb2-abc7-58049da8af8c",
   "metadata": {},
   "outputs": [],
   "source": [
    "# func('hello') # error"
   ]
  },
  {
   "cell_type": "code",
   "execution_count": 10,
   "id": "399d5399-8388-4c57-ab12-286e5d7d0a3d",
   "metadata": {},
   "outputs": [],
   "source": [
    "# func(3.0)"
   ]
  },
  {
   "cell_type": "code",
   "execution_count": 14,
   "id": "193b6465-d5bb-4e38-b798-c5e8a94c9aef",
   "metadata": {},
   "outputs": [],
   "source": [
    "# func()"
   ]
  },
  {
   "cell_type": "code",
   "execution_count": 52,
   "id": "13965c6e-3179-4243-96b3-feac67d9181d",
   "metadata": {},
   "outputs": [],
   "source": [
    "# print shows the value whatever is displayed\n",
    "# return returns the variable"
   ]
  },
  {
   "cell_type": "code",
   "execution_count": 7,
   "id": "5d294343-2fa7-45eb-a672-ccc22c72a55e",
   "metadata": {},
   "outputs": [],
   "source": [
    "def print_money(amount):\n",
    "    print(2 * amount)"
   ]
  },
  {
   "cell_type": "code",
   "execution_count": 9,
   "id": "8797ea5f-7fc4-4b82-a67b-5e2c32bd58ad",
   "metadata": {},
   "outputs": [
    {
     "name": "stdout",
     "output_type": "stream",
     "text": [
      "2000\n"
     ]
    }
   ],
   "source": [
    "print_money(1000)"
   ]
  },
  {
   "cell_type": "code",
   "execution_count": 11,
   "id": "f2ada3b4-68e3-40bd-a23b-dfe843698312",
   "metadata": {},
   "outputs": [],
   "source": [
    "def return_money(amount):\n",
    "    return 2 * amount"
   ]
  },
  {
   "cell_type": "code",
   "execution_count": 15,
   "id": "3b6d818e-8bdd-4184-9931-28336534f4bc",
   "metadata": {},
   "outputs": [
    {
     "data": {
      "text/plain": [
       "2000"
      ]
     },
     "execution_count": 15,
     "metadata": {},
     "output_type": "execute_result"
    }
   ],
   "source": [
    "return_money(1000)"
   ]
  },
  {
   "cell_type": "code",
   "execution_count": 17,
   "id": "50d41f03-1822-4c03-9c4e-e561936b540d",
   "metadata": {},
   "outputs": [
    {
     "name": "stdout",
     "output_type": "stream",
     "text": [
      "2000\n"
     ]
    }
   ],
   "source": [
    "return_amount = return_money(1000)\n",
    "print(return_amount)"
   ]
  },
  {
   "cell_type": "code",
   "execution_count": 19,
   "id": "00f26c03-c090-41cb-bf3b-a1e9a5779d13",
   "metadata": {},
   "outputs": [
    {
     "name": "stdout",
     "output_type": "stream",
     "text": [
      "before return\n"
     ]
    },
    {
     "data": {
      "text/plain": [
       "1"
      ]
     },
     "execution_count": 19,
     "metadata": {},
     "output_type": "execute_result"
    }
   ],
   "source": [
    "def random():\n",
    "    print(\"before return\")\n",
    "    return 1\n",
    "    print(\"after return\")\n",
    "random()"
   ]
  },
  {
   "cell_type": "code",
   "execution_count": 21,
   "id": "0ddad8eb-706b-4a1f-abef-b6efd60de7ea",
   "metadata": {},
   "outputs": [],
   "source": [
    "def do_something(n):\n",
    "    total = 0\n",
    "    i = 1\n",
    "    while i <= n:\n",
    "        total += i\n",
    "        i += 1\n",
    "    return total\n",
    "\n",
    "        "
   ]
  },
  {
   "cell_type": "code",
   "execution_count": 23,
   "id": "e5dba6e5-e501-4935-bb89-844ee732a03e",
   "metadata": {},
   "outputs": [
    {
     "name": "stdout",
     "output_type": "stream",
     "text": [
      "15\n"
     ]
    }
   ],
   "source": [
    "print(do_something(5))"
   ]
  },
  {
   "cell_type": "code",
   "execution_count": 72,
   "id": "46a6b3a5-b939-4565-9479-44c2c09b15db",
   "metadata": {},
   "outputs": [
    {
     "name": "stdout",
     "output_type": "stream",
     "text": [
      "12\n"
     ]
    }
   ],
   "source": [
    "def gcd(a,b):\n",
    "    while b!=0:\n",
    "        a,b = b, a % b\n",
    "    return a\n",
    "\n",
    "x = gcd(48, 180)\n",
    "print(x)"
   ]
  },
  {
   "cell_type": "code",
   "execution_count": 74,
   "id": "ed3a2dec-443b-481c-8b57-bbb1d98ace7f",
   "metadata": {},
   "outputs": [],
   "source": [
    "a = 2\n",
    "b = 3\n",
    "a,b = b,a"
   ]
  },
  {
   "cell_type": "code",
   "execution_count": 76,
   "id": "9b6fc55f-8db2-4d91-be23-5c9391654e7c",
   "metadata": {},
   "outputs": [
    {
     "data": {
      "text/plain": [
       "3"
      ]
     },
     "execution_count": 76,
     "metadata": {},
     "output_type": "execute_result"
    }
   ],
   "source": [
    "a"
   ]
  },
  {
   "cell_type": "code",
   "execution_count": 78,
   "id": "c4158303-d525-4310-9940-570ca8eef18f",
   "metadata": {},
   "outputs": [
    {
     "data": {
      "text/plain": [
       "2"
      ]
     },
     "execution_count": 78,
     "metadata": {},
     "output_type": "execute_result"
    }
   ],
   "source": [
    "b"
   ]
  },
  {
   "cell_type": "code",
   "execution_count": 84,
   "id": "99a89917-6dea-4dd4-a0cb-a8d644394569",
   "metadata": {},
   "outputs": [],
   "source": [
    "# introduce my family\n",
    "def introduce_family(myname,father, mother, sibling):\n",
    "    print(\"My name is :\", myname)\n",
    "    print(\"Father\", father)\n",
    "    print(\"Mother\", mother)\n",
    "    print(\"Sibling\",sibling)\n"
   ]
  },
  {
   "cell_type": "code",
   "execution_count": 86,
   "id": "5ca96e8c-7137-4f24-a419-c4c25592625b",
   "metadata": {},
   "outputs": [
    {
     "name": "stdout",
     "output_type": "stream",
     "text": [
      "My name is : pavan\n",
      "Father ABC\n",
      "Mother DEF\n",
      "Sibling PQR\n"
     ]
    }
   ],
   "source": [
    "introduce_family(\"pavan\",\"ABC\",\"DEF\",\"PQR\")"
   ]
  },
  {
   "cell_type": "code",
   "execution_count": 88,
   "id": "55686ab3-8b1c-4073-83f4-1d8ee845610a",
   "metadata": {},
   "outputs": [
    {
     "name": "stdout",
     "output_type": "stream",
     "text": [
      "My name is : pavan\n",
      "Father ABC\n",
      "Mother DEF\n",
      "Sibling PQR\n"
     ]
    }
   ],
   "source": [
    "introduce_family(myname = \"pavan\", father=\"ABC\", mother =\"DEF\",sibling = \"PQR\")"
   ]
  },
  {
   "cell_type": "code",
   "execution_count": 94,
   "id": "06af29ae-259c-47be-862d-923bb5761a1f",
   "metadata": {},
   "outputs": [
    {
     "name": "stdout",
     "output_type": "stream",
     "text": [
      "My name is : pavan\n",
      "Father ABC\n",
      "Mother DEF\n",
      "Sibling PQR\n"
     ]
    }
   ],
   "source": [
    "introduce_family(myname = \"pavan\", mother =\"DEF\", father=\"ABC\",sibling = \"PQR\")"
   ]
  },
  {
   "cell_type": "code",
   "execution_count": 98,
   "id": "a35ee5d8-5223-4f57-bfba-32b27b4e4ad1",
   "metadata": {},
   "outputs": [],
   "source": [
    "# positional -- > keyword  true\n",
    "# keyword --> positional false"
   ]
  },
  {
   "cell_type": "code",
   "execution_count": 100,
   "id": "92f852c6-26c7-457e-b57d-10d20bee0bd3",
   "metadata": {},
   "outputs": [],
   "source": [
    "# default arguments"
   ]
  },
  {
   "cell_type": "code",
   "execution_count": 1,
   "id": "1e9d423b-7264-48de-8a0f-8847b7e468f5",
   "metadata": {},
   "outputs": [],
   "source": [
    "def simple_interest(p,t,r = 5):\n",
    "    interest = (p * r * t) / 100\n",
    "    return interest"
   ]
  },
  {
   "cell_type": "code",
   "execution_count": 3,
   "id": "5eff4f60-3e6d-4d49-9c22-64da9687b34e",
   "metadata": {},
   "outputs": [
    {
     "data": {
      "text/plain": [
       "7500.0"
      ]
     },
     "execution_count": 3,
     "metadata": {},
     "output_type": "execute_result"
    }
   ],
   "source": [
    "simple_interest(50000,3)"
   ]
  },
  {
   "cell_type": "code",
   "execution_count": 29,
   "id": "22470d29-0076-4679-925d-2babc5ea9982",
   "metadata": {},
   "outputs": [],
   "source": [
    "# def multiply(num1 = 3, num2):  #error  -- last argument can be default but not first\n",
    "#     return num1 * num2\n",
    "# print(multiply(2,4))"
   ]
  },
  {
   "cell_type": "code",
   "execution_count": 11,
   "id": "f6e89d62-eece-4594-8831-0e14fe6f24d6",
   "metadata": {},
   "outputs": [
    {
     "name": "stdout",
     "output_type": "stream",
     "text": [
      "Inside - 50\n",
      "Inside random2- 10\n",
      "outside - 10\n"
     ]
    }
   ],
   "source": [
    "a = 10 # global variable\n",
    "# local variable with name a is defined inside random function\n",
    "def random():\n",
    "    a = 50 # local variable\n",
    "    print(\"Inside -\", end = \" \")\n",
    "    print(a)\n",
    "random()\n",
    "\n",
    "\n",
    "# no local variable with name a is defined inside random2\n",
    "def random2():\n",
    "    print(\"Inside random2-\", end = \" \")\n",
    "    print(a)\n",
    "random2()\n",
    "\n",
    "print('outside -', end = ' ')\n",
    "print(a)"
   ]
  },
  {
   "cell_type": "code",
   "execution_count": 9,
   "id": "dfa5be57-a6ed-40c3-8d5e-3a46b28c0e5c",
   "metadata": {},
   "outputs": [
    {
     "name": "stdout",
     "output_type": "stream",
     "text": [
      "Inside - 50\n"
     ]
    }
   ],
   "source": [
    "random()"
   ]
  },
  {
   "cell_type": "code",
   "execution_count": 41,
   "id": "e1be8a7c-b8d9-4a4e-8b47-1062d0c4ca0a",
   "metadata": {},
   "outputs": [
    {
     "name": "stdout",
     "output_type": "stream",
     "text": [
      "40\n",
      "40\n"
     ]
    }
   ],
   "source": [
    "a = 10 # global\n",
    "def random():\n",
    "    global a\n",
    "    a = 40\n",
    "    print(a)\n",
    "random()\n",
    "print(a)"
   ]
  },
  {
   "cell_type": "code",
   "execution_count": 43,
   "id": "aeb08943-2d5b-435e-a97b-095f23715514",
   "metadata": {
    "scrolled": true
   },
   "outputs": [
    {
     "name": "stdout",
     "output_type": "stream",
     "text": [
      "3\n",
      "5\n"
     ]
    }
   ],
   "source": [
    "def function(var):\n",
    "    print(var)\n",
    "\n",
    "function(3) #3\n",
    "\n",
    "var = 5\n",
    "function(var)"
   ]
  },
  {
   "cell_type": "code",
   "execution_count": 45,
   "id": "c3cd4685-2ede-4462-b03a-e25fb11a826e",
   "metadata": {},
   "outputs": [
    {
     "name": "stdout",
     "output_type": "stream",
     "text": [
      "7\n"
     ]
    }
   ],
   "source": [
    "function(7)"
   ]
  },
  {
   "cell_type": "code",
   "execution_count": 19,
   "id": "7f6efd39-862d-4365-90e4-e01e05888df8",
   "metadata": {},
   "outputs": [],
   "source": [
    "# function_name = lambda arguments: expression"
   ]
  },
  {
   "cell_type": "code",
   "execution_count": 21,
   "id": "0a2a2c6c-9664-4f22-9f02-9f2d58064692",
   "metadata": {},
   "outputs": [],
   "source": [
    "def random(x):\n",
    "    return x+10\n"
   ]
  },
  {
   "cell_type": "code",
   "execution_count": 23,
   "id": "8a4c1a86-e3ff-4dad-85e2-1f3970dd4879",
   "metadata": {},
   "outputs": [
    {
     "data": {
      "text/plain": [
       "15"
      ]
     },
     "execution_count": 23,
     "metadata": {},
     "output_type": "execute_result"
    }
   ],
   "source": [
    "random(5)"
   ]
  },
  {
   "cell_type": "code",
   "execution_count": 25,
   "id": "86c19e2f-e3d3-4a7b-a423-33b9f46eef9c",
   "metadata": {},
   "outputs": [
    {
     "data": {
      "text/plain": [
       "<function __main__.<lambda>(x)>"
      ]
     },
     "execution_count": 25,
     "metadata": {},
     "output_type": "execute_result"
    }
   ],
   "source": [
    "random = lambda x: x+10\n",
    "random"
   ]
  },
  {
   "cell_type": "code",
   "execution_count": 27,
   "id": "be6b28f6-165e-4cf2-91d9-f8347a6d2bdc",
   "metadata": {},
   "outputs": [
    {
     "data": {
      "text/plain": [
       "15"
      ]
     },
     "execution_count": 27,
     "metadata": {},
     "output_type": "execute_result"
    }
   ],
   "source": [
    "random(5)"
   ]
  },
  {
   "cell_type": "code",
   "execution_count": 29,
   "id": "fd2f50dd-533b-4159-9b42-9e7f42a0d131",
   "metadata": {},
   "outputs": [
    {
     "data": {
      "text/plain": [
       "15"
      ]
     },
     "execution_count": 29,
     "metadata": {},
     "output_type": "execute_result"
    }
   ],
   "source": [
    "(lambda x:x+10)(5)"
   ]
  },
  {
   "cell_type": "code",
   "execution_count": 2,
   "id": "11d33ade-7432-41c9-95c2-0924558eb322",
   "metadata": {},
   "outputs": [
    {
     "data": {
      "text/plain": [
       "30"
      ]
     },
     "execution_count": 2,
     "metadata": {},
     "output_type": "execute_result"
    }
   ],
   "source": [
    "(lambda x:x+10)(20)"
   ]
  },
  {
   "cell_type": "code",
   "execution_count": 35,
   "id": "2efd305b-fdf8-494f-a388-29da8a7a969f",
   "metadata": {},
   "outputs": [],
   "source": []
  },
  {
   "cell_type": "code",
   "execution_count": null,
   "id": "fd016f5f-e4b9-4a64-be00-32e849c0ad24",
   "metadata": {},
   "outputs": [],
   "source": []
  }
 ],
 "metadata": {
  "kernelspec": {
   "display_name": "Python 3 (ipykernel)",
   "language": "python",
   "name": "python3"
  },
  "language_info": {
   "codemirror_mode": {
    "name": "ipython",
    "version": 3
   },
   "file_extension": ".py",
   "mimetype": "text/x-python",
   "name": "python",
   "nbconvert_exporter": "python",
   "pygments_lexer": "ipython3",
   "version": "3.12.7"
  }
 },
 "nbformat": 4,
 "nbformat_minor": 5
}
