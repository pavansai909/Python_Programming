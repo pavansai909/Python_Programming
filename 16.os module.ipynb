{
 "cells": [
  {
   "cell_type": "code",
   "execution_count": 2,
   "id": "d47643e1-ada4-4423-af68-cd90e32ec18b",
   "metadata": {},
   "outputs": [
    {
     "name": "stdout",
     "output_type": "stream",
     "text": [
      "Current Directory: C:\\Users\\pavan\\Documents\\Python\\SCL\n"
     ]
    }
   ],
   "source": [
    "# current working directory\n",
    "import os\n",
    "\n",
    "cwd = os.getcwd()  # Get current directory\n",
    "print(f\"Current Directory: {cwd}\")\n"
   ]
  },
  {
   "cell_type": "code",
   "execution_count": 4,
   "id": "47731170-ad00-4353-a169-bf87d917e7db",
   "metadata": {},
   "outputs": [
    {
     "name": "stdout",
     "output_type": "stream",
     "text": [
      "['.ipynb_checkpoints', '1.Datatypes  variables and IO.ipynb', '10.Dictionaries.ipynb', '11.OOPS.ipynb', '12.Dunders Methods.ipynb', '13.Functional Programming.ipynb', '14.Math Module.ipynb', '15.random module.ipynb', '16.os module.ipynb', '17.Datetime module.ipynb', '18.Encapsulation.ipynb', '19.Abstraction.ipynb', '2.Operators.ipynb', '20.Polymorphism.ipynb', '21.Time Complexity.ipynb', '2_1.Bitwise Operators.ipynb', '3.Strings.ipynb', '4_1.Control Statements.ipynb', '4_2.Functions.ipynb', '5.Loops.ipynb', '6.Nested Loops.ipynb', '7.Lists.ipynb', '8.Lists slicing.ipynb', '9.Sets and Tuples.ipynb', 'Data Visualization']\n"
     ]
    }
   ],
   "source": [
    "# List Files & Folders in a Directory\n",
    "import os\n",
    "\n",
    "print(os.listdir())  # List files in the current directory\n"
   ]
  },
  {
   "cell_type": "code",
   "execution_count": 11,
   "id": "e2803fc6-2d0f-40c1-a0a3-dd2aa049693a",
   "metadata": {},
   "outputs": [
    {
     "name": "stdout",
     "output_type": "stream",
     "text": [
      "['All Users', 'Default', 'Default User', 'desktop.ini', 'pavan', 'Public']\n"
     ]
    }
   ],
   "source": [
    "print(os.listdir(\"C:/Users/\"))  # List files in C:/Users/\n"
   ]
  },
  {
   "cell_type": "code",
   "execution_count": 6,
   "id": "5d9fbff1-562d-44c0-ba35-9362376876d5",
   "metadata": {},
   "outputs": [],
   "source": [
    "#Create a New Folder\n",
    "os.mkdir(\"MyFolder\")  # Creates a new folder named \"MyFolder\""
   ]
  },
  {
   "cell_type": "code",
   "execution_count": 8,
   "id": "14a811f6-fab9-40ed-924b-0b8dd109be77",
   "metadata": {},
   "outputs": [],
   "source": [
    "os.makedirs(\"MyFolder/SubFolder\")  # Creates nested folders"
   ]
  },
  {
   "cell_type": "code",
   "execution_count": 12,
   "id": "89e164d9-ba9b-465f-82fb-00e5ac3275b2",
   "metadata": {},
   "outputs": [],
   "source": [
    "#Rename a File or Folder\n",
    "#os.rename(\"MyFolder\", \"NewFolder\")  # Rename a folder"
   ]
  },
  {
   "cell_type": "code",
   "execution_count": 16,
   "id": "47389636-4d44-4e6d-a38e-7468cc45350c",
   "metadata": {},
   "outputs": [],
   "source": [
    "#os.rename(\"10.Dictionaries.ipynb\",\"10.dictionary.ipynb\")"
   ]
  },
  {
   "cell_type": "code",
   "execution_count": 18,
   "id": "15378abd-0267-4292-a1e6-85bcdc121a3b",
   "metadata": {},
   "outputs": [],
   "source": [
    "# Delete Files and Folders\n",
    "os.remove(\"10.dictionary-Copy1.ipynb\")  # Delete a file"
   ]
  },
  {
   "cell_type": "code",
   "execution_count": 42,
   "id": "ffb47036-3936-4240-9fa5-ce274ffe717c",
   "metadata": {},
   "outputs": [],
   "source": [
    "os.mkdir(\"NewFolder\") "
   ]
  },
  {
   "cell_type": "code",
   "execution_count": 36,
   "id": "6382c80c-4eea-426f-b2b9-0269102d1ea5",
   "metadata": {},
   "outputs": [],
   "source": [
    "os.rmdir(\"NewFolder\") # Remove an empty folder"
   ]
  },
  {
   "cell_type": "code",
   "execution_count": 44,
   "id": "5a20d149-95c8-4bc9-b842-c49297030496",
   "metadata": {},
   "outputs": [],
   "source": [
    "import shutil\n",
    "shutil.rmtree(\"NewFolder\")  # Delete folder and its contents"
   ]
  },
  {
   "cell_type": "code",
   "execution_count": 56,
   "id": "86d0809b-d8cd-4e73-b0a4-39a25b049b7c",
   "metadata": {},
   "outputs": [
    {
     "name": "stdout",
     "output_type": "stream",
     "text": [
      "File exists\n"
     ]
    }
   ],
   "source": [
    "# Check if a File or Folder Exists\n",
    "if os.path.exists(\"11.OOPS.ipynb\"):\n",
    "    print(\"File exists\")\n",
    "else:\n",
    "    print(\"File not found\")"
   ]
  },
  {
   "cell_type": "code",
   "execution_count": 58,
   "id": "2015cbc8-9db0-4926-a52b-159661822219",
   "metadata": {},
   "outputs": [
    {
     "name": "stdout",
     "output_type": "stream",
     "text": [
      "Size: 27150 bytes\n",
      "Last Modified: 1738157475.4580195\n"
     ]
    }
   ],
   "source": [
    "# Get File Information\n",
    "import os\n",
    "file_info = os.stat(\"11.OOPS.ipynb\")  # Get file details\n",
    "print(f\"Size: {file_info.st_size} bytes\")\n",
    "print(f\"Last Modified: {file_info.st_mtime}\")  # Timestamp\n"
   ]
  },
  {
   "cell_type": "code",
   "execution_count": 60,
   "id": "57f29e52-69bf-4d62-ae8f-56277da32f0d",
   "metadata": {},
   "outputs": [
    {
     "name": "stdout",
     "output_type": "stream",
     "text": [
      "nt\n",
      "\\\n",
      "pavan\n"
     ]
    }
   ],
   "source": [
    "print(os.name)  # 'nt' for Windows, 'posix' for Linux/Mac\n",
    "print(os.sep)  # '\\' for Windows, '/' for Linux/Mac\n",
    "print(os.getlogin())  # Get logged-in username"
   ]
  },
  {
   "cell_type": "code",
   "execution_count": 64,
   "id": "f97abbff-c9c6-4e40-97f1-d3a9246fad00",
   "metadata": {},
   "outputs": [],
   "source": [
    "#print(os.environ)  # Dictionary of environment variables\n"
   ]
  },
  {
   "cell_type": "code",
   "execution_count": 62,
   "id": "eb07c527-64cc-4e4b-94ba-5340d3e08e2f",
   "metadata": {},
   "outputs": [
    {
     "name": "stdout",
     "output_type": "stream",
     "text": [
      "None\n",
      "C:\\Users\\pavan\n"
     ]
    }
   ],
   "source": [
    "print(os.environ.get(\"HOME\"))  # On Linux/Mac\n",
    "print(os.environ.get(\"USERPROFILE\"))  # On Windows\n"
   ]
  },
  {
   "cell_type": "code",
   "execution_count": null,
   "id": "a92127d9-3e95-4bb3-8ab9-c06f48b19812",
   "metadata": {},
   "outputs": [],
   "source": []
  }
 ],
 "metadata": {
  "kernelspec": {
   "display_name": "Python 3 (ipykernel)",
   "language": "python",
   "name": "python3"
  },
  "language_info": {
   "codemirror_mode": {
    "name": "ipython",
    "version": 3
   },
   "file_extension": ".py",
   "mimetype": "text/x-python",
   "name": "python",
   "nbconvert_exporter": "python",
   "pygments_lexer": "ipython3",
   "version": "3.12.7"
  }
 },
 "nbformat": 4,
 "nbformat_minor": 5
}
