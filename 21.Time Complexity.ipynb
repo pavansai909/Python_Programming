{
 "cells": [
  {
   "cell_type": "code",
   "execution_count": 2,
   "id": "f0a17753-50f9-4272-950b-d156cf39ddb1",
   "metadata": {},
   "outputs": [],
   "source": [
    "# 1 ball\n",
    "# how many times will you double it to reach 8 balls\n",
    "# 1 -- 2 -- 4 -- 8 -- exponentiation 2^3 = 8\n",
    "\n",
    "# 8 -- 4 -- 2 -- 1  -- log2(8) = 3\n",
    "# 3 times - exponentiation\n",
    "# 8 balls ..how many times do we half it to get 1 ball\n",
    "# 3 times - log2(8) = 3"
   ]
  },
  {
   "cell_type": "code",
   "execution_count": 8,
   "id": "e3ee3c56-b936-436c-80c9-8cdf32acd157",
   "metadata": {},
   "outputs": [],
   "source": [
    "# a^x = b\n",
    "# loga(b) = x\n",
    "\n",
    "# 2^3 = 8\n",
    "# log2(8) = 3"
   ]
  },
  {
   "cell_type": "code",
   "execution_count": 10,
   "id": "c08c6c71-758e-4551-9592-888a930a6340",
   "metadata": {},
   "outputs": [],
   "source": [
    "# processing power  - very limited, very expensive in comparision - time complexity\n",
    "# memory - space complexity"
   ]
  },
  {
   "cell_type": "code",
   "execution_count": 12,
   "id": "fc37aff4-ab9a-480c-a4de-3652dc30ba44",
   "metadata": {},
   "outputs": [],
   "source": [
    "# 4.5 Ghz\n",
    "# cpu can perform (4.5 * 10^9 tasks per second)\n",
    "# 1 cycle - 1/4.5 * 10^9\n",
    "# suppose -- add - 2 cycles, sub - 2 cycles, mul = 3 cycles"
   ]
  },
  {
   "cell_type": "code",
   "execution_count": 14,
   "id": "74767e9a-21fe-4ee1-8814-d2bf1c520878",
   "metadata": {},
   "outputs": [],
   "source": [
    "# Time complexity\n",
    "# we measure the number of operations rather than time required to get clear indication"
   ]
  },
  {
   "cell_type": "code",
   "execution_count": 18,
   "id": "b54a9881-4d51-47fd-8372-cdc7e3ea6488",
   "metadata": {},
   "outputs": [],
   "source": [
    "def foo(n):\n",
    "    x = 1 # 1 operation\n",
    "    y = 2 # 1 operation\n",
    "    z = 3 # 1 operation\n",
    "    print(n) # 1 operation"
   ]
  },
  {
   "cell_type": "code",
   "execution_count": 20,
   "id": "e207a9b3-6bb0-4a53-9385-55d24281333c",
   "metadata": {},
   "outputs": [
    {
     "name": "stdout",
     "output_type": "stream",
     "text": [
      "5\n"
     ]
    }
   ],
   "source": [
    "foo(5)  # 4 operations"
   ]
  },
  {
   "cell_type": "code",
   "execution_count": 22,
   "id": "8e8f5067-5869-43f0-a739-37ec255100ba",
   "metadata": {},
   "outputs": [
    {
     "name": "stdout",
     "output_type": "stream",
     "text": [
      "10000\n"
     ]
    }
   ],
   "source": [
    "foo(10000)  # 4 operations"
   ]
  },
  {
   "cell_type": "code",
   "execution_count": 24,
   "id": "9e4a9828-b52d-4685-b692-231664726e03",
   "metadata": {},
   "outputs": [],
   "source": [
    "# no matter, how much we increase the input, output will always take constant number of operations\n",
    "# cost function of foo  C(f()) = requires 4 operations"
   ]
  },
  {
   "cell_type": "code",
   "execution_count": 4,
   "id": "01657b5f-5b48-42e5-9b34-5a3f94695c79",
   "metadata": {},
   "outputs": [],
   "source": [
    "def foo(n):\n",
    "    for i in range(n): # n operations\n",
    "        print(i) # 1 operation"
   ]
  },
  {
   "cell_type": "code",
   "execution_count": 8,
   "id": "3892356b-54f2-40b3-a778-578432bc6f79",
   "metadata": {},
   "outputs": [
    {
     "name": "stdout",
     "output_type": "stream",
     "text": [
      "0\n",
      "1\n",
      "2\n",
      "3\n",
      "4\n"
     ]
    }
   ],
   "source": [
    "foo(5) # 5 operations"
   ]
  },
  {
   "cell_type": "code",
   "execution_count": 12,
   "id": "e8c280a3-6053-4572-8517-07c159a26f39",
   "metadata": {},
   "outputs": [
    {
     "name": "stdout",
     "output_type": "stream",
     "text": [
      "0\n",
      "1\n",
      "2\n",
      "3\n",
      "4\n",
      "5\n",
      "6\n",
      "7\n",
      "8\n",
      "9\n"
     ]
    }
   ],
   "source": [
    "foo(10) # 10 operations"
   ]
  },
  {
   "cell_type": "code",
   "execution_count": 16,
   "id": "10fc0d6c-9a8d-41d9-b3ce-fbdcf72dec31",
   "metadata": {},
   "outputs": [],
   "source": [
    "# number of operations required scales /increases linearly with the input n\n",
    "# c(f()) = n"
   ]
  },
  {
   "cell_type": "code",
   "execution_count": 18,
   "id": "d35e455a-f4f4-42b4-a05e-8ee323717ed5",
   "metadata": {},
   "outputs": [],
   "source": [
    "def foo(n):\n",
    "    for i in range(n):  # n operations n times - n**2\n",
    "        for j in range(n): #n\n",
    "            print(i*j) # 1 operation"
   ]
  },
  {
   "cell_type": "code",
   "execution_count": 22,
   "id": "7305b8af-f14e-4558-8cd7-f700c2bef467",
   "metadata": {},
   "outputs": [
    {
     "name": "stdout",
     "output_type": "stream",
     "text": [
      "0\n",
      "0\n",
      "0\n",
      "0\n",
      "1\n",
      "2\n",
      "0\n",
      "2\n",
      "4\n"
     ]
    }
   ],
   "source": [
    "foo(3) # 3**2"
   ]
  },
  {
   "cell_type": "code",
   "execution_count": 29,
   "id": "0deeb6c7-e93e-48fc-8d84-ba7f75524235",
   "metadata": {},
   "outputs": [],
   "source": [
    "# number of operations required scales /increases exponentially with the input n\n",
    "# c(f()) = n ^2"
   ]
  },
  {
   "cell_type": "code",
   "execution_count": 33,
   "id": "9bd4e280-7de1-4c4a-915d-eaa79c456172",
   "metadata": {},
   "outputs": [],
   "source": [
    "def foo(n):\n",
    "    for i in range(n): #n operations\n",
    "        print(i)  # 1 operation\n",
    "    x = 1 # 1 operation\n",
    "    y = 2 # 1 operation\n",
    "    z = 3 # 1 operation\n",
    "\n",
    "    for i in range(n): # n operations\n",
    "        for j in range(n): # n operations\n",
    "            print(i,j) # 1 operation"
   ]
  },
  {
   "cell_type": "code",
   "execution_count": 37,
   "id": "e2a85e36-413c-4867-bb02-2b71ea87b1e6",
   "metadata": {},
   "outputs": [],
   "source": [
    "# C(f()) --> n^2 + n + 3"
   ]
  },
  {
   "cell_type": "code",
   "execution_count": 39,
   "id": "a712f3bd-432f-4c99-9573-8dcc5b380e34",
   "metadata": {},
   "outputs": [],
   "source": [
    "# time complexity is about estimation"
   ]
  },
  {
   "cell_type": "code",
   "execution_count": 41,
   "id": "cd5a099c-7e70-4c97-83d8-5a08e3c351b7",
   "metadata": {},
   "outputs": [],
   "source": [
    "# Big O notation\n",
    "# worst case time complexity - O(n) - Linear Time complexity\n",
    "# only the polynomial term with highest power is kept and rest is ignored\n",
    "# factors are also ignored"
   ]
  },
  {
   "cell_type": "code",
   "execution_count": 43,
   "id": "2cd4da51-393c-4837-aa40-d8de70d39595",
   "metadata": {},
   "outputs": [],
   "source": [
    "# desmos graphing calculator"
   ]
  },
  {
   "cell_type": "code",
   "execution_count": 4,
   "id": "db8dc531-0bf7-489d-8037-2b52a42a8870",
   "metadata": {},
   "outputs": [],
   "source": [
    "def foo(n):\n",
    "    for i in range(n):\n",
    "        for j in range(n): # 1 + 2 + 3 + 4....\n",
    "            print(i,j)"
   ]
  },
  {
   "cell_type": "code",
   "execution_count": null,
   "id": "76ef9ee2-a4c7-485f-afe6-af918c28c5c2",
   "metadata": {},
   "outputs": [],
   "source": []
  },
  {
   "cell_type": "code",
   "execution_count": 49,
   "id": "e6b451a4-093d-451e-b86e-d62432010ef9",
   "metadata": {},
   "outputs": [],
   "source": [
    "# total number of operations = n(n+1) / 2  = n^2/ 2 + n/2  , n/2 is negligible\n",
    "# O(n^2)"
   ]
  },
  {
   "cell_type": "code",
   "execution_count": 17,
   "id": "93256b95-70d6-48da-9b0a-7bbd34a2384a",
   "metadata": {},
   "outputs": [],
   "source": [
    "def foo(n):\n",
    "    i = 1\n",
    "    while i <= n:\n",
    "        i *= 2  \n",
    "        print(i)"
   ]
  },
  {
   "cell_type": "code",
   "execution_count": 19,
   "id": "3eea42d2-184e-4ec3-be8c-4f58ed280ef6",
   "metadata": {},
   "outputs": [
    {
     "name": "stdout",
     "output_type": "stream",
     "text": [
      "2\n",
      "4\n",
      "8\n"
     ]
    }
   ],
   "source": [
    "foo(4)"
   ]
  },
  {
   "cell_type": "code",
   "execution_count": 57,
   "id": "f6139b70-9b03-4c20-abd9-9dfa802176a1",
   "metadata": {},
   "outputs": [],
   "source": [
    "# in above example, it will have maximum iterations of 4, apply log of n value, we will get the answer\n",
    "# show in chatgpt - find time complexity of python code written above"
   ]
  },
  {
   "cell_type": "code",
   "execution_count": 61,
   "id": "34f34673-6861-4f55-a181-44ea18b8672d",
   "metadata": {},
   "outputs": [],
   "source": [
    "def foo(n):\n",
    "    for i in range(n): # n \n",
    "        j = 1\n",
    "        while j <= n:   # log2(n)\n",
    "            j *= 2"
   ]
  },
  {
   "cell_type": "code",
   "execution_count": 65,
   "id": "2708afa4-0907-4952-ab9b-f691bfeffa24",
   "metadata": {},
   "outputs": [],
   "source": [
    "# O(nlog(n)) is the time complexity"
   ]
  },
  {
   "cell_type": "code",
   "execution_count": null,
   "id": "a501d032-7f07-4cb8-b86a-a9e49865bd85",
   "metadata": {},
   "outputs": [],
   "source": [
    "# O(1)  is any constant no of operations"
   ]
  },
  {
   "cell_type": "code",
   "execution_count": 67,
   "id": "0d4144bc-bc6c-4419-8a23-f9546da9f163",
   "metadata": {},
   "outputs": [],
   "source": [
    "# O(1) < O(logn) < O(rootn) < O(n) < O(nlogn) < O(nrootn) < O(n^2) < O(2^n) < n!"
   ]
  },
  {
   "cell_type": "code",
   "execution_count": 27,
   "id": "3f74c732-ca71-40da-982f-db8560111efb",
   "metadata": {},
   "outputs": [],
   "source": [
    "# 1\n",
    "# 3.4657359027997265\n",
    "# 5.65\n",
    "# 32\n",
    "# 110.9035\n",
    "# 180.8\n",
    "# 1024\n",
    "# 4,294,967,296\n",
    "# 263,130,836,933,693,530,167,218,012,160,000,000"
   ]
  },
  {
   "cell_type": "code",
   "execution_count": 69,
   "id": "6a6a007d-c6c5-4d9b-b9cd-c86cac096e4a",
   "metadata": {},
   "outputs": [],
   "source": [
    "# take example of n = 32"
   ]
  },
  {
   "cell_type": "code",
   "execution_count": 71,
   "id": "02648b33-7fa3-43ad-aceb-c3f86e35c039",
   "metadata": {},
   "outputs": [],
   "source": [
    "# Space complexity\n",
    "# Try to understand how much extra memory your program requires beyond the input"
   ]
  },
  {
   "cell_type": "code",
   "execution_count": 29,
   "id": "6b4ef3cb-6ac9-4144-bdbd-be34a7401757",
   "metadata": {},
   "outputs": [],
   "source": [
    "def foo(arr):\n",
    "    for i in arr:\n",
    "        print(i)\n",
    "    return arr\n",
    "\n",
    "    # space complexity = O(1)"
   ]
  },
  {
   "cell_type": "code",
   "execution_count": null,
   "id": "e0b4dea8-955a-4bcc-9f5b-d12fe3c4453d",
   "metadata": {},
   "outputs": [],
   "source": [
    "# Breaking Down Space Usage\n",
    "# Input (arr) – This is already given to us, so we don’t count it as extra space.\n",
    "# Loop (for i in arr) – The variable i takes one value at a time, so it doesn’t use extra space.\n",
    "# Printing (print(i)) – This doesn’t store anything, so no extra space.\n",
    "# Returning arr – It doesn’t create a new copy, just returns the same input array.\n",
    "# Final Space Complexity\n",
    "# Since we aren’t storing extra data, the space used is O(1) (constant space).\n",
    "# If arr was copied (e.g., return arr[:]), then the space complexity would be O(n) (linear space).\n",
    "# Final Answer:\n",
    "# Space Complexity = O(1) (Constant Space) ✅\n",
    "\n",
    "# I hope this makes sense! Let me know if you want another example. 😃🚀"
   ]
  },
  {
   "cell_type": "code",
   "execution_count": 12,
   "id": "cea3ec88-dab6-4cf1-8aad-b169619dcaf7",
   "metadata": {},
   "outputs": [],
   "source": [
    "def foo(arr): # list with the length = n\n",
    "    result = [] # length of result will be the same as arr\n",
    "    for i in arr:\n",
    "        result.append(i+1)\n",
    "    return result\n",
    "# extra values created =  n in elements of result\n",
    "# space complexity  = O(n)"
   ]
  },
  {
   "cell_type": "code",
   "execution_count": 31,
   "id": "eaaa9dc5-f0e4-4a43-8ba8-42c34ec0d163",
   "metadata": {},
   "outputs": [],
   "source": [
    "# Breaking Down Space Usage\n",
    "# Input List (arr): The list arr is given to us, so we don’t count it as extra space.\n",
    "# New List (result): We create a new list with the same number of elements as arr.\n",
    "# If arr has n elements, result will also have n elements.\n",
    "# This means the space needed for result is O(n) (linear space).\n",
    "# Loop Variable (i): The variable i is used one at a time, so it doesn’t use extra space.\n",
    "# Returning result: The function returns a new list, which is already counted in O(n)"
   ]
  },
  {
   "cell_type": "code",
   "execution_count": 14,
   "id": "dec5f544-f16d-4bd1-bb89-66ebbd8d368c",
   "metadata": {},
   "outputs": [
    {
     "data": {
      "text/plain": [
       "9"
      ]
     },
     "execution_count": 14,
     "metadata": {},
     "output_type": "execute_result"
    }
   ],
   "source": [
    "# check space complexity of this code\n",
    "def find_max(arr):\n",
    "    max_value = arr[0]  # 1 extra value here\n",
    "    for value in arr:  \n",
    "        if value> max_value:\n",
    "            max_value = value\n",
    "    return max_value\n",
    "find_max([3,1,4,1,5,9,2,6])\n",
    "\n",
    "# Space Complexity = O(1)"
   ]
  },
  {
   "cell_type": "code",
   "execution_count": null,
   "id": "0c33c488-d2ed-431f-808b-5cecd01df630",
   "metadata": {},
   "outputs": [],
   "source": [
    "# 1. Time Complexity\n",
    "# Time complexity refers to how the runtime of an algorithm increases with respect to the size of the input (n). \n",
    "# It is typically expressed using Big O notation (O-notation).\n",
    "\n",
    "# Common Time Complexities\n",
    "# O(1) – Constant Time: Execution time remains the same regardless of input size.\n",
    "# O(log n) – Logarithmic Time: Execution time grows logarithmically (e.g., binary search).\n",
    "# O(n) – Linear Time: Execution time grows directly with input size (e.g., iterating through a list).\n",
    "# O(n²) – Quadratic Time: Execution time grows quadratically (e.g., nested loops).\n",
    "# O(2ⁿ) – Exponential Time: Execution time doubles for each additional input (e.g., recursive Fibonacci).\n",
    "\n",
    "\n"
   ]
  },
  {
   "cell_type": "code",
   "execution_count": 21,
   "id": "4882599a-407e-4134-9cc6-b16871ee5863",
   "metadata": {},
   "outputs": [],
   "source": [
    "# O(1) – Constant Time\n",
    "def get_first_element(arr):\n",
    "    return arr[0]  # Always takes constant time\n",
    "\n",
    "# Explanation: No matter how big arr is, \n",
    "# accessing the first element takes the same amount of time."
   ]
  },
  {
   "cell_type": "code",
   "execution_count": 23,
   "id": "d6c41d2a-fa87-4c13-a853-17cf4d100a4a",
   "metadata": {},
   "outputs": [],
   "source": [
    "# O(n) – Linear Time\n",
    "def find_sum(arr):\n",
    "    total = 0\n",
    "    for num in arr:\n",
    "        total += num\n",
    "    return total\n",
    "\n",
    "# Explanation: If the list size increases, \n",
    "# the number of operations also increases proportionally."
   ]
  },
  {
   "cell_type": "code",
   "execution_count": null,
   "id": "2c26e6a9-12af-4f50-9443-255341159bb6",
   "metadata": {},
   "outputs": [],
   "source": [
    "#O(n²) – Quadratic Time\n",
    "\n",
    "def print_pairs(arr):\n",
    "    for i in range(len(arr)):\n",
    "        for j in range(len(arr)):\n",
    "            print(arr[i], arr[j])\n",
    "            \n",
    "# Explanation: The nested loops make it an O(n²) algorithm, \n",
    "# as every element pairs with every other element."
   ]
  },
  {
   "cell_type": "code",
   "execution_count": 25,
   "id": "a180bf8d-47f3-4e8c-bd84-68f9ed74ed9d",
   "metadata": {},
   "outputs": [],
   "source": [
    "# Space Complexity\n",
    "# Space complexity refers to the amount of extra memory (RAM) an algorithm requires in addition to the input data. It also follows Big O notation.\n",
    "\n",
    "# Common Space Complexities\n",
    "# O(1) – Constant Space: Uses a fixed amount of memory regardless of input size.\n",
    "# O(n) – Linear Space: Uses extra space proportional to input size (e.g., creating a new list).\n",
    "# O(n²) – Quadratic Space: Uses space proportional to the square of the input size."
   ]
  },
  {
   "cell_type": "code",
   "execution_count": 27,
   "id": "a2c8bb50-c7d7-4e7c-8f8b-93ea2ff63e12",
   "metadata": {},
   "outputs": [],
   "source": [
    "# O(1) – Constant Space\n",
    "\n",
    "def multiply_by_two(n):\n",
    "    result = n * 2\n",
    "    return result\n",
    "# Explanation: Only a few variables (n and result) are used,\n",
    "# so space remains constant."
   ]
  },
  {
   "cell_type": "code",
   "execution_count": null,
   "id": "8bd08c7d-9aba-474d-b6ac-a6142368de6b",
   "metadata": {},
   "outputs": [],
   "source": [
    "# O(n) – Linear Space\n",
    "\n",
    "def store_squares(n):\n",
    "    squares = []\n",
    "    for i in range(n):\n",
    "        squares.append(i ** 2)\n",
    "    return squares\n",
    "\n",
    "# Explanation: As n grows, the list squares also grows, taking O(n) space.\n"
   ]
  },
  {
   "cell_type": "code",
   "execution_count": null,
   "id": "4ebcf9d7-131d-41f1-a427-49e2e4b4f703",
   "metadata": {},
   "outputs": [],
   "source": [
    "# O(n²) – Quadratic Space\n",
    "def create_matrix(n):\n",
    "    matrix = [[0] * n for _ in range(n)]\n",
    "    return matrix\n",
    "\n",
    "# Explanation: A 2D matrix requires n² space, meaning space grows quadratically."
   ]
  }
 ],
 "metadata": {
  "kernelspec": {
   "display_name": "Python 3 (ipykernel)",
   "language": "python",
   "name": "python3"
  },
  "language_info": {
   "codemirror_mode": {
    "name": "ipython",
    "version": 3
   },
   "file_extension": ".py",
   "mimetype": "text/x-python",
   "name": "python",
   "nbconvert_exporter": "python",
   "pygments_lexer": "ipython3",
   "version": "3.12.7"
  }
 },
 "nbformat": 4,
 "nbformat_minor": 5
}
